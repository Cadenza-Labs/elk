{
 "cells": [
  {
   "cell_type": "code",
   "execution_count": 1,
   "metadata": {},
   "outputs": [],
   "source": [
    "import torch\n",
    "import whitening as wh"
   ]
  },
  {
   "cell_type": "code",
   "execution_count": 2,
   "metadata": {},
   "outputs": [],
   "source": [
    "n = 512\n",
    "v = 100\n",
    "k = 2\n",
    "d = 5"
   ]
  },
  {
   "cell_type": "code",
   "execution_count": 3,
   "metadata": {},
   "outputs": [],
   "source": [
    "#generate a random symmetric positive definite matrix\n",
    "A = torch.randn(v, k, d, d)\n",
    "Corr = torch.einsum('vkde,vkfe->vkdf', A, A) + 1\n",
    "\n",
    "#generate random points correlated with Corr\n",
    "X = torch.randn(n, v, k, d)\n",
    "X = X - X.mean(0)"
   ]
  },
  {
   "cell_type": "code",
   "execution_count": 4,
   "metadata": {},
   "outputs": [],
   "source": [
    "U, S, V = torch.svd(Corr)\n",
    "S = torch.diag_embed(torch.sqrt(S))\n",
    "W = torch.einsum('vkde,vkef->vkdf', U, S)\n",
    "W = torch.einsum('vkdf,vkgf->vkdg', W, U)\n",
    "Y = torch.einsum('nvkd,vkdg->nvkg', X, W)\n",
    "\n",
    "Y += X.mean(0)"
   ]
  },
  {
   "cell_type": "code",
   "execution_count": 5,
   "metadata": {},
   "outputs": [],
   "source": [
    "Z = wh.whitening(Y[:, 0, 0])"
   ]
  },
  {
   "cell_type": "code",
   "execution_count": 6,
   "metadata": {},
   "outputs": [
    {
     "name": "stdout",
     "output_type": "stream",
     "text": [
      "zca max abs difference from I: tensor(0.0002)\n",
      "zca_cor max abs difference from I: tensor(3.8862e-05)\n",
      "pca max abs difference from I: tensor(0.0003)\n",
      "pca_cor max abs difference from I: tensor(0.0001)\n",
      "cholesky max abs difference from I: tensor(0.0003)\n"
     ]
    },
    {
     "name": "stderr",
     "output_type": "stream",
     "text": [
      "c:\\Users\\ConnardMcGregoire\\Documents\\Cadenza\\elk\\elk\\training\\whitening.py:30: UserWarning: Cholesky whitening does not output a symmetric matrix. If you want to train a probe                   on the normalised space, you should not use this method as it is not mathematically guaranteed                   to have the same probe decisions in original and normalised space.\n",
      "  warn(\"Cholesky whitening does not output a symmetric matrix. If you want to train a probe\\\n"
     ]
    }
   ],
   "source": [
    "for method in ['zca', 'zca_cor', 'pca', 'pca_cor', 'cholesky']:\n",
    "    whitening = wh.WhitenNorm(method=method)\n",
    "    Z = whitening(Y)\n",
    "    cov = torch.einsum(\"nvkd, nvkD -> vkdD\", Z, Z) / (n - 1)\n",
    "    cov = cov.view(-1, d, d)\n",
    "    print(method, 'max abs difference from I:', torch.max(torch.abs(cov - torch.eye(5))))"
   ]
  },
  {
   "cell_type": "code",
   "execution_count": 7,
   "metadata": {},
   "outputs": [],
   "source": [
    "random_tensor = torch.randn(1000,100,2,64)"
   ]
  },
  {
   "cell_type": "code",
   "execution_count": 8,
   "metadata": {},
   "outputs": [
    {
     "name": "stdout",
     "output_type": "stream",
     "text": [
      "tensor(0.)\n"
     ]
    }
   ],
   "source": [
    "v1 = random_tensor - random_tensor.mean(0)\n",
    "\n",
    "v2 = random_tensor.view(1000, 100*2, 64)\n",
    "v2 = v2 - v2.mean(0)\n",
    "\n",
    "print(torch.max(torch.abs(v1 - v2.view(1000, 100, 2, 64))))"
   ]
  },
  {
   "cell_type": "code",
   "execution_count": 9,
   "metadata": {},
   "outputs": [],
   "source": [
    "covs = torch.einsum('nvd, nvD -> vdD', v2, v2)"
   ]
  },
  {
   "cell_type": "code",
   "execution_count": 10,
   "metadata": {},
   "outputs": [],
   "source": [
    "U, S, V = torch.svd(covs)"
   ]
  },
  {
   "cell_type": "code",
   "execution_count": 11,
   "metadata": {},
   "outputs": [
    {
     "name": "stdout",
     "output_type": "stream",
     "text": [
      "torch.Size([200, 64, 64]) torch.Size([200, 64]) torch.Size([200, 64, 64])\n",
      "torch.Size([200, 64])\n",
      "tensor([0.0253, 0.0257, 0.0260, 0.0265, 0.0265, 0.0267, 0.0269, 0.0270, 0.0272,\n",
      "        0.0275, 0.0277, 0.0277, 0.0281, 0.0283, 0.0285, 0.0288, 0.0290, 0.0291,\n",
      "        0.0293, 0.0294, 0.0298, 0.0299, 0.0301, 0.0302, 0.0307, 0.0307, 0.0308,\n",
      "        0.0309, 0.0311, 0.0313, 0.0315, 0.0316, 0.0317, 0.0318, 0.0321, 0.0322,\n",
      "        0.0324, 0.0325, 0.0332, 0.0332, 0.0334, 0.0336, 0.0337, 0.0339, 0.0342,\n",
      "        0.0345, 0.0347, 0.0353, 0.0355, 0.0356, 0.0359, 0.0360, 0.0364, 0.0366,\n",
      "        0.0369, 0.0374, 0.0381, 0.0384, 0.0386, 0.0392, 0.0394, 0.0398, 0.0413,\n",
      "        0.0423])\n",
      "torch.Size([200, 64, 64])\n",
      "tensor([[0.0253, 0.0000, 0.0000,  ..., 0.0000, 0.0000, 0.0000],\n",
      "        [0.0000, 0.0257, 0.0000,  ..., 0.0000, 0.0000, 0.0000],\n",
      "        [0.0000, 0.0000, 0.0260,  ..., 0.0000, 0.0000, 0.0000],\n",
      "        ...,\n",
      "        [0.0000, 0.0000, 0.0000,  ..., 0.0398, 0.0000, 0.0000],\n",
      "        [0.0000, 0.0000, 0.0000,  ..., 0.0000, 0.0413, 0.0000],\n",
      "        [0.0000, 0.0000, 0.0000,  ..., 0.0000, 0.0000, 0.0423]])\n"
     ]
    }
   ],
   "source": [
    "print(U.shape, S.shape, V.shape)\n",
    "\n",
    "Ss = 1 / torch.sqrt(S)\n",
    "# Ss is 200 x 64, and we need to transform it to a batch of diagonal matrices of size 200 x 64 x 64\n",
    "print(Ss.shape)\n",
    "print(Ss[0])\n",
    "\n",
    "Ss = torch.diag_embed(Ss)\n",
    "print(Ss.shape)\n",
    "print(Ss[0])\n"
   ]
  },
  {
   "cell_type": "code",
   "execution_count": 12,
   "metadata": {},
   "outputs": [
    {
     "data": {
      "text/plain": [
       "torch.Size([200, 64])"
      ]
     },
     "execution_count": 12,
     "metadata": {},
     "output_type": "execute_result"
    }
   ],
   "source": [
    "x_normalized = torch.randn(1000, 200, 64)\n",
    "\n",
    "torch.std(x_normalized, dim=0).shape"
   ]
  },
  {
   "cell_type": "code",
   "execution_count": 13,
   "metadata": {},
   "outputs": [],
   "source": [
    "from matplotlib import pyplot as plt"
   ]
  },
  {
   "cell_type": "code",
   "execution_count": 26,
   "metadata": {},
   "outputs": [
    {
     "data": {
      "image/png": "[encoded data removed]",
      "text/plain": [
       "<Figure size 640x480 with 1 Axes>"
      ]
     },
     "metadata": {},
     "output_type": "display_data"
    }
   ],
   "source": [
    "data = torch.randn(100, 2) * torch.tensor([5, 1]) + torch.tensor([10, 5])\n",
    "data = torch.cat([data, torch.randn(100, 2) * torch.tensor([2, 3]) + torch.tensor([20, 10])])\n",
    "data = data @ torch.tensor([[1/1.414, 1/1.414], [1/1.414, -1/1.414]])\n",
    "plt.scatter(data[:, 0], data[:, 1])\n",
    "plt.axis('equal')\n",
    "plt.show()"
   ]
  },
  {
   "cell_type": "code",
   "execution_count": 27,
   "metadata": {},
   "outputs": [
    {
     "data": {
      "image/png": "[encoded data removed]",
      "text/plain": [
       "<Figure size 640x480 with 1 Axes>"
      ]
     },
     "metadata": {},
     "output_type": "display_data"
    }
   ],
   "source": [
    "whitened_data = wh.whitening(data)\n",
    "plt.scatter(whitened_data[:, 0], whitened_data[:, 1])\n",
    "plt.axis('equal')\n",
    "plt.show()"
   ]
  }
 ],
 "metadata": {
  "kernelspec": {
   "display_name": "Python 3",
   "language": "python",
   "name": "python3"
  },
  "language_info": {
   "codemirror_mode": {
    "name": "ipython",
    "version": 3
   },
   "file_extension": ".py",
   "mimetype": "text/x-python",
   "name": "python",
   "nbconvert_exporter": "python",
   "pygments_lexer": "ipython3",
   "version": "3.11.6"
  }
 },
 "nbformat": 4,
 "nbformat_minor": 2
}
