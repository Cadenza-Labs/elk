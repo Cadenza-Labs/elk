{
 "cells": [
  {
   "cell_type": "code",
   "execution_count": 1,
   "metadata": {},
   "outputs": [],
   "source": [
    "import torch\n",
    "import whitening as wh"
   ]
  },
  {
   "cell_type": "code",
   "execution_count": 2,
   "metadata": {},
   "outputs": [],
   "source": [
    "n = 512\n",
    "v = 100\n",
    "k = 2\n",
    "d = 5"
   ]
  },
  {
   "cell_type": "code",
   "execution_count": 3,
   "metadata": {},
   "outputs": [],
   "source": [
    "#generate a random symmetric positive definite matrix\n",
    "A = torch.randn(v, k, d, d)\n",
    "Corr = torch.einsum('vkde,vkfe->vkdf', A, A) + 1\n",
    "\n",
    "#generate random points correlated with Corr\n",
    "X = torch.randn(n, v, k, d)\n",
    "X = X - X.mean(0)"
   ]
  },
  {
   "cell_type": "code",
   "execution_count": 4,
   "metadata": {},
   "outputs": [],
   "source": [
    "U, S, V = torch.svd(Corr)\n",
    "S = torch.diag_embed(torch.sqrt(S))\n",
    "W = torch.einsum('vkde,vkef->vkdf', U, S)\n",
    "W = torch.einsum('vkdf,vkgf->vkdg', W, U)\n",
    "Y = torch.einsum('nvkd,vkdg->nvkg', X, W)\n",
    "\n",
    "Y += X.mean(0)"
   ]
  },
  {
   "cell_type": "code",
   "execution_count": 13,
   "metadata": {},
   "outputs": [
    {
     "name": "stdout",
     "output_type": "stream",
     "text": [
      "torch.Size([512, 5]) torch.Size([5, 5])\n",
      "tensor([ 5.1223e-09, -5.1223e-09,  1.8626e-09,  4.4238e-09, -1.8626e-09])\n",
      "tensor([1.0000, 1.0000, 1.0000, 1.0000, 1.0000])\n"
     ]
    }
   ],
   "source": [
    "Z = wh.whitening(Y[:, 0, 0])"
   ]
  },
  {
   "cell_type": "code",
   "execution_count": 6,
   "metadata": {},
   "outputs": [
    {
     "name": "stdout",
     "output_type": "stream",
     "text": [
      "zca max abs difference from I: tensor(0.0002)\n",
      "zca_cor max abs difference from I: tensor(9.7871e-05)\n",
      "pca max abs difference from I: tensor(0.0002)\n",
      "pca_cor max abs difference from I: tensor(0.0002)\n",
      "cholesky max abs difference from I: tensor(0.0003)\n"
     ]
    },
    {
     "name": "stderr",
     "output_type": "stream",
     "text": [
      "c:\\Users\\ConnardMcGregoire\\Documents\\Cadenza\\elk\\elk\\training\\whitening.py:31: UserWarning: Cholesky whitening does not output a symmetric matrix. If you want to train a probe                   on the normalised space, you should not use this method as it is not mathematically guaranteed                   to have the same probe decisions in original and normalised space.\n",
      "  warn(\"Cholesky whitening does not output a symmetric matrix. If you want to train a probe\\\n"
     ]
    }
   ],
   "source": [
    "for method in ['zca', 'zca_cor', 'pca', 'pca_cor', 'cholesky']:\n",
    "    whitening = wh.WhitenNorm(method=method)\n",
    "    Z = whitening(Y)\n",
    "    cov = torch.einsum(\"nvkd, nvkD -> vkdD\", Z, Z) / (n - 1)\n",
    "    cov = cov.view(-1, d, d)\n",
    "    print(method, 'max abs difference from I:', torch.max(torch.abs(cov - torch.eye(5))))"
   ]
  },
  {
   "cell_type": "code",
   "execution_count": 7,
   "metadata": {},
   "outputs": [],
   "source": [
    "random_tensor = torch.randn(1000,100,2,64)"
   ]
  },
  {
   "cell_type": "code",
   "execution_count": 8,
   "metadata": {},
   "outputs": [
    {
     "name": "stdout",
     "output_type": "stream",
     "text": [
      "tensor(0.)\n"
     ]
    }
   ],
   "source": [
    "v1 = random_tensor - random_tensor.mean(0)\n",
    "\n",
    "v2 = random_tensor.view(1000, 100*2, 64)\n",
    "v2 = v2 - v2.mean(0)\n",
    "\n",
    "print(torch.max(torch.abs(v1 - v2.view(1000, 100, 2, 64))))"
   ]
  },
  {
   "cell_type": "code",
   "execution_count": 9,
   "metadata": {},
   "outputs": [],
   "source": [
    "covs = torch.einsum('nvd, nvD -> vdD', v2, v2)"
   ]
  },
  {
   "cell_type": "code",
   "execution_count": 10,
   "metadata": {},
   "outputs": [],
   "source": [
    "U, S, V = torch.svd(covs)"
   ]
  },
  {
   "cell_type": "code",
   "execution_count": 11,
   "metadata": {},
   "outputs": [
    {
     "name": "stdout",
     "output_type": "stream",
     "text": [
      "torch.Size([200, 64, 64]) torch.Size([200, 64]) torch.Size([200, 64, 64])\n",
      "torch.Size([200, 64])\n",
      "tensor([0.0254, 0.0255, 0.0258, 0.0264, 0.0265, 0.0267, 0.0269, 0.0274, 0.0276,\n",
      "        0.0278, 0.0280, 0.0281, 0.0283, 0.0285, 0.0288, 0.0290, 0.0291, 0.0292,\n",
      "        0.0296, 0.0296, 0.0298, 0.0299, 0.0301, 0.0304, 0.0306, 0.0308, 0.0310,\n",
      "        0.0312, 0.0314, 0.0314, 0.0317, 0.0317, 0.0320, 0.0323, 0.0325, 0.0328,\n",
      "        0.0329, 0.0330, 0.0334, 0.0335, 0.0337, 0.0338, 0.0341, 0.0344, 0.0348,\n",
      "        0.0349, 0.0352, 0.0354, 0.0357, 0.0362, 0.0366, 0.0367, 0.0370, 0.0372,\n",
      "        0.0377, 0.0381, 0.0382, 0.0386, 0.0391, 0.0395, 0.0400, 0.0405, 0.0414,\n",
      "        0.0418])\n",
      "torch.Size([200, 64, 64])\n",
      "tensor([[0.0254, 0.0000, 0.0000,  ..., 0.0000, 0.0000, 0.0000],\n",
      "        [0.0000, 0.0255, 0.0000,  ..., 0.0000, 0.0000, 0.0000],\n",
      "        [0.0000, 0.0000, 0.0258,  ..., 0.0000, 0.0000, 0.0000],\n",
      "        ...,\n",
      "        [0.0000, 0.0000, 0.0000,  ..., 0.0405, 0.0000, 0.0000],\n",
      "        [0.0000, 0.0000, 0.0000,  ..., 0.0000, 0.0414, 0.0000],\n",
      "        [0.0000, 0.0000, 0.0000,  ..., 0.0000, 0.0000, 0.0418]])\n"
     ]
    }
   ],
   "source": [
    "print(U.shape, S.shape, V.shape)\n",
    "\n",
    "Ss = 1 / torch.sqrt(S)\n",
    "# Ss is 200 x 64, and we need to transform it to a batch of diagonal matrices of size 200 x 64 x 64\n",
    "print(Ss.shape)\n",
    "print(Ss[0])\n",
    "\n",
    "Ss = torch.diag_embed(Ss)\n",
    "print(Ss.shape)\n",
    "print(Ss[0])\n"
   ]
  },
  {
   "cell_type": "code",
   "execution_count": 12,
   "metadata": {},
   "outputs": [
    {
     "data": {
      "text/plain": [
       "torch.Size([200, 64])"
      ]
     },
     "execution_count": 12,
     "metadata": {},
     "output_type": "execute_result"
    }
   ],
   "source": [
    "x_normalized = torch.randn(1000, 200, 64)\n",
    "\n",
    "torch.std(x_normalized, dim=0).shape"
   ]
  }
 ],
 "metadata": {
  "kernelspec": {
   "display_name": "Python 3",
   "language": "python",
   "name": "python3"
  },
  "language_info": {
   "codemirror_mode": {
    "name": "ipython",
    "version": 3
   },
   "file_extension": ".py",
   "mimetype": "text/x-python",
   "name": "python",
   "nbconvert_exporter": "python",
   "pygments_lexer": "ipython3",
   "version": "3.11.6"
  }
 },
 "nbformat": 4,
 "nbformat_minor": 2
}
