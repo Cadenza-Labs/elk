{
 "cells": [
  {
   "cell_type": "code",
   "execution_count": 25,
   "metadata": {},
   "outputs": [
    {
     "name": "stderr",
     "output_type": "stream",
     "text": [
      "/mnt/ssd-2/spar/jon/miniconda3/envs/elk10/lib/python3.10/site-packages/tqdm/auto.py:21: TqdmWarning: IProgress not found. Please update jupyter and ipywidgets. See https://ipywidgets.readthedocs.io/en/stable/user_install.html\n",
      "  from .autonotebook import tqdm as notebook_tqdm\n"
     ]
    }
   ],
   "source": [
    "import torch\n",
    "from transformers import AutoTokenizer, AutoModel\n",
    "from pathlib import Path\n",
    "from einops import rearrange, repeat\n",
    "import os\n",
    "import numpy as np\n",
    "\n",
    "# todo: \n",
    "# - modularize\n",
    "# - add slider for diff sentences\n"
   ]
  },
  {
   "cell_type": "code",
   "execution_count": 26,
   "metadata": {},
   "outputs": [],
   "source": [
    "def load_all_reporters(num_layers: int, prefix_path: str) -> torch.Tensor:\n",
    "    reporters_weights = []\n",
    "    for i in range(num_layers):\n",
    "        reporter_path = f\"{prefix_path}/layer_{i}.pt\"\n",
    "        reporter = torch.load(reporter_path).weight\n",
    "        reporters_weights.append(reporter.cpu())\n",
    "    stacked = torch.cat(reporters_weights, dim=0)\n",
    "    return stacked\n",
    "\n",
    "# path = '/home/waree/elk-reporters/huggyllama/llama-13b/sethapun/imdb_misspelled_0/llama13b-imdb0/reporters'\n",
    "path = '/home/jon/elk-reporters/huggyllama/llama-7b/imdb/funny-robinson/reporters'\n",
    "\n",
    "\n"
   ]
  },
  {
   "cell_type": "code",
   "execution_count": 27,
   "metadata": {},
   "outputs": [
    {
     "name": "stderr",
     "output_type": "stream",
     "text": [
      "Loading checkpoint shards: 100%|██████████| 2/2 [00:19<00:00,  9.82s/it]\n",
      "Some weights of the model checkpoint at huggyllama/llama-7b were not used when initializing LlamaModel: ['lm_head.weight']\n",
      "- This IS expected if you are initializing LlamaModel from the checkpoint of a model trained on another task or with another architecture (e.g. initializing a BertForSequenceClassification model from a BertForPreTraining model).\n",
      "- This IS NOT expected if you are initializing LlamaModel from the checkpoint of a model that you expect to be exactly identical (initializing a BertForSequenceClassification model from a BertForSequenceClassification model).\n"
     ]
    }
   ],
   "source": [
    "# Load pre-trained model and tokenizer\n",
    "# model_name = \"huggyllama/llama-13b\"\n",
    "def download_model():\n",
    "    model_name = \"huggyllama/llama-7b\"\n",
    "    tokenizer = AutoTokenizer.from_pretrained(model_name)\n",
    "    model = AutoModel.from_pretrained(model_name)\n",
    "    return model, tokenizer\n",
    "\n",
    "model, tokenizer = download_model()\n",
    "reporter_weights = load_all_reporters(model.config.num_hidden_layers, path)\n",
    "\n",
    "def get_credences_and_tokens(input_sequence):\n",
    "    # Tokenize input sequence\n",
    "    input_tokens = tokenizer.tokenize(input_sequence)\n",
    "    input_tokens.insert(0, \"<bos>\") # beginning of sentence\n",
    "\n",
    "    # Encode input sequence\n",
    "    input_ids = tokenizer.encode(input_sequence, return_tensors=\"pt\")\n",
    "\n",
    "    # Generate hidden states\n",
    "    outputs = model(input_ids, output_hidden_states=True)\n",
    "    hidden_states = outputs.hidden_states\n",
    "    cat_hidden_states = torch.cat(hidden_states[:-1], dim=0)\n",
    "    result = torch.einsum('bse,be->bs', cat_hidden_states, reporter_weights)\n",
    "    # Convert tensor to numpy array and detach gradients\n",
    "    credences = result.detach().numpy()\n",
    "    return (credences, input_tokens)\n",
    "\n"
   ]
  },
  {
   "cell_type": "code",
   "execution_count": 28,
   "metadata": {},
   "outputs": [],
   "source": [
    "garden_path_sentences = [\n",
    "    \"The horse raced past the barn fell.\",\n",
    "    \"The old man the boat.\",\n",
    "    \"The complex houses married and single soldiers and their families.\",\n",
    "    \"The prime number few.\",\n",
    "    \"The cotton clothing is usually made of grows in Mississippi.\",\n",
    "    \"The river flowed through the town sank.\"\n",
    "]\n",
    "# create dict of seqs to hidden states\n",
    "d = {k: get_credences_and_tokens(k) for k in garden_path_sentences}"
   ]
  },
  {
   "cell_type": "code",
   "execution_count": 30,
   "metadata": {},
   "outputs": [],
   "source": [
    "# print(hidden_states[0].shape)\n",
    "# print(len(hidden_states))\n",
    "# print(cat_hidden_states.shape)"
   ]
  },
  {
   "cell_type": "code",
   "execution_count": null,
   "metadata": {},
   "outputs": [],
   "source": [
    "# # Use einsum to do multiplication \n",
    "# result = torch.einsum('bse,be->bs', cat_hidden_states, reporter_weights)\n",
    "# print(result[0])\n",
    "# print(result.shape)\n",
    "\n",
    "# sigmoid_result = torch.sigmoid(result)\n",
    "# softmax_result = torch.softmax(result, dim = -1)\n",
    "# torch.set_printoptions(precision=1)"
   ]
  },
  {
   "cell_type": "code",
   "execution_count": 31,
   "metadata": {},
   "outputs": [
    {
     "data": {
      "text/html": [
       "        <script type=\"text/javascript\">\n",
       "        window.PlotlyConfig = {MathJaxConfig: 'local'};\n",
       "        if (window.MathJax && window.MathJax.Hub && window.MathJax.Hub.Config) {window.MathJax.Hub.Config({SVG: {font: \"STIX-Web\"}});}\n",
       "        if (typeof require !== 'undefined') {\n",
       "        require.undef(\"plotly\");\n",
       "        requirejs.config({\n",
       "            paths: {\n",
       "                'plotly': ['https://cdn.plot.ly/plotly-2.20.0.min']\n",
       "            }\n",
       "        });\n",
       "        require(['plotly'], function(Plotly) {\n",
       "            window._Plotly = Plotly;\n",
       "        });\n",
       "        }\n",
       "        </script>\n",
       "        "
      ]
     },
     "metadata": {},
     "output_type": "display_data"
    },
    {
     "data": {
      "application/vnd.plotly.v1+json": {
       "config": {
        "linkText": "Export to plot.ly",
        "plotlyServerURL": "https://plot.ly",
        "showLink": false
       },
       "data": [
        {
         "colorscale": [
          [
           0,
           "#FF0000"
          ],
          [
           1,
           "#00FF00"
          ]
         ],
         "text": [
          [
           "  <bos>  ",
           "  ▁The  ",
           "  ▁horse  ",
           "  ▁rac  ",
           "  ed  ",
           "  ▁past  ",
           "  ▁the  ",
           "  ▁bar  ",
           "  n  ",
           "  ▁fell  ",
           "  .  "
          ],
          [
           "  <bos>  ",
           "  ▁The  ",
           "  ▁horse  ",
           "  ▁rac  ",
           "  ed  ",
           "  ▁past  ",
           "  ▁the  ",
           "  ▁bar  ",
           "  n  ",
           "  ▁fell  ",
           "  .  "
          ],
          [
           "  <bos>  ",
           "  ▁The  ",
           "  ▁horse  ",
           "  ▁rac  ",
           "  ed  ",
           "  ▁past  ",
           "  ▁the  ",
           "  ▁bar  ",
           "  n  ",
           "  ▁fell  ",
           "  .  "
          ],
          [
           "  <bos>  ",
           "  ▁The  ",
           "  ▁horse  ",
           "  ▁rac  ",
           "  ed  ",
           "  ▁past  ",
           "  ▁the  ",
           "  ▁bar  ",
           "  n  ",
           "  ▁fell  ",
           "  .  "
          ],
          [
           "  <bos>  ",
           "  ▁The  ",
           "  ▁horse  ",
           "  ▁rac  ",
           "  ed  ",
           "  ▁past  ",
           "  ▁the  ",
           "  ▁bar  ",
           "  n  ",
           "  ▁fell  ",
           "  .  "
          ],
          [
           "  <bos>  ",
           "  ▁The  ",
           "  ▁horse  ",
           "  ▁rac  ",
           "  ed  ",
           "  ▁past  ",
           "  ▁the  ",
           "  ▁bar  ",
           "  n  ",
           "  ▁fell  ",
           "  .  "
          ],
          [
           "  <bos>  ",
           "  ▁The  ",
           "  ▁horse  ",
           "  ▁rac  ",
           "  ed  ",
           "  ▁past  ",
           "  ▁the  ",
           "  ▁bar  ",
           "  n  ",
           "  ▁fell  ",
           "  .  "
          ],
          [
           "  <bos>  ",
           "  ▁The  ",
           "  ▁horse  ",
           "  ▁rac  ",
           "  ed  ",
           "  ▁past  ",
           "  ▁the  ",
           "  ▁bar  ",
           "  n  ",
           "  ▁fell  ",
           "  .  "
          ],
          [
           "  <bos>  ",
           "  ▁The  ",
           "  ▁horse  ",
           "  ▁rac  ",
           "  ed  ",
           "  ▁past  ",
           "  ▁the  ",
           "  ▁bar  ",
           "  n  ",
           "  ▁fell  ",
           "  .  "
          ],
          [
           "  <bos>  ",
           "  ▁The  ",
           "  ▁horse  ",
           "  ▁rac  ",
           "  ed  ",
           "  ▁past  ",
           "  ▁the  ",
           "  ▁bar  ",
           "  n  ",
           "  ▁fell  ",
           "  .  "
          ],
          [
           "  <bos>  ",
           "  ▁The  ",
           "  ▁horse  ",
           "  ▁rac  ",
           "  ed  ",
           "  ▁past  ",
           "  ▁the  ",
           "  ▁bar  ",
           "  n  ",
           "  ▁fell  ",
           "  .  "
          ],
          [
           "  <bos>  ",
           "  ▁The  ",
           "  ▁horse  ",
           "  ▁rac  ",
           "  ed  ",
           "  ▁past  ",
           "  ▁the  ",
           "  ▁bar  ",
           "  n  ",
           "  ▁fell  ",
           "  .  "
          ],
          [
           "  <bos>  ",
           "  ▁The  ",
           "  ▁horse  ",
           "  ▁rac  ",
           "  ed  ",
           "  ▁past  ",
           "  ▁the  ",
           "  ▁bar  ",
           "  n  ",
           "  ▁fell  ",
           "  .  "
          ],
          [
           "  <bos>  ",
           "  ▁The  ",
           "  ▁horse  ",
           "  ▁rac  ",
           "  ed  ",
           "  ▁past  ",
           "  ▁the  ",
           "  ▁bar  ",
           "  n  ",
           "  ▁fell  ",
           "  .  "
          ],
          [
           "  <bos>  ",
           "  ▁The  ",
           "  ▁horse  ",
           "  ▁rac  ",
           "  ed  ",
           "  ▁past  ",
           "  ▁the  ",
           "  ▁bar  ",
           "  n  ",
           "  ▁fell  ",
           "  .  "
          ],
          [
           "  <bos>  ",
           "  ▁The  ",
           "  ▁horse  ",
           "  ▁rac  ",
           "  ed  ",
           "  ▁past  ",
           "  ▁the  ",
           "  ▁bar  ",
           "  n  ",
           "  ▁fell  ",
           "  .  "
          ],
          [
           "  <bos>  ",
           "  ▁The  ",
           "  ▁horse  ",
           "  ▁rac  ",
           "  ed  ",
           "  ▁past  ",
           "  ▁the  ",
           "  ▁bar  ",
           "  n  ",
           "  ▁fell  ",
           "  .  "
          ],
          [
           "  <bos>  ",
           "  ▁The  ",
           "  ▁horse  ",
           "  ▁rac  ",
           "  ed  ",
           "  ▁past  ",
           "  ▁the  ",
           "  ▁bar  ",
           "  n  ",
           "  ▁fell  ",
           "  .  "
          ],
          [
           "  <bos>  ",
           "  ▁The  ",
           "  ▁horse  ",
           "  ▁rac  ",
           "  ed  ",
           "  ▁past  ",
           "  ▁the  ",
           "  ▁bar  ",
           "  n  ",
           "  ▁fell  ",
           "  .  "
          ],
          [
           "  <bos>  ",
           "  ▁The  ",
           "  ▁horse  ",
           "  ▁rac  ",
           "  ed  ",
           "  ▁past  ",
           "  ▁the  ",
           "  ▁bar  ",
           "  n  ",
           "  ▁fell  ",
           "  .  "
          ],
          [
           "  <bos>  ",
           "  ▁The  ",
           "  ▁horse  ",
           "  ▁rac  ",
           "  ed  ",
           "  ▁past  ",
           "  ▁the  ",
           "  ▁bar  ",
           "  n  ",
           "  ▁fell  ",
           "  .  "
          ],
          [
           "  <bos>  ",
           "  ▁The  ",
           "  ▁horse  ",
           "  ▁rac  ",
           "  ed  ",
           "  ▁past  ",
           "  ▁the  ",
           "  ▁bar  ",
           "  n  ",
           "  ▁fell  ",
           "  .  "
          ],
          [
           "  <bos>  ",
           "  ▁The  ",
           "  ▁horse  ",
           "  ▁rac  ",
           "  ed  ",
           "  ▁past  ",
           "  ▁the  ",
           "  ▁bar  ",
           "  n  ",
           "  ▁fell  ",
           "  .  "
          ],
          [
           "  <bos>  ",
           "  ▁The  ",
           "  ▁horse  ",
           "  ▁rac  ",
           "  ed  ",
           "  ▁past  ",
           "  ▁the  ",
           "  ▁bar  ",
           "  n  ",
           "  ▁fell  ",
           "  .  "
          ],
          [
           "  <bos>  ",
           "  ▁The  ",
           "  ▁horse  ",
           "  ▁rac  ",
           "  ed  ",
           "  ▁past  ",
           "  ▁the  ",
           "  ▁bar  ",
           "  n  ",
           "  ▁fell  ",
           "  .  "
          ],
          [
           "  <bos>  ",
           "  ▁The  ",
           "  ▁horse  ",
           "  ▁rac  ",
           "  ed  ",
           "  ▁past  ",
           "  ▁the  ",
           "  ▁bar  ",
           "  n  ",
           "  ▁fell  ",
           "  .  "
          ],
          [
           "  <bos>  ",
           "  ▁The  ",
           "  ▁horse  ",
           "  ▁rac  ",
           "  ed  ",
           "  ▁past  ",
           "  ▁the  ",
           "  ▁bar  ",
           "  n  ",
           "  ▁fell  ",
           "  .  "
          ],
          [
           "  <bos>  ",
           "  ▁The  ",
           "  ▁horse  ",
           "  ▁rac  ",
           "  ed  ",
           "  ▁past  ",
           "  ▁the  ",
           "  ▁bar  ",
           "  n  ",
           "  ▁fell  ",
           "  .  "
          ],
          [
           "  <bos>  ",
           "  ▁The  ",
           "  ▁horse  ",
           "  ▁rac  ",
           "  ed  ",
           "  ▁past  ",
           "  ▁the  ",
           "  ▁bar  ",
           "  n  ",
           "  ▁fell  ",
           "  .  "
          ],
          [
           "  <bos>  ",
           "  ▁The  ",
           "  ▁horse  ",
           "  ▁rac  ",
           "  ed  ",
           "  ▁past  ",
           "  ▁the  ",
           "  ▁bar  ",
           "  n  ",
           "  ▁fell  ",
           "  .  "
          ],
          [
           "  <bos>  ",
           "  ▁The  ",
           "  ▁horse  ",
           "  ▁rac  ",
           "  ed  ",
           "  ▁past  ",
           "  ▁the  ",
           "  ▁bar  ",
           "  n  ",
           "  ▁fell  ",
           "  .  "
          ],
          [
           "  <bos>  ",
           "  ▁The  ",
           "  ▁horse  ",
           "  ▁rac  ",
           "  ed  ",
           "  ▁past  ",
           "  ▁the  ",
           "  ▁bar  ",
           "  n  ",
           "  ▁fell  ",
           "  .  "
          ]
         ],
         "textfont": {
          "color": "black",
          "size": 12
         },
         "texttemplate": "%{text}",
         "type": "heatmap",
         "z": [
          [
           0.008845187723636627,
           0.04584826901555061,
           0.004760458134114742,
           0.0034205294214189053,
           0.009135046042501926,
           -0.004893279634416103,
           0.13169172406196594,
           0.020982462912797928,
           -0.004099480342119932,
           -0.013356593437492847,
           -0.03249766677618027
          ],
          [
           -0.15358802676200867,
           -0.2143976390361786,
           -0.1593272089958191,
           -0.07609424740076065,
           -0.05628778412938118,
           0.024285966530442238,
           -0.14914171397686005,
           -0.03764882683753967,
           -0.014654086902737617,
           -0.0014548287726938725,
           -0.067995585501194
          ],
          [
           0.18735280632972717,
           0.10437029600143433,
           0.04300149530172348,
           -0.021452771499753,
           0.07539774477481842,
           -0.26073020696640015,
           0.050968021154403687,
           -0.09013165533542633,
           -0.01255007367581129,
           -0.034168899059295654,
           -0.005049887113273144
          ],
          [
           23.470369338989258,
           -0.25134286284446716,
           -0.12917344272136688,
           0.14941412210464478,
           0.05989541485905647,
           -0.22522898018360138,
           -0.3611983358860016,
           -0.20498299598693848,
           -0.17549331486225128,
           -0.23177775740623474,
           -0.1980065256357193
          ],
          [
           5.85875129699707,
           -0.2104581892490387,
           0.12618230283260345,
           0.22482642531394958,
           0.18237937986850739,
           -0.09858638793230057,
           -0.17764829099178314,
           -0.05305785313248634,
           -0.21430303156375885,
           -0.1254345327615738,
           -0.03466671705245972
          ],
          [
           -16.72722625732422,
           -0.13353614509105682,
           -0.43620947003364563,
           -0.2586809992790222,
           -0.3589684069156647,
           -0.03538333252072334,
           0.00352845317684114,
           0.08429836481809616,
           -0.08514638245105743,
           0.2981273829936981,
           -0.10831928998231888
          ],
          [
           12.161348342895508,
           0.2074839323759079,
           0.5289261341094971,
           0.3532122075557709,
           0.4543592631816864,
           0.06328494846820831,
           -0.1526034027338028,
           -0.09423614293336868,
           -0.1483718752861023,
           -0.34898990392684937,
           0.030666682869195938
          ],
          [
           2.064411163330078,
           0.25377920269966125,
           0.4088199734687805,
           0.4190893769264221,
           0.6090760827064514,
           -0.23105044662952423,
           -0.15409968793392181,
           -0.15959875285625458,
           -0.28256624937057495,
           0.08404259383678436,
           0.6964128017425537
          ],
          [
           -2.1548967361450195,
           -0.0056199077516794205,
           -0.2553463876247406,
           -0.1520279198884964,
           -0.3129256069660187,
           0.11488186568021774,
           -0.038451917469501495,
           0.1935824304819107,
           0.007083934731781483,
           -0.39888331294059753,
           -0.7243204116821289
          ],
          [
           -5.717101097106934,
           -0.1632382720708847,
           0.2888069748878479,
           -0.06065966188907623,
           0.10350456088781357,
           -0.41979753971099854,
           -0.44341641664505005,
           -0.2099047601222992,
           -0.2135971039533615,
           0.6811237335205078,
           0.5209346413612366
          ],
          [
           6.356625556945801,
           0.5139718651771545,
           0.7440087795257568,
           0.15326710045337677,
           -0.41657668352127075,
           0.2760947346687317,
           0.44317299127578735,
           0.4699319899082184,
           0.40821075439453125,
           -0.22646503150463104,
           0.4785774052143097
          ],
          [
           11.614984512329102,
           0.5209828615188599,
           0.5501487255096436,
           0.42421555519104004,
           0.07883627712726593,
           0.1303824782371521,
           0.6162236928939819,
           0.0721936821937561,
           0.019413594156503677,
           -0.3859124183654785,
           0.766333818435669
          ],
          [
           4.872463703155518,
           0.43086469173431396,
           0.16848613321781158,
           0.8020157217979431,
           0.1766594499349594,
           0.23974104225635529,
           0.6092703342437744,
           0.04502585157752037,
           0.1670648753643036,
           -0.16372309625148773,
           0.3123728334903717
          ],
          [
           -3.228698968887329,
           0.03501402586698532,
           -0.3963913321495056,
           0.3849388062953949,
           0.30760079622268677,
           0.5649335384368896,
           0.8411399722099304,
           -0.09913971275091171,
           0.14959244430065155,
           -0.3070368766784668,
           -0.29246705770492554
          ],
          [
           -1.7535680532455444,
           -0.5321921110153198,
           0.26145699620246887,
           -0.4045196771621704,
           -0.3107745349407196,
           -0.5888007879257202,
           -0.7810682058334351,
           0.10647331178188324,
           -0.10522805899381638,
           0.2257244884967804,
           -0.41112014651298523
          ],
          [
           7.8320207595825195,
           -0.013683677650988102,
           0.5267283916473389,
           0.08035247772932053,
           0.212664395570755,
           0.34132862091064453,
           0.3057720959186554,
           0.6785104870796204,
           0.4527241885662079,
           0.041296493262052536,
           -0.07521850615739822
          ],
          [
           -1.3073129653930664,
           0.6813579797744751,
           0.5087125301361084,
           0.24614186584949493,
           -0.030210979282855988,
           -0.00047854200238361955,
           -0.29344359040260315,
           0.25675928592681885,
           0.1895674169063568,
           -0.5708629488945007,
           -0.3194023072719574
          ],
          [
           -9.335840225219727,
           0.8365377187728882,
           -0.2336614578962326,
           0.6437455415725708,
           0.304311066865921,
           -0.29202601313591003,
           -1.1993907690048218,
           0.13450504839420319,
           -0.017882760614156723,
           -0.6637051105499268,
           -0.12836265563964844
          ],
          [
           -0.2068636417388916,
           0.42119643092155457,
           -0.10705623030662537,
           0.7416792511940002,
           0.31326669454574585,
           -0.3614514470100403,
           -1.090259313583374,
           0.30679649114608765,
           0.33310171961784363,
           -0.6055691242218018,
           0.17507411539554596
          ],
          [
           1.8224728107452393,
           0.6815730929374695,
           0.11288650333881378,
           0.6732039451599121,
           -0.4404210150241852,
           0.1072356179356575,
           -0.9035816788673401,
           0.0543653778731823,
           0.8348005414009094,
           -0.33791106939315796,
           1.02052903175354
          ],
          [
           -12.254570960998535,
           -1.9271199703216553,
           -1.394516944885254,
           -1.0153816938400269,
           0.10372862964868546,
           -0.5900037288665771,
           0.6358373165130615,
           -0.3891911506652832,
           -1.2692426443099976,
           0.1641330122947693,
           -2.109539031982422
          ],
          [
           -17.042085647583008,
           -2.318861246109009,
           -1.4493831396102905,
           -1.0098615884780884,
           -0.011132914572954178,
           -1.6822264194488525,
           0.28690603375434875,
           -0.6760064363479614,
           -2.0152015686035156,
           -0.5220475792884827,
           -2.4453535079956055
          ],
          [
           -28.596731185913086,
           -2.539721965789795,
           -1.1876211166381836,
           -0.48151350021362305,
           0.4721975028514862,
           -1.474478006362915,
           0.7553648352622986,
           -0.7570942044258118,
           -0.864129364490509,
           -2.1363525390625,
           -2.4105823040008545
          ],
          [
           -38.951324462890625,
           -3.1154212951660156,
           -1.6900115013122559,
           -0.7010065317153931,
           0.5466372966766357,
           -1.317636251449585,
           0.42757004499435425,
           -1.1523573398590088,
           -1.858325719833374,
           -3.4885687828063965,
           -3.6446011066436768
          ],
          [
           -31.798603057861328,
           -3.6631953716278076,
           -2.386310577392578,
           -1.0838903188705444,
           -0.35711950063705444,
           -1.6425786018371582,
           0.23062899708747864,
           -2.100550651550293,
           -1.9738553762435913,
           -3.937729597091675,
           -5.062308311462402
          ],
          [
           25.593080520629883,
           4.486544609069824,
           2.5768916606903076,
           0.9094392657279968,
           1.1769630908966064,
           2.8856499195098877,
           0.5889583230018616,
           2.061563491821289,
           2.229102611541748,
           4.309054374694824,
           5.860590934753418
          ],
          [
           -28.949676513671875,
           -4.922211170196533,
           -2.6102969646453857,
           -0.30589595437049866,
           -1.034472107887268,
           -2.972439765930176,
           -0.4740965962409973,
           -1.683552861213684,
           -2.2120954990386963,
           -5.17417049407959,
           -6.724432945251465
          ],
          [
           31.209741592407227,
           4.631700038909912,
           2.1416330337524414,
           -0.7440818548202515,
           0.8475229740142822,
           2.776970386505127,
           0.5985578298568726,
           0.40022987127304077,
           0.3737294673919678,
           4.183643341064453,
           7.473003387451172
          ],
          [
           -34.25849914550781,
           -5.071702480316162,
           -2.751225233078003,
           0.2653680145740509,
           -0.9821465611457825,
           -3.0794661045074463,
           -0.583024799823761,
           -0.8052414655685425,
           -1.0877044200897217,
           -4.108863353729248,
           -8.457321166992188
          ],
          [
           -47.07886505126953,
           -5.442872047424316,
           -2.928269147872925,
           -0.41326239705085754,
           -1.288094162940979,
           -2.6957437992095947,
           -0.31502971053123474,
           -0.10709382593631744,
           -0.35613998770713806,
           -3.2155137062072754,
           -9.551078796386719
          ],
          [
           -45.61503982543945,
           -5.242952346801758,
           -4.652146816253662,
           -0.055418603122234344,
           -1.5447379350662231,
           -3.850552797317505,
           -0.45051372051239014,
           0.42798948287963867,
           0.6239207983016968,
           -3.9730324745178223,
           -11.037683486938477
          ],
          [
           0.17738297581672668,
           -6.205224514007568,
           -5.207676410675049,
           -0.141744464635849,
           -2.1152281761169434,
           -7.235881805419922,
           -2.175562620162964,
           1.5029853582382202,
           0.47010156512260437,
           -5.209175109863281,
           -10.926718711853027
          ]
         ]
        }
       ],
       "layout": {
        "height": 800,
        "template": {
         "data": {
          "bar": [
           {
            "error_x": {
             "color": "#2a3f5f"
            },
            "error_y": {
             "color": "#2a3f5f"
            },
            "marker": {
             "line": {
              "color": "#E5ECF6",
              "width": 0.5
             },
             "pattern": {
              "fillmode": "overlay",
              "size": 10,
              "solidity": 0.2
             }
            },
            "type": "bar"
           }
          ],
          "barpolar": [
           {
            "marker": {
             "line": {
              "color": "#E5ECF6",
              "width": 0.5
             },
             "pattern": {
              "fillmode": "overlay",
              "size": 10,
              "solidity": 0.2
             }
            },
            "type": "barpolar"
           }
          ],
          "carpet": [
           {
            "aaxis": {
             "endlinecolor": "#2a3f5f",
             "gridcolor": "white",
             "linecolor": "white",
             "minorgridcolor": "white",
             "startlinecolor": "#2a3f5f"
            },
            "baxis": {
             "endlinecolor": "#2a3f5f",
             "gridcolor": "white",
             "linecolor": "white",
             "minorgridcolor": "white",
             "startlinecolor": "#2a3f5f"
            },
            "type": "carpet"
           }
          ],
          "choropleth": [
           {
            "colorbar": {
             "outlinewidth": 0,
             "ticks": ""
            },
            "type": "choropleth"
           }
          ],
          "contour": [
           {
            "colorbar": {
             "outlinewidth": 0,
             "ticks": ""
            },
            "colorscale": [
             [
              0,
              "#0d0887"
             ],
             [
              0.1111111111111111,
              "#46039f"
             ],
             [
              0.2222222222222222,
              "#7201a8"
             ],
             [
              0.3333333333333333,
              "#9c179e"
             ],
             [
              0.4444444444444444,
              "#bd3786"
             ],
             [
              0.5555555555555556,
              "#d8576b"
             ],
             [
              0.6666666666666666,
              "#ed7953"
             ],
             [
              0.7777777777777778,
              "#fb9f3a"
             ],
             [
              0.8888888888888888,
              "#fdca26"
             ],
             [
              1,
              "#f0f921"
             ]
            ],
            "type": "contour"
           }
          ],
          "contourcarpet": [
           {
            "colorbar": {
             "outlinewidth": 0,
             "ticks": ""
            },
            "type": "contourcarpet"
           }
          ],
          "heatmap": [
           {
            "colorbar": {
             "outlinewidth": 0,
             "ticks": ""
            },
            "colorscale": [
             [
              0,
              "#0d0887"
             ],
             [
              0.1111111111111111,
              "#46039f"
             ],
             [
              0.2222222222222222,
              "#7201a8"
             ],
             [
              0.3333333333333333,
              "#9c179e"
             ],
             [
              0.4444444444444444,
              "#bd3786"
             ],
             [
              0.5555555555555556,
              "#d8576b"
             ],
             [
              0.6666666666666666,
              "#ed7953"
             ],
             [
              0.7777777777777778,
              "#fb9f3a"
             ],
             [
              0.8888888888888888,
              "#fdca26"
             ],
             [
              1,
              "#f0f921"
             ]
            ],
            "type": "heatmap"
           }
          ],
          "heatmapgl": [
           {
            "colorbar": {
             "outlinewidth": 0,
             "ticks": ""
            },
            "colorscale": [
             [
              0,
              "#0d0887"
             ],
             [
              0.1111111111111111,
              "#46039f"
             ],
             [
              0.2222222222222222,
              "#7201a8"
             ],
             [
              0.3333333333333333,
              "#9c179e"
             ],
             [
              0.4444444444444444,
              "#bd3786"
             ],
             [
              0.5555555555555556,
              "#d8576b"
             ],
             [
              0.6666666666666666,
              "#ed7953"
             ],
             [
              0.7777777777777778,
              "#fb9f3a"
             ],
             [
              0.8888888888888888,
              "#fdca26"
             ],
             [
              1,
              "#f0f921"
             ]
            ],
            "type": "heatmapgl"
           }
          ],
          "histogram": [
           {
            "marker": {
             "pattern": {
              "fillmode": "overlay",
              "size": 10,
              "solidity": 0.2
             }
            },
            "type": "histogram"
           }
          ],
          "histogram2d": [
           {
            "colorbar": {
             "outlinewidth": 0,
             "ticks": ""
            },
            "colorscale": [
             [
              0,
              "#0d0887"
             ],
             [
              0.1111111111111111,
              "#46039f"
             ],
             [
              0.2222222222222222,
              "#7201a8"
             ],
             [
              0.3333333333333333,
              "#9c179e"
             ],
             [
              0.4444444444444444,
              "#bd3786"
             ],
             [
              0.5555555555555556,
              "#d8576b"
             ],
             [
              0.6666666666666666,
              "#ed7953"
             ],
             [
              0.7777777777777778,
              "#fb9f3a"
             ],
             [
              0.8888888888888888,
              "#fdca26"
             ],
             [
              1,
              "#f0f921"
             ]
            ],
            "type": "histogram2d"
           }
          ],
          "histogram2dcontour": [
           {
            "colorbar": {
             "outlinewidth": 0,
             "ticks": ""
            },
            "colorscale": [
             [
              0,
              "#0d0887"
             ],
             [
              0.1111111111111111,
              "#46039f"
             ],
             [
              0.2222222222222222,
              "#7201a8"
             ],
             [
              0.3333333333333333,
              "#9c179e"
             ],
             [
              0.4444444444444444,
              "#bd3786"
             ],
             [
              0.5555555555555556,
              "#d8576b"
             ],
             [
              0.6666666666666666,
              "#ed7953"
             ],
             [
              0.7777777777777778,
              "#fb9f3a"
             ],
             [
              0.8888888888888888,
              "#fdca26"
             ],
             [
              1,
              "#f0f921"
             ]
            ],
            "type": "histogram2dcontour"
           }
          ],
          "mesh3d": [
           {
            "colorbar": {
             "outlinewidth": 0,
             "ticks": ""
            },
            "type": "mesh3d"
           }
          ],
          "parcoords": [
           {
            "line": {
             "colorbar": {
              "outlinewidth": 0,
              "ticks": ""
             }
            },
            "type": "parcoords"
           }
          ],
          "pie": [
           {
            "automargin": true,
            "type": "pie"
           }
          ],
          "scatter": [
           {
            "fillpattern": {
             "fillmode": "overlay",
             "size": 10,
             "solidity": 0.2
            },
            "type": "scatter"
           }
          ],
          "scatter3d": [
           {
            "line": {
             "colorbar": {
              "outlinewidth": 0,
              "ticks": ""
             }
            },
            "marker": {
             "colorbar": {
              "outlinewidth": 0,
              "ticks": ""
             }
            },
            "type": "scatter3d"
           }
          ],
          "scattercarpet": [
           {
            "marker": {
             "colorbar": {
              "outlinewidth": 0,
              "ticks": ""
             }
            },
            "type": "scattercarpet"
           }
          ],
          "scattergeo": [
           {
            "marker": {
             "colorbar": {
              "outlinewidth": 0,
              "ticks": ""
             }
            },
            "type": "scattergeo"
           }
          ],
          "scattergl": [
           {
            "marker": {
             "colorbar": {
              "outlinewidth": 0,
              "ticks": ""
             }
            },
            "type": "scattergl"
           }
          ],
          "scattermapbox": [
           {
            "marker": {
             "colorbar": {
              "outlinewidth": 0,
              "ticks": ""
             }
            },
            "type": "scattermapbox"
           }
          ],
          "scatterpolar": [
           {
            "marker": {
             "colorbar": {
              "outlinewidth": 0,
              "ticks": ""
             }
            },
            "type": "scatterpolar"
           }
          ],
          "scatterpolargl": [
           {
            "marker": {
             "colorbar": {
              "outlinewidth": 0,
              "ticks": ""
             }
            },
            "type": "scatterpolargl"
           }
          ],
          "scatterternary": [
           {
            "marker": {
             "colorbar": {
              "outlinewidth": 0,
              "ticks": ""
             }
            },
            "type": "scatterternary"
           }
          ],
          "surface": [
           {
            "colorbar": {
             "outlinewidth": 0,
             "ticks": ""
            },
            "colorscale": [
             [
              0,
              "#0d0887"
             ],
             [
              0.1111111111111111,
              "#46039f"
             ],
             [
              0.2222222222222222,
              "#7201a8"
             ],
             [
              0.3333333333333333,
              "#9c179e"
             ],
             [
              0.4444444444444444,
              "#bd3786"
             ],
             [
              0.5555555555555556,
              "#d8576b"
             ],
             [
              0.6666666666666666,
              "#ed7953"
             ],
             [
              0.7777777777777778,
              "#fb9f3a"
             ],
             [
              0.8888888888888888,
              "#fdca26"
             ],
             [
              1,
              "#f0f921"
             ]
            ],
            "type": "surface"
           }
          ],
          "table": [
           {
            "cells": {
             "fill": {
              "color": "#EBF0F8"
             },
             "line": {
              "color": "white"
             }
            },
            "header": {
             "fill": {
              "color": "#C8D4E3"
             },
             "line": {
              "color": "white"
             }
            },
            "type": "table"
           }
          ]
         },
         "layout": {
          "annotationdefaults": {
           "arrowcolor": "#2a3f5f",
           "arrowhead": 0,
           "arrowwidth": 1
          },
          "autotypenumbers": "strict",
          "coloraxis": {
           "colorbar": {
            "outlinewidth": 0,
            "ticks": ""
           }
          },
          "colorscale": {
           "diverging": [
            [
             0,
             "#8e0152"
            ],
            [
             0.1,
             "#c51b7d"
            ],
            [
             0.2,
             "#de77ae"
            ],
            [
             0.3,
             "#f1b6da"
            ],
            [
             0.4,
             "#fde0ef"
            ],
            [
             0.5,
             "#f7f7f7"
            ],
            [
             0.6,
             "#e6f5d0"
            ],
            [
             0.7,
             "#b8e186"
            ],
            [
             0.8,
             "#7fbc41"
            ],
            [
             0.9,
             "#4d9221"
            ],
            [
             1,
             "#276419"
            ]
           ],
           "sequential": [
            [
             0,
             "#0d0887"
            ],
            [
             0.1111111111111111,
             "#46039f"
            ],
            [
             0.2222222222222222,
             "#7201a8"
            ],
            [
             0.3333333333333333,
             "#9c179e"
            ],
            [
             0.4444444444444444,
             "#bd3786"
            ],
            [
             0.5555555555555556,
             "#d8576b"
            ],
            [
             0.6666666666666666,
             "#ed7953"
            ],
            [
             0.7777777777777778,
             "#fb9f3a"
            ],
            [
             0.8888888888888888,
             "#fdca26"
            ],
            [
             1,
             "#f0f921"
            ]
           ],
           "sequentialminus": [
            [
             0,
             "#0d0887"
            ],
            [
             0.1111111111111111,
             "#46039f"
            ],
            [
             0.2222222222222222,
             "#7201a8"
            ],
            [
             0.3333333333333333,
             "#9c179e"
            ],
            [
             0.4444444444444444,
             "#bd3786"
            ],
            [
             0.5555555555555556,
             "#d8576b"
            ],
            [
             0.6666666666666666,
             "#ed7953"
            ],
            [
             0.7777777777777778,
             "#fb9f3a"
            ],
            [
             0.8888888888888888,
             "#fdca26"
            ],
            [
             1,
             "#f0f921"
            ]
           ]
          },
          "colorway": [
           "#636efa",
           "#EF553B",
           "#00cc96",
           "#ab63fa",
           "#FFA15A",
           "#19d3f3",
           "#FF6692",
           "#B6E880",
           "#FF97FF",
           "#FECB52"
          ],
          "font": {
           "color": "#2a3f5f"
          },
          "geo": {
           "bgcolor": "white",
           "lakecolor": "white",
           "landcolor": "#E5ECF6",
           "showlakes": true,
           "showland": true,
           "subunitcolor": "white"
          },
          "hoverlabel": {
           "align": "left"
          },
          "hovermode": "closest",
          "mapbox": {
           "style": "light"
          },
          "paper_bgcolor": "white",
          "plot_bgcolor": "#E5ECF6",
          "polar": {
           "angularaxis": {
            "gridcolor": "white",
            "linecolor": "white",
            "ticks": ""
           },
           "bgcolor": "#E5ECF6",
           "radialaxis": {
            "gridcolor": "white",
            "linecolor": "white",
            "ticks": ""
           }
          },
          "scene": {
           "xaxis": {
            "backgroundcolor": "#E5ECF6",
            "gridcolor": "white",
            "gridwidth": 2,
            "linecolor": "white",
            "showbackground": true,
            "ticks": "",
            "zerolinecolor": "white"
           },
           "yaxis": {
            "backgroundcolor": "#E5ECF6",
            "gridcolor": "white",
            "gridwidth": 2,
            "linecolor": "white",
            "showbackground": true,
            "ticks": "",
            "zerolinecolor": "white"
           },
           "zaxis": {
            "backgroundcolor": "#E5ECF6",
            "gridcolor": "white",
            "gridwidth": 2,
            "linecolor": "white",
            "showbackground": true,
            "ticks": "",
            "zerolinecolor": "white"
           }
          },
          "shapedefaults": {
           "line": {
            "color": "#2a3f5f"
           }
          },
          "ternary": {
           "aaxis": {
            "gridcolor": "white",
            "linecolor": "white",
            "ticks": ""
           },
           "baxis": {
            "gridcolor": "white",
            "linecolor": "white",
            "ticks": ""
           },
           "bgcolor": "#E5ECF6",
           "caxis": {
            "gridcolor": "white",
            "linecolor": "white",
            "ticks": ""
           }
          },
          "title": {
           "x": 0.05
          },
          "xaxis": {
           "automargin": true,
           "gridcolor": "white",
           "linecolor": "white",
           "ticks": "",
           "title": {
            "standoff": 15
           },
           "zerolinecolor": "white",
           "zerolinewidth": 2
          },
          "yaxis": {
           "automargin": true,
           "gridcolor": "white",
           "linecolor": "white",
           "ticks": "",
           "title": {
            "standoff": 15
           },
           "zerolinecolor": "white",
           "zerolinewidth": 2
          }
         }
        },
        "title": {
         "text": "Credences for Input Tokens"
        },
        "width": 800,
        "xaxis": {
         "tickangle": 45,
         "ticktext": [
          "<bos>",
          "▁The",
          "▁horse",
          "▁rac",
          "ed",
          "▁past",
          "▁the",
          "▁bar",
          "n",
          "▁fell",
          "."
         ],
         "tickvals": [
          0,
          1,
          2,
          3,
          4,
          5,
          6,
          7,
          8,
          9,
          10
         ]
        }
       }
      },
      "text/html": [
       "<div>                            <div id=\"5922c75c-4e80-41bc-893a-fb7fede3c3ea\" class=\"plotly-graph-div\" style=\"height:800px; width:800px;\"></div>            <script type=\"text/javascript\">                require([\"plotly\"], function(Plotly) {                    window.PLOTLYENV=window.PLOTLYENV || {};                                    if (document.getElementById(\"5922c75c-4e80-41bc-893a-fb7fede3c3ea\")) {                    Plotly.newPlot(                        \"5922c75c-4e80-41bc-893a-fb7fede3c3ea\",                        [{\"colorscale\":[[0,\"#FF0000\"],[1,\"#00FF00\"]],\"text\":[[\"  <bos>  \",\"  \\u2581The  \",\"  \\u2581horse  \",\"  \\u2581rac  \",\"  ed  \",\"  \\u2581past  \",\"  \\u2581the  \",\"  \\u2581bar  \",\"  n  \",\"  \\u2581fell  \",\"  .  \"],[\"  <bos>  \",\"  \\u2581The  \",\"  \\u2581horse  \",\"  \\u2581rac  \",\"  ed  \",\"  \\u2581past  \",\"  \\u2581the  \",\"  \\u2581bar  \",\"  n  \",\"  \\u2581fell  \",\"  .  \"],[\"  <bos>  \",\"  \\u2581The  \",\"  \\u2581horse  \",\"  \\u2581rac  \",\"  ed  \",\"  \\u2581past  \",\"  \\u2581the  \",\"  \\u2581bar  \",\"  n  \",\"  \\u2581fell  \",\"  .  \"],[\"  <bos>  \",\"  \\u2581The  \",\"  \\u2581horse  \",\"  \\u2581rac  \",\"  ed  \",\"  \\u2581past  \",\"  \\u2581the  \",\"  \\u2581bar  \",\"  n  \",\"  \\u2581fell  \",\"  .  \"],[\"  <bos>  \",\"  \\u2581The  \",\"  \\u2581horse  \",\"  \\u2581rac  \",\"  ed  \",\"  \\u2581past  \",\"  \\u2581the  \",\"  \\u2581bar  \",\"  n  \",\"  \\u2581fell  \",\"  .  \"],[\"  <bos>  \",\"  \\u2581The  \",\"  \\u2581horse  \",\"  \\u2581rac  \",\"  ed  \",\"  \\u2581past  \",\"  \\u2581the  \",\"  \\u2581bar  \",\"  n  \",\"  \\u2581fell  \",\"  .  \"],[\"  <bos>  \",\"  \\u2581The  \",\"  \\u2581horse  \",\"  \\u2581rac  \",\"  ed  \",\"  \\u2581past  \",\"  \\u2581the  \",\"  \\u2581bar  \",\"  n  \",\"  \\u2581fell  \",\"  .  \"],[\"  <bos>  \",\"  \\u2581The  \",\"  \\u2581horse  \",\"  \\u2581rac  \",\"  ed  \",\"  \\u2581past  \",\"  \\u2581the  \",\"  \\u2581bar  \",\"  n  \",\"  \\u2581fell  \",\"  .  \"],[\"  <bos>  \",\"  \\u2581The  \",\"  \\u2581horse  \",\"  \\u2581rac  \",\"  ed  \",\"  \\u2581past  \",\"  \\u2581the  \",\"  \\u2581bar  \",\"  n  \",\"  \\u2581fell  \",\"  .  \"],[\"  <bos>  \",\"  \\u2581The  \",\"  \\u2581horse  \",\"  \\u2581rac  \",\"  ed  \",\"  \\u2581past  \",\"  \\u2581the  \",\"  \\u2581bar  \",\"  n  \",\"  \\u2581fell  \",\"  .  \"],[\"  <bos>  \",\"  \\u2581The  \",\"  \\u2581horse  \",\"  \\u2581rac  \",\"  ed  \",\"  \\u2581past  \",\"  \\u2581the  \",\"  \\u2581bar  \",\"  n  \",\"  \\u2581fell  \",\"  .  \"],[\"  <bos>  \",\"  \\u2581The  \",\"  \\u2581horse  \",\"  \\u2581rac  \",\"  ed  \",\"  \\u2581past  \",\"  \\u2581the  \",\"  \\u2581bar  \",\"  n  \",\"  \\u2581fell  \",\"  .  \"],[\"  <bos>  \",\"  \\u2581The  \",\"  \\u2581horse  \",\"  \\u2581rac  \",\"  ed  \",\"  \\u2581past  \",\"  \\u2581the  \",\"  \\u2581bar  \",\"  n  \",\"  \\u2581fell  \",\"  .  \"],[\"  <bos>  \",\"  \\u2581The  \",\"  \\u2581horse  \",\"  \\u2581rac  \",\"  ed  \",\"  \\u2581past  \",\"  \\u2581the  \",\"  \\u2581bar  \",\"  n  \",\"  \\u2581fell  \",\"  .  \"],[\"  <bos>  \",\"  \\u2581The  \",\"  \\u2581horse  \",\"  \\u2581rac  \",\"  ed  \",\"  \\u2581past  \",\"  \\u2581the  \",\"  \\u2581bar  \",\"  n  \",\"  \\u2581fell  \",\"  .  \"],[\"  <bos>  \",\"  \\u2581The  \",\"  \\u2581horse  \",\"  \\u2581rac  \",\"  ed  \",\"  \\u2581past  \",\"  \\u2581the  \",\"  \\u2581bar  \",\"  n  \",\"  \\u2581fell  \",\"  .  \"],[\"  <bos>  \",\"  \\u2581The  \",\"  \\u2581horse  \",\"  \\u2581rac  \",\"  ed  \",\"  \\u2581past  \",\"  \\u2581the  \",\"  \\u2581bar  \",\"  n  \",\"  \\u2581fell  \",\"  .  \"],[\"  <bos>  \",\"  \\u2581The  \",\"  \\u2581horse  \",\"  \\u2581rac  \",\"  ed  \",\"  \\u2581past  \",\"  \\u2581the  \",\"  \\u2581bar  \",\"  n  \",\"  \\u2581fell  \",\"  .  \"],[\"  <bos>  \",\"  \\u2581The  \",\"  \\u2581horse  \",\"  \\u2581rac  \",\"  ed  \",\"  \\u2581past  \",\"  \\u2581the  \",\"  \\u2581bar  \",\"  n  \",\"  \\u2581fell  \",\"  .  \"],[\"  <bos>  \",\"  \\u2581The  \",\"  \\u2581horse  \",\"  \\u2581rac  \",\"  ed  \",\"  \\u2581past  \",\"  \\u2581the  \",\"  \\u2581bar  \",\"  n  \",\"  \\u2581fell  \",\"  .  \"],[\"  <bos>  \",\"  \\u2581The  \",\"  \\u2581horse  \",\"  \\u2581rac  \",\"  ed  \",\"  \\u2581past  \",\"  \\u2581the  \",\"  \\u2581bar  \",\"  n  \",\"  \\u2581fell  \",\"  .  \"],[\"  <bos>  \",\"  \\u2581The  \",\"  \\u2581horse  \",\"  \\u2581rac  \",\"  ed  \",\"  \\u2581past  \",\"  \\u2581the  \",\"  \\u2581bar  \",\"  n  \",\"  \\u2581fell  \",\"  .  \"],[\"  <bos>  \",\"  \\u2581The  \",\"  \\u2581horse  \",\"  \\u2581rac  \",\"  ed  \",\"  \\u2581past  \",\"  \\u2581the  \",\"  \\u2581bar  \",\"  n  \",\"  \\u2581fell  \",\"  .  \"],[\"  <bos>  \",\"  \\u2581The  \",\"  \\u2581horse  \",\"  \\u2581rac  \",\"  ed  \",\"  \\u2581past  \",\"  \\u2581the  \",\"  \\u2581bar  \",\"  n  \",\"  \\u2581fell  \",\"  .  \"],[\"  <bos>  \",\"  \\u2581The  \",\"  \\u2581horse  \",\"  \\u2581rac  \",\"  ed  \",\"  \\u2581past  \",\"  \\u2581the  \",\"  \\u2581bar  \",\"  n  \",\"  \\u2581fell  \",\"  .  \"],[\"  <bos>  \",\"  \\u2581The  \",\"  \\u2581horse  \",\"  \\u2581rac  \",\"  ed  \",\"  \\u2581past  \",\"  \\u2581the  \",\"  \\u2581bar  \",\"  n  \",\"  \\u2581fell  \",\"  .  \"],[\"  <bos>  \",\"  \\u2581The  \",\"  \\u2581horse  \",\"  \\u2581rac  \",\"  ed  \",\"  \\u2581past  \",\"  \\u2581the  \",\"  \\u2581bar  \",\"  n  \",\"  \\u2581fell  \",\"  .  \"],[\"  <bos>  \",\"  \\u2581The  \",\"  \\u2581horse  \",\"  \\u2581rac  \",\"  ed  \",\"  \\u2581past  \",\"  \\u2581the  \",\"  \\u2581bar  \",\"  n  \",\"  \\u2581fell  \",\"  .  \"],[\"  <bos>  \",\"  \\u2581The  \",\"  \\u2581horse  \",\"  \\u2581rac  \",\"  ed  \",\"  \\u2581past  \",\"  \\u2581the  \",\"  \\u2581bar  \",\"  n  \",\"  \\u2581fell  \",\"  .  \"],[\"  <bos>  \",\"  \\u2581The  \",\"  \\u2581horse  \",\"  \\u2581rac  \",\"  ed  \",\"  \\u2581past  \",\"  \\u2581the  \",\"  \\u2581bar  \",\"  n  \",\"  \\u2581fell  \",\"  .  \"],[\"  <bos>  \",\"  \\u2581The  \",\"  \\u2581horse  \",\"  \\u2581rac  \",\"  ed  \",\"  \\u2581past  \",\"  \\u2581the  \",\"  \\u2581bar  \",\"  n  \",\"  \\u2581fell  \",\"  .  \"],[\"  <bos>  \",\"  \\u2581The  \",\"  \\u2581horse  \",\"  \\u2581rac  \",\"  ed  \",\"  \\u2581past  \",\"  \\u2581the  \",\"  \\u2581bar  \",\"  n  \",\"  \\u2581fell  \",\"  .  \"]],\"textfont\":{\"color\":\"black\",\"size\":12},\"texttemplate\":\"%{text}\",\"z\":[[0.008845187723636627,0.04584826901555061,0.004760458134114742,0.0034205294214189053,0.009135046042501926,-0.004893279634416103,0.13169172406196594,0.020982462912797928,-0.004099480342119932,-0.013356593437492847,-0.03249766677618027],[-0.15358802676200867,-0.2143976390361786,-0.1593272089958191,-0.07609424740076065,-0.05628778412938118,0.024285966530442238,-0.14914171397686005,-0.03764882683753967,-0.014654086902737617,-0.0014548287726938725,-0.067995585501194],[0.18735280632972717,0.10437029600143433,0.04300149530172348,-0.021452771499753,0.07539774477481842,-0.26073020696640015,0.050968021154403687,-0.09013165533542633,-0.01255007367581129,-0.034168899059295654,-0.005049887113273144],[23.470369338989258,-0.25134286284446716,-0.12917344272136688,0.14941412210464478,0.05989541485905647,-0.22522898018360138,-0.3611983358860016,-0.20498299598693848,-0.17549331486225128,-0.23177775740623474,-0.1980065256357193],[5.85875129699707,-0.2104581892490387,0.12618230283260345,0.22482642531394958,0.18237937986850739,-0.09858638793230057,-0.17764829099178314,-0.05305785313248634,-0.21430303156375885,-0.1254345327615738,-0.03466671705245972],[-16.72722625732422,-0.13353614509105682,-0.43620947003364563,-0.2586809992790222,-0.3589684069156647,-0.03538333252072334,0.00352845317684114,0.08429836481809616,-0.08514638245105743,0.2981273829936981,-0.10831928998231888],[12.161348342895508,0.2074839323759079,0.5289261341094971,0.3532122075557709,0.4543592631816864,0.06328494846820831,-0.1526034027338028,-0.09423614293336868,-0.1483718752861023,-0.34898990392684937,0.030666682869195938],[2.064411163330078,0.25377920269966125,0.4088199734687805,0.4190893769264221,0.6090760827064514,-0.23105044662952423,-0.15409968793392181,-0.15959875285625458,-0.28256624937057495,0.08404259383678436,0.6964128017425537],[-2.1548967361450195,-0.0056199077516794205,-0.2553463876247406,-0.1520279198884964,-0.3129256069660187,0.11488186568021774,-0.038451917469501495,0.1935824304819107,0.007083934731781483,-0.39888331294059753,-0.7243204116821289],[-5.717101097106934,-0.1632382720708847,0.2888069748878479,-0.06065966188907623,0.10350456088781357,-0.41979753971099854,-0.44341641664505005,-0.2099047601222992,-0.2135971039533615,0.6811237335205078,0.5209346413612366],[6.356625556945801,0.5139718651771545,0.7440087795257568,0.15326710045337677,-0.41657668352127075,0.2760947346687317,0.44317299127578735,0.4699319899082184,0.40821075439453125,-0.22646503150463104,0.4785774052143097],[11.614984512329102,0.5209828615188599,0.5501487255096436,0.42421555519104004,0.07883627712726593,0.1303824782371521,0.6162236928939819,0.0721936821937561,0.019413594156503677,-0.3859124183654785,0.766333818435669],[4.872463703155518,0.43086469173431396,0.16848613321781158,0.8020157217979431,0.1766594499349594,0.23974104225635529,0.6092703342437744,0.04502585157752037,0.1670648753643036,-0.16372309625148773,0.3123728334903717],[-3.228698968887329,0.03501402586698532,-0.3963913321495056,0.3849388062953949,0.30760079622268677,0.5649335384368896,0.8411399722099304,-0.09913971275091171,0.14959244430065155,-0.3070368766784668,-0.29246705770492554],[-1.7535680532455444,-0.5321921110153198,0.26145699620246887,-0.4045196771621704,-0.3107745349407196,-0.5888007879257202,-0.7810682058334351,0.10647331178188324,-0.10522805899381638,0.2257244884967804,-0.41112014651298523],[7.8320207595825195,-0.013683677650988102,0.5267283916473389,0.08035247772932053,0.212664395570755,0.34132862091064453,0.3057720959186554,0.6785104870796204,0.4527241885662079,0.041296493262052536,-0.07521850615739822],[-1.3073129653930664,0.6813579797744751,0.5087125301361084,0.24614186584949493,-0.030210979282855988,-0.00047854200238361955,-0.29344359040260315,0.25675928592681885,0.1895674169063568,-0.5708629488945007,-0.3194023072719574],[-9.335840225219727,0.8365377187728882,-0.2336614578962326,0.6437455415725708,0.304311066865921,-0.29202601313591003,-1.1993907690048218,0.13450504839420319,-0.017882760614156723,-0.6637051105499268,-0.12836265563964844],[-0.2068636417388916,0.42119643092155457,-0.10705623030662537,0.7416792511940002,0.31326669454574585,-0.3614514470100403,-1.090259313583374,0.30679649114608765,0.33310171961784363,-0.6055691242218018,0.17507411539554596],[1.8224728107452393,0.6815730929374695,0.11288650333881378,0.6732039451599121,-0.4404210150241852,0.1072356179356575,-0.9035816788673401,0.0543653778731823,0.8348005414009094,-0.33791106939315796,1.02052903175354],[-12.254570960998535,-1.9271199703216553,-1.394516944885254,-1.0153816938400269,0.10372862964868546,-0.5900037288665771,0.6358373165130615,-0.3891911506652832,-1.2692426443099976,0.1641330122947693,-2.109539031982422],[-17.042085647583008,-2.318861246109009,-1.4493831396102905,-1.0098615884780884,-0.011132914572954178,-1.6822264194488525,0.28690603375434875,-0.6760064363479614,-2.0152015686035156,-0.5220475792884827,-2.4453535079956055],[-28.596731185913086,-2.539721965789795,-1.1876211166381836,-0.48151350021362305,0.4721975028514862,-1.474478006362915,0.7553648352622986,-0.7570942044258118,-0.864129364490509,-2.1363525390625,-2.4105823040008545],[-38.951324462890625,-3.1154212951660156,-1.6900115013122559,-0.7010065317153931,0.5466372966766357,-1.317636251449585,0.42757004499435425,-1.1523573398590088,-1.858325719833374,-3.4885687828063965,-3.6446011066436768],[-31.798603057861328,-3.6631953716278076,-2.386310577392578,-1.0838903188705444,-0.35711950063705444,-1.6425786018371582,0.23062899708747864,-2.100550651550293,-1.9738553762435913,-3.937729597091675,-5.062308311462402],[25.593080520629883,4.486544609069824,2.5768916606903076,0.9094392657279968,1.1769630908966064,2.8856499195098877,0.5889583230018616,2.061563491821289,2.229102611541748,4.309054374694824,5.860590934753418],[-28.949676513671875,-4.922211170196533,-2.6102969646453857,-0.30589595437049866,-1.034472107887268,-2.972439765930176,-0.4740965962409973,-1.683552861213684,-2.2120954990386963,-5.17417049407959,-6.724432945251465],[31.209741592407227,4.631700038909912,2.1416330337524414,-0.7440818548202515,0.8475229740142822,2.776970386505127,0.5985578298568726,0.40022987127304077,0.3737294673919678,4.183643341064453,7.473003387451172],[-34.25849914550781,-5.071702480316162,-2.751225233078003,0.2653680145740509,-0.9821465611457825,-3.0794661045074463,-0.583024799823761,-0.8052414655685425,-1.0877044200897217,-4.108863353729248,-8.457321166992188],[-47.07886505126953,-5.442872047424316,-2.928269147872925,-0.41326239705085754,-1.288094162940979,-2.6957437992095947,-0.31502971053123474,-0.10709382593631744,-0.35613998770713806,-3.2155137062072754,-9.551078796386719],[-45.61503982543945,-5.242952346801758,-4.652146816253662,-0.055418603122234344,-1.5447379350662231,-3.850552797317505,-0.45051372051239014,0.42798948287963867,0.6239207983016968,-3.9730324745178223,-11.037683486938477],[0.17738297581672668,-6.205224514007568,-5.207676410675049,-0.141744464635849,-2.1152281761169434,-7.235881805419922,-2.175562620162964,1.5029853582382202,0.47010156512260437,-5.209175109863281,-10.926718711853027]],\"type\":\"heatmap\"}],                        {\"height\":800,\"template\":{\"data\":{\"barpolar\":[{\"marker\":{\"line\":{\"color\":\"#E5ECF6\",\"width\":0.5},\"pattern\":{\"fillmode\":\"overlay\",\"size\":10,\"solidity\":0.2}},\"type\":\"barpolar\"}],\"bar\":[{\"error_x\":{\"color\":\"#2a3f5f\"},\"error_y\":{\"color\":\"#2a3f5f\"},\"marker\":{\"line\":{\"color\":\"#E5ECF6\",\"width\":0.5},\"pattern\":{\"fillmode\":\"overlay\",\"size\":10,\"solidity\":0.2}},\"type\":\"bar\"}],\"carpet\":[{\"aaxis\":{\"endlinecolor\":\"#2a3f5f\",\"gridcolor\":\"white\",\"linecolor\":\"white\",\"minorgridcolor\":\"white\",\"startlinecolor\":\"#2a3f5f\"},\"baxis\":{\"endlinecolor\":\"#2a3f5f\",\"gridcolor\":\"white\",\"linecolor\":\"white\",\"minorgridcolor\":\"white\",\"startlinecolor\":\"#2a3f5f\"},\"type\":\"carpet\"}],\"choropleth\":[{\"colorbar\":{\"outlinewidth\":0,\"ticks\":\"\"},\"type\":\"choropleth\"}],\"contourcarpet\":[{\"colorbar\":{\"outlinewidth\":0,\"ticks\":\"\"},\"type\":\"contourcarpet\"}],\"contour\":[{\"colorbar\":{\"outlinewidth\":0,\"ticks\":\"\"},\"colorscale\":[[0.0,\"#0d0887\"],[0.1111111111111111,\"#46039f\"],[0.2222222222222222,\"#7201a8\"],[0.3333333333333333,\"#9c179e\"],[0.4444444444444444,\"#bd3786\"],[0.5555555555555556,\"#d8576b\"],[0.6666666666666666,\"#ed7953\"],[0.7777777777777778,\"#fb9f3a\"],[0.8888888888888888,\"#fdca26\"],[1.0,\"#f0f921\"]],\"type\":\"contour\"}],\"heatmapgl\":[{\"colorbar\":{\"outlinewidth\":0,\"ticks\":\"\"},\"colorscale\":[[0.0,\"#0d0887\"],[0.1111111111111111,\"#46039f\"],[0.2222222222222222,\"#7201a8\"],[0.3333333333333333,\"#9c179e\"],[0.4444444444444444,\"#bd3786\"],[0.5555555555555556,\"#d8576b\"],[0.6666666666666666,\"#ed7953\"],[0.7777777777777778,\"#fb9f3a\"],[0.8888888888888888,\"#fdca26\"],[1.0,\"#f0f921\"]],\"type\":\"heatmapgl\"}],\"heatmap\":[{\"colorbar\":{\"outlinewidth\":0,\"ticks\":\"\"},\"colorscale\":[[0.0,\"#0d0887\"],[0.1111111111111111,\"#46039f\"],[0.2222222222222222,\"#7201a8\"],[0.3333333333333333,\"#9c179e\"],[0.4444444444444444,\"#bd3786\"],[0.5555555555555556,\"#d8576b\"],[0.6666666666666666,\"#ed7953\"],[0.7777777777777778,\"#fb9f3a\"],[0.8888888888888888,\"#fdca26\"],[1.0,\"#f0f921\"]],\"type\":\"heatmap\"}],\"histogram2dcontour\":[{\"colorbar\":{\"outlinewidth\":0,\"ticks\":\"\"},\"colorscale\":[[0.0,\"#0d0887\"],[0.1111111111111111,\"#46039f\"],[0.2222222222222222,\"#7201a8\"],[0.3333333333333333,\"#9c179e\"],[0.4444444444444444,\"#bd3786\"],[0.5555555555555556,\"#d8576b\"],[0.6666666666666666,\"#ed7953\"],[0.7777777777777778,\"#fb9f3a\"],[0.8888888888888888,\"#fdca26\"],[1.0,\"#f0f921\"]],\"type\":\"histogram2dcontour\"}],\"histogram2d\":[{\"colorbar\":{\"outlinewidth\":0,\"ticks\":\"\"},\"colorscale\":[[0.0,\"#0d0887\"],[0.1111111111111111,\"#46039f\"],[0.2222222222222222,\"#7201a8\"],[0.3333333333333333,\"#9c179e\"],[0.4444444444444444,\"#bd3786\"],[0.5555555555555556,\"#d8576b\"],[0.6666666666666666,\"#ed7953\"],[0.7777777777777778,\"#fb9f3a\"],[0.8888888888888888,\"#fdca26\"],[1.0,\"#f0f921\"]],\"type\":\"histogram2d\"}],\"histogram\":[{\"marker\":{\"pattern\":{\"fillmode\":\"overlay\",\"size\":10,\"solidity\":0.2}},\"type\":\"histogram\"}],\"mesh3d\":[{\"colorbar\":{\"outlinewidth\":0,\"ticks\":\"\"},\"type\":\"mesh3d\"}],\"parcoords\":[{\"line\":{\"colorbar\":{\"outlinewidth\":0,\"ticks\":\"\"}},\"type\":\"parcoords\"}],\"pie\":[{\"automargin\":true,\"type\":\"pie\"}],\"scatter3d\":[{\"line\":{\"colorbar\":{\"outlinewidth\":0,\"ticks\":\"\"}},\"marker\":{\"colorbar\":{\"outlinewidth\":0,\"ticks\":\"\"}},\"type\":\"scatter3d\"}],\"scattercarpet\":[{\"marker\":{\"colorbar\":{\"outlinewidth\":0,\"ticks\":\"\"}},\"type\":\"scattercarpet\"}],\"scattergeo\":[{\"marker\":{\"colorbar\":{\"outlinewidth\":0,\"ticks\":\"\"}},\"type\":\"scattergeo\"}],\"scattergl\":[{\"marker\":{\"colorbar\":{\"outlinewidth\":0,\"ticks\":\"\"}},\"type\":\"scattergl\"}],\"scattermapbox\":[{\"marker\":{\"colorbar\":{\"outlinewidth\":0,\"ticks\":\"\"}},\"type\":\"scattermapbox\"}],\"scatterpolargl\":[{\"marker\":{\"colorbar\":{\"outlinewidth\":0,\"ticks\":\"\"}},\"type\":\"scatterpolargl\"}],\"scatterpolar\":[{\"marker\":{\"colorbar\":{\"outlinewidth\":0,\"ticks\":\"\"}},\"type\":\"scatterpolar\"}],\"scatter\":[{\"fillpattern\":{\"fillmode\":\"overlay\",\"size\":10,\"solidity\":0.2},\"type\":\"scatter\"}],\"scatterternary\":[{\"marker\":{\"colorbar\":{\"outlinewidth\":0,\"ticks\":\"\"}},\"type\":\"scatterternary\"}],\"surface\":[{\"colorbar\":{\"outlinewidth\":0,\"ticks\":\"\"},\"colorscale\":[[0.0,\"#0d0887\"],[0.1111111111111111,\"#46039f\"],[0.2222222222222222,\"#7201a8\"],[0.3333333333333333,\"#9c179e\"],[0.4444444444444444,\"#bd3786\"],[0.5555555555555556,\"#d8576b\"],[0.6666666666666666,\"#ed7953\"],[0.7777777777777778,\"#fb9f3a\"],[0.8888888888888888,\"#fdca26\"],[1.0,\"#f0f921\"]],\"type\":\"surface\"}],\"table\":[{\"cells\":{\"fill\":{\"color\":\"#EBF0F8\"},\"line\":{\"color\":\"white\"}},\"header\":{\"fill\":{\"color\":\"#C8D4E3\"},\"line\":{\"color\":\"white\"}},\"type\":\"table\"}]},\"layout\":{\"annotationdefaults\":{\"arrowcolor\":\"#2a3f5f\",\"arrowhead\":0,\"arrowwidth\":1},\"autotypenumbers\":\"strict\",\"coloraxis\":{\"colorbar\":{\"outlinewidth\":0,\"ticks\":\"\"}},\"colorscale\":{\"diverging\":[[0,\"#8e0152\"],[0.1,\"#c51b7d\"],[0.2,\"#de77ae\"],[0.3,\"#f1b6da\"],[0.4,\"#fde0ef\"],[0.5,\"#f7f7f7\"],[0.6,\"#e6f5d0\"],[0.7,\"#b8e186\"],[0.8,\"#7fbc41\"],[0.9,\"#4d9221\"],[1,\"#276419\"]],\"sequential\":[[0.0,\"#0d0887\"],[0.1111111111111111,\"#46039f\"],[0.2222222222222222,\"#7201a8\"],[0.3333333333333333,\"#9c179e\"],[0.4444444444444444,\"#bd3786\"],[0.5555555555555556,\"#d8576b\"],[0.6666666666666666,\"#ed7953\"],[0.7777777777777778,\"#fb9f3a\"],[0.8888888888888888,\"#fdca26\"],[1.0,\"#f0f921\"]],\"sequentialminus\":[[0.0,\"#0d0887\"],[0.1111111111111111,\"#46039f\"],[0.2222222222222222,\"#7201a8\"],[0.3333333333333333,\"#9c179e\"],[0.4444444444444444,\"#bd3786\"],[0.5555555555555556,\"#d8576b\"],[0.6666666666666666,\"#ed7953\"],[0.7777777777777778,\"#fb9f3a\"],[0.8888888888888888,\"#fdca26\"],[1.0,\"#f0f921\"]]},\"colorway\":[\"#636efa\",\"#EF553B\",\"#00cc96\",\"#ab63fa\",\"#FFA15A\",\"#19d3f3\",\"#FF6692\",\"#B6E880\",\"#FF97FF\",\"#FECB52\"],\"font\":{\"color\":\"#2a3f5f\"},\"geo\":{\"bgcolor\":\"white\",\"lakecolor\":\"white\",\"landcolor\":\"#E5ECF6\",\"showlakes\":true,\"showland\":true,\"subunitcolor\":\"white\"},\"hoverlabel\":{\"align\":\"left\"},\"hovermode\":\"closest\",\"mapbox\":{\"style\":\"light\"},\"paper_bgcolor\":\"white\",\"plot_bgcolor\":\"#E5ECF6\",\"polar\":{\"angularaxis\":{\"gridcolor\":\"white\",\"linecolor\":\"white\",\"ticks\":\"\"},\"bgcolor\":\"#E5ECF6\",\"radialaxis\":{\"gridcolor\":\"white\",\"linecolor\":\"white\",\"ticks\":\"\"}},\"scene\":{\"xaxis\":{\"backgroundcolor\":\"#E5ECF6\",\"gridcolor\":\"white\",\"gridwidth\":2,\"linecolor\":\"white\",\"showbackground\":true,\"ticks\":\"\",\"zerolinecolor\":\"white\"},\"yaxis\":{\"backgroundcolor\":\"#E5ECF6\",\"gridcolor\":\"white\",\"gridwidth\":2,\"linecolor\":\"white\",\"showbackground\":true,\"ticks\":\"\",\"zerolinecolor\":\"white\"},\"zaxis\":{\"backgroundcolor\":\"#E5ECF6\",\"gridcolor\":\"white\",\"gridwidth\":2,\"linecolor\":\"white\",\"showbackground\":true,\"ticks\":\"\",\"zerolinecolor\":\"white\"}},\"shapedefaults\":{\"line\":{\"color\":\"#2a3f5f\"}},\"ternary\":{\"aaxis\":{\"gridcolor\":\"white\",\"linecolor\":\"white\",\"ticks\":\"\"},\"baxis\":{\"gridcolor\":\"white\",\"linecolor\":\"white\",\"ticks\":\"\"},\"bgcolor\":\"#E5ECF6\",\"caxis\":{\"gridcolor\":\"white\",\"linecolor\":\"white\",\"ticks\":\"\"}},\"title\":{\"x\":0.05},\"xaxis\":{\"automargin\":true,\"gridcolor\":\"white\",\"linecolor\":\"white\",\"ticks\":\"\",\"title\":{\"standoff\":15},\"zerolinecolor\":\"white\",\"zerolinewidth\":2},\"yaxis\":{\"automargin\":true,\"gridcolor\":\"white\",\"linecolor\":\"white\",\"ticks\":\"\",\"title\":{\"standoff\":15},\"zerolinecolor\":\"white\",\"zerolinewidth\":2}}},\"title\":{\"text\":\"Credences for Input Tokens\"},\"width\":800,\"xaxis\":{\"tickangle\":45,\"ticktext\":[\"<bos>\",\"\\u2581The\",\"\\u2581horse\",\"\\u2581rac\",\"ed\",\"\\u2581past\",\"\\u2581the\",\"\\u2581bar\",\"n\",\"\\u2581fell\",\".\"],\"tickvals\":[0,1,2,3,4,5,6,7,8,9,10]}},                        {\"responsive\": true}                    ).then(function(){\n",
       "                            \n",
       "var gd = document.getElementById('5922c75c-4e80-41bc-893a-fb7fede3c3ea');\n",
       "var x = new MutationObserver(function (mutations, observer) {{\n",
       "        var display = window.getComputedStyle(gd).display;\n",
       "        if (!display || display === 'none') {{\n",
       "            console.log([gd, 'removed!']);\n",
       "            Plotly.purge(gd);\n",
       "            observer.disconnect();\n",
       "        }}\n",
       "}});\n",
       "\n",
       "// Listen for the removal of the full notebook cells\n",
       "var notebookContainer = gd.closest('#notebook-container');\n",
       "if (notebookContainer) {{\n",
       "    x.observe(notebookContainer, {childList: true});\n",
       "}}\n",
       "\n",
       "// Listen for the clearing of the current output cell\n",
       "var outputEl = gd.closest('.output');\n",
       "if (outputEl) {{\n",
       "    x.observe(outputEl, {childList: true});\n",
       "}}\n",
       "\n",
       "                        })                };                });            </script>        </div>"
      ]
     },
     "metadata": {},
     "output_type": "display_data"
    }
   ],
   "source": [
    "import plotly.graph_objs as go\n",
    "import plotly.io as pio\n",
    "import torch\n",
    "from IPython.display import HTML\n",
    "from plotly.offline import init_notebook_mode, iplot\n",
    "init_notebook_mode(connected=True)\n",
    "\n",
    "# Create color scale for heatmap\n",
    "# white to red\n",
    "# color_scale = [[0, '#FFFFFF'], [1, '#FF0000']] # white to red\n",
    "# white to green\n",
    "# color_scale = [[0, '#FFFFFF'], [1, '#00FF00']] # white to green\n",
    "# red to green\n",
    "color_scale = [[0, '#FF0000'], [1, '#00FF00']] # red to green\n",
    "\n",
    "def display_credences(credences, input_tokens, display=\"words\"):\n",
    "\n",
    "    padded_text = np.array([[\" \" * 2 + \"{:.2f}\".format(value) + \" \" * 2 for value in row] for row in credences])\n",
    "    words_corresponding_to_credences = np.array([[\" \" * 2 + word + \" \" * 2 for word in input_tokens] for layer_num in range(len(credences))])\n",
    "\n",
    "    # Create plotly heatmap\n",
    "    heatmap = go.Heatmap(\n",
    "        z=credences, \n",
    "        colorscale=color_scale,\n",
    "        text=words_corresponding_to_credences if display == \"words\" else padded_text,  # Set the text to be equal to z\n",
    "        texttemplate=\"%{text}\", \n",
    "        textfont=dict(color='black', size=12),  # Set the text color and size\n",
    "    )\n",
    "\n",
    "    # Create plot layout\n",
    "    layout = go.Layout(title='Credences for Input Tokens',\n",
    "                    width=800,  # Set the width of the plot\n",
    "                    height=800,  # Set the height of the plot\n",
    "                    xaxis=dict(tickvals=list(range(len(input_tokens))),\n",
    "                                ticktext=input_tokens,\n",
    "                                tickangle=45))\n",
    "\n",
    "    # Create plotly figure\n",
    "    fig = go.Figure(data=[heatmap], layout=layout)\n",
    "    # fig = fig.update_traces(text=input_tokens, texttemplate=\"%{text}\", hovertemplate=None)\n",
    "\n",
    "    # Display plotly figure\n",
    "    iplot(fig)\n",
    "\n",
    "display_credences(*d[\"The horse raced past the barn fell.\"], display=\"words\")\n"
   ]
  },
  {
   "cell_type": "code",
   "execution_count": 32,
   "metadata": {},
   "outputs": [
    {
     "data": {
      "application/vnd.plotly.v1+json": {
       "config": {
        "linkText": "Export to plot.ly",
        "plotlyServerURL": "https://plot.ly",
        "showLink": false
       },
       "data": [
        {
         "colorscale": [
          [
           0,
           "#FF0000"
          ],
          [
           1,
           "#00FF00"
          ]
         ],
         "text": [
          [
           "  <bos>  ",
           "  ▁The  ",
           "  ▁horse  ",
           "  ▁rac  ",
           "  ed  ",
           "  ▁past  ",
           "  ▁the  ",
           "  ▁bar  ",
           "  n  ",
           "  ▁fell  ",
           "  .  "
          ],
          [
           "  <bos>  ",
           "  ▁The  ",
           "  ▁horse  ",
           "  ▁rac  ",
           "  ed  ",
           "  ▁past  ",
           "  ▁the  ",
           "  ▁bar  ",
           "  n  ",
           "  ▁fell  ",
           "  .  "
          ],
          [
           "  <bos>  ",
           "  ▁The  ",
           "  ▁horse  ",
           "  ▁rac  ",
           "  ed  ",
           "  ▁past  ",
           "  ▁the  ",
           "  ▁bar  ",
           "  n  ",
           "  ▁fell  ",
           "  .  "
          ],
          [
           "  <bos>  ",
           "  ▁The  ",
           "  ▁horse  ",
           "  ▁rac  ",
           "  ed  ",
           "  ▁past  ",
           "  ▁the  ",
           "  ▁bar  ",
           "  n  ",
           "  ▁fell  ",
           "  .  "
          ],
          [
           "  <bos>  ",
           "  ▁The  ",
           "  ▁horse  ",
           "  ▁rac  ",
           "  ed  ",
           "  ▁past  ",
           "  ▁the  ",
           "  ▁bar  ",
           "  n  ",
           "  ▁fell  ",
           "  .  "
          ],
          [
           "  <bos>  ",
           "  ▁The  ",
           "  ▁horse  ",
           "  ▁rac  ",
           "  ed  ",
           "  ▁past  ",
           "  ▁the  ",
           "  ▁bar  ",
           "  n  ",
           "  ▁fell  ",
           "  .  "
          ],
          [
           "  <bos>  ",
           "  ▁The  ",
           "  ▁horse  ",
           "  ▁rac  ",
           "  ed  ",
           "  ▁past  ",
           "  ▁the  ",
           "  ▁bar  ",
           "  n  ",
           "  ▁fell  ",
           "  .  "
          ],
          [
           "  <bos>  ",
           "  ▁The  ",
           "  ▁horse  ",
           "  ▁rac  ",
           "  ed  ",
           "  ▁past  ",
           "  ▁the  ",
           "  ▁bar  ",
           "  n  ",
           "  ▁fell  ",
           "  .  "
          ],
          [
           "  <bos>  ",
           "  ▁The  ",
           "  ▁horse  ",
           "  ▁rac  ",
           "  ed  ",
           "  ▁past  ",
           "  ▁the  ",
           "  ▁bar  ",
           "  n  ",
           "  ▁fell  ",
           "  .  "
          ],
          [
           "  <bos>  ",
           "  ▁The  ",
           "  ▁horse  ",
           "  ▁rac  ",
           "  ed  ",
           "  ▁past  ",
           "  ▁the  ",
           "  ▁bar  ",
           "  n  ",
           "  ▁fell  ",
           "  .  "
          ],
          [
           "  <bos>  ",
           "  ▁The  ",
           "  ▁horse  ",
           "  ▁rac  ",
           "  ed  ",
           "  ▁past  ",
           "  ▁the  ",
           "  ▁bar  ",
           "  n  ",
           "  ▁fell  ",
           "  .  "
          ],
          [
           "  <bos>  ",
           "  ▁The  ",
           "  ▁horse  ",
           "  ▁rac  ",
           "  ed  ",
           "  ▁past  ",
           "  ▁the  ",
           "  ▁bar  ",
           "  n  ",
           "  ▁fell  ",
           "  .  "
          ],
          [
           "  <bos>  ",
           "  ▁The  ",
           "  ▁horse  ",
           "  ▁rac  ",
           "  ed  ",
           "  ▁past  ",
           "  ▁the  ",
           "  ▁bar  ",
           "  n  ",
           "  ▁fell  ",
           "  .  "
          ],
          [
           "  <bos>  ",
           "  ▁The  ",
           "  ▁horse  ",
           "  ▁rac  ",
           "  ed  ",
           "  ▁past  ",
           "  ▁the  ",
           "  ▁bar  ",
           "  n  ",
           "  ▁fell  ",
           "  .  "
          ],
          [
           "  <bos>  ",
           "  ▁The  ",
           "  ▁horse  ",
           "  ▁rac  ",
           "  ed  ",
           "  ▁past  ",
           "  ▁the  ",
           "  ▁bar  ",
           "  n  ",
           "  ▁fell  ",
           "  .  "
          ],
          [
           "  <bos>  ",
           "  ▁The  ",
           "  ▁horse  ",
           "  ▁rac  ",
           "  ed  ",
           "  ▁past  ",
           "  ▁the  ",
           "  ▁bar  ",
           "  n  ",
           "  ▁fell  ",
           "  .  "
          ],
          [
           "  <bos>  ",
           "  ▁The  ",
           "  ▁horse  ",
           "  ▁rac  ",
           "  ed  ",
           "  ▁past  ",
           "  ▁the  ",
           "  ▁bar  ",
           "  n  ",
           "  ▁fell  ",
           "  .  "
          ],
          [
           "  <bos>  ",
           "  ▁The  ",
           "  ▁horse  ",
           "  ▁rac  ",
           "  ed  ",
           "  ▁past  ",
           "  ▁the  ",
           "  ▁bar  ",
           "  n  ",
           "  ▁fell  ",
           "  .  "
          ],
          [
           "  <bos>  ",
           "  ▁The  ",
           "  ▁horse  ",
           "  ▁rac  ",
           "  ed  ",
           "  ▁past  ",
           "  ▁the  ",
           "  ▁bar  ",
           "  n  ",
           "  ▁fell  ",
           "  .  "
          ],
          [
           "  <bos>  ",
           "  ▁The  ",
           "  ▁horse  ",
           "  ▁rac  ",
           "  ed  ",
           "  ▁past  ",
           "  ▁the  ",
           "  ▁bar  ",
           "  n  ",
           "  ▁fell  ",
           "  .  "
          ],
          [
           "  <bos>  ",
           "  ▁The  ",
           "  ▁horse  ",
           "  ▁rac  ",
           "  ed  ",
           "  ▁past  ",
           "  ▁the  ",
           "  ▁bar  ",
           "  n  ",
           "  ▁fell  ",
           "  .  "
          ],
          [
           "  <bos>  ",
           "  ▁The  ",
           "  ▁horse  ",
           "  ▁rac  ",
           "  ed  ",
           "  ▁past  ",
           "  ▁the  ",
           "  ▁bar  ",
           "  n  ",
           "  ▁fell  ",
           "  .  "
          ],
          [
           "  <bos>  ",
           "  ▁The  ",
           "  ▁horse  ",
           "  ▁rac  ",
           "  ed  ",
           "  ▁past  ",
           "  ▁the  ",
           "  ▁bar  ",
           "  n  ",
           "  ▁fell  ",
           "  .  "
          ],
          [
           "  <bos>  ",
           "  ▁The  ",
           "  ▁horse  ",
           "  ▁rac  ",
           "  ed  ",
           "  ▁past  ",
           "  ▁the  ",
           "  ▁bar  ",
           "  n  ",
           "  ▁fell  ",
           "  .  "
          ],
          [
           "  <bos>  ",
           "  ▁The  ",
           "  ▁horse  ",
           "  ▁rac  ",
           "  ed  ",
           "  ▁past  ",
           "  ▁the  ",
           "  ▁bar  ",
           "  n  ",
           "  ▁fell  ",
           "  .  "
          ],
          [
           "  <bos>  ",
           "  ▁The  ",
           "  ▁horse  ",
           "  ▁rac  ",
           "  ed  ",
           "  ▁past  ",
           "  ▁the  ",
           "  ▁bar  ",
           "  n  ",
           "  ▁fell  ",
           "  .  "
          ],
          [
           "  <bos>  ",
           "  ▁The  ",
           "  ▁horse  ",
           "  ▁rac  ",
           "  ed  ",
           "  ▁past  ",
           "  ▁the  ",
           "  ▁bar  ",
           "  n  ",
           "  ▁fell  ",
           "  .  "
          ],
          [
           "  <bos>  ",
           "  ▁The  ",
           "  ▁horse  ",
           "  ▁rac  ",
           "  ed  ",
           "  ▁past  ",
           "  ▁the  ",
           "  ▁bar  ",
           "  n  ",
           "  ▁fell  ",
           "  .  "
          ],
          [
           "  <bos>  ",
           "  ▁The  ",
           "  ▁horse  ",
           "  ▁rac  ",
           "  ed  ",
           "  ▁past  ",
           "  ▁the  ",
           "  ▁bar  ",
           "  n  ",
           "  ▁fell  ",
           "  .  "
          ],
          [
           "  <bos>  ",
           "  ▁The  ",
           "  ▁horse  ",
           "  ▁rac  ",
           "  ed  ",
           "  ▁past  ",
           "  ▁the  ",
           "  ▁bar  ",
           "  n  ",
           "  ▁fell  ",
           "  .  "
          ],
          [
           "  <bos>  ",
           "  ▁The  ",
           "  ▁horse  ",
           "  ▁rac  ",
           "  ed  ",
           "  ▁past  ",
           "  ▁the  ",
           "  ▁bar  ",
           "  n  ",
           "  ▁fell  ",
           "  .  "
          ],
          [
           "  <bos>  ",
           "  ▁The  ",
           "  ▁horse  ",
           "  ▁rac  ",
           "  ed  ",
           "  ▁past  ",
           "  ▁the  ",
           "  ▁bar  ",
           "  n  ",
           "  ▁fell  ",
           "  .  "
          ]
         ],
         "textfont": {
          "color": "black",
          "size": 12
         },
         "texttemplate": "%{text}",
         "type": "heatmap",
         "z": [
          [
           0.008845187723636627,
           0.04584826901555061,
           0.004760458134114742,
           0.0034205294214189053,
           0.009135046042501926,
           -0.004893279634416103,
           0.13169172406196594,
           0.020982462912797928,
           -0.004099480342119932,
           -0.013356593437492847,
           -0.03249766677618027
          ],
          [
           -0.15358802676200867,
           -0.2143976390361786,
           -0.1593272089958191,
           -0.07609424740076065,
           -0.05628778412938118,
           0.024285966530442238,
           -0.14914171397686005,
           -0.03764882683753967,
           -0.014654086902737617,
           -0.0014548287726938725,
           -0.067995585501194
          ],
          [
           0.18735280632972717,
           0.10437029600143433,
           0.04300149530172348,
           -0.021452771499753,
           0.07539774477481842,
           -0.26073020696640015,
           0.050968021154403687,
           -0.09013165533542633,
           -0.01255007367581129,
           -0.034168899059295654,
           -0.005049887113273144
          ],
          [
           23.470369338989258,
           -0.25134286284446716,
           -0.12917344272136688,
           0.14941412210464478,
           0.05989541485905647,
           -0.22522898018360138,
           -0.3611983358860016,
           -0.20498299598693848,
           -0.17549331486225128,
           -0.23177775740623474,
           -0.1980065256357193
          ],
          [
           5.85875129699707,
           -0.2104581892490387,
           0.12618230283260345,
           0.22482642531394958,
           0.18237937986850739,
           -0.09858638793230057,
           -0.17764829099178314,
           -0.05305785313248634,
           -0.21430303156375885,
           -0.1254345327615738,
           -0.03466671705245972
          ],
          [
           -16.72722625732422,
           -0.13353614509105682,
           -0.43620947003364563,
           -0.2586809992790222,
           -0.3589684069156647,
           -0.03538333252072334,
           0.00352845317684114,
           0.08429836481809616,
           -0.08514638245105743,
           0.2981273829936981,
           -0.10831928998231888
          ],
          [
           12.161348342895508,
           0.2074839323759079,
           0.5289261341094971,
           0.3532122075557709,
           0.4543592631816864,
           0.06328494846820831,
           -0.1526034027338028,
           -0.09423614293336868,
           -0.1483718752861023,
           -0.34898990392684937,
           0.030666682869195938
          ],
          [
           2.064411163330078,
           0.25377920269966125,
           0.4088199734687805,
           0.4190893769264221,
           0.6090760827064514,
           -0.23105044662952423,
           -0.15409968793392181,
           -0.15959875285625458,
           -0.28256624937057495,
           0.08404259383678436,
           0.6964128017425537
          ],
          [
           -2.1548967361450195,
           -0.0056199077516794205,
           -0.2553463876247406,
           -0.1520279198884964,
           -0.3129256069660187,
           0.11488186568021774,
           -0.038451917469501495,
           0.1935824304819107,
           0.007083934731781483,
           -0.39888331294059753,
           -0.7243204116821289
          ],
          [
           -5.717101097106934,
           -0.1632382720708847,
           0.2888069748878479,
           -0.06065966188907623,
           0.10350456088781357,
           -0.41979753971099854,
           -0.44341641664505005,
           -0.2099047601222992,
           -0.2135971039533615,
           0.6811237335205078,
           0.5209346413612366
          ],
          [
           6.356625556945801,
           0.5139718651771545,
           0.7440087795257568,
           0.15326710045337677,
           -0.41657668352127075,
           0.2760947346687317,
           0.44317299127578735,
           0.4699319899082184,
           0.40821075439453125,
           -0.22646503150463104,
           0.4785774052143097
          ],
          [
           11.614984512329102,
           0.5209828615188599,
           0.5501487255096436,
           0.42421555519104004,
           0.07883627712726593,
           0.1303824782371521,
           0.6162236928939819,
           0.0721936821937561,
           0.019413594156503677,
           -0.3859124183654785,
           0.766333818435669
          ],
          [
           4.872463703155518,
           0.43086469173431396,
           0.16848613321781158,
           0.8020157217979431,
           0.1766594499349594,
           0.23974104225635529,
           0.6092703342437744,
           0.04502585157752037,
           0.1670648753643036,
           -0.16372309625148773,
           0.3123728334903717
          ],
          [
           -3.228698968887329,
           0.03501402586698532,
           -0.3963913321495056,
           0.3849388062953949,
           0.30760079622268677,
           0.5649335384368896,
           0.8411399722099304,
           -0.09913971275091171,
           0.14959244430065155,
           -0.3070368766784668,
           -0.29246705770492554
          ],
          [
           -1.7535680532455444,
           -0.5321921110153198,
           0.26145699620246887,
           -0.4045196771621704,
           -0.3107745349407196,
           -0.5888007879257202,
           -0.7810682058334351,
           0.10647331178188324,
           -0.10522805899381638,
           0.2257244884967804,
           -0.41112014651298523
          ],
          [
           7.8320207595825195,
           -0.013683677650988102,
           0.5267283916473389,
           0.08035247772932053,
           0.212664395570755,
           0.34132862091064453,
           0.3057720959186554,
           0.6785104870796204,
           0.4527241885662079,
           0.041296493262052536,
           -0.07521850615739822
          ],
          [
           -1.3073129653930664,
           0.6813579797744751,
           0.5087125301361084,
           0.24614186584949493,
           -0.030210979282855988,
           -0.00047854200238361955,
           -0.29344359040260315,
           0.25675928592681885,
           0.1895674169063568,
           -0.5708629488945007,
           -0.3194023072719574
          ],
          [
           -9.335840225219727,
           0.8365377187728882,
           -0.2336614578962326,
           0.6437455415725708,
           0.304311066865921,
           -0.29202601313591003,
           -1.1993907690048218,
           0.13450504839420319,
           -0.017882760614156723,
           -0.6637051105499268,
           -0.12836265563964844
          ],
          [
           -0.2068636417388916,
           0.42119643092155457,
           -0.10705623030662537,
           0.7416792511940002,
           0.31326669454574585,
           -0.3614514470100403,
           -1.090259313583374,
           0.30679649114608765,
           0.33310171961784363,
           -0.6055691242218018,
           0.17507411539554596
          ],
          [
           1.8224728107452393,
           0.6815730929374695,
           0.11288650333881378,
           0.6732039451599121,
           -0.4404210150241852,
           0.1072356179356575,
           -0.9035816788673401,
           0.0543653778731823,
           0.8348005414009094,
           -0.33791106939315796,
           1.02052903175354
          ],
          [
           -12.254570960998535,
           -1.9271199703216553,
           -1.394516944885254,
           -1.0153816938400269,
           0.10372862964868546,
           -0.5900037288665771,
           0.6358373165130615,
           -0.3891911506652832,
           -1.2692426443099976,
           0.1641330122947693,
           -2.109539031982422
          ],
          [
           -17.042085647583008,
           -2.318861246109009,
           -1.4493831396102905,
           -1.0098615884780884,
           -0.011132914572954178,
           -1.6822264194488525,
           0.28690603375434875,
           -0.6760064363479614,
           -2.0152015686035156,
           -0.5220475792884827,
           -2.4453535079956055
          ],
          [
           -28.596731185913086,
           -2.539721965789795,
           -1.1876211166381836,
           -0.48151350021362305,
           0.4721975028514862,
           -1.474478006362915,
           0.7553648352622986,
           -0.7570942044258118,
           -0.864129364490509,
           -2.1363525390625,
           -2.4105823040008545
          ],
          [
           -38.951324462890625,
           -3.1154212951660156,
           -1.6900115013122559,
           -0.7010065317153931,
           0.5466372966766357,
           -1.317636251449585,
           0.42757004499435425,
           -1.1523573398590088,
           -1.858325719833374,
           -3.4885687828063965,
           -3.6446011066436768
          ],
          [
           -31.798603057861328,
           -3.6631953716278076,
           -2.386310577392578,
           -1.0838903188705444,
           -0.35711950063705444,
           -1.6425786018371582,
           0.23062899708747864,
           -2.100550651550293,
           -1.9738553762435913,
           -3.937729597091675,
           -5.062308311462402
          ],
          [
           25.593080520629883,
           4.486544609069824,
           2.5768916606903076,
           0.9094392657279968,
           1.1769630908966064,
           2.8856499195098877,
           0.5889583230018616,
           2.061563491821289,
           2.229102611541748,
           4.309054374694824,
           5.860590934753418
          ],
          [
           -28.949676513671875,
           -4.922211170196533,
           -2.6102969646453857,
           -0.30589595437049866,
           -1.034472107887268,
           -2.972439765930176,
           -0.4740965962409973,
           -1.683552861213684,
           -2.2120954990386963,
           -5.17417049407959,
           -6.724432945251465
          ],
          [
           31.209741592407227,
           4.631700038909912,
           2.1416330337524414,
           -0.7440818548202515,
           0.8475229740142822,
           2.776970386505127,
           0.5985578298568726,
           0.40022987127304077,
           0.3737294673919678,
           4.183643341064453,
           7.473003387451172
          ],
          [
           -34.25849914550781,
           -5.071702480316162,
           -2.751225233078003,
           0.2653680145740509,
           -0.9821465611457825,
           -3.0794661045074463,
           -0.583024799823761,
           -0.8052414655685425,
           -1.0877044200897217,
           -4.108863353729248,
           -8.457321166992188
          ],
          [
           -47.07886505126953,
           -5.442872047424316,
           -2.928269147872925,
           -0.41326239705085754,
           -1.288094162940979,
           -2.6957437992095947,
           -0.31502971053123474,
           -0.10709382593631744,
           -0.35613998770713806,
           -3.2155137062072754,
           -9.551078796386719
          ],
          [
           -45.61503982543945,
           -5.242952346801758,
           -4.652146816253662,
           -0.055418603122234344,
           -1.5447379350662231,
           -3.850552797317505,
           -0.45051372051239014,
           0.42798948287963867,
           0.6239207983016968,
           -3.9730324745178223,
           -11.037683486938477
          ],
          [
           0.17738297581672668,
           -6.205224514007568,
           -5.207676410675049,
           -0.141744464635849,
           -2.1152281761169434,
           -7.235881805419922,
           -2.175562620162964,
           1.5029853582382202,
           0.47010156512260437,
           -5.209175109863281,
           -10.926718711853027
          ]
         ]
        }
       ],
       "layout": {
        "height": 800,
        "sliders": [
         {
          "active": 0,
          "currentvalue": {
           "prefix": "Step: "
          },
          "len": 0.9,
          "pad": {
           "t": 50
          },
          "steps": [
           {
            "args": [
             {
              "visible": [
               true,
               true,
               true,
               true,
               true,
               true,
               true,
               true,
               true,
               true,
               true
              ]
             },
             {
              "annotations": [],
              "title": "Credences for Input Tokens",
              "xaxis": {
               "tickangle": 45,
               "ticktext": [
                "<bos>",
                "▁The",
                "▁horse",
                "▁rac",
                "ed",
                "▁past",
                "▁the",
                "▁bar",
                "n",
                "▁fell",
                "."
               ],
               "tickvals": [
                0,
                1,
                2,
                3,
                4,
                5,
                6,
                7,
                8,
                9,
                10
               ]
              }
             }
            ],
            "method": "update"
           }
          ],
          "visible": true
         }
        ],
        "template": {
         "data": {
          "bar": [
           {
            "error_x": {
             "color": "#2a3f5f"
            },
            "error_y": {
             "color": "#2a3f5f"
            },
            "marker": {
             "line": {
              "color": "#E5ECF6",
              "width": 0.5
             },
             "pattern": {
              "fillmode": "overlay",
              "size": 10,
              "solidity": 0.2
             }
            },
            "type": "bar"
           }
          ],
          "barpolar": [
           {
            "marker": {
             "line": {
              "color": "#E5ECF6",
              "width": 0.5
             },
             "pattern": {
              "fillmode": "overlay",
              "size": 10,
              "solidity": 0.2
             }
            },
            "type": "barpolar"
           }
          ],
          "carpet": [
           {
            "aaxis": {
             "endlinecolor": "#2a3f5f",
             "gridcolor": "white",
             "linecolor": "white",
             "minorgridcolor": "white",
             "startlinecolor": "#2a3f5f"
            },
            "baxis": {
             "endlinecolor": "#2a3f5f",
             "gridcolor": "white",
             "linecolor": "white",
             "minorgridcolor": "white",
             "startlinecolor": "#2a3f5f"
            },
            "type": "carpet"
           }
          ],
          "choropleth": [
           {
            "colorbar": {
             "outlinewidth": 0,
             "ticks": ""
            },
            "type": "choropleth"
           }
          ],
          "contour": [
           {
            "colorbar": {
             "outlinewidth": 0,
             "ticks": ""
            },
            "colorscale": [
             [
              0,
              "#0d0887"
             ],
             [
              0.1111111111111111,
              "#46039f"
             ],
             [
              0.2222222222222222,
              "#7201a8"
             ],
             [
              0.3333333333333333,
              "#9c179e"
             ],
             [
              0.4444444444444444,
              "#bd3786"
             ],
             [
              0.5555555555555556,
              "#d8576b"
             ],
             [
              0.6666666666666666,
              "#ed7953"
             ],
             [
              0.7777777777777778,
              "#fb9f3a"
             ],
             [
              0.8888888888888888,
              "#fdca26"
             ],
             [
              1,
              "#f0f921"
             ]
            ],
            "type": "contour"
           }
          ],
          "contourcarpet": [
           {
            "colorbar": {
             "outlinewidth": 0,
             "ticks": ""
            },
            "type": "contourcarpet"
           }
          ],
          "heatmap": [
           {
            "colorbar": {
             "outlinewidth": 0,
             "ticks": ""
            },
            "colorscale": [
             [
              0,
              "#0d0887"
             ],
             [
              0.1111111111111111,
              "#46039f"
             ],
             [
              0.2222222222222222,
              "#7201a8"
             ],
             [
              0.3333333333333333,
              "#9c179e"
             ],
             [
              0.4444444444444444,
              "#bd3786"
             ],
             [
              0.5555555555555556,
              "#d8576b"
             ],
             [
              0.6666666666666666,
              "#ed7953"
             ],
             [
              0.7777777777777778,
              "#fb9f3a"
             ],
             [
              0.8888888888888888,
              "#fdca26"
             ],
             [
              1,
              "#f0f921"
             ]
            ],
            "type": "heatmap"
           }
          ],
          "heatmapgl": [
           {
            "colorbar": {
             "outlinewidth": 0,
             "ticks": ""
            },
            "colorscale": [
             [
              0,
              "#0d0887"
             ],
             [
              0.1111111111111111,
              "#46039f"
             ],
             [
              0.2222222222222222,
              "#7201a8"
             ],
             [
              0.3333333333333333,
              "#9c179e"
             ],
             [
              0.4444444444444444,
              "#bd3786"
             ],
             [
              0.5555555555555556,
              "#d8576b"
             ],
             [
              0.6666666666666666,
              "#ed7953"
             ],
             [
              0.7777777777777778,
              "#fb9f3a"
             ],
             [
              0.8888888888888888,
              "#fdca26"
             ],
             [
              1,
              "#f0f921"
             ]
            ],
            "type": "heatmapgl"
           }
          ],
          "histogram": [
           {
            "marker": {
             "pattern": {
              "fillmode": "overlay",
              "size": 10,
              "solidity": 0.2
             }
            },
            "type": "histogram"
           }
          ],
          "histogram2d": [
           {
            "colorbar": {
             "outlinewidth": 0,
             "ticks": ""
            },
            "colorscale": [
             [
              0,
              "#0d0887"
             ],
             [
              0.1111111111111111,
              "#46039f"
             ],
             [
              0.2222222222222222,
              "#7201a8"
             ],
             [
              0.3333333333333333,
              "#9c179e"
             ],
             [
              0.4444444444444444,
              "#bd3786"
             ],
             [
              0.5555555555555556,
              "#d8576b"
             ],
             [
              0.6666666666666666,
              "#ed7953"
             ],
             [
              0.7777777777777778,
              "#fb9f3a"
             ],
             [
              0.8888888888888888,
              "#fdca26"
             ],
             [
              1,
              "#f0f921"
             ]
            ],
            "type": "histogram2d"
           }
          ],
          "histogram2dcontour": [
           {
            "colorbar": {
             "outlinewidth": 0,
             "ticks": ""
            },
            "colorscale": [
             [
              0,
              "#0d0887"
             ],
             [
              0.1111111111111111,
              "#46039f"
             ],
             [
              0.2222222222222222,
              "#7201a8"
             ],
             [
              0.3333333333333333,
              "#9c179e"
             ],
             [
              0.4444444444444444,
              "#bd3786"
             ],
             [
              0.5555555555555556,
              "#d8576b"
             ],
             [
              0.6666666666666666,
              "#ed7953"
             ],
             [
              0.7777777777777778,
              "#fb9f3a"
             ],
             [
              0.8888888888888888,
              "#fdca26"
             ],
             [
              1,
              "#f0f921"
             ]
            ],
            "type": "histogram2dcontour"
           }
          ],
          "mesh3d": [
           {
            "colorbar": {
             "outlinewidth": 0,
             "ticks": ""
            },
            "type": "mesh3d"
           }
          ],
          "parcoords": [
           {
            "line": {
             "colorbar": {
              "outlinewidth": 0,
              "ticks": ""
             }
            },
            "type": "parcoords"
           }
          ],
          "pie": [
           {
            "automargin": true,
            "type": "pie"
           }
          ],
          "scatter": [
           {
            "fillpattern": {
             "fillmode": "overlay",
             "size": 10,
             "solidity": 0.2
            },
            "type": "scatter"
           }
          ],
          "scatter3d": [
           {
            "line": {
             "colorbar": {
              "outlinewidth": 0,
              "ticks": ""
             }
            },
            "marker": {
             "colorbar": {
              "outlinewidth": 0,
              "ticks": ""
             }
            },
            "type": "scatter3d"
           }
          ],
          "scattercarpet": [
           {
            "marker": {
             "colorbar": {
              "outlinewidth": 0,
              "ticks": ""
             }
            },
            "type": "scattercarpet"
           }
          ],
          "scattergeo": [
           {
            "marker": {
             "colorbar": {
              "outlinewidth": 0,
              "ticks": ""
             }
            },
            "type": "scattergeo"
           }
          ],
          "scattergl": [
           {
            "marker": {
             "colorbar": {
              "outlinewidth": 0,
              "ticks": ""
             }
            },
            "type": "scattergl"
           }
          ],
          "scattermapbox": [
           {
            "marker": {
             "colorbar": {
              "outlinewidth": 0,
              "ticks": ""
             }
            },
            "type": "scattermapbox"
           }
          ],
          "scatterpolar": [
           {
            "marker": {
             "colorbar": {
              "outlinewidth": 0,
              "ticks": ""
             }
            },
            "type": "scatterpolar"
           }
          ],
          "scatterpolargl": [
           {
            "marker": {
             "colorbar": {
              "outlinewidth": 0,
              "ticks": ""
             }
            },
            "type": "scatterpolargl"
           }
          ],
          "scatterternary": [
           {
            "marker": {
             "colorbar": {
              "outlinewidth": 0,
              "ticks": ""
             }
            },
            "type": "scatterternary"
           }
          ],
          "surface": [
           {
            "colorbar": {
             "outlinewidth": 0,
             "ticks": ""
            },
            "colorscale": [
             [
              0,
              "#0d0887"
             ],
             [
              0.1111111111111111,
              "#46039f"
             ],
             [
              0.2222222222222222,
              "#7201a8"
             ],
             [
              0.3333333333333333,
              "#9c179e"
             ],
             [
              0.4444444444444444,
              "#bd3786"
             ],
             [
              0.5555555555555556,
              "#d8576b"
             ],
             [
              0.6666666666666666,
              "#ed7953"
             ],
             [
              0.7777777777777778,
              "#fb9f3a"
             ],
             [
              0.8888888888888888,
              "#fdca26"
             ],
             [
              1,
              "#f0f921"
             ]
            ],
            "type": "surface"
           }
          ],
          "table": [
           {
            "cells": {
             "fill": {
              "color": "#EBF0F8"
             },
             "line": {
              "color": "white"
             }
            },
            "header": {
             "fill": {
              "color": "#C8D4E3"
             },
             "line": {
              "color": "white"
             }
            },
            "type": "table"
           }
          ]
         },
         "layout": {
          "annotationdefaults": {
           "arrowcolor": "#2a3f5f",
           "arrowhead": 0,
           "arrowwidth": 1
          },
          "autotypenumbers": "strict",
          "coloraxis": {
           "colorbar": {
            "outlinewidth": 0,
            "ticks": ""
           }
          },
          "colorscale": {
           "diverging": [
            [
             0,
             "#8e0152"
            ],
            [
             0.1,
             "#c51b7d"
            ],
            [
             0.2,
             "#de77ae"
            ],
            [
             0.3,
             "#f1b6da"
            ],
            [
             0.4,
             "#fde0ef"
            ],
            [
             0.5,
             "#f7f7f7"
            ],
            [
             0.6,
             "#e6f5d0"
            ],
            [
             0.7,
             "#b8e186"
            ],
            [
             0.8,
             "#7fbc41"
            ],
            [
             0.9,
             "#4d9221"
            ],
            [
             1,
             "#276419"
            ]
           ],
           "sequential": [
            [
             0,
             "#0d0887"
            ],
            [
             0.1111111111111111,
             "#46039f"
            ],
            [
             0.2222222222222222,
             "#7201a8"
            ],
            [
             0.3333333333333333,
             "#9c179e"
            ],
            [
             0.4444444444444444,
             "#bd3786"
            ],
            [
             0.5555555555555556,
             "#d8576b"
            ],
            [
             0.6666666666666666,
             "#ed7953"
            ],
            [
             0.7777777777777778,
             "#fb9f3a"
            ],
            [
             0.8888888888888888,
             "#fdca26"
            ],
            [
             1,
             "#f0f921"
            ]
           ],
           "sequentialminus": [
            [
             0,
             "#0d0887"
            ],
            [
             0.1111111111111111,
             "#46039f"
            ],
            [
             0.2222222222222222,
             "#7201a8"
            ],
            [
             0.3333333333333333,
             "#9c179e"
            ],
            [
             0.4444444444444444,
             "#bd3786"
            ],
            [
             0.5555555555555556,
             "#d8576b"
            ],
            [
             0.6666666666666666,
             "#ed7953"
            ],
            [
             0.7777777777777778,
             "#fb9f3a"
            ],
            [
             0.8888888888888888,
             "#fdca26"
            ],
            [
             1,
             "#f0f921"
            ]
           ]
          },
          "colorway": [
           "#636efa",
           "#EF553B",
           "#00cc96",
           "#ab63fa",
           "#FFA15A",
           "#19d3f3",
           "#FF6692",
           "#B6E880",
           "#FF97FF",
           "#FECB52"
          ],
          "font": {
           "color": "#2a3f5f"
          },
          "geo": {
           "bgcolor": "white",
           "lakecolor": "white",
           "landcolor": "#E5ECF6",
           "showlakes": true,
           "showland": true,
           "subunitcolor": "white"
          },
          "hoverlabel": {
           "align": "left"
          },
          "hovermode": "closest",
          "mapbox": {
           "style": "light"
          },
          "paper_bgcolor": "white",
          "plot_bgcolor": "#E5ECF6",
          "polar": {
           "angularaxis": {
            "gridcolor": "white",
            "linecolor": "white",
            "ticks": ""
           },
           "bgcolor": "#E5ECF6",
           "radialaxis": {
            "gridcolor": "white",
            "linecolor": "white",
            "ticks": ""
           }
          },
          "scene": {
           "xaxis": {
            "backgroundcolor": "#E5ECF6",
            "gridcolor": "white",
            "gridwidth": 2,
            "linecolor": "white",
            "showbackground": true,
            "ticks": "",
            "zerolinecolor": "white"
           },
           "yaxis": {
            "backgroundcolor": "#E5ECF6",
            "gridcolor": "white",
            "gridwidth": 2,
            "linecolor": "white",
            "showbackground": true,
            "ticks": "",
            "zerolinecolor": "white"
           },
           "zaxis": {
            "backgroundcolor": "#E5ECF6",
            "gridcolor": "white",
            "gridwidth": 2,
            "linecolor": "white",
            "showbackground": true,
            "ticks": "",
            "zerolinecolor": "white"
           }
          },
          "shapedefaults": {
           "line": {
            "color": "#2a3f5f"
           }
          },
          "ternary": {
           "aaxis": {
            "gridcolor": "white",
            "linecolor": "white",
            "ticks": ""
           },
           "baxis": {
            "gridcolor": "white",
            "linecolor": "white",
            "ticks": ""
           },
           "bgcolor": "#E5ECF6",
           "caxis": {
            "gridcolor": "white",
            "linecolor": "white",
            "ticks": ""
           }
          },
          "title": {
           "x": 0.05
          },
          "xaxis": {
           "automargin": true,
           "gridcolor": "white",
           "linecolor": "white",
           "ticks": "",
           "title": {
            "standoff": 15
           },
           "zerolinecolor": "white",
           "zerolinewidth": 2
          },
          "yaxis": {
           "automargin": true,
           "gridcolor": "white",
           "linecolor": "white",
           "ticks": "",
           "title": {
            "standoff": 15
           },
           "zerolinecolor": "white",
           "zerolinewidth": 2
          }
         }
        },
        "title": {
         "text": "Credences for Input Tokens"
        },
        "width": 800,
        "xaxis": {
         "tickangle": 45,
         "ticktext": [
          "<bos>",
          "▁The",
          "▁horse",
          "▁rac",
          "ed",
          "▁past",
          "▁the",
          "▁bar",
          "n",
          "▁fell",
          "."
         ],
         "tickvals": [
          0,
          1,
          2,
          3,
          4,
          5,
          6,
          7,
          8,
          9,
          10
         ]
        }
       }
      },
      "text/html": [
       "<div>                            <div id=\"6d3923ff-1faf-4739-9569-f45d1deb16b2\" class=\"plotly-graph-div\" style=\"height:800px; width:800px;\"></div>            <script type=\"text/javascript\">                require([\"plotly\"], function(Plotly) {                    window.PLOTLYENV=window.PLOTLYENV || {};                                    if (document.getElementById(\"6d3923ff-1faf-4739-9569-f45d1deb16b2\")) {                    Plotly.newPlot(                        \"6d3923ff-1faf-4739-9569-f45d1deb16b2\",                        [{\"colorscale\":[[0,\"#FF0000\"],[1,\"#00FF00\"]],\"text\":[[\"  <bos>  \",\"  \\u2581The  \",\"  \\u2581horse  \",\"  \\u2581rac  \",\"  ed  \",\"  \\u2581past  \",\"  \\u2581the  \",\"  \\u2581bar  \",\"  n  \",\"  \\u2581fell  \",\"  .  \"],[\"  <bos>  \",\"  \\u2581The  \",\"  \\u2581horse  \",\"  \\u2581rac  \",\"  ed  \",\"  \\u2581past  \",\"  \\u2581the  \",\"  \\u2581bar  \",\"  n  \",\"  \\u2581fell  \",\"  .  \"],[\"  <bos>  \",\"  \\u2581The  \",\"  \\u2581horse  \",\"  \\u2581rac  \",\"  ed  \",\"  \\u2581past  \",\"  \\u2581the  \",\"  \\u2581bar  \",\"  n  \",\"  \\u2581fell  \",\"  .  \"],[\"  <bos>  \",\"  \\u2581The  \",\"  \\u2581horse  \",\"  \\u2581rac  \",\"  ed  \",\"  \\u2581past  \",\"  \\u2581the  \",\"  \\u2581bar  \",\"  n  \",\"  \\u2581fell  \",\"  .  \"],[\"  <bos>  \",\"  \\u2581The  \",\"  \\u2581horse  \",\"  \\u2581rac  \",\"  ed  \",\"  \\u2581past  \",\"  \\u2581the  \",\"  \\u2581bar  \",\"  n  \",\"  \\u2581fell  \",\"  .  \"],[\"  <bos>  \",\"  \\u2581The  \",\"  \\u2581horse  \",\"  \\u2581rac  \",\"  ed  \",\"  \\u2581past  \",\"  \\u2581the  \",\"  \\u2581bar  \",\"  n  \",\"  \\u2581fell  \",\"  .  \"],[\"  <bos>  \",\"  \\u2581The  \",\"  \\u2581horse  \",\"  \\u2581rac  \",\"  ed  \",\"  \\u2581past  \",\"  \\u2581the  \",\"  \\u2581bar  \",\"  n  \",\"  \\u2581fell  \",\"  .  \"],[\"  <bos>  \",\"  \\u2581The  \",\"  \\u2581horse  \",\"  \\u2581rac  \",\"  ed  \",\"  \\u2581past  \",\"  \\u2581the  \",\"  \\u2581bar  \",\"  n  \",\"  \\u2581fell  \",\"  .  \"],[\"  <bos>  \",\"  \\u2581The  \",\"  \\u2581horse  \",\"  \\u2581rac  \",\"  ed  \",\"  \\u2581past  \",\"  \\u2581the  \",\"  \\u2581bar  \",\"  n  \",\"  \\u2581fell  \",\"  .  \"],[\"  <bos>  \",\"  \\u2581The  \",\"  \\u2581horse  \",\"  \\u2581rac  \",\"  ed  \",\"  \\u2581past  \",\"  \\u2581the  \",\"  \\u2581bar  \",\"  n  \",\"  \\u2581fell  \",\"  .  \"],[\"  <bos>  \",\"  \\u2581The  \",\"  \\u2581horse  \",\"  \\u2581rac  \",\"  ed  \",\"  \\u2581past  \",\"  \\u2581the  \",\"  \\u2581bar  \",\"  n  \",\"  \\u2581fell  \",\"  .  \"],[\"  <bos>  \",\"  \\u2581The  \",\"  \\u2581horse  \",\"  \\u2581rac  \",\"  ed  \",\"  \\u2581past  \",\"  \\u2581the  \",\"  \\u2581bar  \",\"  n  \",\"  \\u2581fell  \",\"  .  \"],[\"  <bos>  \",\"  \\u2581The  \",\"  \\u2581horse  \",\"  \\u2581rac  \",\"  ed  \",\"  \\u2581past  \",\"  \\u2581the  \",\"  \\u2581bar  \",\"  n  \",\"  \\u2581fell  \",\"  .  \"],[\"  <bos>  \",\"  \\u2581The  \",\"  \\u2581horse  \",\"  \\u2581rac  \",\"  ed  \",\"  \\u2581past  \",\"  \\u2581the  \",\"  \\u2581bar  \",\"  n  \",\"  \\u2581fell  \",\"  .  \"],[\"  <bos>  \",\"  \\u2581The  \",\"  \\u2581horse  \",\"  \\u2581rac  \",\"  ed  \",\"  \\u2581past  \",\"  \\u2581the  \",\"  \\u2581bar  \",\"  n  \",\"  \\u2581fell  \",\"  .  \"],[\"  <bos>  \",\"  \\u2581The  \",\"  \\u2581horse  \",\"  \\u2581rac  \",\"  ed  \",\"  \\u2581past  \",\"  \\u2581the  \",\"  \\u2581bar  \",\"  n  \",\"  \\u2581fell  \",\"  .  \"],[\"  <bos>  \",\"  \\u2581The  \",\"  \\u2581horse  \",\"  \\u2581rac  \",\"  ed  \",\"  \\u2581past  \",\"  \\u2581the  \",\"  \\u2581bar  \",\"  n  \",\"  \\u2581fell  \",\"  .  \"],[\"  <bos>  \",\"  \\u2581The  \",\"  \\u2581horse  \",\"  \\u2581rac  \",\"  ed  \",\"  \\u2581past  \",\"  \\u2581the  \",\"  \\u2581bar  \",\"  n  \",\"  \\u2581fell  \",\"  .  \"],[\"  <bos>  \",\"  \\u2581The  \",\"  \\u2581horse  \",\"  \\u2581rac  \",\"  ed  \",\"  \\u2581past  \",\"  \\u2581the  \",\"  \\u2581bar  \",\"  n  \",\"  \\u2581fell  \",\"  .  \"],[\"  <bos>  \",\"  \\u2581The  \",\"  \\u2581horse  \",\"  \\u2581rac  \",\"  ed  \",\"  \\u2581past  \",\"  \\u2581the  \",\"  \\u2581bar  \",\"  n  \",\"  \\u2581fell  \",\"  .  \"],[\"  <bos>  \",\"  \\u2581The  \",\"  \\u2581horse  \",\"  \\u2581rac  \",\"  ed  \",\"  \\u2581past  \",\"  \\u2581the  \",\"  \\u2581bar  \",\"  n  \",\"  \\u2581fell  \",\"  .  \"],[\"  <bos>  \",\"  \\u2581The  \",\"  \\u2581horse  \",\"  \\u2581rac  \",\"  ed  \",\"  \\u2581past  \",\"  \\u2581the  \",\"  \\u2581bar  \",\"  n  \",\"  \\u2581fell  \",\"  .  \"],[\"  <bos>  \",\"  \\u2581The  \",\"  \\u2581horse  \",\"  \\u2581rac  \",\"  ed  \",\"  \\u2581past  \",\"  \\u2581the  \",\"  \\u2581bar  \",\"  n  \",\"  \\u2581fell  \",\"  .  \"],[\"  <bos>  \",\"  \\u2581The  \",\"  \\u2581horse  \",\"  \\u2581rac  \",\"  ed  \",\"  \\u2581past  \",\"  \\u2581the  \",\"  \\u2581bar  \",\"  n  \",\"  \\u2581fell  \",\"  .  \"],[\"  <bos>  \",\"  \\u2581The  \",\"  \\u2581horse  \",\"  \\u2581rac  \",\"  ed  \",\"  \\u2581past  \",\"  \\u2581the  \",\"  \\u2581bar  \",\"  n  \",\"  \\u2581fell  \",\"  .  \"],[\"  <bos>  \",\"  \\u2581The  \",\"  \\u2581horse  \",\"  \\u2581rac  \",\"  ed  \",\"  \\u2581past  \",\"  \\u2581the  \",\"  \\u2581bar  \",\"  n  \",\"  \\u2581fell  \",\"  .  \"],[\"  <bos>  \",\"  \\u2581The  \",\"  \\u2581horse  \",\"  \\u2581rac  \",\"  ed  \",\"  \\u2581past  \",\"  \\u2581the  \",\"  \\u2581bar  \",\"  n  \",\"  \\u2581fell  \",\"  .  \"],[\"  <bos>  \",\"  \\u2581The  \",\"  \\u2581horse  \",\"  \\u2581rac  \",\"  ed  \",\"  \\u2581past  \",\"  \\u2581the  \",\"  \\u2581bar  \",\"  n  \",\"  \\u2581fell  \",\"  .  \"],[\"  <bos>  \",\"  \\u2581The  \",\"  \\u2581horse  \",\"  \\u2581rac  \",\"  ed  \",\"  \\u2581past  \",\"  \\u2581the  \",\"  \\u2581bar  \",\"  n  \",\"  \\u2581fell  \",\"  .  \"],[\"  <bos>  \",\"  \\u2581The  \",\"  \\u2581horse  \",\"  \\u2581rac  \",\"  ed  \",\"  \\u2581past  \",\"  \\u2581the  \",\"  \\u2581bar  \",\"  n  \",\"  \\u2581fell  \",\"  .  \"],[\"  <bos>  \",\"  \\u2581The  \",\"  \\u2581horse  \",\"  \\u2581rac  \",\"  ed  \",\"  \\u2581past  \",\"  \\u2581the  \",\"  \\u2581bar  \",\"  n  \",\"  \\u2581fell  \",\"  .  \"],[\"  <bos>  \",\"  \\u2581The  \",\"  \\u2581horse  \",\"  \\u2581rac  \",\"  ed  \",\"  \\u2581past  \",\"  \\u2581the  \",\"  \\u2581bar  \",\"  n  \",\"  \\u2581fell  \",\"  .  \"]],\"textfont\":{\"color\":\"black\",\"size\":12},\"texttemplate\":\"%{text}\",\"z\":[[0.008845187723636627,0.04584826901555061,0.004760458134114742,0.0034205294214189053,0.009135046042501926,-0.004893279634416103,0.13169172406196594,0.020982462912797928,-0.004099480342119932,-0.013356593437492847,-0.03249766677618027],[-0.15358802676200867,-0.2143976390361786,-0.1593272089958191,-0.07609424740076065,-0.05628778412938118,0.024285966530442238,-0.14914171397686005,-0.03764882683753967,-0.014654086902737617,-0.0014548287726938725,-0.067995585501194],[0.18735280632972717,0.10437029600143433,0.04300149530172348,-0.021452771499753,0.07539774477481842,-0.26073020696640015,0.050968021154403687,-0.09013165533542633,-0.01255007367581129,-0.034168899059295654,-0.005049887113273144],[23.470369338989258,-0.25134286284446716,-0.12917344272136688,0.14941412210464478,0.05989541485905647,-0.22522898018360138,-0.3611983358860016,-0.20498299598693848,-0.17549331486225128,-0.23177775740623474,-0.1980065256357193],[5.85875129699707,-0.2104581892490387,0.12618230283260345,0.22482642531394958,0.18237937986850739,-0.09858638793230057,-0.17764829099178314,-0.05305785313248634,-0.21430303156375885,-0.1254345327615738,-0.03466671705245972],[-16.72722625732422,-0.13353614509105682,-0.43620947003364563,-0.2586809992790222,-0.3589684069156647,-0.03538333252072334,0.00352845317684114,0.08429836481809616,-0.08514638245105743,0.2981273829936981,-0.10831928998231888],[12.161348342895508,0.2074839323759079,0.5289261341094971,0.3532122075557709,0.4543592631816864,0.06328494846820831,-0.1526034027338028,-0.09423614293336868,-0.1483718752861023,-0.34898990392684937,0.030666682869195938],[2.064411163330078,0.25377920269966125,0.4088199734687805,0.4190893769264221,0.6090760827064514,-0.23105044662952423,-0.15409968793392181,-0.15959875285625458,-0.28256624937057495,0.08404259383678436,0.6964128017425537],[-2.1548967361450195,-0.0056199077516794205,-0.2553463876247406,-0.1520279198884964,-0.3129256069660187,0.11488186568021774,-0.038451917469501495,0.1935824304819107,0.007083934731781483,-0.39888331294059753,-0.7243204116821289],[-5.717101097106934,-0.1632382720708847,0.2888069748878479,-0.06065966188907623,0.10350456088781357,-0.41979753971099854,-0.44341641664505005,-0.2099047601222992,-0.2135971039533615,0.6811237335205078,0.5209346413612366],[6.356625556945801,0.5139718651771545,0.7440087795257568,0.15326710045337677,-0.41657668352127075,0.2760947346687317,0.44317299127578735,0.4699319899082184,0.40821075439453125,-0.22646503150463104,0.4785774052143097],[11.614984512329102,0.5209828615188599,0.5501487255096436,0.42421555519104004,0.07883627712726593,0.1303824782371521,0.6162236928939819,0.0721936821937561,0.019413594156503677,-0.3859124183654785,0.766333818435669],[4.872463703155518,0.43086469173431396,0.16848613321781158,0.8020157217979431,0.1766594499349594,0.23974104225635529,0.6092703342437744,0.04502585157752037,0.1670648753643036,-0.16372309625148773,0.3123728334903717],[-3.228698968887329,0.03501402586698532,-0.3963913321495056,0.3849388062953949,0.30760079622268677,0.5649335384368896,0.8411399722099304,-0.09913971275091171,0.14959244430065155,-0.3070368766784668,-0.29246705770492554],[-1.7535680532455444,-0.5321921110153198,0.26145699620246887,-0.4045196771621704,-0.3107745349407196,-0.5888007879257202,-0.7810682058334351,0.10647331178188324,-0.10522805899381638,0.2257244884967804,-0.41112014651298523],[7.8320207595825195,-0.013683677650988102,0.5267283916473389,0.08035247772932053,0.212664395570755,0.34132862091064453,0.3057720959186554,0.6785104870796204,0.4527241885662079,0.041296493262052536,-0.07521850615739822],[-1.3073129653930664,0.6813579797744751,0.5087125301361084,0.24614186584949493,-0.030210979282855988,-0.00047854200238361955,-0.29344359040260315,0.25675928592681885,0.1895674169063568,-0.5708629488945007,-0.3194023072719574],[-9.335840225219727,0.8365377187728882,-0.2336614578962326,0.6437455415725708,0.304311066865921,-0.29202601313591003,-1.1993907690048218,0.13450504839420319,-0.017882760614156723,-0.6637051105499268,-0.12836265563964844],[-0.2068636417388916,0.42119643092155457,-0.10705623030662537,0.7416792511940002,0.31326669454574585,-0.3614514470100403,-1.090259313583374,0.30679649114608765,0.33310171961784363,-0.6055691242218018,0.17507411539554596],[1.8224728107452393,0.6815730929374695,0.11288650333881378,0.6732039451599121,-0.4404210150241852,0.1072356179356575,-0.9035816788673401,0.0543653778731823,0.8348005414009094,-0.33791106939315796,1.02052903175354],[-12.254570960998535,-1.9271199703216553,-1.394516944885254,-1.0153816938400269,0.10372862964868546,-0.5900037288665771,0.6358373165130615,-0.3891911506652832,-1.2692426443099976,0.1641330122947693,-2.109539031982422],[-17.042085647583008,-2.318861246109009,-1.4493831396102905,-1.0098615884780884,-0.011132914572954178,-1.6822264194488525,0.28690603375434875,-0.6760064363479614,-2.0152015686035156,-0.5220475792884827,-2.4453535079956055],[-28.596731185913086,-2.539721965789795,-1.1876211166381836,-0.48151350021362305,0.4721975028514862,-1.474478006362915,0.7553648352622986,-0.7570942044258118,-0.864129364490509,-2.1363525390625,-2.4105823040008545],[-38.951324462890625,-3.1154212951660156,-1.6900115013122559,-0.7010065317153931,0.5466372966766357,-1.317636251449585,0.42757004499435425,-1.1523573398590088,-1.858325719833374,-3.4885687828063965,-3.6446011066436768],[-31.798603057861328,-3.6631953716278076,-2.386310577392578,-1.0838903188705444,-0.35711950063705444,-1.6425786018371582,0.23062899708747864,-2.100550651550293,-1.9738553762435913,-3.937729597091675,-5.062308311462402],[25.593080520629883,4.486544609069824,2.5768916606903076,0.9094392657279968,1.1769630908966064,2.8856499195098877,0.5889583230018616,2.061563491821289,2.229102611541748,4.309054374694824,5.860590934753418],[-28.949676513671875,-4.922211170196533,-2.6102969646453857,-0.30589595437049866,-1.034472107887268,-2.972439765930176,-0.4740965962409973,-1.683552861213684,-2.2120954990386963,-5.17417049407959,-6.724432945251465],[31.209741592407227,4.631700038909912,2.1416330337524414,-0.7440818548202515,0.8475229740142822,2.776970386505127,0.5985578298568726,0.40022987127304077,0.3737294673919678,4.183643341064453,7.473003387451172],[-34.25849914550781,-5.071702480316162,-2.751225233078003,0.2653680145740509,-0.9821465611457825,-3.0794661045074463,-0.583024799823761,-0.8052414655685425,-1.0877044200897217,-4.108863353729248,-8.457321166992188],[-47.07886505126953,-5.442872047424316,-2.928269147872925,-0.41326239705085754,-1.288094162940979,-2.6957437992095947,-0.31502971053123474,-0.10709382593631744,-0.35613998770713806,-3.2155137062072754,-9.551078796386719],[-45.61503982543945,-5.242952346801758,-4.652146816253662,-0.055418603122234344,-1.5447379350662231,-3.850552797317505,-0.45051372051239014,0.42798948287963867,0.6239207983016968,-3.9730324745178223,-11.037683486938477],[0.17738297581672668,-6.205224514007568,-5.207676410675049,-0.141744464635849,-2.1152281761169434,-7.235881805419922,-2.175562620162964,1.5029853582382202,0.47010156512260437,-5.209175109863281,-10.926718711853027]],\"type\":\"heatmap\"}],                        {\"height\":800,\"sliders\":[{\"active\":0,\"currentvalue\":{\"prefix\":\"Step: \"},\"len\":0.9,\"pad\":{\"t\":50},\"steps\":[{\"args\":[{\"visible\":[true,true,true,true,true,true,true,true,true,true,true]},{\"title\":\"Credences for Input Tokens\",\"xaxis\":{\"tickvals\":[0,1,2,3,4,5,6,7,8,9,10],\"ticktext\":[\"<bos>\",\"\\u2581The\",\"\\u2581horse\",\"\\u2581rac\",\"ed\",\"\\u2581past\",\"\\u2581the\",\"\\u2581bar\",\"n\",\"\\u2581fell\",\".\"],\"tickangle\":45},\"annotations\":[]}],\"method\":\"update\"}],\"visible\":true}],\"template\":{\"data\":{\"barpolar\":[{\"marker\":{\"line\":{\"color\":\"#E5ECF6\",\"width\":0.5},\"pattern\":{\"fillmode\":\"overlay\",\"size\":10,\"solidity\":0.2}},\"type\":\"barpolar\"}],\"bar\":[{\"error_x\":{\"color\":\"#2a3f5f\"},\"error_y\":{\"color\":\"#2a3f5f\"},\"marker\":{\"line\":{\"color\":\"#E5ECF6\",\"width\":0.5},\"pattern\":{\"fillmode\":\"overlay\",\"size\":10,\"solidity\":0.2}},\"type\":\"bar\"}],\"carpet\":[{\"aaxis\":{\"endlinecolor\":\"#2a3f5f\",\"gridcolor\":\"white\",\"linecolor\":\"white\",\"minorgridcolor\":\"white\",\"startlinecolor\":\"#2a3f5f\"},\"baxis\":{\"endlinecolor\":\"#2a3f5f\",\"gridcolor\":\"white\",\"linecolor\":\"white\",\"minorgridcolor\":\"white\",\"startlinecolor\":\"#2a3f5f\"},\"type\":\"carpet\"}],\"choropleth\":[{\"colorbar\":{\"outlinewidth\":0,\"ticks\":\"\"},\"type\":\"choropleth\"}],\"contourcarpet\":[{\"colorbar\":{\"outlinewidth\":0,\"ticks\":\"\"},\"type\":\"contourcarpet\"}],\"contour\":[{\"colorbar\":{\"outlinewidth\":0,\"ticks\":\"\"},\"colorscale\":[[0.0,\"#0d0887\"],[0.1111111111111111,\"#46039f\"],[0.2222222222222222,\"#7201a8\"],[0.3333333333333333,\"#9c179e\"],[0.4444444444444444,\"#bd3786\"],[0.5555555555555556,\"#d8576b\"],[0.6666666666666666,\"#ed7953\"],[0.7777777777777778,\"#fb9f3a\"],[0.8888888888888888,\"#fdca26\"],[1.0,\"#f0f921\"]],\"type\":\"contour\"}],\"heatmapgl\":[{\"colorbar\":{\"outlinewidth\":0,\"ticks\":\"\"},\"colorscale\":[[0.0,\"#0d0887\"],[0.1111111111111111,\"#46039f\"],[0.2222222222222222,\"#7201a8\"],[0.3333333333333333,\"#9c179e\"],[0.4444444444444444,\"#bd3786\"],[0.5555555555555556,\"#d8576b\"],[0.6666666666666666,\"#ed7953\"],[0.7777777777777778,\"#fb9f3a\"],[0.8888888888888888,\"#fdca26\"],[1.0,\"#f0f921\"]],\"type\":\"heatmapgl\"}],\"heatmap\":[{\"colorbar\":{\"outlinewidth\":0,\"ticks\":\"\"},\"colorscale\":[[0.0,\"#0d0887\"],[0.1111111111111111,\"#46039f\"],[0.2222222222222222,\"#7201a8\"],[0.3333333333333333,\"#9c179e\"],[0.4444444444444444,\"#bd3786\"],[0.5555555555555556,\"#d8576b\"],[0.6666666666666666,\"#ed7953\"],[0.7777777777777778,\"#fb9f3a\"],[0.8888888888888888,\"#fdca26\"],[1.0,\"#f0f921\"]],\"type\":\"heatmap\"}],\"histogram2dcontour\":[{\"colorbar\":{\"outlinewidth\":0,\"ticks\":\"\"},\"colorscale\":[[0.0,\"#0d0887\"],[0.1111111111111111,\"#46039f\"],[0.2222222222222222,\"#7201a8\"],[0.3333333333333333,\"#9c179e\"],[0.4444444444444444,\"#bd3786\"],[0.5555555555555556,\"#d8576b\"],[0.6666666666666666,\"#ed7953\"],[0.7777777777777778,\"#fb9f3a\"],[0.8888888888888888,\"#fdca26\"],[1.0,\"#f0f921\"]],\"type\":\"histogram2dcontour\"}],\"histogram2d\":[{\"colorbar\":{\"outlinewidth\":0,\"ticks\":\"\"},\"colorscale\":[[0.0,\"#0d0887\"],[0.1111111111111111,\"#46039f\"],[0.2222222222222222,\"#7201a8\"],[0.3333333333333333,\"#9c179e\"],[0.4444444444444444,\"#bd3786\"],[0.5555555555555556,\"#d8576b\"],[0.6666666666666666,\"#ed7953\"],[0.7777777777777778,\"#fb9f3a\"],[0.8888888888888888,\"#fdca26\"],[1.0,\"#f0f921\"]],\"type\":\"histogram2d\"}],\"histogram\":[{\"marker\":{\"pattern\":{\"fillmode\":\"overlay\",\"size\":10,\"solidity\":0.2}},\"type\":\"histogram\"}],\"mesh3d\":[{\"colorbar\":{\"outlinewidth\":0,\"ticks\":\"\"},\"type\":\"mesh3d\"}],\"parcoords\":[{\"line\":{\"colorbar\":{\"outlinewidth\":0,\"ticks\":\"\"}},\"type\":\"parcoords\"}],\"pie\":[{\"automargin\":true,\"type\":\"pie\"}],\"scatter3d\":[{\"line\":{\"colorbar\":{\"outlinewidth\":0,\"ticks\":\"\"}},\"marker\":{\"colorbar\":{\"outlinewidth\":0,\"ticks\":\"\"}},\"type\":\"scatter3d\"}],\"scattercarpet\":[{\"marker\":{\"colorbar\":{\"outlinewidth\":0,\"ticks\":\"\"}},\"type\":\"scattercarpet\"}],\"scattergeo\":[{\"marker\":{\"colorbar\":{\"outlinewidth\":0,\"ticks\":\"\"}},\"type\":\"scattergeo\"}],\"scattergl\":[{\"marker\":{\"colorbar\":{\"outlinewidth\":0,\"ticks\":\"\"}},\"type\":\"scattergl\"}],\"scattermapbox\":[{\"marker\":{\"colorbar\":{\"outlinewidth\":0,\"ticks\":\"\"}},\"type\":\"scattermapbox\"}],\"scatterpolargl\":[{\"marker\":{\"colorbar\":{\"outlinewidth\":0,\"ticks\":\"\"}},\"type\":\"scatterpolargl\"}],\"scatterpolar\":[{\"marker\":{\"colorbar\":{\"outlinewidth\":0,\"ticks\":\"\"}},\"type\":\"scatterpolar\"}],\"scatter\":[{\"fillpattern\":{\"fillmode\":\"overlay\",\"size\":10,\"solidity\":0.2},\"type\":\"scatter\"}],\"scatterternary\":[{\"marker\":{\"colorbar\":{\"outlinewidth\":0,\"ticks\":\"\"}},\"type\":\"scatterternary\"}],\"surface\":[{\"colorbar\":{\"outlinewidth\":0,\"ticks\":\"\"},\"colorscale\":[[0.0,\"#0d0887\"],[0.1111111111111111,\"#46039f\"],[0.2222222222222222,\"#7201a8\"],[0.3333333333333333,\"#9c179e\"],[0.4444444444444444,\"#bd3786\"],[0.5555555555555556,\"#d8576b\"],[0.6666666666666666,\"#ed7953\"],[0.7777777777777778,\"#fb9f3a\"],[0.8888888888888888,\"#fdca26\"],[1.0,\"#f0f921\"]],\"type\":\"surface\"}],\"table\":[{\"cells\":{\"fill\":{\"color\":\"#EBF0F8\"},\"line\":{\"color\":\"white\"}},\"header\":{\"fill\":{\"color\":\"#C8D4E3\"},\"line\":{\"color\":\"white\"}},\"type\":\"table\"}]},\"layout\":{\"annotationdefaults\":{\"arrowcolor\":\"#2a3f5f\",\"arrowhead\":0,\"arrowwidth\":1},\"autotypenumbers\":\"strict\",\"coloraxis\":{\"colorbar\":{\"outlinewidth\":0,\"ticks\":\"\"}},\"colorscale\":{\"diverging\":[[0,\"#8e0152\"],[0.1,\"#c51b7d\"],[0.2,\"#de77ae\"],[0.3,\"#f1b6da\"],[0.4,\"#fde0ef\"],[0.5,\"#f7f7f7\"],[0.6,\"#e6f5d0\"],[0.7,\"#b8e186\"],[0.8,\"#7fbc41\"],[0.9,\"#4d9221\"],[1,\"#276419\"]],\"sequential\":[[0.0,\"#0d0887\"],[0.1111111111111111,\"#46039f\"],[0.2222222222222222,\"#7201a8\"],[0.3333333333333333,\"#9c179e\"],[0.4444444444444444,\"#bd3786\"],[0.5555555555555556,\"#d8576b\"],[0.6666666666666666,\"#ed7953\"],[0.7777777777777778,\"#fb9f3a\"],[0.8888888888888888,\"#fdca26\"],[1.0,\"#f0f921\"]],\"sequentialminus\":[[0.0,\"#0d0887\"],[0.1111111111111111,\"#46039f\"],[0.2222222222222222,\"#7201a8\"],[0.3333333333333333,\"#9c179e\"],[0.4444444444444444,\"#bd3786\"],[0.5555555555555556,\"#d8576b\"],[0.6666666666666666,\"#ed7953\"],[0.7777777777777778,\"#fb9f3a\"],[0.8888888888888888,\"#fdca26\"],[1.0,\"#f0f921\"]]},\"colorway\":[\"#636efa\",\"#EF553B\",\"#00cc96\",\"#ab63fa\",\"#FFA15A\",\"#19d3f3\",\"#FF6692\",\"#B6E880\",\"#FF97FF\",\"#FECB52\"],\"font\":{\"color\":\"#2a3f5f\"},\"geo\":{\"bgcolor\":\"white\",\"lakecolor\":\"white\",\"landcolor\":\"#E5ECF6\",\"showlakes\":true,\"showland\":true,\"subunitcolor\":\"white\"},\"hoverlabel\":{\"align\":\"left\"},\"hovermode\":\"closest\",\"mapbox\":{\"style\":\"light\"},\"paper_bgcolor\":\"white\",\"plot_bgcolor\":\"#E5ECF6\",\"polar\":{\"angularaxis\":{\"gridcolor\":\"white\",\"linecolor\":\"white\",\"ticks\":\"\"},\"bgcolor\":\"#E5ECF6\",\"radialaxis\":{\"gridcolor\":\"white\",\"linecolor\":\"white\",\"ticks\":\"\"}},\"scene\":{\"xaxis\":{\"backgroundcolor\":\"#E5ECF6\",\"gridcolor\":\"white\",\"gridwidth\":2,\"linecolor\":\"white\",\"showbackground\":true,\"ticks\":\"\",\"zerolinecolor\":\"white\"},\"yaxis\":{\"backgroundcolor\":\"#E5ECF6\",\"gridcolor\":\"white\",\"gridwidth\":2,\"linecolor\":\"white\",\"showbackground\":true,\"ticks\":\"\",\"zerolinecolor\":\"white\"},\"zaxis\":{\"backgroundcolor\":\"#E5ECF6\",\"gridcolor\":\"white\",\"gridwidth\":2,\"linecolor\":\"white\",\"showbackground\":true,\"ticks\":\"\",\"zerolinecolor\":\"white\"}},\"shapedefaults\":{\"line\":{\"color\":\"#2a3f5f\"}},\"ternary\":{\"aaxis\":{\"gridcolor\":\"white\",\"linecolor\":\"white\",\"ticks\":\"\"},\"baxis\":{\"gridcolor\":\"white\",\"linecolor\":\"white\",\"ticks\":\"\"},\"bgcolor\":\"#E5ECF6\",\"caxis\":{\"gridcolor\":\"white\",\"linecolor\":\"white\",\"ticks\":\"\"}},\"title\":{\"x\":0.05},\"xaxis\":{\"automargin\":true,\"gridcolor\":\"white\",\"linecolor\":\"white\",\"ticks\":\"\",\"title\":{\"standoff\":15},\"zerolinecolor\":\"white\",\"zerolinewidth\":2},\"yaxis\":{\"automargin\":true,\"gridcolor\":\"white\",\"linecolor\":\"white\",\"ticks\":\"\",\"title\":{\"standoff\":15},\"zerolinecolor\":\"white\",\"zerolinewidth\":2}}},\"title\":{\"text\":\"Credences for Input Tokens\"},\"width\":800,\"xaxis\":{\"tickangle\":45,\"ticktext\":[\"<bos>\",\"\\u2581The\",\"\\u2581horse\",\"\\u2581rac\",\"ed\",\"\\u2581past\",\"\\u2581the\",\"\\u2581bar\",\"n\",\"\\u2581fell\",\".\"],\"tickvals\":[0,1,2,3,4,5,6,7,8,9,10]}},                        {\"responsive\": true}                    ).then(function(){\n",
       "                            \n",
       "var gd = document.getElementById('6d3923ff-1faf-4739-9569-f45d1deb16b2');\n",
       "var x = new MutationObserver(function (mutations, observer) {{\n",
       "        var display = window.getComputedStyle(gd).display;\n",
       "        if (!display || display === 'none') {{\n",
       "            console.log([gd, 'removed!']);\n",
       "            Plotly.purge(gd);\n",
       "            observer.disconnect();\n",
       "        }}\n",
       "}});\n",
       "\n",
       "// Listen for the removal of the full notebook cells\n",
       "var notebookContainer = gd.closest('#notebook-container');\n",
       "if (notebookContainer) {{\n",
       "    x.observe(notebookContainer, {childList: true});\n",
       "}}\n",
       "\n",
       "// Listen for the clearing of the current output cell\n",
       "var outputEl = gd.closest('.output');\n",
       "if (outputEl) {{\n",
       "    x.observe(outputEl, {childList: true});\n",
       "}}\n",
       "\n",
       "                        })                };                });            </script>        </div>"
      ]
     },
     "metadata": {},
     "output_type": "display_data"
    },
    {
     "data": {
      "application/vnd.plotly.v1+json": {
       "config": {
        "linkText": "Export to plot.ly",
        "plotlyServerURL": "https://plot.ly",
        "showLink": false
       },
       "data": [
        {
         "colorscale": [
          [
           0,
           "#FF0000"
          ],
          [
           1,
           "#00FF00"
          ]
         ],
         "text": [
          [
           "  <bos>  ",
           "  ▁The  ",
           "  ▁old  ",
           "  ▁man  ",
           "  ▁the  ",
           "  ▁boat  ",
           "  .  "
          ],
          [
           "  <bos>  ",
           "  ▁The  ",
           "  ▁old  ",
           "  ▁man  ",
           "  ▁the  ",
           "  ▁boat  ",
           "  .  "
          ],
          [
           "  <bos>  ",
           "  ▁The  ",
           "  ▁old  ",
           "  ▁man  ",
           "  ▁the  ",
           "  ▁boat  ",
           "  .  "
          ],
          [
           "  <bos>  ",
           "  ▁The  ",
           "  ▁old  ",
           "  ▁man  ",
           "  ▁the  ",
           "  ▁boat  ",
           "  .  "
          ],
          [
           "  <bos>  ",
           "  ▁The  ",
           "  ▁old  ",
           "  ▁man  ",
           "  ▁the  ",
           "  ▁boat  ",
           "  .  "
          ],
          [
           "  <bos>  ",
           "  ▁The  ",
           "  ▁old  ",
           "  ▁man  ",
           "  ▁the  ",
           "  ▁boat  ",
           "  .  "
          ],
          [
           "  <bos>  ",
           "  ▁The  ",
           "  ▁old  ",
           "  ▁man  ",
           "  ▁the  ",
           "  ▁boat  ",
           "  .  "
          ],
          [
           "  <bos>  ",
           "  ▁The  ",
           "  ▁old  ",
           "  ▁man  ",
           "  ▁the  ",
           "  ▁boat  ",
           "  .  "
          ],
          [
           "  <bos>  ",
           "  ▁The  ",
           "  ▁old  ",
           "  ▁man  ",
           "  ▁the  ",
           "  ▁boat  ",
           "  .  "
          ],
          [
           "  <bos>  ",
           "  ▁The  ",
           "  ▁old  ",
           "  ▁man  ",
           "  ▁the  ",
           "  ▁boat  ",
           "  .  "
          ],
          [
           "  <bos>  ",
           "  ▁The  ",
           "  ▁old  ",
           "  ▁man  ",
           "  ▁the  ",
           "  ▁boat  ",
           "  .  "
          ],
          [
           "  <bos>  ",
           "  ▁The  ",
           "  ▁old  ",
           "  ▁man  ",
           "  ▁the  ",
           "  ▁boat  ",
           "  .  "
          ],
          [
           "  <bos>  ",
           "  ▁The  ",
           "  ▁old  ",
           "  ▁man  ",
           "  ▁the  ",
           "  ▁boat  ",
           "  .  "
          ],
          [
           "  <bos>  ",
           "  ▁The  ",
           "  ▁old  ",
           "  ▁man  ",
           "  ▁the  ",
           "  ▁boat  ",
           "  .  "
          ],
          [
           "  <bos>  ",
           "  ▁The  ",
           "  ▁old  ",
           "  ▁man  ",
           "  ▁the  ",
           "  ▁boat  ",
           "  .  "
          ],
          [
           "  <bos>  ",
           "  ▁The  ",
           "  ▁old  ",
           "  ▁man  ",
           "  ▁the  ",
           "  ▁boat  ",
           "  .  "
          ],
          [
           "  <bos>  ",
           "  ▁The  ",
           "  ▁old  ",
           "  ▁man  ",
           "  ▁the  ",
           "  ▁boat  ",
           "  .  "
          ],
          [
           "  <bos>  ",
           "  ▁The  ",
           "  ▁old  ",
           "  ▁man  ",
           "  ▁the  ",
           "  ▁boat  ",
           "  .  "
          ],
          [
           "  <bos>  ",
           "  ▁The  ",
           "  ▁old  ",
           "  ▁man  ",
           "  ▁the  ",
           "  ▁boat  ",
           "  .  "
          ],
          [
           "  <bos>  ",
           "  ▁The  ",
           "  ▁old  ",
           "  ▁man  ",
           "  ▁the  ",
           "  ▁boat  ",
           "  .  "
          ],
          [
           "  <bos>  ",
           "  ▁The  ",
           "  ▁old  ",
           "  ▁man  ",
           "  ▁the  ",
           "  ▁boat  ",
           "  .  "
          ],
          [
           "  <bos>  ",
           "  ▁The  ",
           "  ▁old  ",
           "  ▁man  ",
           "  ▁the  ",
           "  ▁boat  ",
           "  .  "
          ],
          [
           "  <bos>  ",
           "  ▁The  ",
           "  ▁old  ",
           "  ▁man  ",
           "  ▁the  ",
           "  ▁boat  ",
           "  .  "
          ],
          [
           "  <bos>  ",
           "  ▁The  ",
           "  ▁old  ",
           "  ▁man  ",
           "  ▁the  ",
           "  ▁boat  ",
           "  .  "
          ],
          [
           "  <bos>  ",
           "  ▁The  ",
           "  ▁old  ",
           "  ▁man  ",
           "  ▁the  ",
           "  ▁boat  ",
           "  .  "
          ],
          [
           "  <bos>  ",
           "  ▁The  ",
           "  ▁old  ",
           "  ▁man  ",
           "  ▁the  ",
           "  ▁boat  ",
           "  .  "
          ],
          [
           "  <bos>  ",
           "  ▁The  ",
           "  ▁old  ",
           "  ▁man  ",
           "  ▁the  ",
           "  ▁boat  ",
           "  .  "
          ],
          [
           "  <bos>  ",
           "  ▁The  ",
           "  ▁old  ",
           "  ▁man  ",
           "  ▁the  ",
           "  ▁boat  ",
           "  .  "
          ],
          [
           "  <bos>  ",
           "  ▁The  ",
           "  ▁old  ",
           "  ▁man  ",
           "  ▁the  ",
           "  ▁boat  ",
           "  .  "
          ],
          [
           "  <bos>  ",
           "  ▁The  ",
           "  ▁old  ",
           "  ▁man  ",
           "  ▁the  ",
           "  ▁boat  ",
           "  .  "
          ],
          [
           "  <bos>  ",
           "  ▁The  ",
           "  ▁old  ",
           "  ▁man  ",
           "  ▁the  ",
           "  ▁boat  ",
           "  .  "
          ],
          [
           "  <bos>  ",
           "  ▁The  ",
           "  ▁old  ",
           "  ▁man  ",
           "  ▁the  ",
           "  ▁boat  ",
           "  .  "
          ]
         ],
         "textfont": {
          "color": "black",
          "size": 12
         },
         "texttemplate": "%{text}",
         "type": "heatmap",
         "z": [
          [
           0.008845187723636627,
           0.04584826901555061,
           -0.023063821718096733,
           -0.04018872231245041,
           0.13169172406196594,
           -0.04396463930606842,
           -0.03249766677618027
          ],
          [
           -0.15358802676200867,
           -0.2143976390361786,
           -0.10874750465154648,
           0.011471484787762165,
           -0.17652596533298492,
           -0.01579449512064457,
           -0.07725666463375092
          ],
          [
           0.18735280632972717,
           0.10437029600143433,
           0.05176849290728569,
           -0.007149258628487587,
           0.04363199323415756,
           0.053962934762239456,
           -0.006184898782521486
          ],
          [
           23.470369338989258,
           -0.25134286284446716,
           -0.1555270105600357,
           -0.18643106520175934,
           -0.2528802156448364,
           -0.12171744555234909,
           -0.190670907497406
          ],
          [
           5.85875129699707,
           -0.2104581892490387,
           -0.20629209280014038,
           0.09366757422685623,
           -0.14735820889472961,
           -0.2472464144229889,
           -0.10677271336317062
          ],
          [
           -16.72722625732422,
           -0.13353614509105682,
           -0.08595426380634308,
           -0.2512529194355011,
           -0.0131474444642663,
           -0.09415649622678757,
           -0.14163172245025635
          ],
          [
           12.161348342895508,
           0.2074839323759079,
           0.12468567490577698,
           -0.02882475219666958,
           -0.004774284549057484,
           0.33856451511383057,
           -0.0017730441177263856
          ],
          [
           2.064411163330078,
           0.25377920269966125,
           0.31339287757873535,
           0.42468002438545227,
           0.02339804172515869,
           0.45925721526145935,
           0.19948932528495789
          ],
          [
           -2.1548967361450195,
           -0.0056199077516794205,
           -0.33563920855522156,
           -0.3862243592739105,
           -0.1770424246788025,
           -0.2688189446926117,
           -0.3259643018245697
          ],
          [
           -5.717101097106934,
           -0.1632382720708847,
           0.5667598247528076,
           0.4281159043312073,
           0.21248729526996613,
           -0.06645681709051132,
           0.12583395838737488
          ],
          [
           6.356625556945801,
           0.5139718651771545,
           0.24918389320373535,
           0.24612095952033997,
           -0.010088923387229443,
           0.506963312625885,
           -0.006577707827091217
          ],
          [
           11.614984512329102,
           0.5209828615188599,
           -0.23652240633964539,
           -0.22379179298877716,
           -0.3782082200050354,
           0.18942664563655853,
           0.07055766135454178
          ],
          [
           4.872463703155518,
           0.43086469173431396,
           -0.6738322973251343,
           -0.6817049384117126,
           -0.4409613311290741,
           0.0558394230902195,
           -0.291961669921875
          ],
          [
           -3.228698968887329,
           0.03501402586698532,
           -1.0299187898635864,
           -1.0490654706954956,
           -0.7193494439125061,
           -0.4290306866168976,
           -0.7485656142234802
          ],
          [
           -1.7535680532455444,
           -0.5321921110153198,
           0.7672786116600037,
           0.44800102710723877,
           0.5098327994346619,
           0.42553797364234924,
           0.17162123322486877
          ],
          [
           7.8320207595825195,
           -0.013683677650988102,
           1.6750258207321167,
           1.413180947303772,
           1.3877484798431396,
           0.7830424308776855,
           0.7294390797615051
          ],
          [
           -1.3073129653930664,
           0.6813579797744751,
           1.7451285123825073,
           1.7579073905944824,
           0.8872444033622742,
           1.1763272285461426,
           0.6286794543266296
          ],
          [
           -9.335840225219727,
           0.8365377187728882,
           1.6621464490890503,
           1.3196974992752075,
           1.037756085395813,
           1.0967828035354614,
           1.1760002374649048
          ],
          [
           -0.2068636417388916,
           0.42119643092155457,
           2.473684787750244,
           0.880223274230957,
           0.7215668559074402,
           1.547985553741455,
           0.9778502583503723
          ],
          [
           1.8224728107452393,
           0.6815730929374695,
           2.7991700172424316,
           0.8780949115753174,
           1.0145968198776245,
           1.9571757316589355,
           1.2713336944580078
          ],
          [
           -12.254570960998535,
           -1.9271199703216553,
           -3.34859561920166,
           -2.4281930923461914,
           -1.95819890499115,
           -3.4831271171569824,
           -1.9347285032272339
          ],
          [
           -17.042085647583008,
           -2.318861246109009,
           -4.112184047698975,
           -3.396946668624878,
           -2.6662614345550537,
           -4.637625694274902,
           -2.545518636703491
          ],
          [
           -28.596731185913086,
           -2.539721965789795,
           -4.005532264709473,
           -3.439652919769287,
           -2.951568841934204,
           -5.484236717224121,
           -2.9338128566741943
          ],
          [
           -38.951324462890625,
           -3.1154212951660156,
           -5.544167995452881,
           -3.665071964263916,
           -3.790602922439575,
           -6.078958511352539,
           -3.2775042057037354
          ],
          [
           -31.798603057861328,
           -3.6631953716278076,
           -6.111350059509277,
           -3.7454450130462646,
           -3.833177328109741,
           -6.243142127990723,
           -3.966248035430908
          ],
          [
           25.593080520629883,
           4.486544609069824,
           7.1079206466674805,
           4.320352554321289,
           5.083920955657959,
           6.814816474914551,
           4.188502788543701
          ],
          [
           -28.949676513671875,
           -4.922211170196533,
           -7.277227878570557,
           -4.689743995666504,
           -5.7497239112854,
           -6.594996452331543,
           -4.192339897155762
          ],
          [
           31.209741592407227,
           4.631700038909912,
           6.557735919952393,
           5.6428070068359375,
           6.632741928100586,
           6.94995641708374,
           4.217970848083496
          ],
          [
           -34.25849914550781,
           -5.071702480316162,
           -7.4604997634887695,
           -5.728822231292725,
           -6.929747104644775,
           -6.753052234649658,
           -4.524651050567627
          ],
          [
           -47.07886505126953,
           -5.442872047424316,
           -7.055637359619141,
           -6.540554523468018,
           -6.953447341918945,
           -6.605974197387695,
           -4.73993444442749
          ],
          [
           -45.61503982543945,
           -5.242952346801758,
           -8.12614631652832,
           -7.647197723388672,
           -6.643217086791992,
           -7.566311359405518,
           -5.007569789886475
          ],
          [
           0.17738297581672668,
           -6.205224514007568,
           -10.515033721923828,
           -7.92218542098999,
           -6.828107833862305,
           -8.358108520507812,
           -5.703969955444336
          ]
         ]
        }
       ],
       "layout": {
        "height": 800,
        "sliders": [
         {
          "active": 1,
          "currentvalue": {
           "prefix": "Step: "
          },
          "len": 0.9,
          "pad": {
           "t": 50
          },
          "steps": [
           {
            "args": [
             {
              "visible": [
               true,
               true,
               true,
               true,
               true,
               true,
               true
              ]
             },
             {
              "annotations": [],
              "title": "Credences for Input Tokens",
              "xaxis": {
               "tickangle": 45,
               "ticktext": [
                "<bos>",
                "▁The",
                "▁old",
                "▁man",
                "▁the",
                "▁boat",
                "."
               ],
               "tickvals": [
                0,
                1,
                2,
                3,
                4,
                5,
                6
               ]
              }
             }
            ],
            "method": "update"
           }
          ],
          "visible": true
         }
        ],
        "template": {
         "data": {
          "bar": [
           {
            "error_x": {
             "color": "#2a3f5f"
            },
            "error_y": {
             "color": "#2a3f5f"
            },
            "marker": {
             "line": {
              "color": "#E5ECF6",
              "width": 0.5
             },
             "pattern": {
              "fillmode": "overlay",
              "size": 10,
              "solidity": 0.2
             }
            },
            "type": "bar"
           }
          ],
          "barpolar": [
           {
            "marker": {
             "line": {
              "color": "#E5ECF6",
              "width": 0.5
             },
             "pattern": {
              "fillmode": "overlay",
              "size": 10,
              "solidity": 0.2
             }
            },
            "type": "barpolar"
           }
          ],
          "carpet": [
           {
            "aaxis": {
             "endlinecolor": "#2a3f5f",
             "gridcolor": "white",
             "linecolor": "white",
             "minorgridcolor": "white",
             "startlinecolor": "#2a3f5f"
            },
            "baxis": {
             "endlinecolor": "#2a3f5f",
             "gridcolor": "white",
             "linecolor": "white",
             "minorgridcolor": "white",
             "startlinecolor": "#2a3f5f"
            },
            "type": "carpet"
           }
          ],
          "choropleth": [
           {
            "colorbar": {
             "outlinewidth": 0,
             "ticks": ""
            },
            "type": "choropleth"
           }
          ],
          "contour": [
           {
            "colorbar": {
             "outlinewidth": 0,
             "ticks": ""
            },
            "colorscale": [
             [
              0,
              "#0d0887"
             ],
             [
              0.1111111111111111,
              "#46039f"
             ],
             [
              0.2222222222222222,
              "#7201a8"
             ],
             [
              0.3333333333333333,
              "#9c179e"
             ],
             [
              0.4444444444444444,
              "#bd3786"
             ],
             [
              0.5555555555555556,
              "#d8576b"
             ],
             [
              0.6666666666666666,
              "#ed7953"
             ],
             [
              0.7777777777777778,
              "#fb9f3a"
             ],
             [
              0.8888888888888888,
              "#fdca26"
             ],
             [
              1,
              "#f0f921"
             ]
            ],
            "type": "contour"
           }
          ],
          "contourcarpet": [
           {
            "colorbar": {
             "outlinewidth": 0,
             "ticks": ""
            },
            "type": "contourcarpet"
           }
          ],
          "heatmap": [
           {
            "colorbar": {
             "outlinewidth": 0,
             "ticks": ""
            },
            "colorscale": [
             [
              0,
              "#0d0887"
             ],
             [
              0.1111111111111111,
              "#46039f"
             ],
             [
              0.2222222222222222,
              "#7201a8"
             ],
             [
              0.3333333333333333,
              "#9c179e"
             ],
             [
              0.4444444444444444,
              "#bd3786"
             ],
             [
              0.5555555555555556,
              "#d8576b"
             ],
             [
              0.6666666666666666,
              "#ed7953"
             ],
             [
              0.7777777777777778,
              "#fb9f3a"
             ],
             [
              0.8888888888888888,
              "#fdca26"
             ],
             [
              1,
              "#f0f921"
             ]
            ],
            "type": "heatmap"
           }
          ],
          "heatmapgl": [
           {
            "colorbar": {
             "outlinewidth": 0,
             "ticks": ""
            },
            "colorscale": [
             [
              0,
              "#0d0887"
             ],
             [
              0.1111111111111111,
              "#46039f"
             ],
             [
              0.2222222222222222,
              "#7201a8"
             ],
             [
              0.3333333333333333,
              "#9c179e"
             ],
             [
              0.4444444444444444,
              "#bd3786"
             ],
             [
              0.5555555555555556,
              "#d8576b"
             ],
             [
              0.6666666666666666,
              "#ed7953"
             ],
             [
              0.7777777777777778,
              "#fb9f3a"
             ],
             [
              0.8888888888888888,
              "#fdca26"
             ],
             [
              1,
              "#f0f921"
             ]
            ],
            "type": "heatmapgl"
           }
          ],
          "histogram": [
           {
            "marker": {
             "pattern": {
              "fillmode": "overlay",
              "size": 10,
              "solidity": 0.2
             }
            },
            "type": "histogram"
           }
          ],
          "histogram2d": [
           {
            "colorbar": {
             "outlinewidth": 0,
             "ticks": ""
            },
            "colorscale": [
             [
              0,
              "#0d0887"
             ],
             [
              0.1111111111111111,
              "#46039f"
             ],
             [
              0.2222222222222222,
              "#7201a8"
             ],
             [
              0.3333333333333333,
              "#9c179e"
             ],
             [
              0.4444444444444444,
              "#bd3786"
             ],
             [
              0.5555555555555556,
              "#d8576b"
             ],
             [
              0.6666666666666666,
              "#ed7953"
             ],
             [
              0.7777777777777778,
              "#fb9f3a"
             ],
             [
              0.8888888888888888,
              "#fdca26"
             ],
             [
              1,
              "#f0f921"
             ]
            ],
            "type": "histogram2d"
           }
          ],
          "histogram2dcontour": [
           {
            "colorbar": {
             "outlinewidth": 0,
             "ticks": ""
            },
            "colorscale": [
             [
              0,
              "#0d0887"
             ],
             [
              0.1111111111111111,
              "#46039f"
             ],
             [
              0.2222222222222222,
              "#7201a8"
             ],
             [
              0.3333333333333333,
              "#9c179e"
             ],
             [
              0.4444444444444444,
              "#bd3786"
             ],
             [
              0.5555555555555556,
              "#d8576b"
             ],
             [
              0.6666666666666666,
              "#ed7953"
             ],
             [
              0.7777777777777778,
              "#fb9f3a"
             ],
             [
              0.8888888888888888,
              "#fdca26"
             ],
             [
              1,
              "#f0f921"
             ]
            ],
            "type": "histogram2dcontour"
           }
          ],
          "mesh3d": [
           {
            "colorbar": {
             "outlinewidth": 0,
             "ticks": ""
            },
            "type": "mesh3d"
           }
          ],
          "parcoords": [
           {
            "line": {
             "colorbar": {
              "outlinewidth": 0,
              "ticks": ""
             }
            },
            "type": "parcoords"
           }
          ],
          "pie": [
           {
            "automargin": true,
            "type": "pie"
           }
          ],
          "scatter": [
           {
            "fillpattern": {
             "fillmode": "overlay",
             "size": 10,
             "solidity": 0.2
            },
            "type": "scatter"
           }
          ],
          "scatter3d": [
           {
            "line": {
             "colorbar": {
              "outlinewidth": 0,
              "ticks": ""
             }
            },
            "marker": {
             "colorbar": {
              "outlinewidth": 0,
              "ticks": ""
             }
            },
            "type": "scatter3d"
           }
          ],
          "scattercarpet": [
           {
            "marker": {
             "colorbar": {
              "outlinewidth": 0,
              "ticks": ""
             }
            },
            "type": "scattercarpet"
           }
          ],
          "scattergeo": [
           {
            "marker": {
             "colorbar": {
              "outlinewidth": 0,
              "ticks": ""
             }
            },
            "type": "scattergeo"
           }
          ],
          "scattergl": [
           {
            "marker": {
             "colorbar": {
              "outlinewidth": 0,
              "ticks": ""
             }
            },
            "type": "scattergl"
           }
          ],
          "scattermapbox": [
           {
            "marker": {
             "colorbar": {
              "outlinewidth": 0,
              "ticks": ""
             }
            },
            "type": "scattermapbox"
           }
          ],
          "scatterpolar": [
           {
            "marker": {
             "colorbar": {
              "outlinewidth": 0,
              "ticks": ""
             }
            },
            "type": "scatterpolar"
           }
          ],
          "scatterpolargl": [
           {
            "marker": {
             "colorbar": {
              "outlinewidth": 0,
              "ticks": ""
             }
            },
            "type": "scatterpolargl"
           }
          ],
          "scatterternary": [
           {
            "marker": {
             "colorbar": {
              "outlinewidth": 0,
              "ticks": ""
             }
            },
            "type": "scatterternary"
           }
          ],
          "surface": [
           {
            "colorbar": {
             "outlinewidth": 0,
             "ticks": ""
            },
            "colorscale": [
             [
              0,
              "#0d0887"
             ],
             [
              0.1111111111111111,
              "#46039f"
             ],
             [
              0.2222222222222222,
              "#7201a8"
             ],
             [
              0.3333333333333333,
              "#9c179e"
             ],
             [
              0.4444444444444444,
              "#bd3786"
             ],
             [
              0.5555555555555556,
              "#d8576b"
             ],
             [
              0.6666666666666666,
              "#ed7953"
             ],
             [
              0.7777777777777778,
              "#fb9f3a"
             ],
             [
              0.8888888888888888,
              "#fdca26"
             ],
             [
              1,
              "#f0f921"
             ]
            ],
            "type": "surface"
           }
          ],
          "table": [
           {
            "cells": {
             "fill": {
              "color": "#EBF0F8"
             },
             "line": {
              "color": "white"
             }
            },
            "header": {
             "fill": {
              "color": "#C8D4E3"
             },
             "line": {
              "color": "white"
             }
            },
            "type": "table"
           }
          ]
         },
         "layout": {
          "annotationdefaults": {
           "arrowcolor": "#2a3f5f",
           "arrowhead": 0,
           "arrowwidth": 1
          },
          "autotypenumbers": "strict",
          "coloraxis": {
           "colorbar": {
            "outlinewidth": 0,
            "ticks": ""
           }
          },
          "colorscale": {
           "diverging": [
            [
             0,
             "#8e0152"
            ],
            [
             0.1,
             "#c51b7d"
            ],
            [
             0.2,
             "#de77ae"
            ],
            [
             0.3,
             "#f1b6da"
            ],
            [
             0.4,
             "#fde0ef"
            ],
            [
             0.5,
             "#f7f7f7"
            ],
            [
             0.6,
             "#e6f5d0"
            ],
            [
             0.7,
             "#b8e186"
            ],
            [
             0.8,
             "#7fbc41"
            ],
            [
             0.9,
             "#4d9221"
            ],
            [
             1,
             "#276419"
            ]
           ],
           "sequential": [
            [
             0,
             "#0d0887"
            ],
            [
             0.1111111111111111,
             "#46039f"
            ],
            [
             0.2222222222222222,
             "#7201a8"
            ],
            [
             0.3333333333333333,
             "#9c179e"
            ],
            [
             0.4444444444444444,
             "#bd3786"
            ],
            [
             0.5555555555555556,
             "#d8576b"
            ],
            [
             0.6666666666666666,
             "#ed7953"
            ],
            [
             0.7777777777777778,
             "#fb9f3a"
            ],
            [
             0.8888888888888888,
             "#fdca26"
            ],
            [
             1,
             "#f0f921"
            ]
           ],
           "sequentialminus": [
            [
             0,
             "#0d0887"
            ],
            [
             0.1111111111111111,
             "#46039f"
            ],
            [
             0.2222222222222222,
             "#7201a8"
            ],
            [
             0.3333333333333333,
             "#9c179e"
            ],
            [
             0.4444444444444444,
             "#bd3786"
            ],
            [
             0.5555555555555556,
             "#d8576b"
            ],
            [
             0.6666666666666666,
             "#ed7953"
            ],
            [
             0.7777777777777778,
             "#fb9f3a"
            ],
            [
             0.8888888888888888,
             "#fdca26"
            ],
            [
             1,
             "#f0f921"
            ]
           ]
          },
          "colorway": [
           "#636efa",
           "#EF553B",
           "#00cc96",
           "#ab63fa",
           "#FFA15A",
           "#19d3f3",
           "#FF6692",
           "#B6E880",
           "#FF97FF",
           "#FECB52"
          ],
          "font": {
           "color": "#2a3f5f"
          },
          "geo": {
           "bgcolor": "white",
           "lakecolor": "white",
           "landcolor": "#E5ECF6",
           "showlakes": true,
           "showland": true,
           "subunitcolor": "white"
          },
          "hoverlabel": {
           "align": "left"
          },
          "hovermode": "closest",
          "mapbox": {
           "style": "light"
          },
          "paper_bgcolor": "white",
          "plot_bgcolor": "#E5ECF6",
          "polar": {
           "angularaxis": {
            "gridcolor": "white",
            "linecolor": "white",
            "ticks": ""
           },
           "bgcolor": "#E5ECF6",
           "radialaxis": {
            "gridcolor": "white",
            "linecolor": "white",
            "ticks": ""
           }
          },
          "scene": {
           "xaxis": {
            "backgroundcolor": "#E5ECF6",
            "gridcolor": "white",
            "gridwidth": 2,
            "linecolor": "white",
            "showbackground": true,
            "ticks": "",
            "zerolinecolor": "white"
           },
           "yaxis": {
            "backgroundcolor": "#E5ECF6",
            "gridcolor": "white",
            "gridwidth": 2,
            "linecolor": "white",
            "showbackground": true,
            "ticks": "",
            "zerolinecolor": "white"
           },
           "zaxis": {
            "backgroundcolor": "#E5ECF6",
            "gridcolor": "white",
            "gridwidth": 2,
            "linecolor": "white",
            "showbackground": true,
            "ticks": "",
            "zerolinecolor": "white"
           }
          },
          "shapedefaults": {
           "line": {
            "color": "#2a3f5f"
           }
          },
          "ternary": {
           "aaxis": {
            "gridcolor": "white",
            "linecolor": "white",
            "ticks": ""
           },
           "baxis": {
            "gridcolor": "white",
            "linecolor": "white",
            "ticks": ""
           },
           "bgcolor": "#E5ECF6",
           "caxis": {
            "gridcolor": "white",
            "linecolor": "white",
            "ticks": ""
           }
          },
          "title": {
           "x": 0.05
          },
          "xaxis": {
           "automargin": true,
           "gridcolor": "white",
           "linecolor": "white",
           "ticks": "",
           "title": {
            "standoff": 15
           },
           "zerolinecolor": "white",
           "zerolinewidth": 2
          },
          "yaxis": {
           "automargin": true,
           "gridcolor": "white",
           "linecolor": "white",
           "ticks": "",
           "title": {
            "standoff": 15
           },
           "zerolinecolor": "white",
           "zerolinewidth": 2
          }
         }
        },
        "title": {
         "text": "Credences for Input Tokens"
        },
        "width": 800,
        "xaxis": {
         "tickangle": 45,
         "ticktext": [
          "<bos>",
          "▁The",
          "▁old",
          "▁man",
          "▁the",
          "▁boat",
          "."
         ],
         "tickvals": [
          0,
          1,
          2,
          3,
          4,
          5,
          6
         ]
        }
       }
      },
      "text/html": [
       "<div>                            <div id=\"22b80c4e-eb26-4322-990e-affeb5b7a6ee\" class=\"plotly-graph-div\" style=\"height:800px; width:800px;\"></div>            <script type=\"text/javascript\">                require([\"plotly\"], function(Plotly) {                    window.PLOTLYENV=window.PLOTLYENV || {};                                    if (document.getElementById(\"22b80c4e-eb26-4322-990e-affeb5b7a6ee\")) {                    Plotly.newPlot(                        \"22b80c4e-eb26-4322-990e-affeb5b7a6ee\",                        [{\"colorscale\":[[0,\"#FF0000\"],[1,\"#00FF00\"]],\"text\":[[\"  <bos>  \",\"  \\u2581The  \",\"  \\u2581old  \",\"  \\u2581man  \",\"  \\u2581the  \",\"  \\u2581boat  \",\"  .  \"],[\"  <bos>  \",\"  \\u2581The  \",\"  \\u2581old  \",\"  \\u2581man  \",\"  \\u2581the  \",\"  \\u2581boat  \",\"  .  \"],[\"  <bos>  \",\"  \\u2581The  \",\"  \\u2581old  \",\"  \\u2581man  \",\"  \\u2581the  \",\"  \\u2581boat  \",\"  .  \"],[\"  <bos>  \",\"  \\u2581The  \",\"  \\u2581old  \",\"  \\u2581man  \",\"  \\u2581the  \",\"  \\u2581boat  \",\"  .  \"],[\"  <bos>  \",\"  \\u2581The  \",\"  \\u2581old  \",\"  \\u2581man  \",\"  \\u2581the  \",\"  \\u2581boat  \",\"  .  \"],[\"  <bos>  \",\"  \\u2581The  \",\"  \\u2581old  \",\"  \\u2581man  \",\"  \\u2581the  \",\"  \\u2581boat  \",\"  .  \"],[\"  <bos>  \",\"  \\u2581The  \",\"  \\u2581old  \",\"  \\u2581man  \",\"  \\u2581the  \",\"  \\u2581boat  \",\"  .  \"],[\"  <bos>  \",\"  \\u2581The  \",\"  \\u2581old  \",\"  \\u2581man  \",\"  \\u2581the  \",\"  \\u2581boat  \",\"  .  \"],[\"  <bos>  \",\"  \\u2581The  \",\"  \\u2581old  \",\"  \\u2581man  \",\"  \\u2581the  \",\"  \\u2581boat  \",\"  .  \"],[\"  <bos>  \",\"  \\u2581The  \",\"  \\u2581old  \",\"  \\u2581man  \",\"  \\u2581the  \",\"  \\u2581boat  \",\"  .  \"],[\"  <bos>  \",\"  \\u2581The  \",\"  \\u2581old  \",\"  \\u2581man  \",\"  \\u2581the  \",\"  \\u2581boat  \",\"  .  \"],[\"  <bos>  \",\"  \\u2581The  \",\"  \\u2581old  \",\"  \\u2581man  \",\"  \\u2581the  \",\"  \\u2581boat  \",\"  .  \"],[\"  <bos>  \",\"  \\u2581The  \",\"  \\u2581old  \",\"  \\u2581man  \",\"  \\u2581the  \",\"  \\u2581boat  \",\"  .  \"],[\"  <bos>  \",\"  \\u2581The  \",\"  \\u2581old  \",\"  \\u2581man  \",\"  \\u2581the  \",\"  \\u2581boat  \",\"  .  \"],[\"  <bos>  \",\"  \\u2581The  \",\"  \\u2581old  \",\"  \\u2581man  \",\"  \\u2581the  \",\"  \\u2581boat  \",\"  .  \"],[\"  <bos>  \",\"  \\u2581The  \",\"  \\u2581old  \",\"  \\u2581man  \",\"  \\u2581the  \",\"  \\u2581boat  \",\"  .  \"],[\"  <bos>  \",\"  \\u2581The  \",\"  \\u2581old  \",\"  \\u2581man  \",\"  \\u2581the  \",\"  \\u2581boat  \",\"  .  \"],[\"  <bos>  \",\"  \\u2581The  \",\"  \\u2581old  \",\"  \\u2581man  \",\"  \\u2581the  \",\"  \\u2581boat  \",\"  .  \"],[\"  <bos>  \",\"  \\u2581The  \",\"  \\u2581old  \",\"  \\u2581man  \",\"  \\u2581the  \",\"  \\u2581boat  \",\"  .  \"],[\"  <bos>  \",\"  \\u2581The  \",\"  \\u2581old  \",\"  \\u2581man  \",\"  \\u2581the  \",\"  \\u2581boat  \",\"  .  \"],[\"  <bos>  \",\"  \\u2581The  \",\"  \\u2581old  \",\"  \\u2581man  \",\"  \\u2581the  \",\"  \\u2581boat  \",\"  .  \"],[\"  <bos>  \",\"  \\u2581The  \",\"  \\u2581old  \",\"  \\u2581man  \",\"  \\u2581the  \",\"  \\u2581boat  \",\"  .  \"],[\"  <bos>  \",\"  \\u2581The  \",\"  \\u2581old  \",\"  \\u2581man  \",\"  \\u2581the  \",\"  \\u2581boat  \",\"  .  \"],[\"  <bos>  \",\"  \\u2581The  \",\"  \\u2581old  \",\"  \\u2581man  \",\"  \\u2581the  \",\"  \\u2581boat  \",\"  .  \"],[\"  <bos>  \",\"  \\u2581The  \",\"  \\u2581old  \",\"  \\u2581man  \",\"  \\u2581the  \",\"  \\u2581boat  \",\"  .  \"],[\"  <bos>  \",\"  \\u2581The  \",\"  \\u2581old  \",\"  \\u2581man  \",\"  \\u2581the  \",\"  \\u2581boat  \",\"  .  \"],[\"  <bos>  \",\"  \\u2581The  \",\"  \\u2581old  \",\"  \\u2581man  \",\"  \\u2581the  \",\"  \\u2581boat  \",\"  .  \"],[\"  <bos>  \",\"  \\u2581The  \",\"  \\u2581old  \",\"  \\u2581man  \",\"  \\u2581the  \",\"  \\u2581boat  \",\"  .  \"],[\"  <bos>  \",\"  \\u2581The  \",\"  \\u2581old  \",\"  \\u2581man  \",\"  \\u2581the  \",\"  \\u2581boat  \",\"  .  \"],[\"  <bos>  \",\"  \\u2581The  \",\"  \\u2581old  \",\"  \\u2581man  \",\"  \\u2581the  \",\"  \\u2581boat  \",\"  .  \"],[\"  <bos>  \",\"  \\u2581The  \",\"  \\u2581old  \",\"  \\u2581man  \",\"  \\u2581the  \",\"  \\u2581boat  \",\"  .  \"],[\"  <bos>  \",\"  \\u2581The  \",\"  \\u2581old  \",\"  \\u2581man  \",\"  \\u2581the  \",\"  \\u2581boat  \",\"  .  \"]],\"textfont\":{\"color\":\"black\",\"size\":12},\"texttemplate\":\"%{text}\",\"z\":[[0.008845187723636627,0.04584826901555061,-0.023063821718096733,-0.04018872231245041,0.13169172406196594,-0.04396463930606842,-0.03249766677618027],[-0.15358802676200867,-0.2143976390361786,-0.10874750465154648,0.011471484787762165,-0.17652596533298492,-0.01579449512064457,-0.07725666463375092],[0.18735280632972717,0.10437029600143433,0.05176849290728569,-0.007149258628487587,0.04363199323415756,0.053962934762239456,-0.006184898782521486],[23.470369338989258,-0.25134286284446716,-0.1555270105600357,-0.18643106520175934,-0.2528802156448364,-0.12171744555234909,-0.190670907497406],[5.85875129699707,-0.2104581892490387,-0.20629209280014038,0.09366757422685623,-0.14735820889472961,-0.2472464144229889,-0.10677271336317062],[-16.72722625732422,-0.13353614509105682,-0.08595426380634308,-0.2512529194355011,-0.0131474444642663,-0.09415649622678757,-0.14163172245025635],[12.161348342895508,0.2074839323759079,0.12468567490577698,-0.02882475219666958,-0.004774284549057484,0.33856451511383057,-0.0017730441177263856],[2.064411163330078,0.25377920269966125,0.31339287757873535,0.42468002438545227,0.02339804172515869,0.45925721526145935,0.19948932528495789],[-2.1548967361450195,-0.0056199077516794205,-0.33563920855522156,-0.3862243592739105,-0.1770424246788025,-0.2688189446926117,-0.3259643018245697],[-5.717101097106934,-0.1632382720708847,0.5667598247528076,0.4281159043312073,0.21248729526996613,-0.06645681709051132,0.12583395838737488],[6.356625556945801,0.5139718651771545,0.24918389320373535,0.24612095952033997,-0.010088923387229443,0.506963312625885,-0.006577707827091217],[11.614984512329102,0.5209828615188599,-0.23652240633964539,-0.22379179298877716,-0.3782082200050354,0.18942664563655853,0.07055766135454178],[4.872463703155518,0.43086469173431396,-0.6738322973251343,-0.6817049384117126,-0.4409613311290741,0.0558394230902195,-0.291961669921875],[-3.228698968887329,0.03501402586698532,-1.0299187898635864,-1.0490654706954956,-0.7193494439125061,-0.4290306866168976,-0.7485656142234802],[-1.7535680532455444,-0.5321921110153198,0.7672786116600037,0.44800102710723877,0.5098327994346619,0.42553797364234924,0.17162123322486877],[7.8320207595825195,-0.013683677650988102,1.6750258207321167,1.413180947303772,1.3877484798431396,0.7830424308776855,0.7294390797615051],[-1.3073129653930664,0.6813579797744751,1.7451285123825073,1.7579073905944824,0.8872444033622742,1.1763272285461426,0.6286794543266296],[-9.335840225219727,0.8365377187728882,1.6621464490890503,1.3196974992752075,1.037756085395813,1.0967828035354614,1.1760002374649048],[-0.2068636417388916,0.42119643092155457,2.473684787750244,0.880223274230957,0.7215668559074402,1.547985553741455,0.9778502583503723],[1.8224728107452393,0.6815730929374695,2.7991700172424316,0.8780949115753174,1.0145968198776245,1.9571757316589355,1.2713336944580078],[-12.254570960998535,-1.9271199703216553,-3.34859561920166,-2.4281930923461914,-1.95819890499115,-3.4831271171569824,-1.9347285032272339],[-17.042085647583008,-2.318861246109009,-4.112184047698975,-3.396946668624878,-2.6662614345550537,-4.637625694274902,-2.545518636703491],[-28.596731185913086,-2.539721965789795,-4.005532264709473,-3.439652919769287,-2.951568841934204,-5.484236717224121,-2.9338128566741943],[-38.951324462890625,-3.1154212951660156,-5.544167995452881,-3.665071964263916,-3.790602922439575,-6.078958511352539,-3.2775042057037354],[-31.798603057861328,-3.6631953716278076,-6.111350059509277,-3.7454450130462646,-3.833177328109741,-6.243142127990723,-3.966248035430908],[25.593080520629883,4.486544609069824,7.1079206466674805,4.320352554321289,5.083920955657959,6.814816474914551,4.188502788543701],[-28.949676513671875,-4.922211170196533,-7.277227878570557,-4.689743995666504,-5.7497239112854,-6.594996452331543,-4.192339897155762],[31.209741592407227,4.631700038909912,6.557735919952393,5.6428070068359375,6.632741928100586,6.94995641708374,4.217970848083496],[-34.25849914550781,-5.071702480316162,-7.4604997634887695,-5.728822231292725,-6.929747104644775,-6.753052234649658,-4.524651050567627],[-47.07886505126953,-5.442872047424316,-7.055637359619141,-6.540554523468018,-6.953447341918945,-6.605974197387695,-4.73993444442749],[-45.61503982543945,-5.242952346801758,-8.12614631652832,-7.647197723388672,-6.643217086791992,-7.566311359405518,-5.007569789886475],[0.17738297581672668,-6.205224514007568,-10.515033721923828,-7.92218542098999,-6.828107833862305,-8.358108520507812,-5.703969955444336]],\"type\":\"heatmap\"}],                        {\"height\":800,\"sliders\":[{\"active\":1,\"currentvalue\":{\"prefix\":\"Step: \"},\"len\":0.9,\"pad\":{\"t\":50},\"steps\":[{\"args\":[{\"visible\":[true,true,true,true,true,true,true]},{\"title\":\"Credences for Input Tokens\",\"xaxis\":{\"tickvals\":[0,1,2,3,4,5,6],\"ticktext\":[\"<bos>\",\"\\u2581The\",\"\\u2581old\",\"\\u2581man\",\"\\u2581the\",\"\\u2581boat\",\".\"],\"tickangle\":45},\"annotations\":[]}],\"method\":\"update\"}],\"visible\":true}],\"template\":{\"data\":{\"barpolar\":[{\"marker\":{\"line\":{\"color\":\"#E5ECF6\",\"width\":0.5},\"pattern\":{\"fillmode\":\"overlay\",\"size\":10,\"solidity\":0.2}},\"type\":\"barpolar\"}],\"bar\":[{\"error_x\":{\"color\":\"#2a3f5f\"},\"error_y\":{\"color\":\"#2a3f5f\"},\"marker\":{\"line\":{\"color\":\"#E5ECF6\",\"width\":0.5},\"pattern\":{\"fillmode\":\"overlay\",\"size\":10,\"solidity\":0.2}},\"type\":\"bar\"}],\"carpet\":[{\"aaxis\":{\"endlinecolor\":\"#2a3f5f\",\"gridcolor\":\"white\",\"linecolor\":\"white\",\"minorgridcolor\":\"white\",\"startlinecolor\":\"#2a3f5f\"},\"baxis\":{\"endlinecolor\":\"#2a3f5f\",\"gridcolor\":\"white\",\"linecolor\":\"white\",\"minorgridcolor\":\"white\",\"startlinecolor\":\"#2a3f5f\"},\"type\":\"carpet\"}],\"choropleth\":[{\"colorbar\":{\"outlinewidth\":0,\"ticks\":\"\"},\"type\":\"choropleth\"}],\"contourcarpet\":[{\"colorbar\":{\"outlinewidth\":0,\"ticks\":\"\"},\"type\":\"contourcarpet\"}],\"contour\":[{\"colorbar\":{\"outlinewidth\":0,\"ticks\":\"\"},\"colorscale\":[[0.0,\"#0d0887\"],[0.1111111111111111,\"#46039f\"],[0.2222222222222222,\"#7201a8\"],[0.3333333333333333,\"#9c179e\"],[0.4444444444444444,\"#bd3786\"],[0.5555555555555556,\"#d8576b\"],[0.6666666666666666,\"#ed7953\"],[0.7777777777777778,\"#fb9f3a\"],[0.8888888888888888,\"#fdca26\"],[1.0,\"#f0f921\"]],\"type\":\"contour\"}],\"heatmapgl\":[{\"colorbar\":{\"outlinewidth\":0,\"ticks\":\"\"},\"colorscale\":[[0.0,\"#0d0887\"],[0.1111111111111111,\"#46039f\"],[0.2222222222222222,\"#7201a8\"],[0.3333333333333333,\"#9c179e\"],[0.4444444444444444,\"#bd3786\"],[0.5555555555555556,\"#d8576b\"],[0.6666666666666666,\"#ed7953\"],[0.7777777777777778,\"#fb9f3a\"],[0.8888888888888888,\"#fdca26\"],[1.0,\"#f0f921\"]],\"type\":\"heatmapgl\"}],\"heatmap\":[{\"colorbar\":{\"outlinewidth\":0,\"ticks\":\"\"},\"colorscale\":[[0.0,\"#0d0887\"],[0.1111111111111111,\"#46039f\"],[0.2222222222222222,\"#7201a8\"],[0.3333333333333333,\"#9c179e\"],[0.4444444444444444,\"#bd3786\"],[0.5555555555555556,\"#d8576b\"],[0.6666666666666666,\"#ed7953\"],[0.7777777777777778,\"#fb9f3a\"],[0.8888888888888888,\"#fdca26\"],[1.0,\"#f0f921\"]],\"type\":\"heatmap\"}],\"histogram2dcontour\":[{\"colorbar\":{\"outlinewidth\":0,\"ticks\":\"\"},\"colorscale\":[[0.0,\"#0d0887\"],[0.1111111111111111,\"#46039f\"],[0.2222222222222222,\"#7201a8\"],[0.3333333333333333,\"#9c179e\"],[0.4444444444444444,\"#bd3786\"],[0.5555555555555556,\"#d8576b\"],[0.6666666666666666,\"#ed7953\"],[0.7777777777777778,\"#fb9f3a\"],[0.8888888888888888,\"#fdca26\"],[1.0,\"#f0f921\"]],\"type\":\"histogram2dcontour\"}],\"histogram2d\":[{\"colorbar\":{\"outlinewidth\":0,\"ticks\":\"\"},\"colorscale\":[[0.0,\"#0d0887\"],[0.1111111111111111,\"#46039f\"],[0.2222222222222222,\"#7201a8\"],[0.3333333333333333,\"#9c179e\"],[0.4444444444444444,\"#bd3786\"],[0.5555555555555556,\"#d8576b\"],[0.6666666666666666,\"#ed7953\"],[0.7777777777777778,\"#fb9f3a\"],[0.8888888888888888,\"#fdca26\"],[1.0,\"#f0f921\"]],\"type\":\"histogram2d\"}],\"histogram\":[{\"marker\":{\"pattern\":{\"fillmode\":\"overlay\",\"size\":10,\"solidity\":0.2}},\"type\":\"histogram\"}],\"mesh3d\":[{\"colorbar\":{\"outlinewidth\":0,\"ticks\":\"\"},\"type\":\"mesh3d\"}],\"parcoords\":[{\"line\":{\"colorbar\":{\"outlinewidth\":0,\"ticks\":\"\"}},\"type\":\"parcoords\"}],\"pie\":[{\"automargin\":true,\"type\":\"pie\"}],\"scatter3d\":[{\"line\":{\"colorbar\":{\"outlinewidth\":0,\"ticks\":\"\"}},\"marker\":{\"colorbar\":{\"outlinewidth\":0,\"ticks\":\"\"}},\"type\":\"scatter3d\"}],\"scattercarpet\":[{\"marker\":{\"colorbar\":{\"outlinewidth\":0,\"ticks\":\"\"}},\"type\":\"scattercarpet\"}],\"scattergeo\":[{\"marker\":{\"colorbar\":{\"outlinewidth\":0,\"ticks\":\"\"}},\"type\":\"scattergeo\"}],\"scattergl\":[{\"marker\":{\"colorbar\":{\"outlinewidth\":0,\"ticks\":\"\"}},\"type\":\"scattergl\"}],\"scattermapbox\":[{\"marker\":{\"colorbar\":{\"outlinewidth\":0,\"ticks\":\"\"}},\"type\":\"scattermapbox\"}],\"scatterpolargl\":[{\"marker\":{\"colorbar\":{\"outlinewidth\":0,\"ticks\":\"\"}},\"type\":\"scatterpolargl\"}],\"scatterpolar\":[{\"marker\":{\"colorbar\":{\"outlinewidth\":0,\"ticks\":\"\"}},\"type\":\"scatterpolar\"}],\"scatter\":[{\"fillpattern\":{\"fillmode\":\"overlay\",\"size\":10,\"solidity\":0.2},\"type\":\"scatter\"}],\"scatterternary\":[{\"marker\":{\"colorbar\":{\"outlinewidth\":0,\"ticks\":\"\"}},\"type\":\"scatterternary\"}],\"surface\":[{\"colorbar\":{\"outlinewidth\":0,\"ticks\":\"\"},\"colorscale\":[[0.0,\"#0d0887\"],[0.1111111111111111,\"#46039f\"],[0.2222222222222222,\"#7201a8\"],[0.3333333333333333,\"#9c179e\"],[0.4444444444444444,\"#bd3786\"],[0.5555555555555556,\"#d8576b\"],[0.6666666666666666,\"#ed7953\"],[0.7777777777777778,\"#fb9f3a\"],[0.8888888888888888,\"#fdca26\"],[1.0,\"#f0f921\"]],\"type\":\"surface\"}],\"table\":[{\"cells\":{\"fill\":{\"color\":\"#EBF0F8\"},\"line\":{\"color\":\"white\"}},\"header\":{\"fill\":{\"color\":\"#C8D4E3\"},\"line\":{\"color\":\"white\"}},\"type\":\"table\"}]},\"layout\":{\"annotationdefaults\":{\"arrowcolor\":\"#2a3f5f\",\"arrowhead\":0,\"arrowwidth\":1},\"autotypenumbers\":\"strict\",\"coloraxis\":{\"colorbar\":{\"outlinewidth\":0,\"ticks\":\"\"}},\"colorscale\":{\"diverging\":[[0,\"#8e0152\"],[0.1,\"#c51b7d\"],[0.2,\"#de77ae\"],[0.3,\"#f1b6da\"],[0.4,\"#fde0ef\"],[0.5,\"#f7f7f7\"],[0.6,\"#e6f5d0\"],[0.7,\"#b8e186\"],[0.8,\"#7fbc41\"],[0.9,\"#4d9221\"],[1,\"#276419\"]],\"sequential\":[[0.0,\"#0d0887\"],[0.1111111111111111,\"#46039f\"],[0.2222222222222222,\"#7201a8\"],[0.3333333333333333,\"#9c179e\"],[0.4444444444444444,\"#bd3786\"],[0.5555555555555556,\"#d8576b\"],[0.6666666666666666,\"#ed7953\"],[0.7777777777777778,\"#fb9f3a\"],[0.8888888888888888,\"#fdca26\"],[1.0,\"#f0f921\"]],\"sequentialminus\":[[0.0,\"#0d0887\"],[0.1111111111111111,\"#46039f\"],[0.2222222222222222,\"#7201a8\"],[0.3333333333333333,\"#9c179e\"],[0.4444444444444444,\"#bd3786\"],[0.5555555555555556,\"#d8576b\"],[0.6666666666666666,\"#ed7953\"],[0.7777777777777778,\"#fb9f3a\"],[0.8888888888888888,\"#fdca26\"],[1.0,\"#f0f921\"]]},\"colorway\":[\"#636efa\",\"#EF553B\",\"#00cc96\",\"#ab63fa\",\"#FFA15A\",\"#19d3f3\",\"#FF6692\",\"#B6E880\",\"#FF97FF\",\"#FECB52\"],\"font\":{\"color\":\"#2a3f5f\"},\"geo\":{\"bgcolor\":\"white\",\"lakecolor\":\"white\",\"landcolor\":\"#E5ECF6\",\"showlakes\":true,\"showland\":true,\"subunitcolor\":\"white\"},\"hoverlabel\":{\"align\":\"left\"},\"hovermode\":\"closest\",\"mapbox\":{\"style\":\"light\"},\"paper_bgcolor\":\"white\",\"plot_bgcolor\":\"#E5ECF6\",\"polar\":{\"angularaxis\":{\"gridcolor\":\"white\",\"linecolor\":\"white\",\"ticks\":\"\"},\"bgcolor\":\"#E5ECF6\",\"radialaxis\":{\"gridcolor\":\"white\",\"linecolor\":\"white\",\"ticks\":\"\"}},\"scene\":{\"xaxis\":{\"backgroundcolor\":\"#E5ECF6\",\"gridcolor\":\"white\",\"gridwidth\":2,\"linecolor\":\"white\",\"showbackground\":true,\"ticks\":\"\",\"zerolinecolor\":\"white\"},\"yaxis\":{\"backgroundcolor\":\"#E5ECF6\",\"gridcolor\":\"white\",\"gridwidth\":2,\"linecolor\":\"white\",\"showbackground\":true,\"ticks\":\"\",\"zerolinecolor\":\"white\"},\"zaxis\":{\"backgroundcolor\":\"#E5ECF6\",\"gridcolor\":\"white\",\"gridwidth\":2,\"linecolor\":\"white\",\"showbackground\":true,\"ticks\":\"\",\"zerolinecolor\":\"white\"}},\"shapedefaults\":{\"line\":{\"color\":\"#2a3f5f\"}},\"ternary\":{\"aaxis\":{\"gridcolor\":\"white\",\"linecolor\":\"white\",\"ticks\":\"\"},\"baxis\":{\"gridcolor\":\"white\",\"linecolor\":\"white\",\"ticks\":\"\"},\"bgcolor\":\"#E5ECF6\",\"caxis\":{\"gridcolor\":\"white\",\"linecolor\":\"white\",\"ticks\":\"\"}},\"title\":{\"x\":0.05},\"xaxis\":{\"automargin\":true,\"gridcolor\":\"white\",\"linecolor\":\"white\",\"ticks\":\"\",\"title\":{\"standoff\":15},\"zerolinecolor\":\"white\",\"zerolinewidth\":2},\"yaxis\":{\"automargin\":true,\"gridcolor\":\"white\",\"linecolor\":\"white\",\"ticks\":\"\",\"title\":{\"standoff\":15},\"zerolinecolor\":\"white\",\"zerolinewidth\":2}}},\"title\":{\"text\":\"Credences for Input Tokens\"},\"width\":800,\"xaxis\":{\"tickangle\":45,\"ticktext\":[\"<bos>\",\"\\u2581The\",\"\\u2581old\",\"\\u2581man\",\"\\u2581the\",\"\\u2581boat\",\".\"],\"tickvals\":[0,1,2,3,4,5,6]}},                        {\"responsive\": true}                    ).then(function(){\n",
       "                            \n",
       "var gd = document.getElementById('22b80c4e-eb26-4322-990e-affeb5b7a6ee');\n",
       "var x = new MutationObserver(function (mutations, observer) {{\n",
       "        var display = window.getComputedStyle(gd).display;\n",
       "        if (!display || display === 'none') {{\n",
       "            console.log([gd, 'removed!']);\n",
       "            Plotly.purge(gd);\n",
       "            observer.disconnect();\n",
       "        }}\n",
       "}});\n",
       "\n",
       "// Listen for the removal of the full notebook cells\n",
       "var notebookContainer = gd.closest('#notebook-container');\n",
       "if (notebookContainer) {{\n",
       "    x.observe(notebookContainer, {childList: true});\n",
       "}}\n",
       "\n",
       "// Listen for the clearing of the current output cell\n",
       "var outputEl = gd.closest('.output');\n",
       "if (outputEl) {{\n",
       "    x.observe(outputEl, {childList: true});\n",
       "}}\n",
       "\n",
       "                        })                };                });            </script>        </div>"
      ]
     },
     "metadata": {},
     "output_type": "display_data"
    },
    {
     "data": {
      "application/vnd.plotly.v1+json": {
       "config": {
        "linkText": "Export to plot.ly",
        "plotlyServerURL": "https://plot.ly",
        "showLink": false
       },
       "data": [
        {
         "colorscale": [
          [
           0,
           "#FF0000"
          ],
          [
           1,
           "#00FF00"
          ]
         ],
         "text": [
          [
           "  <bos>  ",
           "  ▁The  ",
           "  ▁complex  ",
           "  ▁houses  ",
           "  ▁married  ",
           "  ▁and  ",
           "  ▁single  ",
           "  ▁soldiers  ",
           "  ▁and  ",
           "  ▁their  ",
           "  ▁families  ",
           "  .  "
          ],
          [
           "  <bos>  ",
           "  ▁The  ",
           "  ▁complex  ",
           "  ▁houses  ",
           "  ▁married  ",
           "  ▁and  ",
           "  ▁single  ",
           "  ▁soldiers  ",
           "  ▁and  ",
           "  ▁their  ",
           "  ▁families  ",
           "  .  "
          ],
          [
           "  <bos>  ",
           "  ▁The  ",
           "  ▁complex  ",
           "  ▁houses  ",
           "  ▁married  ",
           "  ▁and  ",
           "  ▁single  ",
           "  ▁soldiers  ",
           "  ▁and  ",
           "  ▁their  ",
           "  ▁families  ",
           "  .  "
          ],
          [
           "  <bos>  ",
           "  ▁The  ",
           "  ▁complex  ",
           "  ▁houses  ",
           "  ▁married  ",
           "  ▁and  ",
           "  ▁single  ",
           "  ▁soldiers  ",
           "  ▁and  ",
           "  ▁their  ",
           "  ▁families  ",
           "  .  "
          ],
          [
           "  <bos>  ",
           "  ▁The  ",
           "  ▁complex  ",
           "  ▁houses  ",
           "  ▁married  ",
           "  ▁and  ",
           "  ▁single  ",
           "  ▁soldiers  ",
           "  ▁and  ",
           "  ▁their  ",
           "  ▁families  ",
           "  .  "
          ],
          [
           "  <bos>  ",
           "  ▁The  ",
           "  ▁complex  ",
           "  ▁houses  ",
           "  ▁married  ",
           "  ▁and  ",
           "  ▁single  ",
           "  ▁soldiers  ",
           "  ▁and  ",
           "  ▁their  ",
           "  ▁families  ",
           "  .  "
          ],
          [
           "  <bos>  ",
           "  ▁The  ",
           "  ▁complex  ",
           "  ▁houses  ",
           "  ▁married  ",
           "  ▁and  ",
           "  ▁single  ",
           "  ▁soldiers  ",
           "  ▁and  ",
           "  ▁their  ",
           "  ▁families  ",
           "  .  "
          ],
          [
           "  <bos>  ",
           "  ▁The  ",
           "  ▁complex  ",
           "  ▁houses  ",
           "  ▁married  ",
           "  ▁and  ",
           "  ▁single  ",
           "  ▁soldiers  ",
           "  ▁and  ",
           "  ▁their  ",
           "  ▁families  ",
           "  .  "
          ],
          [
           "  <bos>  ",
           "  ▁The  ",
           "  ▁complex  ",
           "  ▁houses  ",
           "  ▁married  ",
           "  ▁and  ",
           "  ▁single  ",
           "  ▁soldiers  ",
           "  ▁and  ",
           "  ▁their  ",
           "  ▁families  ",
           "  .  "
          ],
          [
           "  <bos>  ",
           "  ▁The  ",
           "  ▁complex  ",
           "  ▁houses  ",
           "  ▁married  ",
           "  ▁and  ",
           "  ▁single  ",
           "  ▁soldiers  ",
           "  ▁and  ",
           "  ▁their  ",
           "  ▁families  ",
           "  .  "
          ],
          [
           "  <bos>  ",
           "  ▁The  ",
           "  ▁complex  ",
           "  ▁houses  ",
           "  ▁married  ",
           "  ▁and  ",
           "  ▁single  ",
           "  ▁soldiers  ",
           "  ▁and  ",
           "  ▁their  ",
           "  ▁families  ",
           "  .  "
          ],
          [
           "  <bos>  ",
           "  ▁The  ",
           "  ▁complex  ",
           "  ▁houses  ",
           "  ▁married  ",
           "  ▁and  ",
           "  ▁single  ",
           "  ▁soldiers  ",
           "  ▁and  ",
           "  ▁their  ",
           "  ▁families  ",
           "  .  "
          ],
          [
           "  <bos>  ",
           "  ▁The  ",
           "  ▁complex  ",
           "  ▁houses  ",
           "  ▁married  ",
           "  ▁and  ",
           "  ▁single  ",
           "  ▁soldiers  ",
           "  ▁and  ",
           "  ▁their  ",
           "  ▁families  ",
           "  .  "
          ],
          [
           "  <bos>  ",
           "  ▁The  ",
           "  ▁complex  ",
           "  ▁houses  ",
           "  ▁married  ",
           "  ▁and  ",
           "  ▁single  ",
           "  ▁soldiers  ",
           "  ▁and  ",
           "  ▁their  ",
           "  ▁families  ",
           "  .  "
          ],
          [
           "  <bos>  ",
           "  ▁The  ",
           "  ▁complex  ",
           "  ▁houses  ",
           "  ▁married  ",
           "  ▁and  ",
           "  ▁single  ",
           "  ▁soldiers  ",
           "  ▁and  ",
           "  ▁their  ",
           "  ▁families  ",
           "  .  "
          ],
          [
           "  <bos>  ",
           "  ▁The  ",
           "  ▁complex  ",
           "  ▁houses  ",
           "  ▁married  ",
           "  ▁and  ",
           "  ▁single  ",
           "  ▁soldiers  ",
           "  ▁and  ",
           "  ▁their  ",
           "  ▁families  ",
           "  .  "
          ],
          [
           "  <bos>  ",
           "  ▁The  ",
           "  ▁complex  ",
           "  ▁houses  ",
           "  ▁married  ",
           "  ▁and  ",
           "  ▁single  ",
           "  ▁soldiers  ",
           "  ▁and  ",
           "  ▁their  ",
           "  ▁families  ",
           "  .  "
          ],
          [
           "  <bos>  ",
           "  ▁The  ",
           "  ▁complex  ",
           "  ▁houses  ",
           "  ▁married  ",
           "  ▁and  ",
           "  ▁single  ",
           "  ▁soldiers  ",
           "  ▁and  ",
           "  ▁their  ",
           "  ▁families  ",
           "  .  "
          ],
          [
           "  <bos>  ",
           "  ▁The  ",
           "  ▁complex  ",
           "  ▁houses  ",
           "  ▁married  ",
           "  ▁and  ",
           "  ▁single  ",
           "  ▁soldiers  ",
           "  ▁and  ",
           "  ▁their  ",
           "  ▁families  ",
           "  .  "
          ],
          [
           "  <bos>  ",
           "  ▁The  ",
           "  ▁complex  ",
           "  ▁houses  ",
           "  ▁married  ",
           "  ▁and  ",
           "  ▁single  ",
           "  ▁soldiers  ",
           "  ▁and  ",
           "  ▁their  ",
           "  ▁families  ",
           "  .  "
          ],
          [
           "  <bos>  ",
           "  ▁The  ",
           "  ▁complex  ",
           "  ▁houses  ",
           "  ▁married  ",
           "  ▁and  ",
           "  ▁single  ",
           "  ▁soldiers  ",
           "  ▁and  ",
           "  ▁their  ",
           "  ▁families  ",
           "  .  "
          ],
          [
           "  <bos>  ",
           "  ▁The  ",
           "  ▁complex  ",
           "  ▁houses  ",
           "  ▁married  ",
           "  ▁and  ",
           "  ▁single  ",
           "  ▁soldiers  ",
           "  ▁and  ",
           "  ▁their  ",
           "  ▁families  ",
           "  .  "
          ],
          [
           "  <bos>  ",
           "  ▁The  ",
           "  ▁complex  ",
           "  ▁houses  ",
           "  ▁married  ",
           "  ▁and  ",
           "  ▁single  ",
           "  ▁soldiers  ",
           "  ▁and  ",
           "  ▁their  ",
           "  ▁families  ",
           "  .  "
          ],
          [
           "  <bos>  ",
           "  ▁The  ",
           "  ▁complex  ",
           "  ▁houses  ",
           "  ▁married  ",
           "  ▁and  ",
           "  ▁single  ",
           "  ▁soldiers  ",
           "  ▁and  ",
           "  ▁their  ",
           "  ▁families  ",
           "  .  "
          ],
          [
           "  <bos>  ",
           "  ▁The  ",
           "  ▁complex  ",
           "  ▁houses  ",
           "  ▁married  ",
           "  ▁and  ",
           "  ▁single  ",
           "  ▁soldiers  ",
           "  ▁and  ",
           "  ▁their  ",
           "  ▁families  ",
           "  .  "
          ],
          [
           "  <bos>  ",
           "  ▁The  ",
           "  ▁complex  ",
           "  ▁houses  ",
           "  ▁married  ",
           "  ▁and  ",
           "  ▁single  ",
           "  ▁soldiers  ",
           "  ▁and  ",
           "  ▁their  ",
           "  ▁families  ",
           "  .  "
          ],
          [
           "  <bos>  ",
           "  ▁The  ",
           "  ▁complex  ",
           "  ▁houses  ",
           "  ▁married  ",
           "  ▁and  ",
           "  ▁single  ",
           "  ▁soldiers  ",
           "  ▁and  ",
           "  ▁their  ",
           "  ▁families  ",
           "  .  "
          ],
          [
           "  <bos>  ",
           "  ▁The  ",
           "  ▁complex  ",
           "  ▁houses  ",
           "  ▁married  ",
           "  ▁and  ",
           "  ▁single  ",
           "  ▁soldiers  ",
           "  ▁and  ",
           "  ▁their  ",
           "  ▁families  ",
           "  .  "
          ],
          [
           "  <bos>  ",
           "  ▁The  ",
           "  ▁complex  ",
           "  ▁houses  ",
           "  ▁married  ",
           "  ▁and  ",
           "  ▁single  ",
           "  ▁soldiers  ",
           "  ▁and  ",
           "  ▁their  ",
           "  ▁families  ",
           "  .  "
          ],
          [
           "  <bos>  ",
           "  ▁The  ",
           "  ▁complex  ",
           "  ▁houses  ",
           "  ▁married  ",
           "  ▁and  ",
           "  ▁single  ",
           "  ▁soldiers  ",
           "  ▁and  ",
           "  ▁their  ",
           "  ▁families  ",
           "  .  "
          ],
          [
           "  <bos>  ",
           "  ▁The  ",
           "  ▁complex  ",
           "  ▁houses  ",
           "  ▁married  ",
           "  ▁and  ",
           "  ▁single  ",
           "  ▁soldiers  ",
           "  ▁and  ",
           "  ▁their  ",
           "  ▁families  ",
           "  .  "
          ],
          [
           "  <bos>  ",
           "  ▁The  ",
           "  ▁complex  ",
           "  ▁houses  ",
           "  ▁married  ",
           "  ▁and  ",
           "  ▁single  ",
           "  ▁soldiers  ",
           "  ▁and  ",
           "  ▁their  ",
           "  ▁families  ",
           "  .  "
          ]
         ],
         "textfont": {
          "color": "black",
          "size": 12
         },
         "texttemplate": "%{text}",
         "type": "heatmap",
         "z": [
          [
           0.008845187723636627,
           0.04584826901555061,
           0.04075548052787781,
           0.009988788515329361,
           -0.02158167026937008,
           0.04726746305823326,
           -0.0006826299359090626,
           0.006785288453102112,
           0.04726746305823326,
           0.011243065819144249,
           0.029774608090519905,
           -0.03249766677618027
          ],
          [
           -0.15358802676200867,
           -0.21439756453037262,
           -0.09029276669025421,
           -0.11427206546068192,
           -0.02671961300075054,
           -0.0844275951385498,
           -0.09632835537195206,
           0.021222610026597977,
           -0.07549790292978287,
           0.008642908185720444,
           -0.04064813628792763,
           -0.054872624576091766
          ],
          [
           0.18735280632972717,
           0.10437030345201492,
           0.039382949471473694,
           0.21200785040855408,
           0.08513247966766357,
           0.007471299730241299,
           0.138728529214859,
           -0.15221920609474182,
           0.024409035220742226,
           -0.03523203358054161,
           -0.06387821584939957,
           0.013593275099992752
          ],
          [
           23.470369338989258,
           -0.25134286284446716,
           -0.05759811773896217,
           0.01997026801109314,
           0.03799992427229881,
           -0.1443762630224228,
           -0.13491789996623993,
           -0.21506734192371368,
           -0.19033722579479218,
           -0.23011864721775055,
           -0.18347826600074768,
           -0.1693049818277359
          ],
          [
           5.85875129699707,
           -0.21045812964439392,
           -0.027475276961922646,
           0.010296646505594254,
           0.060480691492557526,
           -0.0076117608696222305,
           0.15437781810760498,
           -0.15367451310157776,
           -0.10019616037607193,
           -0.003202364081516862,
           0.11965569108724594,
           -0.08511005342006683
          ],
          [
           -16.72722625732422,
           -0.13353614509105682,
           -0.10390948504209518,
           -0.3141825199127197,
           -0.18374770879745483,
           -0.3294493556022644,
           -0.48446518182754517,
           0.07865924388170242,
           -0.02549280971288681,
           -0.04538023844361305,
           -0.3560618460178375,
           -0.039422065019607544
          ],
          [
           12.161348342895508,
           0.2074839174747467,
           0.2898416221141815,
           0.18541331589221954,
           0.2650350332260132,
           0.35934093594551086,
           0.4449307918548584,
           0.16518084704875946,
           -0.022999638691544533,
           -0.09287578612565994,
           0.3191460967063904,
           0.03645910695195198
          ],
          [
           2.064411163330078,
           0.2537793517112732,
           0.530152440071106,
           0.24382014572620392,
           0.21632857620716095,
           0.765968918800354,
           0.8656783103942871,
           0.3036792576313019,
           0.3072502017021179,
           -0.0897664800286293,
           0.18693478405475616,
           0.36100661754608154
          ],
          [
           -2.1548967361450195,
           -0.005619481671601534,
           -0.15687742829322815,
           -0.22031138837337494,
           -0.2404624968767166,
           -0.7554532289505005,
           -0.8294524550437927,
           -0.19560587406158447,
           -0.42388588190078735,
           0.10333318263292313,
           0.20549827814102173,
           -0.4555206298828125
          ],
          [
           -5.717101097106934,
           -0.16323845088481903,
           0.14388048648834229,
           0.10431710630655289,
           0.2643338739871979,
           0.5838657021522522,
           0.3240886628627777,
           0.3731289803981781,
           0.2470630556344986,
           -0.014096182771027088,
           -0.52406245470047,
           0.24990415573120117
          ],
          [
           6.356625556945801,
           0.5139719843864441,
           0.06885841488838196,
           0.37038081884384155,
           -0.42377427220344543,
           -0.2325664758682251,
           0.01134914718568325,
           0.5241625308990479,
           0.24710069596767426,
           0.49471354484558105,
           0.20027323067188263,
           0.1859913319349289
          ],
          [
           11.614984512329102,
           0.5209820866584778,
           -0.19519038498401642,
           0.35940223932266235,
           -0.7723256945610046,
           -0.5875419974327087,
           -0.14551082253456116,
           0.2768137753009796,
           -0.11404924839735031,
           0.480487197637558,
           -0.08266033232212067,
           0.1584368497133255
          ],
          [
           4.872463703155518,
           0.4308643937110901,
           -0.3104691803455353,
           0.1121084988117218,
           -0.3112561106681824,
           0.05286569520831108,
           0.5145574808120728,
           0.07677536457777023,
           -0.21906191110610962,
           0.5849171876907349,
           -0.051833707839250565,
           0.09740041196346283
          ],
          [
           -3.228698968887329,
           0.03501423820853233,
           -0.6684685945510864,
           -0.5203297734260559,
           -0.5730998516082764,
           -0.2980279326438904,
           0.42468661069869995,
           -0.18794181942939758,
           -0.43351560831069946,
           0.39639759063720703,
           0.17608553171157837,
           -0.3362235426902771
          ],
          [
           -1.7535680532455444,
           -0.5321927070617676,
           0.717076301574707,
           0.6182206273078918,
           0.4082306921482086,
           0.1144712045788765,
           0.08691535145044327,
           0.3190625011920929,
           0.29530760645866394,
           -0.3464582860469818,
           -0.07953830063343048,
           0.49335694313049316
          ],
          [
           7.8320207595825195,
           -0.013683555647730827,
           1.6501877307891846,
           1.0182069540023804,
           0.4202292561531067,
           0.6943137645721436,
           0.5861470699310303,
           0.5209644436836243,
           0.7637858986854553,
           -0.06357555091381073,
           0.3969706594944,
           1.2614250183105469
          ],
          [
           -1.3073129653930664,
           0.6813579797744751,
           1.3598406314849854,
           1.0785692930221558,
           1.4629329442977905,
           0.29920440912246704,
           0.7624474763870239,
           1.1859748363494873,
           0.7826157808303833,
           0.5260890126228333,
           0.6808106303215027,
           0.7163401246070862
          ],
          [
           -9.335840225219727,
           0.8365367650985718,
           1.004136323928833,
           0.8558129668235779,
           1.0195813179016113,
           -0.2664510905742645,
           0.4130386412143707,
           0.4513441026210785,
           -0.12895384430885315,
           -0.01880207657814026,
           0.37595614790916443,
           0.21176974475383759
          ],
          [
           -0.2068636417388916,
           0.42119553685188293,
           0.16110649704933167,
           1.0865377187728882,
           0.9504265785217285,
           0.03604428470134735,
           -0.5050102472305298,
           0.2993845045566559,
           0.024396147578954697,
           -0.013329187408089638,
           0.21705599129199982,
           0.6710019707679749
          ],
          [
           1.8224728107452393,
           0.6815717816352844,
           0.13955338299274445,
           1.67793869972229,
           2.017388105392456,
           1.0347555875778198,
           0.8296459317207336,
           1.1621153354644775,
           0.8854058384895325,
           0.312157541513443,
           0.7593759298324585,
           1.6308785676956177
          ],
          [
           -12.254570960998535,
           -1.9271193742752075,
           -0.402367502450943,
           -3.1341466903686523,
           -2.820801019668579,
           -2.5040204524993896,
           -1.0896636247634888,
           -1.9976671934127808,
           -2.6378285884857178,
           -0.8670023083686829,
           -1.0547142028808594,
           -2.705322027206421
          ],
          [
           -17.042085647583008,
           -2.3188607692718506,
           -1.4424662590026855,
           -3.357353448867798,
           -2.240398406982422,
           -2.0594379901885986,
           -0.6107730269432068,
           -2.4551830291748047,
           -3.2612411975860596,
           -0.7709951400756836,
           -1.5985028743743896,
           -3.2836804389953613
          ],
          [
           -28.596731185913086,
           -2.5397207736968994,
           -1.552978277206421,
           -3.4416086673736572,
           -1.640564203262329,
           -3.074739694595337,
           -0.6317189335823059,
           -2.2770743370056152,
           -3.7376856803894043,
           -1.3579514026641846,
           -1.187952995300293,
           -3.903252124786377
          ],
          [
           -38.951324462890625,
           -3.115420341491699,
           -1.9841686487197876,
           -3.0991272926330566,
           -1.7986149787902832,
           -2.743640422821045,
           -1.0006179809570312,
           -1.8747148513793945,
           -4.158677577972412,
           -1.4342491626739502,
           -1.3866090774536133,
           -4.081066608428955
          ],
          [
           -31.798603057861328,
           -3.6631948947906494,
           -2.5198466777801514,
           -3.928086757659912,
           -3.5399184226989746,
           -3.1548218727111816,
           -3.3891098499298096,
           -2.6135976314544678,
           -5.469426155090332,
           -2.8751373291015625,
           -1.4962143898010254,
           -4.516744136810303
          ],
          [
           25.593080520629883,
           4.486546516418457,
           3.20574688911438,
           5.053211212158203,
           5.000048637390137,
           2.8864097595214844,
           4.664639949798584,
           3.200023889541626,
           5.309726715087891,
           1.8183058500289917,
           2.0439372062683105,
           5.71762752532959
          ],
          [
           -28.949676513671875,
           -4.922212600708008,
           -3.1913323402404785,
           -4.898275375366211,
           -5.316022872924805,
           -2.132282257080078,
           -4.541289329528809,
           -2.81315016746521,
           -4.67411470413208,
           -2.9800703525543213,
           -2.309278726577759,
           -5.239776611328125
          ],
          [
           31.209741592407227,
           4.631702899932861,
           3.209751605987549,
           3.8596725463867188,
           4.941749095916748,
           1.378450870513916,
           3.8848259449005127,
           2.874180316925049,
           4.407975196838379,
           2.983980417251587,
           3.830111026763916,
           5.903454780578613
          ],
          [
           -34.25849914550781,
           -5.071704387664795,
           -3.980621099472046,
           -4.448512077331543,
           -5.679192066192627,
           -0.9589910507202148,
           -4.655489921569824,
           -3.6034600734710693,
           -4.170286655426025,
           -1.916034460067749,
           -4.248917579650879,
           -6.180004596710205
          ],
          [
           -47.07886505126953,
           -5.442873001098633,
           -4.306774139404297,
           -4.709615230560303,
           -4.396525859832764,
           0.13740982115268707,
           -3.3349084854125977,
           -1.7651559114456177,
           -3.2496421337127686,
           -2.2360992431640625,
           -2.4474143981933594,
           -6.162856101989746
          ],
          [
           -45.61503982543945,
           -5.242954254150391,
           -4.547524452209473,
           -5.20512056350708,
           -4.296773910522461,
           1.5510165691375732,
           -3.631599187850952,
           -1.477221131324768,
           -4.356836318969727,
           -3.2378990650177,
           -2.3165132999420166,
           -6.622983455657959
          ],
          [
           0.17738297581672668,
           -6.205224990844727,
           -5.690483570098877,
           -6.106351375579834,
           -5.163928508758545,
           0.7441039681434631,
           -3.875084638595581,
           0.9875141382217407,
           -2.245699882507324,
           -1.9987282752990723,
           0.7235372066497803,
           -3.8068106174468994
          ]
         ]
        }
       ],
       "layout": {
        "height": 800,
        "sliders": [
         {
          "active": 2,
          "currentvalue": {
           "prefix": "Step: "
          },
          "len": 0.9,
          "pad": {
           "t": 50
          },
          "steps": [
           {
            "args": [
             {
              "visible": [
               true,
               true,
               true,
               true,
               true,
               true,
               true,
               true,
               true,
               true,
               true,
               true
              ]
             },
             {
              "annotations": [],
              "title": "Credences for Input Tokens",
              "xaxis": {
               "tickangle": 45,
               "ticktext": [
                "<bos>",
                "▁The",
                "▁complex",
                "▁houses",
                "▁married",
                "▁and",
                "▁single",
                "▁soldiers",
                "▁and",
                "▁their",
                "▁families",
                "."
               ],
               "tickvals": [
                0,
                1,
                2,
                3,
                4,
                5,
                6,
                7,
                8,
                9,
                10,
                11
               ]
              }
             }
            ],
            "method": "update"
           }
          ],
          "visible": true
         }
        ],
        "template": {
         "data": {
          "bar": [
           {
            "error_x": {
             "color": "#2a3f5f"
            },
            "error_y": {
             "color": "#2a3f5f"
            },
            "marker": {
             "line": {
              "color": "#E5ECF6",
              "width": 0.5
             },
             "pattern": {
              "fillmode": "overlay",
              "size": 10,
              "solidity": 0.2
             }
            },
            "type": "bar"
           }
          ],
          "barpolar": [
           {
            "marker": {
             "line": {
              "color": "#E5ECF6",
              "width": 0.5
             },
             "pattern": {
              "fillmode": "overlay",
              "size": 10,
              "solidity": 0.2
             }
            },
            "type": "barpolar"
           }
          ],
          "carpet": [
           {
            "aaxis": {
             "endlinecolor": "#2a3f5f",
             "gridcolor": "white",
             "linecolor": "white",
             "minorgridcolor": "white",
             "startlinecolor": "#2a3f5f"
            },
            "baxis": {
             "endlinecolor": "#2a3f5f",
             "gridcolor": "white",
             "linecolor": "white",
             "minorgridcolor": "white",
             "startlinecolor": "#2a3f5f"
            },
            "type": "carpet"
           }
          ],
          "choropleth": [
           {
            "colorbar": {
             "outlinewidth": 0,
             "ticks": ""
            },
            "type": "choropleth"
           }
          ],
          "contour": [
           {
            "colorbar": {
             "outlinewidth": 0,
             "ticks": ""
            },
            "colorscale": [
             [
              0,
              "#0d0887"
             ],
             [
              0.1111111111111111,
              "#46039f"
             ],
             [
              0.2222222222222222,
              "#7201a8"
             ],
             [
              0.3333333333333333,
              "#9c179e"
             ],
             [
              0.4444444444444444,
              "#bd3786"
             ],
             [
              0.5555555555555556,
              "#d8576b"
             ],
             [
              0.6666666666666666,
              "#ed7953"
             ],
             [
              0.7777777777777778,
              "#fb9f3a"
             ],
             [
              0.8888888888888888,
              "#fdca26"
             ],
             [
              1,
              "#f0f921"
             ]
            ],
            "type": "contour"
           }
          ],
          "contourcarpet": [
           {
            "colorbar": {
             "outlinewidth": 0,
             "ticks": ""
            },
            "type": "contourcarpet"
           }
          ],
          "heatmap": [
           {
            "colorbar": {
             "outlinewidth": 0,
             "ticks": ""
            },
            "colorscale": [
             [
              0,
              "#0d0887"
             ],
             [
              0.1111111111111111,
              "#46039f"
             ],
             [
              0.2222222222222222,
              "#7201a8"
             ],
             [
              0.3333333333333333,
              "#9c179e"
             ],
             [
              0.4444444444444444,
              "#bd3786"
             ],
             [
              0.5555555555555556,
              "#d8576b"
             ],
             [
              0.6666666666666666,
              "#ed7953"
             ],
             [
              0.7777777777777778,
              "#fb9f3a"
             ],
             [
              0.8888888888888888,
              "#fdca26"
             ],
             [
              1,
              "#f0f921"
             ]
            ],
            "type": "heatmap"
           }
          ],
          "heatmapgl": [
           {
            "colorbar": {
             "outlinewidth": 0,
             "ticks": ""
            },
            "colorscale": [
             [
              0,
              "#0d0887"
             ],
             [
              0.1111111111111111,
              "#46039f"
             ],
             [
              0.2222222222222222,
              "#7201a8"
             ],
             [
              0.3333333333333333,
              "#9c179e"
             ],
             [
              0.4444444444444444,
              "#bd3786"
             ],
             [
              0.5555555555555556,
              "#d8576b"
             ],
             [
              0.6666666666666666,
              "#ed7953"
             ],
             [
              0.7777777777777778,
              "#fb9f3a"
             ],
             [
              0.8888888888888888,
              "#fdca26"
             ],
             [
              1,
              "#f0f921"
             ]
            ],
            "type": "heatmapgl"
           }
          ],
          "histogram": [
           {
            "marker": {
             "pattern": {
              "fillmode": "overlay",
              "size": 10,
              "solidity": 0.2
             }
            },
            "type": "histogram"
           }
          ],
          "histogram2d": [
           {
            "colorbar": {
             "outlinewidth": 0,
             "ticks": ""
            },
            "colorscale": [
             [
              0,
              "#0d0887"
             ],
             [
              0.1111111111111111,
              "#46039f"
             ],
             [
              0.2222222222222222,
              "#7201a8"
             ],
             [
              0.3333333333333333,
              "#9c179e"
             ],
             [
              0.4444444444444444,
              "#bd3786"
             ],
             [
              0.5555555555555556,
              "#d8576b"
             ],
             [
              0.6666666666666666,
              "#ed7953"
             ],
             [
              0.7777777777777778,
              "#fb9f3a"
             ],
             [
              0.8888888888888888,
              "#fdca26"
             ],
             [
              1,
              "#f0f921"
             ]
            ],
            "type": "histogram2d"
           }
          ],
          "histogram2dcontour": [
           {
            "colorbar": {
             "outlinewidth": 0,
             "ticks": ""
            },
            "colorscale": [
             [
              0,
              "#0d0887"
             ],
             [
              0.1111111111111111,
              "#46039f"
             ],
             [
              0.2222222222222222,
              "#7201a8"
             ],
             [
              0.3333333333333333,
              "#9c179e"
             ],
             [
              0.4444444444444444,
              "#bd3786"
             ],
             [
              0.5555555555555556,
              "#d8576b"
             ],
             [
              0.6666666666666666,
              "#ed7953"
             ],
             [
              0.7777777777777778,
              "#fb9f3a"
             ],
             [
              0.8888888888888888,
              "#fdca26"
             ],
             [
              1,
              "#f0f921"
             ]
            ],
            "type": "histogram2dcontour"
           }
          ],
          "mesh3d": [
           {
            "colorbar": {
             "outlinewidth": 0,
             "ticks": ""
            },
            "type": "mesh3d"
           }
          ],
          "parcoords": [
           {
            "line": {
             "colorbar": {
              "outlinewidth": 0,
              "ticks": ""
             }
            },
            "type": "parcoords"
           }
          ],
          "pie": [
           {
            "automargin": true,
            "type": "pie"
           }
          ],
          "scatter": [
           {
            "fillpattern": {
             "fillmode": "overlay",
             "size": 10,
             "solidity": 0.2
            },
            "type": "scatter"
           }
          ],
          "scatter3d": [
           {
            "line": {
             "colorbar": {
              "outlinewidth": 0,
              "ticks": ""
             }
            },
            "marker": {
             "colorbar": {
              "outlinewidth": 0,
              "ticks": ""
             }
            },
            "type": "scatter3d"
           }
          ],
          "scattercarpet": [
           {
            "marker": {
             "colorbar": {
              "outlinewidth": 0,
              "ticks": ""
             }
            },
            "type": "scattercarpet"
           }
          ],
          "scattergeo": [
           {
            "marker": {
             "colorbar": {
              "outlinewidth": 0,
              "ticks": ""
             }
            },
            "type": "scattergeo"
           }
          ],
          "scattergl": [
           {
            "marker": {
             "colorbar": {
              "outlinewidth": 0,
              "ticks": ""
             }
            },
            "type": "scattergl"
           }
          ],
          "scattermapbox": [
           {
            "marker": {
             "colorbar": {
              "outlinewidth": 0,
              "ticks": ""
             }
            },
            "type": "scattermapbox"
           }
          ],
          "scatterpolar": [
           {
            "marker": {
             "colorbar": {
              "outlinewidth": 0,
              "ticks": ""
             }
            },
            "type": "scatterpolar"
           }
          ],
          "scatterpolargl": [
           {
            "marker": {
             "colorbar": {
              "outlinewidth": 0,
              "ticks": ""
             }
            },
            "type": "scatterpolargl"
           }
          ],
          "scatterternary": [
           {
            "marker": {
             "colorbar": {
              "outlinewidth": 0,
              "ticks": ""
             }
            },
            "type": "scatterternary"
           }
          ],
          "surface": [
           {
            "colorbar": {
             "outlinewidth": 0,
             "ticks": ""
            },
            "colorscale": [
             [
              0,
              "#0d0887"
             ],
             [
              0.1111111111111111,
              "#46039f"
             ],
             [
              0.2222222222222222,
              "#7201a8"
             ],
             [
              0.3333333333333333,
              "#9c179e"
             ],
             [
              0.4444444444444444,
              "#bd3786"
             ],
             [
              0.5555555555555556,
              "#d8576b"
             ],
             [
              0.6666666666666666,
              "#ed7953"
             ],
             [
              0.7777777777777778,
              "#fb9f3a"
             ],
             [
              0.8888888888888888,
              "#fdca26"
             ],
             [
              1,
              "#f0f921"
             ]
            ],
            "type": "surface"
           }
          ],
          "table": [
           {
            "cells": {
             "fill": {
              "color": "#EBF0F8"
             },
             "line": {
              "color": "white"
             }
            },
            "header": {
             "fill": {
              "color": "#C8D4E3"
             },
             "line": {
              "color": "white"
             }
            },
            "type": "table"
           }
          ]
         },
         "layout": {
          "annotationdefaults": {
           "arrowcolor": "#2a3f5f",
           "arrowhead": 0,
           "arrowwidth": 1
          },
          "autotypenumbers": "strict",
          "coloraxis": {
           "colorbar": {
            "outlinewidth": 0,
            "ticks": ""
           }
          },
          "colorscale": {
           "diverging": [
            [
             0,
             "#8e0152"
            ],
            [
             0.1,
             "#c51b7d"
            ],
            [
             0.2,
             "#de77ae"
            ],
            [
             0.3,
             "#f1b6da"
            ],
            [
             0.4,
             "#fde0ef"
            ],
            [
             0.5,
             "#f7f7f7"
            ],
            [
             0.6,
             "#e6f5d0"
            ],
            [
             0.7,
             "#b8e186"
            ],
            [
             0.8,
             "#7fbc41"
            ],
            [
             0.9,
             "#4d9221"
            ],
            [
             1,
             "#276419"
            ]
           ],
           "sequential": [
            [
             0,
             "#0d0887"
            ],
            [
             0.1111111111111111,
             "#46039f"
            ],
            [
             0.2222222222222222,
             "#7201a8"
            ],
            [
             0.3333333333333333,
             "#9c179e"
            ],
            [
             0.4444444444444444,
             "#bd3786"
            ],
            [
             0.5555555555555556,
             "#d8576b"
            ],
            [
             0.6666666666666666,
             "#ed7953"
            ],
            [
             0.7777777777777778,
             "#fb9f3a"
            ],
            [
             0.8888888888888888,
             "#fdca26"
            ],
            [
             1,
             "#f0f921"
            ]
           ],
           "sequentialminus": [
            [
             0,
             "#0d0887"
            ],
            [
             0.1111111111111111,
             "#46039f"
            ],
            [
             0.2222222222222222,
             "#7201a8"
            ],
            [
             0.3333333333333333,
             "#9c179e"
            ],
            [
             0.4444444444444444,
             "#bd3786"
            ],
            [
             0.5555555555555556,
             "#d8576b"
            ],
            [
             0.6666666666666666,
             "#ed7953"
            ],
            [
             0.7777777777777778,
             "#fb9f3a"
            ],
            [
             0.8888888888888888,
             "#fdca26"
            ],
            [
             1,
             "#f0f921"
            ]
           ]
          },
          "colorway": [
           "#636efa",
           "#EF553B",
           "#00cc96",
           "#ab63fa",
           "#FFA15A",
           "#19d3f3",
           "#FF6692",
           "#B6E880",
           "#FF97FF",
           "#FECB52"
          ],
          "font": {
           "color": "#2a3f5f"
          },
          "geo": {
           "bgcolor": "white",
           "lakecolor": "white",
           "landcolor": "#E5ECF6",
           "showlakes": true,
           "showland": true,
           "subunitcolor": "white"
          },
          "hoverlabel": {
           "align": "left"
          },
          "hovermode": "closest",
          "mapbox": {
           "style": "light"
          },
          "paper_bgcolor": "white",
          "plot_bgcolor": "#E5ECF6",
          "polar": {
           "angularaxis": {
            "gridcolor": "white",
            "linecolor": "white",
            "ticks": ""
           },
           "bgcolor": "#E5ECF6",
           "radialaxis": {
            "gridcolor": "white",
            "linecolor": "white",
            "ticks": ""
           }
          },
          "scene": {
           "xaxis": {
            "backgroundcolor": "#E5ECF6",
            "gridcolor": "white",
            "gridwidth": 2,
            "linecolor": "white",
            "showbackground": true,
            "ticks": "",
            "zerolinecolor": "white"
           },
           "yaxis": {
            "backgroundcolor": "#E5ECF6",
            "gridcolor": "white",
            "gridwidth": 2,
            "linecolor": "white",
            "showbackground": true,
            "ticks": "",
            "zerolinecolor": "white"
           },
           "zaxis": {
            "backgroundcolor": "#E5ECF6",
            "gridcolor": "white",
            "gridwidth": 2,
            "linecolor": "white",
            "showbackground": true,
            "ticks": "",
            "zerolinecolor": "white"
           }
          },
          "shapedefaults": {
           "line": {
            "color": "#2a3f5f"
           }
          },
          "ternary": {
           "aaxis": {
            "gridcolor": "white",
            "linecolor": "white",
            "ticks": ""
           },
           "baxis": {
            "gridcolor": "white",
            "linecolor": "white",
            "ticks": ""
           },
           "bgcolor": "#E5ECF6",
           "caxis": {
            "gridcolor": "white",
            "linecolor": "white",
            "ticks": ""
           }
          },
          "title": {
           "x": 0.05
          },
          "xaxis": {
           "automargin": true,
           "gridcolor": "white",
           "linecolor": "white",
           "ticks": "",
           "title": {
            "standoff": 15
           },
           "zerolinecolor": "white",
           "zerolinewidth": 2
          },
          "yaxis": {
           "automargin": true,
           "gridcolor": "white",
           "linecolor": "white",
           "ticks": "",
           "title": {
            "standoff": 15
           },
           "zerolinecolor": "white",
           "zerolinewidth": 2
          }
         }
        },
        "title": {
         "text": "Credences for Input Tokens"
        },
        "width": 800,
        "xaxis": {
         "tickangle": 45,
         "ticktext": [
          "<bos>",
          "▁The",
          "▁complex",
          "▁houses",
          "▁married",
          "▁and",
          "▁single",
          "▁soldiers",
          "▁and",
          "▁their",
          "▁families",
          "."
         ],
         "tickvals": [
          0,
          1,
          2,
          3,
          4,
          5,
          6,
          7,
          8,
          9,
          10,
          11
         ]
        }
       }
      },
      "text/html": [
       "<div>                            <div id=\"f5726dae-d225-4a7e-9b43-7a0acc3dba06\" class=\"plotly-graph-div\" style=\"height:800px; width:800px;\"></div>            <script type=\"text/javascript\">                require([\"plotly\"], function(Plotly) {                    window.PLOTLYENV=window.PLOTLYENV || {};                                    if (document.getElementById(\"f5726dae-d225-4a7e-9b43-7a0acc3dba06\")) {                    Plotly.newPlot(                        \"f5726dae-d225-4a7e-9b43-7a0acc3dba06\",                        [{\"colorscale\":[[0,\"#FF0000\"],[1,\"#00FF00\"]],\"text\":[[\"  <bos>  \",\"  \\u2581The  \",\"  \\u2581complex  \",\"  \\u2581houses  \",\"  \\u2581married  \",\"  \\u2581and  \",\"  \\u2581single  \",\"  \\u2581soldiers  \",\"  \\u2581and  \",\"  \\u2581their  \",\"  \\u2581families  \",\"  .  \"],[\"  <bos>  \",\"  \\u2581The  \",\"  \\u2581complex  \",\"  \\u2581houses  \",\"  \\u2581married  \",\"  \\u2581and  \",\"  \\u2581single  \",\"  \\u2581soldiers  \",\"  \\u2581and  \",\"  \\u2581their  \",\"  \\u2581families  \",\"  .  \"],[\"  <bos>  \",\"  \\u2581The  \",\"  \\u2581complex  \",\"  \\u2581houses  \",\"  \\u2581married  \",\"  \\u2581and  \",\"  \\u2581single  \",\"  \\u2581soldiers  \",\"  \\u2581and  \",\"  \\u2581their  \",\"  \\u2581families  \",\"  .  \"],[\"  <bos>  \",\"  \\u2581The  \",\"  \\u2581complex  \",\"  \\u2581houses  \",\"  \\u2581married  \",\"  \\u2581and  \",\"  \\u2581single  \",\"  \\u2581soldiers  \",\"  \\u2581and  \",\"  \\u2581their  \",\"  \\u2581families  \",\"  .  \"],[\"  <bos>  \",\"  \\u2581The  \",\"  \\u2581complex  \",\"  \\u2581houses  \",\"  \\u2581married  \",\"  \\u2581and  \",\"  \\u2581single  \",\"  \\u2581soldiers  \",\"  \\u2581and  \",\"  \\u2581their  \",\"  \\u2581families  \",\"  .  \"],[\"  <bos>  \",\"  \\u2581The  \",\"  \\u2581complex  \",\"  \\u2581houses  \",\"  \\u2581married  \",\"  \\u2581and  \",\"  \\u2581single  \",\"  \\u2581soldiers  \",\"  \\u2581and  \",\"  \\u2581their  \",\"  \\u2581families  \",\"  .  \"],[\"  <bos>  \",\"  \\u2581The  \",\"  \\u2581complex  \",\"  \\u2581houses  \",\"  \\u2581married  \",\"  \\u2581and  \",\"  \\u2581single  \",\"  \\u2581soldiers  \",\"  \\u2581and  \",\"  \\u2581their  \",\"  \\u2581families  \",\"  .  \"],[\"  <bos>  \",\"  \\u2581The  \",\"  \\u2581complex  \",\"  \\u2581houses  \",\"  \\u2581married  \",\"  \\u2581and  \",\"  \\u2581single  \",\"  \\u2581soldiers  \",\"  \\u2581and  \",\"  \\u2581their  \",\"  \\u2581families  \",\"  .  \"],[\"  <bos>  \",\"  \\u2581The  \",\"  \\u2581complex  \",\"  \\u2581houses  \",\"  \\u2581married  \",\"  \\u2581and  \",\"  \\u2581single  \",\"  \\u2581soldiers  \",\"  \\u2581and  \",\"  \\u2581their  \",\"  \\u2581families  \",\"  .  \"],[\"  <bos>  \",\"  \\u2581The  \",\"  \\u2581complex  \",\"  \\u2581houses  \",\"  \\u2581married  \",\"  \\u2581and  \",\"  \\u2581single  \",\"  \\u2581soldiers  \",\"  \\u2581and  \",\"  \\u2581their  \",\"  \\u2581families  \",\"  .  \"],[\"  <bos>  \",\"  \\u2581The  \",\"  \\u2581complex  \",\"  \\u2581houses  \",\"  \\u2581married  \",\"  \\u2581and  \",\"  \\u2581single  \",\"  \\u2581soldiers  \",\"  \\u2581and  \",\"  \\u2581their  \",\"  \\u2581families  \",\"  .  \"],[\"  <bos>  \",\"  \\u2581The  \",\"  \\u2581complex  \",\"  \\u2581houses  \",\"  \\u2581married  \",\"  \\u2581and  \",\"  \\u2581single  \",\"  \\u2581soldiers  \",\"  \\u2581and  \",\"  \\u2581their  \",\"  \\u2581families  \",\"  .  \"],[\"  <bos>  \",\"  \\u2581The  \",\"  \\u2581complex  \",\"  \\u2581houses  \",\"  \\u2581married  \",\"  \\u2581and  \",\"  \\u2581single  \",\"  \\u2581soldiers  \",\"  \\u2581and  \",\"  \\u2581their  \",\"  \\u2581families  \",\"  .  \"],[\"  <bos>  \",\"  \\u2581The  \",\"  \\u2581complex  \",\"  \\u2581houses  \",\"  \\u2581married  \",\"  \\u2581and  \",\"  \\u2581single  \",\"  \\u2581soldiers  \",\"  \\u2581and  \",\"  \\u2581their  \",\"  \\u2581families  \",\"  .  \"],[\"  <bos>  \",\"  \\u2581The  \",\"  \\u2581complex  \",\"  \\u2581houses  \",\"  \\u2581married  \",\"  \\u2581and  \",\"  \\u2581single  \",\"  \\u2581soldiers  \",\"  \\u2581and  \",\"  \\u2581their  \",\"  \\u2581families  \",\"  .  \"],[\"  <bos>  \",\"  \\u2581The  \",\"  \\u2581complex  \",\"  \\u2581houses  \",\"  \\u2581married  \",\"  \\u2581and  \",\"  \\u2581single  \",\"  \\u2581soldiers  \",\"  \\u2581and  \",\"  \\u2581their  \",\"  \\u2581families  \",\"  .  \"],[\"  <bos>  \",\"  \\u2581The  \",\"  \\u2581complex  \",\"  \\u2581houses  \",\"  \\u2581married  \",\"  \\u2581and  \",\"  \\u2581single  \",\"  \\u2581soldiers  \",\"  \\u2581and  \",\"  \\u2581their  \",\"  \\u2581families  \",\"  .  \"],[\"  <bos>  \",\"  \\u2581The  \",\"  \\u2581complex  \",\"  \\u2581houses  \",\"  \\u2581married  \",\"  \\u2581and  \",\"  \\u2581single  \",\"  \\u2581soldiers  \",\"  \\u2581and  \",\"  \\u2581their  \",\"  \\u2581families  \",\"  .  \"],[\"  <bos>  \",\"  \\u2581The  \",\"  \\u2581complex  \",\"  \\u2581houses  \",\"  \\u2581married  \",\"  \\u2581and  \",\"  \\u2581single  \",\"  \\u2581soldiers  \",\"  \\u2581and  \",\"  \\u2581their  \",\"  \\u2581families  \",\"  .  \"],[\"  <bos>  \",\"  \\u2581The  \",\"  \\u2581complex  \",\"  \\u2581houses  \",\"  \\u2581married  \",\"  \\u2581and  \",\"  \\u2581single  \",\"  \\u2581soldiers  \",\"  \\u2581and  \",\"  \\u2581their  \",\"  \\u2581families  \",\"  .  \"],[\"  <bos>  \",\"  \\u2581The  \",\"  \\u2581complex  \",\"  \\u2581houses  \",\"  \\u2581married  \",\"  \\u2581and  \",\"  \\u2581single  \",\"  \\u2581soldiers  \",\"  \\u2581and  \",\"  \\u2581their  \",\"  \\u2581families  \",\"  .  \"],[\"  <bos>  \",\"  \\u2581The  \",\"  \\u2581complex  \",\"  \\u2581houses  \",\"  \\u2581married  \",\"  \\u2581and  \",\"  \\u2581single  \",\"  \\u2581soldiers  \",\"  \\u2581and  \",\"  \\u2581their  \",\"  \\u2581families  \",\"  .  \"],[\"  <bos>  \",\"  \\u2581The  \",\"  \\u2581complex  \",\"  \\u2581houses  \",\"  \\u2581married  \",\"  \\u2581and  \",\"  \\u2581single  \",\"  \\u2581soldiers  \",\"  \\u2581and  \",\"  \\u2581their  \",\"  \\u2581families  \",\"  .  \"],[\"  <bos>  \",\"  \\u2581The  \",\"  \\u2581complex  \",\"  \\u2581houses  \",\"  \\u2581married  \",\"  \\u2581and  \",\"  \\u2581single  \",\"  \\u2581soldiers  \",\"  \\u2581and  \",\"  \\u2581their  \",\"  \\u2581families  \",\"  .  \"],[\"  <bos>  \",\"  \\u2581The  \",\"  \\u2581complex  \",\"  \\u2581houses  \",\"  \\u2581married  \",\"  \\u2581and  \",\"  \\u2581single  \",\"  \\u2581soldiers  \",\"  \\u2581and  \",\"  \\u2581their  \",\"  \\u2581families  \",\"  .  \"],[\"  <bos>  \",\"  \\u2581The  \",\"  \\u2581complex  \",\"  \\u2581houses  \",\"  \\u2581married  \",\"  \\u2581and  \",\"  \\u2581single  \",\"  \\u2581soldiers  \",\"  \\u2581and  \",\"  \\u2581their  \",\"  \\u2581families  \",\"  .  \"],[\"  <bos>  \",\"  \\u2581The  \",\"  \\u2581complex  \",\"  \\u2581houses  \",\"  \\u2581married  \",\"  \\u2581and  \",\"  \\u2581single  \",\"  \\u2581soldiers  \",\"  \\u2581and  \",\"  \\u2581their  \",\"  \\u2581families  \",\"  .  \"],[\"  <bos>  \",\"  \\u2581The  \",\"  \\u2581complex  \",\"  \\u2581houses  \",\"  \\u2581married  \",\"  \\u2581and  \",\"  \\u2581single  \",\"  \\u2581soldiers  \",\"  \\u2581and  \",\"  \\u2581their  \",\"  \\u2581families  \",\"  .  \"],[\"  <bos>  \",\"  \\u2581The  \",\"  \\u2581complex  \",\"  \\u2581houses  \",\"  \\u2581married  \",\"  \\u2581and  \",\"  \\u2581single  \",\"  \\u2581soldiers  \",\"  \\u2581and  \",\"  \\u2581their  \",\"  \\u2581families  \",\"  .  \"],[\"  <bos>  \",\"  \\u2581The  \",\"  \\u2581complex  \",\"  \\u2581houses  \",\"  \\u2581married  \",\"  \\u2581and  \",\"  \\u2581single  \",\"  \\u2581soldiers  \",\"  \\u2581and  \",\"  \\u2581their  \",\"  \\u2581families  \",\"  .  \"],[\"  <bos>  \",\"  \\u2581The  \",\"  \\u2581complex  \",\"  \\u2581houses  \",\"  \\u2581married  \",\"  \\u2581and  \",\"  \\u2581single  \",\"  \\u2581soldiers  \",\"  \\u2581and  \",\"  \\u2581their  \",\"  \\u2581families  \",\"  .  \"],[\"  <bos>  \",\"  \\u2581The  \",\"  \\u2581complex  \",\"  \\u2581houses  \",\"  \\u2581married  \",\"  \\u2581and  \",\"  \\u2581single  \",\"  \\u2581soldiers  \",\"  \\u2581and  \",\"  \\u2581their  \",\"  \\u2581families  \",\"  .  \"]],\"textfont\":{\"color\":\"black\",\"size\":12},\"texttemplate\":\"%{text}\",\"z\":[[0.008845187723636627,0.04584826901555061,0.04075548052787781,0.009988788515329361,-0.02158167026937008,0.04726746305823326,-0.0006826299359090626,0.006785288453102112,0.04726746305823326,0.011243065819144249,0.029774608090519905,-0.03249766677618027],[-0.15358802676200867,-0.21439756453037262,-0.09029276669025421,-0.11427206546068192,-0.02671961300075054,-0.0844275951385498,-0.09632835537195206,0.021222610026597977,-0.07549790292978287,0.008642908185720444,-0.04064813628792763,-0.054872624576091766],[0.18735280632972717,0.10437030345201492,0.039382949471473694,0.21200785040855408,0.08513247966766357,0.007471299730241299,0.138728529214859,-0.15221920609474182,0.024409035220742226,-0.03523203358054161,-0.06387821584939957,0.013593275099992752],[23.470369338989258,-0.25134286284446716,-0.05759811773896217,0.01997026801109314,0.03799992427229881,-0.1443762630224228,-0.13491789996623993,-0.21506734192371368,-0.19033722579479218,-0.23011864721775055,-0.18347826600074768,-0.1693049818277359],[5.85875129699707,-0.21045812964439392,-0.027475276961922646,0.010296646505594254,0.060480691492557526,-0.0076117608696222305,0.15437781810760498,-0.15367451310157776,-0.10019616037607193,-0.003202364081516862,0.11965569108724594,-0.08511005342006683],[-16.72722625732422,-0.13353614509105682,-0.10390948504209518,-0.3141825199127197,-0.18374770879745483,-0.3294493556022644,-0.48446518182754517,0.07865924388170242,-0.02549280971288681,-0.04538023844361305,-0.3560618460178375,-0.039422065019607544],[12.161348342895508,0.2074839174747467,0.2898416221141815,0.18541331589221954,0.2650350332260132,0.35934093594551086,0.4449307918548584,0.16518084704875946,-0.022999638691544533,-0.09287578612565994,0.3191460967063904,0.03645910695195198],[2.064411163330078,0.2537793517112732,0.530152440071106,0.24382014572620392,0.21632857620716095,0.765968918800354,0.8656783103942871,0.3036792576313019,0.3072502017021179,-0.0897664800286293,0.18693478405475616,0.36100661754608154],[-2.1548967361450195,-0.005619481671601534,-0.15687742829322815,-0.22031138837337494,-0.2404624968767166,-0.7554532289505005,-0.8294524550437927,-0.19560587406158447,-0.42388588190078735,0.10333318263292313,0.20549827814102173,-0.4555206298828125],[-5.717101097106934,-0.16323845088481903,0.14388048648834229,0.10431710630655289,0.2643338739871979,0.5838657021522522,0.3240886628627777,0.3731289803981781,0.2470630556344986,-0.014096182771027088,-0.52406245470047,0.24990415573120117],[6.356625556945801,0.5139719843864441,0.06885841488838196,0.37038081884384155,-0.42377427220344543,-0.2325664758682251,0.01134914718568325,0.5241625308990479,0.24710069596767426,0.49471354484558105,0.20027323067188263,0.1859913319349289],[11.614984512329102,0.5209820866584778,-0.19519038498401642,0.35940223932266235,-0.7723256945610046,-0.5875419974327087,-0.14551082253456116,0.2768137753009796,-0.11404924839735031,0.480487197637558,-0.08266033232212067,0.1584368497133255],[4.872463703155518,0.4308643937110901,-0.3104691803455353,0.1121084988117218,-0.3112561106681824,0.05286569520831108,0.5145574808120728,0.07677536457777023,-0.21906191110610962,0.5849171876907349,-0.051833707839250565,0.09740041196346283],[-3.228698968887329,0.03501423820853233,-0.6684685945510864,-0.5203297734260559,-0.5730998516082764,-0.2980279326438904,0.42468661069869995,-0.18794181942939758,-0.43351560831069946,0.39639759063720703,0.17608553171157837,-0.3362235426902771],[-1.7535680532455444,-0.5321927070617676,0.717076301574707,0.6182206273078918,0.4082306921482086,0.1144712045788765,0.08691535145044327,0.3190625011920929,0.29530760645866394,-0.3464582860469818,-0.07953830063343048,0.49335694313049316],[7.8320207595825195,-0.013683555647730827,1.6501877307891846,1.0182069540023804,0.4202292561531067,0.6943137645721436,0.5861470699310303,0.5209644436836243,0.7637858986854553,-0.06357555091381073,0.3969706594944,1.2614250183105469],[-1.3073129653930664,0.6813579797744751,1.3598406314849854,1.0785692930221558,1.4629329442977905,0.29920440912246704,0.7624474763870239,1.1859748363494873,0.7826157808303833,0.5260890126228333,0.6808106303215027,0.7163401246070862],[-9.335840225219727,0.8365367650985718,1.004136323928833,0.8558129668235779,1.0195813179016113,-0.2664510905742645,0.4130386412143707,0.4513441026210785,-0.12895384430885315,-0.01880207657814026,0.37595614790916443,0.21176974475383759],[-0.2068636417388916,0.42119553685188293,0.16110649704933167,1.0865377187728882,0.9504265785217285,0.03604428470134735,-0.5050102472305298,0.2993845045566559,0.024396147578954697,-0.013329187408089638,0.21705599129199982,0.6710019707679749],[1.8224728107452393,0.6815717816352844,0.13955338299274445,1.67793869972229,2.017388105392456,1.0347555875778198,0.8296459317207336,1.1621153354644775,0.8854058384895325,0.312157541513443,0.7593759298324585,1.6308785676956177],[-12.254570960998535,-1.9271193742752075,-0.402367502450943,-3.1341466903686523,-2.820801019668579,-2.5040204524993896,-1.0896636247634888,-1.9976671934127808,-2.6378285884857178,-0.8670023083686829,-1.0547142028808594,-2.705322027206421],[-17.042085647583008,-2.3188607692718506,-1.4424662590026855,-3.357353448867798,-2.240398406982422,-2.0594379901885986,-0.6107730269432068,-2.4551830291748047,-3.2612411975860596,-0.7709951400756836,-1.5985028743743896,-3.2836804389953613],[-28.596731185913086,-2.5397207736968994,-1.552978277206421,-3.4416086673736572,-1.640564203262329,-3.074739694595337,-0.6317189335823059,-2.2770743370056152,-3.7376856803894043,-1.3579514026641846,-1.187952995300293,-3.903252124786377],[-38.951324462890625,-3.115420341491699,-1.9841686487197876,-3.0991272926330566,-1.7986149787902832,-2.743640422821045,-1.0006179809570312,-1.8747148513793945,-4.158677577972412,-1.4342491626739502,-1.3866090774536133,-4.081066608428955],[-31.798603057861328,-3.6631948947906494,-2.5198466777801514,-3.928086757659912,-3.5399184226989746,-3.1548218727111816,-3.3891098499298096,-2.6135976314544678,-5.469426155090332,-2.8751373291015625,-1.4962143898010254,-4.516744136810303],[25.593080520629883,4.486546516418457,3.20574688911438,5.053211212158203,5.000048637390137,2.8864097595214844,4.664639949798584,3.200023889541626,5.309726715087891,1.8183058500289917,2.0439372062683105,5.71762752532959],[-28.949676513671875,-4.922212600708008,-3.1913323402404785,-4.898275375366211,-5.316022872924805,-2.132282257080078,-4.541289329528809,-2.81315016746521,-4.67411470413208,-2.9800703525543213,-2.309278726577759,-5.239776611328125],[31.209741592407227,4.631702899932861,3.209751605987549,3.8596725463867188,4.941749095916748,1.378450870513916,3.8848259449005127,2.874180316925049,4.407975196838379,2.983980417251587,3.830111026763916,5.903454780578613],[-34.25849914550781,-5.071704387664795,-3.980621099472046,-4.448512077331543,-5.679192066192627,-0.9589910507202148,-4.655489921569824,-3.6034600734710693,-4.170286655426025,-1.916034460067749,-4.248917579650879,-6.180004596710205],[-47.07886505126953,-5.442873001098633,-4.306774139404297,-4.709615230560303,-4.396525859832764,0.13740982115268707,-3.3349084854125977,-1.7651559114456177,-3.2496421337127686,-2.2360992431640625,-2.4474143981933594,-6.162856101989746],[-45.61503982543945,-5.242954254150391,-4.547524452209473,-5.20512056350708,-4.296773910522461,1.5510165691375732,-3.631599187850952,-1.477221131324768,-4.356836318969727,-3.2378990650177,-2.3165132999420166,-6.622983455657959],[0.17738297581672668,-6.205224990844727,-5.690483570098877,-6.106351375579834,-5.163928508758545,0.7441039681434631,-3.875084638595581,0.9875141382217407,-2.245699882507324,-1.9987282752990723,0.7235372066497803,-3.8068106174468994]],\"type\":\"heatmap\"}],                        {\"height\":800,\"sliders\":[{\"active\":2,\"currentvalue\":{\"prefix\":\"Step: \"},\"len\":0.9,\"pad\":{\"t\":50},\"steps\":[{\"args\":[{\"visible\":[true,true,true,true,true,true,true,true,true,true,true,true]},{\"title\":\"Credences for Input Tokens\",\"xaxis\":{\"tickvals\":[0,1,2,3,4,5,6,7,8,9,10,11],\"ticktext\":[\"<bos>\",\"\\u2581The\",\"\\u2581complex\",\"\\u2581houses\",\"\\u2581married\",\"\\u2581and\",\"\\u2581single\",\"\\u2581soldiers\",\"\\u2581and\",\"\\u2581their\",\"\\u2581families\",\".\"],\"tickangle\":45},\"annotations\":[]}],\"method\":\"update\"}],\"visible\":true}],\"template\":{\"data\":{\"barpolar\":[{\"marker\":{\"line\":{\"color\":\"#E5ECF6\",\"width\":0.5},\"pattern\":{\"fillmode\":\"overlay\",\"size\":10,\"solidity\":0.2}},\"type\":\"barpolar\"}],\"bar\":[{\"error_x\":{\"color\":\"#2a3f5f\"},\"error_y\":{\"color\":\"#2a3f5f\"},\"marker\":{\"line\":{\"color\":\"#E5ECF6\",\"width\":0.5},\"pattern\":{\"fillmode\":\"overlay\",\"size\":10,\"solidity\":0.2}},\"type\":\"bar\"}],\"carpet\":[{\"aaxis\":{\"endlinecolor\":\"#2a3f5f\",\"gridcolor\":\"white\",\"linecolor\":\"white\",\"minorgridcolor\":\"white\",\"startlinecolor\":\"#2a3f5f\"},\"baxis\":{\"endlinecolor\":\"#2a3f5f\",\"gridcolor\":\"white\",\"linecolor\":\"white\",\"minorgridcolor\":\"white\",\"startlinecolor\":\"#2a3f5f\"},\"type\":\"carpet\"}],\"choropleth\":[{\"colorbar\":{\"outlinewidth\":0,\"ticks\":\"\"},\"type\":\"choropleth\"}],\"contourcarpet\":[{\"colorbar\":{\"outlinewidth\":0,\"ticks\":\"\"},\"type\":\"contourcarpet\"}],\"contour\":[{\"colorbar\":{\"outlinewidth\":0,\"ticks\":\"\"},\"colorscale\":[[0.0,\"#0d0887\"],[0.1111111111111111,\"#46039f\"],[0.2222222222222222,\"#7201a8\"],[0.3333333333333333,\"#9c179e\"],[0.4444444444444444,\"#bd3786\"],[0.5555555555555556,\"#d8576b\"],[0.6666666666666666,\"#ed7953\"],[0.7777777777777778,\"#fb9f3a\"],[0.8888888888888888,\"#fdca26\"],[1.0,\"#f0f921\"]],\"type\":\"contour\"}],\"heatmapgl\":[{\"colorbar\":{\"outlinewidth\":0,\"ticks\":\"\"},\"colorscale\":[[0.0,\"#0d0887\"],[0.1111111111111111,\"#46039f\"],[0.2222222222222222,\"#7201a8\"],[0.3333333333333333,\"#9c179e\"],[0.4444444444444444,\"#bd3786\"],[0.5555555555555556,\"#d8576b\"],[0.6666666666666666,\"#ed7953\"],[0.7777777777777778,\"#fb9f3a\"],[0.8888888888888888,\"#fdca26\"],[1.0,\"#f0f921\"]],\"type\":\"heatmapgl\"}],\"heatmap\":[{\"colorbar\":{\"outlinewidth\":0,\"ticks\":\"\"},\"colorscale\":[[0.0,\"#0d0887\"],[0.1111111111111111,\"#46039f\"],[0.2222222222222222,\"#7201a8\"],[0.3333333333333333,\"#9c179e\"],[0.4444444444444444,\"#bd3786\"],[0.5555555555555556,\"#d8576b\"],[0.6666666666666666,\"#ed7953\"],[0.7777777777777778,\"#fb9f3a\"],[0.8888888888888888,\"#fdca26\"],[1.0,\"#f0f921\"]],\"type\":\"heatmap\"}],\"histogram2dcontour\":[{\"colorbar\":{\"outlinewidth\":0,\"ticks\":\"\"},\"colorscale\":[[0.0,\"#0d0887\"],[0.1111111111111111,\"#46039f\"],[0.2222222222222222,\"#7201a8\"],[0.3333333333333333,\"#9c179e\"],[0.4444444444444444,\"#bd3786\"],[0.5555555555555556,\"#d8576b\"],[0.6666666666666666,\"#ed7953\"],[0.7777777777777778,\"#fb9f3a\"],[0.8888888888888888,\"#fdca26\"],[1.0,\"#f0f921\"]],\"type\":\"histogram2dcontour\"}],\"histogram2d\":[{\"colorbar\":{\"outlinewidth\":0,\"ticks\":\"\"},\"colorscale\":[[0.0,\"#0d0887\"],[0.1111111111111111,\"#46039f\"],[0.2222222222222222,\"#7201a8\"],[0.3333333333333333,\"#9c179e\"],[0.4444444444444444,\"#bd3786\"],[0.5555555555555556,\"#d8576b\"],[0.6666666666666666,\"#ed7953\"],[0.7777777777777778,\"#fb9f3a\"],[0.8888888888888888,\"#fdca26\"],[1.0,\"#f0f921\"]],\"type\":\"histogram2d\"}],\"histogram\":[{\"marker\":{\"pattern\":{\"fillmode\":\"overlay\",\"size\":10,\"solidity\":0.2}},\"type\":\"histogram\"}],\"mesh3d\":[{\"colorbar\":{\"outlinewidth\":0,\"ticks\":\"\"},\"type\":\"mesh3d\"}],\"parcoords\":[{\"line\":{\"colorbar\":{\"outlinewidth\":0,\"ticks\":\"\"}},\"type\":\"parcoords\"}],\"pie\":[{\"automargin\":true,\"type\":\"pie\"}],\"scatter3d\":[{\"line\":{\"colorbar\":{\"outlinewidth\":0,\"ticks\":\"\"}},\"marker\":{\"colorbar\":{\"outlinewidth\":0,\"ticks\":\"\"}},\"type\":\"scatter3d\"}],\"scattercarpet\":[{\"marker\":{\"colorbar\":{\"outlinewidth\":0,\"ticks\":\"\"}},\"type\":\"scattercarpet\"}],\"scattergeo\":[{\"marker\":{\"colorbar\":{\"outlinewidth\":0,\"ticks\":\"\"}},\"type\":\"scattergeo\"}],\"scattergl\":[{\"marker\":{\"colorbar\":{\"outlinewidth\":0,\"ticks\":\"\"}},\"type\":\"scattergl\"}],\"scattermapbox\":[{\"marker\":{\"colorbar\":{\"outlinewidth\":0,\"ticks\":\"\"}},\"type\":\"scattermapbox\"}],\"scatterpolargl\":[{\"marker\":{\"colorbar\":{\"outlinewidth\":0,\"ticks\":\"\"}},\"type\":\"scatterpolargl\"}],\"scatterpolar\":[{\"marker\":{\"colorbar\":{\"outlinewidth\":0,\"ticks\":\"\"}},\"type\":\"scatterpolar\"}],\"scatter\":[{\"fillpattern\":{\"fillmode\":\"overlay\",\"size\":10,\"solidity\":0.2},\"type\":\"scatter\"}],\"scatterternary\":[{\"marker\":{\"colorbar\":{\"outlinewidth\":0,\"ticks\":\"\"}},\"type\":\"scatterternary\"}],\"surface\":[{\"colorbar\":{\"outlinewidth\":0,\"ticks\":\"\"},\"colorscale\":[[0.0,\"#0d0887\"],[0.1111111111111111,\"#46039f\"],[0.2222222222222222,\"#7201a8\"],[0.3333333333333333,\"#9c179e\"],[0.4444444444444444,\"#bd3786\"],[0.5555555555555556,\"#d8576b\"],[0.6666666666666666,\"#ed7953\"],[0.7777777777777778,\"#fb9f3a\"],[0.8888888888888888,\"#fdca26\"],[1.0,\"#f0f921\"]],\"type\":\"surface\"}],\"table\":[{\"cells\":{\"fill\":{\"color\":\"#EBF0F8\"},\"line\":{\"color\":\"white\"}},\"header\":{\"fill\":{\"color\":\"#C8D4E3\"},\"line\":{\"color\":\"white\"}},\"type\":\"table\"}]},\"layout\":{\"annotationdefaults\":{\"arrowcolor\":\"#2a3f5f\",\"arrowhead\":0,\"arrowwidth\":1},\"autotypenumbers\":\"strict\",\"coloraxis\":{\"colorbar\":{\"outlinewidth\":0,\"ticks\":\"\"}},\"colorscale\":{\"diverging\":[[0,\"#8e0152\"],[0.1,\"#c51b7d\"],[0.2,\"#de77ae\"],[0.3,\"#f1b6da\"],[0.4,\"#fde0ef\"],[0.5,\"#f7f7f7\"],[0.6,\"#e6f5d0\"],[0.7,\"#b8e186\"],[0.8,\"#7fbc41\"],[0.9,\"#4d9221\"],[1,\"#276419\"]],\"sequential\":[[0.0,\"#0d0887\"],[0.1111111111111111,\"#46039f\"],[0.2222222222222222,\"#7201a8\"],[0.3333333333333333,\"#9c179e\"],[0.4444444444444444,\"#bd3786\"],[0.5555555555555556,\"#d8576b\"],[0.6666666666666666,\"#ed7953\"],[0.7777777777777778,\"#fb9f3a\"],[0.8888888888888888,\"#fdca26\"],[1.0,\"#f0f921\"]],\"sequentialminus\":[[0.0,\"#0d0887\"],[0.1111111111111111,\"#46039f\"],[0.2222222222222222,\"#7201a8\"],[0.3333333333333333,\"#9c179e\"],[0.4444444444444444,\"#bd3786\"],[0.5555555555555556,\"#d8576b\"],[0.6666666666666666,\"#ed7953\"],[0.7777777777777778,\"#fb9f3a\"],[0.8888888888888888,\"#fdca26\"],[1.0,\"#f0f921\"]]},\"colorway\":[\"#636efa\",\"#EF553B\",\"#00cc96\",\"#ab63fa\",\"#FFA15A\",\"#19d3f3\",\"#FF6692\",\"#B6E880\",\"#FF97FF\",\"#FECB52\"],\"font\":{\"color\":\"#2a3f5f\"},\"geo\":{\"bgcolor\":\"white\",\"lakecolor\":\"white\",\"landcolor\":\"#E5ECF6\",\"showlakes\":true,\"showland\":true,\"subunitcolor\":\"white\"},\"hoverlabel\":{\"align\":\"left\"},\"hovermode\":\"closest\",\"mapbox\":{\"style\":\"light\"},\"paper_bgcolor\":\"white\",\"plot_bgcolor\":\"#E5ECF6\",\"polar\":{\"angularaxis\":{\"gridcolor\":\"white\",\"linecolor\":\"white\",\"ticks\":\"\"},\"bgcolor\":\"#E5ECF6\",\"radialaxis\":{\"gridcolor\":\"white\",\"linecolor\":\"white\",\"ticks\":\"\"}},\"scene\":{\"xaxis\":{\"backgroundcolor\":\"#E5ECF6\",\"gridcolor\":\"white\",\"gridwidth\":2,\"linecolor\":\"white\",\"showbackground\":true,\"ticks\":\"\",\"zerolinecolor\":\"white\"},\"yaxis\":{\"backgroundcolor\":\"#E5ECF6\",\"gridcolor\":\"white\",\"gridwidth\":2,\"linecolor\":\"white\",\"showbackground\":true,\"ticks\":\"\",\"zerolinecolor\":\"white\"},\"zaxis\":{\"backgroundcolor\":\"#E5ECF6\",\"gridcolor\":\"white\",\"gridwidth\":2,\"linecolor\":\"white\",\"showbackground\":true,\"ticks\":\"\",\"zerolinecolor\":\"white\"}},\"shapedefaults\":{\"line\":{\"color\":\"#2a3f5f\"}},\"ternary\":{\"aaxis\":{\"gridcolor\":\"white\",\"linecolor\":\"white\",\"ticks\":\"\"},\"baxis\":{\"gridcolor\":\"white\",\"linecolor\":\"white\",\"ticks\":\"\"},\"bgcolor\":\"#E5ECF6\",\"caxis\":{\"gridcolor\":\"white\",\"linecolor\":\"white\",\"ticks\":\"\"}},\"title\":{\"x\":0.05},\"xaxis\":{\"automargin\":true,\"gridcolor\":\"white\",\"linecolor\":\"white\",\"ticks\":\"\",\"title\":{\"standoff\":15},\"zerolinecolor\":\"white\",\"zerolinewidth\":2},\"yaxis\":{\"automargin\":true,\"gridcolor\":\"white\",\"linecolor\":\"white\",\"ticks\":\"\",\"title\":{\"standoff\":15},\"zerolinecolor\":\"white\",\"zerolinewidth\":2}}},\"title\":{\"text\":\"Credences for Input Tokens\"},\"width\":800,\"xaxis\":{\"tickangle\":45,\"ticktext\":[\"<bos>\",\"\\u2581The\",\"\\u2581complex\",\"\\u2581houses\",\"\\u2581married\",\"\\u2581and\",\"\\u2581single\",\"\\u2581soldiers\",\"\\u2581and\",\"\\u2581their\",\"\\u2581families\",\".\"],\"tickvals\":[0,1,2,3,4,5,6,7,8,9,10,11]}},                        {\"responsive\": true}                    ).then(function(){\n",
       "                            \n",
       "var gd = document.getElementById('f5726dae-d225-4a7e-9b43-7a0acc3dba06');\n",
       "var x = new MutationObserver(function (mutations, observer) {{\n",
       "        var display = window.getComputedStyle(gd).display;\n",
       "        if (!display || display === 'none') {{\n",
       "            console.log([gd, 'removed!']);\n",
       "            Plotly.purge(gd);\n",
       "            observer.disconnect();\n",
       "        }}\n",
       "}});\n",
       "\n",
       "// Listen for the removal of the full notebook cells\n",
       "var notebookContainer = gd.closest('#notebook-container');\n",
       "if (notebookContainer) {{\n",
       "    x.observe(notebookContainer, {childList: true});\n",
       "}}\n",
       "\n",
       "// Listen for the clearing of the current output cell\n",
       "var outputEl = gd.closest('.output');\n",
       "if (outputEl) {{\n",
       "    x.observe(outputEl, {childList: true});\n",
       "}}\n",
       "\n",
       "                        })                };                });            </script>        </div>"
      ]
     },
     "metadata": {},
     "output_type": "display_data"
    },
    {
     "data": {
      "application/vnd.plotly.v1+json": {
       "config": {
        "linkText": "Export to plot.ly",
        "plotlyServerURL": "https://plot.ly",
        "showLink": false
       },
       "data": [
        {
         "colorscale": [
          [
           0,
           "#FF0000"
          ],
          [
           1,
           "#00FF00"
          ]
         ],
         "text": [
          [
           "  <bos>  ",
           "  ▁The  ",
           "  ▁prime  ",
           "  ▁number  ",
           "  ▁few  ",
           "  .  "
          ],
          [
           "  <bos>  ",
           "  ▁The  ",
           "  ▁prime  ",
           "  ▁number  ",
           "  ▁few  ",
           "  .  "
          ],
          [
           "  <bos>  ",
           "  ▁The  ",
           "  ▁prime  ",
           "  ▁number  ",
           "  ▁few  ",
           "  .  "
          ],
          [
           "  <bos>  ",
           "  ▁The  ",
           "  ▁prime  ",
           "  ▁number  ",
           "  ▁few  ",
           "  .  "
          ],
          [
           "  <bos>  ",
           "  ▁The  ",
           "  ▁prime  ",
           "  ▁number  ",
           "  ▁few  ",
           "  .  "
          ],
          [
           "  <bos>  ",
           "  ▁The  ",
           "  ▁prime  ",
           "  ▁number  ",
           "  ▁few  ",
           "  .  "
          ],
          [
           "  <bos>  ",
           "  ▁The  ",
           "  ▁prime  ",
           "  ▁number  ",
           "  ▁few  ",
           "  .  "
          ],
          [
           "  <bos>  ",
           "  ▁The  ",
           "  ▁prime  ",
           "  ▁number  ",
           "  ▁few  ",
           "  .  "
          ],
          [
           "  <bos>  ",
           "  ▁The  ",
           "  ▁prime  ",
           "  ▁number  ",
           "  ▁few  ",
           "  .  "
          ],
          [
           "  <bos>  ",
           "  ▁The  ",
           "  ▁prime  ",
           "  ▁number  ",
           "  ▁few  ",
           "  .  "
          ],
          [
           "  <bos>  ",
           "  ▁The  ",
           "  ▁prime  ",
           "  ▁number  ",
           "  ▁few  ",
           "  .  "
          ],
          [
           "  <bos>  ",
           "  ▁The  ",
           "  ▁prime  ",
           "  ▁number  ",
           "  ▁few  ",
           "  .  "
          ],
          [
           "  <bos>  ",
           "  ▁The  ",
           "  ▁prime  ",
           "  ▁number  ",
           "  ▁few  ",
           "  .  "
          ],
          [
           "  <bos>  ",
           "  ▁The  ",
           "  ▁prime  ",
           "  ▁number  ",
           "  ▁few  ",
           "  .  "
          ],
          [
           "  <bos>  ",
           "  ▁The  ",
           "  ▁prime  ",
           "  ▁number  ",
           "  ▁few  ",
           "  .  "
          ],
          [
           "  <bos>  ",
           "  ▁The  ",
           "  ▁prime  ",
           "  ▁number  ",
           "  ▁few  ",
           "  .  "
          ],
          [
           "  <bos>  ",
           "  ▁The  ",
           "  ▁prime  ",
           "  ▁number  ",
           "  ▁few  ",
           "  .  "
          ],
          [
           "  <bos>  ",
           "  ▁The  ",
           "  ▁prime  ",
           "  ▁number  ",
           "  ▁few  ",
           "  .  "
          ],
          [
           "  <bos>  ",
           "  ▁The  ",
           "  ▁prime  ",
           "  ▁number  ",
           "  ▁few  ",
           "  .  "
          ],
          [
           "  <bos>  ",
           "  ▁The  ",
           "  ▁prime  ",
           "  ▁number  ",
           "  ▁few  ",
           "  .  "
          ],
          [
           "  <bos>  ",
           "  ▁The  ",
           "  ▁prime  ",
           "  ▁number  ",
           "  ▁few  ",
           "  .  "
          ],
          [
           "  <bos>  ",
           "  ▁The  ",
           "  ▁prime  ",
           "  ▁number  ",
           "  ▁few  ",
           "  .  "
          ],
          [
           "  <bos>  ",
           "  ▁The  ",
           "  ▁prime  ",
           "  ▁number  ",
           "  ▁few  ",
           "  .  "
          ],
          [
           "  <bos>  ",
           "  ▁The  ",
           "  ▁prime  ",
           "  ▁number  ",
           "  ▁few  ",
           "  .  "
          ],
          [
           "  <bos>  ",
           "  ▁The  ",
           "  ▁prime  ",
           "  ▁number  ",
           "  ▁few  ",
           "  .  "
          ],
          [
           "  <bos>  ",
           "  ▁The  ",
           "  ▁prime  ",
           "  ▁number  ",
           "  ▁few  ",
           "  .  "
          ],
          [
           "  <bos>  ",
           "  ▁The  ",
           "  ▁prime  ",
           "  ▁number  ",
           "  ▁few  ",
           "  .  "
          ],
          [
           "  <bos>  ",
           "  ▁The  ",
           "  ▁prime  ",
           "  ▁number  ",
           "  ▁few  ",
           "  .  "
          ],
          [
           "  <bos>  ",
           "  ▁The  ",
           "  ▁prime  ",
           "  ▁number  ",
           "  ▁few  ",
           "  .  "
          ],
          [
           "  <bos>  ",
           "  ▁The  ",
           "  ▁prime  ",
           "  ▁number  ",
           "  ▁few  ",
           "  .  "
          ],
          [
           "  <bos>  ",
           "  ▁The  ",
           "  ▁prime  ",
           "  ▁number  ",
           "  ▁few  ",
           "  .  "
          ],
          [
           "  <bos>  ",
           "  ▁The  ",
           "  ▁prime  ",
           "  ▁number  ",
           "  ▁few  ",
           "  .  "
          ]
         ],
         "textfont": {
          "color": "black",
          "size": 12
         },
         "texttemplate": "%{text}",
         "type": "heatmap",
         "z": [
          [
           0.008845187723636627,
           0.04584826901555061,
           0.02337639406323433,
           -0.020788025110960007,
           -0.018720416352152824,
           -0.03249766677618027
          ],
          [
           -0.15358802676200867,
           -0.2143976390361786,
           -0.09718354046344757,
           -0.053149063140153885,
           -0.11308179795742035,
           -0.08499964326620102
          ],
          [
           0.18735280632972717,
           0.10437029600143433,
           0.008192090317606926,
           0.21639372408390045,
           0.2447768747806549,
           0.021769460290670395
          ],
          [
           23.470369338989258,
           -0.25134286284446716,
           -0.037546902894973755,
           0.1753976047039032,
           0.22665457427501678,
           -0.14902403950691223
          ],
          [
           5.85875129699707,
           -0.2104581892490387,
           0.07154897600412369,
           0.3114849627017975,
           0.5180936455726624,
           -0.054434485733509064
          ],
          [
           -16.72722625732422,
           -0.13353614509105682,
           -0.1827903836965561,
           -0.45853084325790405,
           -0.31250858306884766,
           -0.21737270057201385
          ],
          [
           12.161348342895508,
           0.2074839323759079,
           0.08963070064783096,
           0.4189792275428772,
           0.29051220417022705,
           0.07282748073339462
          ],
          [
           2.064411163330078,
           0.25377920269966125,
           0.128248393535614,
           -0.09619894623756409,
           0.08570150285959244,
           0.2701391279697418
          ],
          [
           -2.1548967361450195,
           -0.0056199077516794205,
           0.2014298290014267,
           0.2264706939458847,
           -0.16762873530387878,
           -0.27104365825653076
          ],
          [
           -5.717101097106934,
           -0.1632382720708847,
           -0.19238540530204773,
           -0.38391491770744324,
           0.34269440174102783,
           0.31707003712654114
          ],
          [
           6.356625556945801,
           0.5139718651771545,
           0.3253532648086548,
           0.682666003704071,
           -0.22377370297908783,
           0.3744069039821625
          ],
          [
           11.614984512329102,
           0.5209828615188599,
           0.20011530816555023,
           0.5465430021286011,
           0.21279089152812958,
           0.3554723262786865
          ],
          [
           4.872463703155518,
           0.43086469173431396,
           -0.16247472167015076,
           0.33942586183547974,
           -0.3514777421951294,
           -0.42471668124198914
          ],
          [
           -3.228698968887329,
           0.03501402586698532,
           -0.3238378167152405,
           0.33299538493156433,
           -0.4451292157173157,
           -0.6107527613639832
          ],
          [
           -1.7535680532455444,
           -0.5321921110153198,
           0.08496202528476715,
           -0.5618301630020142,
           0.10457801818847656,
           0.2713242173194885
          ],
          [
           7.8320207595825195,
           -0.013683677650988102,
           0.4087330102920532,
           -0.6256744861602783,
           0.44485244154930115,
           0.6286483407020569
          ],
          [
           -1.3073129653930664,
           0.6813579797744751,
           0.2512015998363495,
           -0.1014845073223114,
           0.7002342343330383,
           0.9546297788619995
          ],
          [
           -9.335840225219727,
           0.8365377187728882,
           0.47305765748023987,
           -0.49926671385765076,
           0.016980379819869995,
           1.1398425102233887
          ],
          [
           -0.2068636417388916,
           0.42119643092155457,
           -0.420192152261734,
           -1.3910359144210815,
           -0.31705909967422485,
           1.6665019989013672
          ],
          [
           1.8224728107452393,
           0.6815730929374695,
           0.15712091326713562,
           -0.48457443714141846,
           0.665859043598175,
           2.2112009525299072
          ],
          [
           -12.254570960998535,
           -1.9271199703216553,
           -0.2972380816936493,
           0.3411736786365509,
           -1.2625857591629028,
           -2.770474433898926
          ],
          [
           -17.042085647583008,
           -2.318861246109009,
           -0.30537793040275574,
           0.5038477778434753,
           -2.3731534481048584,
           -2.5918984413146973
          ],
          [
           -28.596731185913086,
           -2.539721965789795,
           -0.8437514901161194,
           0.9890929460525513,
           -2.5896658897399902,
           -2.750189781188965
          ],
          [
           -38.951324462890625,
           -3.1154212951660156,
           -1.2519644498825073,
           1.6166517734527588,
           -1.4872952699661255,
           -2.370579481124878
          ],
          [
           -31.798603057861328,
           -3.6631953716278076,
           -0.9333806037902832,
           1.1477000713348389,
           -1.5527585744857788,
           -2.500439405441284
          ],
          [
           25.593080520629883,
           4.486544609069824,
           1.7720987796783447,
           0.09216829389333725,
           2.468405246734619,
           3.4993138313293457
          ],
          [
           -28.949676513671875,
           -4.922211170196533,
           -1.7899625301361084,
           0.3793269991874695,
           -2.184868812561035,
           -3.4157967567443848
          ],
          [
           31.209741592407227,
           4.631700038909912,
           1.8748488426208496,
           -0.0029397793114185333,
           2.1984317302703857,
           3.016676425933838
          ],
          [
           -34.25849914550781,
           -5.071702480316162,
           -2.9594550132751465,
           0.03395337611436844,
           -1.6154038906097412,
           -3.257884979248047
          ],
          [
           -47.07886505126953,
           -5.442872047424316,
           -2.634077787399292,
           0.6701676249504089,
           -2.8405587673187256,
           -3.1477484703063965
          ],
          [
           -45.61503982543945,
           -5.242952346801758,
           -2.0343117713928223,
           0.1272144466638565,
           -2.9667017459869385,
           -2.561234951019287
          ],
          [
           0.17738297581672668,
           -6.205224514007568,
           -2.0462422370910645,
           -1.391167402267456,
           -2.661454916000366,
           -2.7484281063079834
          ]
         ]
        }
       ],
       "layout": {
        "height": 800,
        "sliders": [
         {
          "active": 3,
          "currentvalue": {
           "prefix": "Step: "
          },
          "len": 0.9,
          "pad": {
           "t": 50
          },
          "steps": [
           {
            "args": [
             {
              "visible": [
               true,
               true,
               true,
               true,
               true,
               true
              ]
             },
             {
              "annotations": [],
              "title": "Credences for Input Tokens",
              "xaxis": {
               "tickangle": 45,
               "ticktext": [
                "<bos>",
                "▁The",
                "▁prime",
                "▁number",
                "▁few",
                "."
               ],
               "tickvals": [
                0,
                1,
                2,
                3,
                4,
                5
               ]
              }
             }
            ],
            "method": "update"
           }
          ],
          "visible": true
         }
        ],
        "template": {
         "data": {
          "bar": [
           {
            "error_x": {
             "color": "#2a3f5f"
            },
            "error_y": {
             "color": "#2a3f5f"
            },
            "marker": {
             "line": {
              "color": "#E5ECF6",
              "width": 0.5
             },
             "pattern": {
              "fillmode": "overlay",
              "size": 10,
              "solidity": 0.2
             }
            },
            "type": "bar"
           }
          ],
          "barpolar": [
           {
            "marker": {
             "line": {
              "color": "#E5ECF6",
              "width": 0.5
             },
             "pattern": {
              "fillmode": "overlay",
              "size": 10,
              "solidity": 0.2
             }
            },
            "type": "barpolar"
           }
          ],
          "carpet": [
           {
            "aaxis": {
             "endlinecolor": "#2a3f5f",
             "gridcolor": "white",
             "linecolor": "white",
             "minorgridcolor": "white",
             "startlinecolor": "#2a3f5f"
            },
            "baxis": {
             "endlinecolor": "#2a3f5f",
             "gridcolor": "white",
             "linecolor": "white",
             "minorgridcolor": "white",
             "startlinecolor": "#2a3f5f"
            },
            "type": "carpet"
           }
          ],
          "choropleth": [
           {
            "colorbar": {
             "outlinewidth": 0,
             "ticks": ""
            },
            "type": "choropleth"
           }
          ],
          "contour": [
           {
            "colorbar": {
             "outlinewidth": 0,
             "ticks": ""
            },
            "colorscale": [
             [
              0,
              "#0d0887"
             ],
             [
              0.1111111111111111,
              "#46039f"
             ],
             [
              0.2222222222222222,
              "#7201a8"
             ],
             [
              0.3333333333333333,
              "#9c179e"
             ],
             [
              0.4444444444444444,
              "#bd3786"
             ],
             [
              0.5555555555555556,
              "#d8576b"
             ],
             [
              0.6666666666666666,
              "#ed7953"
             ],
             [
              0.7777777777777778,
              "#fb9f3a"
             ],
             [
              0.8888888888888888,
              "#fdca26"
             ],
             [
              1,
              "#f0f921"
             ]
            ],
            "type": "contour"
           }
          ],
          "contourcarpet": [
           {
            "colorbar": {
             "outlinewidth": 0,
             "ticks": ""
            },
            "type": "contourcarpet"
           }
          ],
          "heatmap": [
           {
            "colorbar": {
             "outlinewidth": 0,
             "ticks": ""
            },
            "colorscale": [
             [
              0,
              "#0d0887"
             ],
             [
              0.1111111111111111,
              "#46039f"
             ],
             [
              0.2222222222222222,
              "#7201a8"
             ],
             [
              0.3333333333333333,
              "#9c179e"
             ],
             [
              0.4444444444444444,
              "#bd3786"
             ],
             [
              0.5555555555555556,
              "#d8576b"
             ],
             [
              0.6666666666666666,
              "#ed7953"
             ],
             [
              0.7777777777777778,
              "#fb9f3a"
             ],
             [
              0.8888888888888888,
              "#fdca26"
             ],
             [
              1,
              "#f0f921"
             ]
            ],
            "type": "heatmap"
           }
          ],
          "heatmapgl": [
           {
            "colorbar": {
             "outlinewidth": 0,
             "ticks": ""
            },
            "colorscale": [
             [
              0,
              "#0d0887"
             ],
             [
              0.1111111111111111,
              "#46039f"
             ],
             [
              0.2222222222222222,
              "#7201a8"
             ],
             [
              0.3333333333333333,
              "#9c179e"
             ],
             [
              0.4444444444444444,
              "#bd3786"
             ],
             [
              0.5555555555555556,
              "#d8576b"
             ],
             [
              0.6666666666666666,
              "#ed7953"
             ],
             [
              0.7777777777777778,
              "#fb9f3a"
             ],
             [
              0.8888888888888888,
              "#fdca26"
             ],
             [
              1,
              "#f0f921"
             ]
            ],
            "type": "heatmapgl"
           }
          ],
          "histogram": [
           {
            "marker": {
             "pattern": {
              "fillmode": "overlay",
              "size": 10,
              "solidity": 0.2
             }
            },
            "type": "histogram"
           }
          ],
          "histogram2d": [
           {
            "colorbar": {
             "outlinewidth": 0,
             "ticks": ""
            },
            "colorscale": [
             [
              0,
              "#0d0887"
             ],
             [
              0.1111111111111111,
              "#46039f"
             ],
             [
              0.2222222222222222,
              "#7201a8"
             ],
             [
              0.3333333333333333,
              "#9c179e"
             ],
             [
              0.4444444444444444,
              "#bd3786"
             ],
             [
              0.5555555555555556,
              "#d8576b"
             ],
             [
              0.6666666666666666,
              "#ed7953"
             ],
             [
              0.7777777777777778,
              "#fb9f3a"
             ],
             [
              0.8888888888888888,
              "#fdca26"
             ],
             [
              1,
              "#f0f921"
             ]
            ],
            "type": "histogram2d"
           }
          ],
          "histogram2dcontour": [
           {
            "colorbar": {
             "outlinewidth": 0,
             "ticks": ""
            },
            "colorscale": [
             [
              0,
              "#0d0887"
             ],
             [
              0.1111111111111111,
              "#46039f"
             ],
             [
              0.2222222222222222,
              "#7201a8"
             ],
             [
              0.3333333333333333,
              "#9c179e"
             ],
             [
              0.4444444444444444,
              "#bd3786"
             ],
             [
              0.5555555555555556,
              "#d8576b"
             ],
             [
              0.6666666666666666,
              "#ed7953"
             ],
             [
              0.7777777777777778,
              "#fb9f3a"
             ],
             [
              0.8888888888888888,
              "#fdca26"
             ],
             [
              1,
              "#f0f921"
             ]
            ],
            "type": "histogram2dcontour"
           }
          ],
          "mesh3d": [
           {
            "colorbar": {
             "outlinewidth": 0,
             "ticks": ""
            },
            "type": "mesh3d"
           }
          ],
          "parcoords": [
           {
            "line": {
             "colorbar": {
              "outlinewidth": 0,
              "ticks": ""
             }
            },
            "type": "parcoords"
           }
          ],
          "pie": [
           {
            "automargin": true,
            "type": "pie"
           }
          ],
          "scatter": [
           {
            "fillpattern": {
             "fillmode": "overlay",
             "size": 10,
             "solidity": 0.2
            },
            "type": "scatter"
           }
          ],
          "scatter3d": [
           {
            "line": {
             "colorbar": {
              "outlinewidth": 0,
              "ticks": ""
             }
            },
            "marker": {
             "colorbar": {
              "outlinewidth": 0,
              "ticks": ""
             }
            },
            "type": "scatter3d"
           }
          ],
          "scattercarpet": [
           {
            "marker": {
             "colorbar": {
              "outlinewidth": 0,
              "ticks": ""
             }
            },
            "type": "scattercarpet"
           }
          ],
          "scattergeo": [
           {
            "marker": {
             "colorbar": {
              "outlinewidth": 0,
              "ticks": ""
             }
            },
            "type": "scattergeo"
           }
          ],
          "scattergl": [
           {
            "marker": {
             "colorbar": {
              "outlinewidth": 0,
              "ticks": ""
             }
            },
            "type": "scattergl"
           }
          ],
          "scattermapbox": [
           {
            "marker": {
             "colorbar": {
              "outlinewidth": 0,
              "ticks": ""
             }
            },
            "type": "scattermapbox"
           }
          ],
          "scatterpolar": [
           {
            "marker": {
             "colorbar": {
              "outlinewidth": 0,
              "ticks": ""
             }
            },
            "type": "scatterpolar"
           }
          ],
          "scatterpolargl": [
           {
            "marker": {
             "colorbar": {
              "outlinewidth": 0,
              "ticks": ""
             }
            },
            "type": "scatterpolargl"
           }
          ],
          "scatterternary": [
           {
            "marker": {
             "colorbar": {
              "outlinewidth": 0,
              "ticks": ""
             }
            },
            "type": "scatterternary"
           }
          ],
          "surface": [
           {
            "colorbar": {
             "outlinewidth": 0,
             "ticks": ""
            },
            "colorscale": [
             [
              0,
              "#0d0887"
             ],
             [
              0.1111111111111111,
              "#46039f"
             ],
             [
              0.2222222222222222,
              "#7201a8"
             ],
             [
              0.3333333333333333,
              "#9c179e"
             ],
             [
              0.4444444444444444,
              "#bd3786"
             ],
             [
              0.5555555555555556,
              "#d8576b"
             ],
             [
              0.6666666666666666,
              "#ed7953"
             ],
             [
              0.7777777777777778,
              "#fb9f3a"
             ],
             [
              0.8888888888888888,
              "#fdca26"
             ],
             [
              1,
              "#f0f921"
             ]
            ],
            "type": "surface"
           }
          ],
          "table": [
           {
            "cells": {
             "fill": {
              "color": "#EBF0F8"
             },
             "line": {
              "color": "white"
             }
            },
            "header": {
             "fill": {
              "color": "#C8D4E3"
             },
             "line": {
              "color": "white"
             }
            },
            "type": "table"
           }
          ]
         },
         "layout": {
          "annotationdefaults": {
           "arrowcolor": "#2a3f5f",
           "arrowhead": 0,
           "arrowwidth": 1
          },
          "autotypenumbers": "strict",
          "coloraxis": {
           "colorbar": {
            "outlinewidth": 0,
            "ticks": ""
           }
          },
          "colorscale": {
           "diverging": [
            [
             0,
             "#8e0152"
            ],
            [
             0.1,
             "#c51b7d"
            ],
            [
             0.2,
             "#de77ae"
            ],
            [
             0.3,
             "#f1b6da"
            ],
            [
             0.4,
             "#fde0ef"
            ],
            [
             0.5,
             "#f7f7f7"
            ],
            [
             0.6,
             "#e6f5d0"
            ],
            [
             0.7,
             "#b8e186"
            ],
            [
             0.8,
             "#7fbc41"
            ],
            [
             0.9,
             "#4d9221"
            ],
            [
             1,
             "#276419"
            ]
           ],
           "sequential": [
            [
             0,
             "#0d0887"
            ],
            [
             0.1111111111111111,
             "#46039f"
            ],
            [
             0.2222222222222222,
             "#7201a8"
            ],
            [
             0.3333333333333333,
             "#9c179e"
            ],
            [
             0.4444444444444444,
             "#bd3786"
            ],
            [
             0.5555555555555556,
             "#d8576b"
            ],
            [
             0.6666666666666666,
             "#ed7953"
            ],
            [
             0.7777777777777778,
             "#fb9f3a"
            ],
            [
             0.8888888888888888,
             "#fdca26"
            ],
            [
             1,
             "#f0f921"
            ]
           ],
           "sequentialminus": [
            [
             0,
             "#0d0887"
            ],
            [
             0.1111111111111111,
             "#46039f"
            ],
            [
             0.2222222222222222,
             "#7201a8"
            ],
            [
             0.3333333333333333,
             "#9c179e"
            ],
            [
             0.4444444444444444,
             "#bd3786"
            ],
            [
             0.5555555555555556,
             "#d8576b"
            ],
            [
             0.6666666666666666,
             "#ed7953"
            ],
            [
             0.7777777777777778,
             "#fb9f3a"
            ],
            [
             0.8888888888888888,
             "#fdca26"
            ],
            [
             1,
             "#f0f921"
            ]
           ]
          },
          "colorway": [
           "#636efa",
           "#EF553B",
           "#00cc96",
           "#ab63fa",
           "#FFA15A",
           "#19d3f3",
           "#FF6692",
           "#B6E880",
           "#FF97FF",
           "#FECB52"
          ],
          "font": {
           "color": "#2a3f5f"
          },
          "geo": {
           "bgcolor": "white",
           "lakecolor": "white",
           "landcolor": "#E5ECF6",
           "showlakes": true,
           "showland": true,
           "subunitcolor": "white"
          },
          "hoverlabel": {
           "align": "left"
          },
          "hovermode": "closest",
          "mapbox": {
           "style": "light"
          },
          "paper_bgcolor": "white",
          "plot_bgcolor": "#E5ECF6",
          "polar": {
           "angularaxis": {
            "gridcolor": "white",
            "linecolor": "white",
            "ticks": ""
           },
           "bgcolor": "#E5ECF6",
           "radialaxis": {
            "gridcolor": "white",
            "linecolor": "white",
            "ticks": ""
           }
          },
          "scene": {
           "xaxis": {
            "backgroundcolor": "#E5ECF6",
            "gridcolor": "white",
            "gridwidth": 2,
            "linecolor": "white",
            "showbackground": true,
            "ticks": "",
            "zerolinecolor": "white"
           },
           "yaxis": {
            "backgroundcolor": "#E5ECF6",
            "gridcolor": "white",
            "gridwidth": 2,
            "linecolor": "white",
            "showbackground": true,
            "ticks": "",
            "zerolinecolor": "white"
           },
           "zaxis": {
            "backgroundcolor": "#E5ECF6",
            "gridcolor": "white",
            "gridwidth": 2,
            "linecolor": "white",
            "showbackground": true,
            "ticks": "",
            "zerolinecolor": "white"
           }
          },
          "shapedefaults": {
           "line": {
            "color": "#2a3f5f"
           }
          },
          "ternary": {
           "aaxis": {
            "gridcolor": "white",
            "linecolor": "white",
            "ticks": ""
           },
           "baxis": {
            "gridcolor": "white",
            "linecolor": "white",
            "ticks": ""
           },
           "bgcolor": "#E5ECF6",
           "caxis": {
            "gridcolor": "white",
            "linecolor": "white",
            "ticks": ""
           }
          },
          "title": {
           "x": 0.05
          },
          "xaxis": {
           "automargin": true,
           "gridcolor": "white",
           "linecolor": "white",
           "ticks": "",
           "title": {
            "standoff": 15
           },
           "zerolinecolor": "white",
           "zerolinewidth": 2
          },
          "yaxis": {
           "automargin": true,
           "gridcolor": "white",
           "linecolor": "white",
           "ticks": "",
           "title": {
            "standoff": 15
           },
           "zerolinecolor": "white",
           "zerolinewidth": 2
          }
         }
        },
        "title": {
         "text": "Credences for Input Tokens"
        },
        "width": 800,
        "xaxis": {
         "tickangle": 45,
         "ticktext": [
          "<bos>",
          "▁The",
          "▁prime",
          "▁number",
          "▁few",
          "."
         ],
         "tickvals": [
          0,
          1,
          2,
          3,
          4,
          5
         ]
        }
       }
      },
      "text/html": [
       "<div>                            <div id=\"60237aae-8192-4acd-84fb-4b3e8022a11f\" class=\"plotly-graph-div\" style=\"height:800px; width:800px;\"></div>            <script type=\"text/javascript\">                require([\"plotly\"], function(Plotly) {                    window.PLOTLYENV=window.PLOTLYENV || {};                                    if (document.getElementById(\"60237aae-8192-4acd-84fb-4b3e8022a11f\")) {                    Plotly.newPlot(                        \"60237aae-8192-4acd-84fb-4b3e8022a11f\",                        [{\"colorscale\":[[0,\"#FF0000\"],[1,\"#00FF00\"]],\"text\":[[\"  <bos>  \",\"  \\u2581The  \",\"  \\u2581prime  \",\"  \\u2581number  \",\"  \\u2581few  \",\"  .  \"],[\"  <bos>  \",\"  \\u2581The  \",\"  \\u2581prime  \",\"  \\u2581number  \",\"  \\u2581few  \",\"  .  \"],[\"  <bos>  \",\"  \\u2581The  \",\"  \\u2581prime  \",\"  \\u2581number  \",\"  \\u2581few  \",\"  .  \"],[\"  <bos>  \",\"  \\u2581The  \",\"  \\u2581prime  \",\"  \\u2581number  \",\"  \\u2581few  \",\"  .  \"],[\"  <bos>  \",\"  \\u2581The  \",\"  \\u2581prime  \",\"  \\u2581number  \",\"  \\u2581few  \",\"  .  \"],[\"  <bos>  \",\"  \\u2581The  \",\"  \\u2581prime  \",\"  \\u2581number  \",\"  \\u2581few  \",\"  .  \"],[\"  <bos>  \",\"  \\u2581The  \",\"  \\u2581prime  \",\"  \\u2581number  \",\"  \\u2581few  \",\"  .  \"],[\"  <bos>  \",\"  \\u2581The  \",\"  \\u2581prime  \",\"  \\u2581number  \",\"  \\u2581few  \",\"  .  \"],[\"  <bos>  \",\"  \\u2581The  \",\"  \\u2581prime  \",\"  \\u2581number  \",\"  \\u2581few  \",\"  .  \"],[\"  <bos>  \",\"  \\u2581The  \",\"  \\u2581prime  \",\"  \\u2581number  \",\"  \\u2581few  \",\"  .  \"],[\"  <bos>  \",\"  \\u2581The  \",\"  \\u2581prime  \",\"  \\u2581number  \",\"  \\u2581few  \",\"  .  \"],[\"  <bos>  \",\"  \\u2581The  \",\"  \\u2581prime  \",\"  \\u2581number  \",\"  \\u2581few  \",\"  .  \"],[\"  <bos>  \",\"  \\u2581The  \",\"  \\u2581prime  \",\"  \\u2581number  \",\"  \\u2581few  \",\"  .  \"],[\"  <bos>  \",\"  \\u2581The  \",\"  \\u2581prime  \",\"  \\u2581number  \",\"  \\u2581few  \",\"  .  \"],[\"  <bos>  \",\"  \\u2581The  \",\"  \\u2581prime  \",\"  \\u2581number  \",\"  \\u2581few  \",\"  .  \"],[\"  <bos>  \",\"  \\u2581The  \",\"  \\u2581prime  \",\"  \\u2581number  \",\"  \\u2581few  \",\"  .  \"],[\"  <bos>  \",\"  \\u2581The  \",\"  \\u2581prime  \",\"  \\u2581number  \",\"  \\u2581few  \",\"  .  \"],[\"  <bos>  \",\"  \\u2581The  \",\"  \\u2581prime  \",\"  \\u2581number  \",\"  \\u2581few  \",\"  .  \"],[\"  <bos>  \",\"  \\u2581The  \",\"  \\u2581prime  \",\"  \\u2581number  \",\"  \\u2581few  \",\"  .  \"],[\"  <bos>  \",\"  \\u2581The  \",\"  \\u2581prime  \",\"  \\u2581number  \",\"  \\u2581few  \",\"  .  \"],[\"  <bos>  \",\"  \\u2581The  \",\"  \\u2581prime  \",\"  \\u2581number  \",\"  \\u2581few  \",\"  .  \"],[\"  <bos>  \",\"  \\u2581The  \",\"  \\u2581prime  \",\"  \\u2581number  \",\"  \\u2581few  \",\"  .  \"],[\"  <bos>  \",\"  \\u2581The  \",\"  \\u2581prime  \",\"  \\u2581number  \",\"  \\u2581few  \",\"  .  \"],[\"  <bos>  \",\"  \\u2581The  \",\"  \\u2581prime  \",\"  \\u2581number  \",\"  \\u2581few  \",\"  .  \"],[\"  <bos>  \",\"  \\u2581The  \",\"  \\u2581prime  \",\"  \\u2581number  \",\"  \\u2581few  \",\"  .  \"],[\"  <bos>  \",\"  \\u2581The  \",\"  \\u2581prime  \",\"  \\u2581number  \",\"  \\u2581few  \",\"  .  \"],[\"  <bos>  \",\"  \\u2581The  \",\"  \\u2581prime  \",\"  \\u2581number  \",\"  \\u2581few  \",\"  .  \"],[\"  <bos>  \",\"  \\u2581The  \",\"  \\u2581prime  \",\"  \\u2581number  \",\"  \\u2581few  \",\"  .  \"],[\"  <bos>  \",\"  \\u2581The  \",\"  \\u2581prime  \",\"  \\u2581number  \",\"  \\u2581few  \",\"  .  \"],[\"  <bos>  \",\"  \\u2581The  \",\"  \\u2581prime  \",\"  \\u2581number  \",\"  \\u2581few  \",\"  .  \"],[\"  <bos>  \",\"  \\u2581The  \",\"  \\u2581prime  \",\"  \\u2581number  \",\"  \\u2581few  \",\"  .  \"],[\"  <bos>  \",\"  \\u2581The  \",\"  \\u2581prime  \",\"  \\u2581number  \",\"  \\u2581few  \",\"  .  \"]],\"textfont\":{\"color\":\"black\",\"size\":12},\"texttemplate\":\"%{text}\",\"z\":[[0.008845187723636627,0.04584826901555061,0.02337639406323433,-0.020788025110960007,-0.018720416352152824,-0.03249766677618027],[-0.15358802676200867,-0.2143976390361786,-0.09718354046344757,-0.053149063140153885,-0.11308179795742035,-0.08499964326620102],[0.18735280632972717,0.10437029600143433,0.008192090317606926,0.21639372408390045,0.2447768747806549,0.021769460290670395],[23.470369338989258,-0.25134286284446716,-0.037546902894973755,0.1753976047039032,0.22665457427501678,-0.14902403950691223],[5.85875129699707,-0.2104581892490387,0.07154897600412369,0.3114849627017975,0.5180936455726624,-0.054434485733509064],[-16.72722625732422,-0.13353614509105682,-0.1827903836965561,-0.45853084325790405,-0.31250858306884766,-0.21737270057201385],[12.161348342895508,0.2074839323759079,0.08963070064783096,0.4189792275428772,0.29051220417022705,0.07282748073339462],[2.064411163330078,0.25377920269966125,0.128248393535614,-0.09619894623756409,0.08570150285959244,0.2701391279697418],[-2.1548967361450195,-0.0056199077516794205,0.2014298290014267,0.2264706939458847,-0.16762873530387878,-0.27104365825653076],[-5.717101097106934,-0.1632382720708847,-0.19238540530204773,-0.38391491770744324,0.34269440174102783,0.31707003712654114],[6.356625556945801,0.5139718651771545,0.3253532648086548,0.682666003704071,-0.22377370297908783,0.3744069039821625],[11.614984512329102,0.5209828615188599,0.20011530816555023,0.5465430021286011,0.21279089152812958,0.3554723262786865],[4.872463703155518,0.43086469173431396,-0.16247472167015076,0.33942586183547974,-0.3514777421951294,-0.42471668124198914],[-3.228698968887329,0.03501402586698532,-0.3238378167152405,0.33299538493156433,-0.4451292157173157,-0.6107527613639832],[-1.7535680532455444,-0.5321921110153198,0.08496202528476715,-0.5618301630020142,0.10457801818847656,0.2713242173194885],[7.8320207595825195,-0.013683677650988102,0.4087330102920532,-0.6256744861602783,0.44485244154930115,0.6286483407020569],[-1.3073129653930664,0.6813579797744751,0.2512015998363495,-0.1014845073223114,0.7002342343330383,0.9546297788619995],[-9.335840225219727,0.8365377187728882,0.47305765748023987,-0.49926671385765076,0.016980379819869995,1.1398425102233887],[-0.2068636417388916,0.42119643092155457,-0.420192152261734,-1.3910359144210815,-0.31705909967422485,1.6665019989013672],[1.8224728107452393,0.6815730929374695,0.15712091326713562,-0.48457443714141846,0.665859043598175,2.2112009525299072],[-12.254570960998535,-1.9271199703216553,-0.2972380816936493,0.3411736786365509,-1.2625857591629028,-2.770474433898926],[-17.042085647583008,-2.318861246109009,-0.30537793040275574,0.5038477778434753,-2.3731534481048584,-2.5918984413146973],[-28.596731185913086,-2.539721965789795,-0.8437514901161194,0.9890929460525513,-2.5896658897399902,-2.750189781188965],[-38.951324462890625,-3.1154212951660156,-1.2519644498825073,1.6166517734527588,-1.4872952699661255,-2.370579481124878],[-31.798603057861328,-3.6631953716278076,-0.9333806037902832,1.1477000713348389,-1.5527585744857788,-2.500439405441284],[25.593080520629883,4.486544609069824,1.7720987796783447,0.09216829389333725,2.468405246734619,3.4993138313293457],[-28.949676513671875,-4.922211170196533,-1.7899625301361084,0.3793269991874695,-2.184868812561035,-3.4157967567443848],[31.209741592407227,4.631700038909912,1.8748488426208496,-0.0029397793114185333,2.1984317302703857,3.016676425933838],[-34.25849914550781,-5.071702480316162,-2.9594550132751465,0.03395337611436844,-1.6154038906097412,-3.257884979248047],[-47.07886505126953,-5.442872047424316,-2.634077787399292,0.6701676249504089,-2.8405587673187256,-3.1477484703063965],[-45.61503982543945,-5.242952346801758,-2.0343117713928223,0.1272144466638565,-2.9667017459869385,-2.561234951019287],[0.17738297581672668,-6.205224514007568,-2.0462422370910645,-1.391167402267456,-2.661454916000366,-2.7484281063079834]],\"type\":\"heatmap\"}],                        {\"height\":800,\"sliders\":[{\"active\":3,\"currentvalue\":{\"prefix\":\"Step: \"},\"len\":0.9,\"pad\":{\"t\":50},\"steps\":[{\"args\":[{\"visible\":[true,true,true,true,true,true]},{\"title\":\"Credences for Input Tokens\",\"xaxis\":{\"tickvals\":[0,1,2,3,4,5],\"ticktext\":[\"<bos>\",\"\\u2581The\",\"\\u2581prime\",\"\\u2581number\",\"\\u2581few\",\".\"],\"tickangle\":45},\"annotations\":[]}],\"method\":\"update\"}],\"visible\":true}],\"template\":{\"data\":{\"barpolar\":[{\"marker\":{\"line\":{\"color\":\"#E5ECF6\",\"width\":0.5},\"pattern\":{\"fillmode\":\"overlay\",\"size\":10,\"solidity\":0.2}},\"type\":\"barpolar\"}],\"bar\":[{\"error_x\":{\"color\":\"#2a3f5f\"},\"error_y\":{\"color\":\"#2a3f5f\"},\"marker\":{\"line\":{\"color\":\"#E5ECF6\",\"width\":0.5},\"pattern\":{\"fillmode\":\"overlay\",\"size\":10,\"solidity\":0.2}},\"type\":\"bar\"}],\"carpet\":[{\"aaxis\":{\"endlinecolor\":\"#2a3f5f\",\"gridcolor\":\"white\",\"linecolor\":\"white\",\"minorgridcolor\":\"white\",\"startlinecolor\":\"#2a3f5f\"},\"baxis\":{\"endlinecolor\":\"#2a3f5f\",\"gridcolor\":\"white\",\"linecolor\":\"white\",\"minorgridcolor\":\"white\",\"startlinecolor\":\"#2a3f5f\"},\"type\":\"carpet\"}],\"choropleth\":[{\"colorbar\":{\"outlinewidth\":0,\"ticks\":\"\"},\"type\":\"choropleth\"}],\"contourcarpet\":[{\"colorbar\":{\"outlinewidth\":0,\"ticks\":\"\"},\"type\":\"contourcarpet\"}],\"contour\":[{\"colorbar\":{\"outlinewidth\":0,\"ticks\":\"\"},\"colorscale\":[[0.0,\"#0d0887\"],[0.1111111111111111,\"#46039f\"],[0.2222222222222222,\"#7201a8\"],[0.3333333333333333,\"#9c179e\"],[0.4444444444444444,\"#bd3786\"],[0.5555555555555556,\"#d8576b\"],[0.6666666666666666,\"#ed7953\"],[0.7777777777777778,\"#fb9f3a\"],[0.8888888888888888,\"#fdca26\"],[1.0,\"#f0f921\"]],\"type\":\"contour\"}],\"heatmapgl\":[{\"colorbar\":{\"outlinewidth\":0,\"ticks\":\"\"},\"colorscale\":[[0.0,\"#0d0887\"],[0.1111111111111111,\"#46039f\"],[0.2222222222222222,\"#7201a8\"],[0.3333333333333333,\"#9c179e\"],[0.4444444444444444,\"#bd3786\"],[0.5555555555555556,\"#d8576b\"],[0.6666666666666666,\"#ed7953\"],[0.7777777777777778,\"#fb9f3a\"],[0.8888888888888888,\"#fdca26\"],[1.0,\"#f0f921\"]],\"type\":\"heatmapgl\"}],\"heatmap\":[{\"colorbar\":{\"outlinewidth\":0,\"ticks\":\"\"},\"colorscale\":[[0.0,\"#0d0887\"],[0.1111111111111111,\"#46039f\"],[0.2222222222222222,\"#7201a8\"],[0.3333333333333333,\"#9c179e\"],[0.4444444444444444,\"#bd3786\"],[0.5555555555555556,\"#d8576b\"],[0.6666666666666666,\"#ed7953\"],[0.7777777777777778,\"#fb9f3a\"],[0.8888888888888888,\"#fdca26\"],[1.0,\"#f0f921\"]],\"type\":\"heatmap\"}],\"histogram2dcontour\":[{\"colorbar\":{\"outlinewidth\":0,\"ticks\":\"\"},\"colorscale\":[[0.0,\"#0d0887\"],[0.1111111111111111,\"#46039f\"],[0.2222222222222222,\"#7201a8\"],[0.3333333333333333,\"#9c179e\"],[0.4444444444444444,\"#bd3786\"],[0.5555555555555556,\"#d8576b\"],[0.6666666666666666,\"#ed7953\"],[0.7777777777777778,\"#fb9f3a\"],[0.8888888888888888,\"#fdca26\"],[1.0,\"#f0f921\"]],\"type\":\"histogram2dcontour\"}],\"histogram2d\":[{\"colorbar\":{\"outlinewidth\":0,\"ticks\":\"\"},\"colorscale\":[[0.0,\"#0d0887\"],[0.1111111111111111,\"#46039f\"],[0.2222222222222222,\"#7201a8\"],[0.3333333333333333,\"#9c179e\"],[0.4444444444444444,\"#bd3786\"],[0.5555555555555556,\"#d8576b\"],[0.6666666666666666,\"#ed7953\"],[0.7777777777777778,\"#fb9f3a\"],[0.8888888888888888,\"#fdca26\"],[1.0,\"#f0f921\"]],\"type\":\"histogram2d\"}],\"histogram\":[{\"marker\":{\"pattern\":{\"fillmode\":\"overlay\",\"size\":10,\"solidity\":0.2}},\"type\":\"histogram\"}],\"mesh3d\":[{\"colorbar\":{\"outlinewidth\":0,\"ticks\":\"\"},\"type\":\"mesh3d\"}],\"parcoords\":[{\"line\":{\"colorbar\":{\"outlinewidth\":0,\"ticks\":\"\"}},\"type\":\"parcoords\"}],\"pie\":[{\"automargin\":true,\"type\":\"pie\"}],\"scatter3d\":[{\"line\":{\"colorbar\":{\"outlinewidth\":0,\"ticks\":\"\"}},\"marker\":{\"colorbar\":{\"outlinewidth\":0,\"ticks\":\"\"}},\"type\":\"scatter3d\"}],\"scattercarpet\":[{\"marker\":{\"colorbar\":{\"outlinewidth\":0,\"ticks\":\"\"}},\"type\":\"scattercarpet\"}],\"scattergeo\":[{\"marker\":{\"colorbar\":{\"outlinewidth\":0,\"ticks\":\"\"}},\"type\":\"scattergeo\"}],\"scattergl\":[{\"marker\":{\"colorbar\":{\"outlinewidth\":0,\"ticks\":\"\"}},\"type\":\"scattergl\"}],\"scattermapbox\":[{\"marker\":{\"colorbar\":{\"outlinewidth\":0,\"ticks\":\"\"}},\"type\":\"scattermapbox\"}],\"scatterpolargl\":[{\"marker\":{\"colorbar\":{\"outlinewidth\":0,\"ticks\":\"\"}},\"type\":\"scatterpolargl\"}],\"scatterpolar\":[{\"marker\":{\"colorbar\":{\"outlinewidth\":0,\"ticks\":\"\"}},\"type\":\"scatterpolar\"}],\"scatter\":[{\"fillpattern\":{\"fillmode\":\"overlay\",\"size\":10,\"solidity\":0.2},\"type\":\"scatter\"}],\"scatterternary\":[{\"marker\":{\"colorbar\":{\"outlinewidth\":0,\"ticks\":\"\"}},\"type\":\"scatterternary\"}],\"surface\":[{\"colorbar\":{\"outlinewidth\":0,\"ticks\":\"\"},\"colorscale\":[[0.0,\"#0d0887\"],[0.1111111111111111,\"#46039f\"],[0.2222222222222222,\"#7201a8\"],[0.3333333333333333,\"#9c179e\"],[0.4444444444444444,\"#bd3786\"],[0.5555555555555556,\"#d8576b\"],[0.6666666666666666,\"#ed7953\"],[0.7777777777777778,\"#fb9f3a\"],[0.8888888888888888,\"#fdca26\"],[1.0,\"#f0f921\"]],\"type\":\"surface\"}],\"table\":[{\"cells\":{\"fill\":{\"color\":\"#EBF0F8\"},\"line\":{\"color\":\"white\"}},\"header\":{\"fill\":{\"color\":\"#C8D4E3\"},\"line\":{\"color\":\"white\"}},\"type\":\"table\"}]},\"layout\":{\"annotationdefaults\":{\"arrowcolor\":\"#2a3f5f\",\"arrowhead\":0,\"arrowwidth\":1},\"autotypenumbers\":\"strict\",\"coloraxis\":{\"colorbar\":{\"outlinewidth\":0,\"ticks\":\"\"}},\"colorscale\":{\"diverging\":[[0,\"#8e0152\"],[0.1,\"#c51b7d\"],[0.2,\"#de77ae\"],[0.3,\"#f1b6da\"],[0.4,\"#fde0ef\"],[0.5,\"#f7f7f7\"],[0.6,\"#e6f5d0\"],[0.7,\"#b8e186\"],[0.8,\"#7fbc41\"],[0.9,\"#4d9221\"],[1,\"#276419\"]],\"sequential\":[[0.0,\"#0d0887\"],[0.1111111111111111,\"#46039f\"],[0.2222222222222222,\"#7201a8\"],[0.3333333333333333,\"#9c179e\"],[0.4444444444444444,\"#bd3786\"],[0.5555555555555556,\"#d8576b\"],[0.6666666666666666,\"#ed7953\"],[0.7777777777777778,\"#fb9f3a\"],[0.8888888888888888,\"#fdca26\"],[1.0,\"#f0f921\"]],\"sequentialminus\":[[0.0,\"#0d0887\"],[0.1111111111111111,\"#46039f\"],[0.2222222222222222,\"#7201a8\"],[0.3333333333333333,\"#9c179e\"],[0.4444444444444444,\"#bd3786\"],[0.5555555555555556,\"#d8576b\"],[0.6666666666666666,\"#ed7953\"],[0.7777777777777778,\"#fb9f3a\"],[0.8888888888888888,\"#fdca26\"],[1.0,\"#f0f921\"]]},\"colorway\":[\"#636efa\",\"#EF553B\",\"#00cc96\",\"#ab63fa\",\"#FFA15A\",\"#19d3f3\",\"#FF6692\",\"#B6E880\",\"#FF97FF\",\"#FECB52\"],\"font\":{\"color\":\"#2a3f5f\"},\"geo\":{\"bgcolor\":\"white\",\"lakecolor\":\"white\",\"landcolor\":\"#E5ECF6\",\"showlakes\":true,\"showland\":true,\"subunitcolor\":\"white\"},\"hoverlabel\":{\"align\":\"left\"},\"hovermode\":\"closest\",\"mapbox\":{\"style\":\"light\"},\"paper_bgcolor\":\"white\",\"plot_bgcolor\":\"#E5ECF6\",\"polar\":{\"angularaxis\":{\"gridcolor\":\"white\",\"linecolor\":\"white\",\"ticks\":\"\"},\"bgcolor\":\"#E5ECF6\",\"radialaxis\":{\"gridcolor\":\"white\",\"linecolor\":\"white\",\"ticks\":\"\"}},\"scene\":{\"xaxis\":{\"backgroundcolor\":\"#E5ECF6\",\"gridcolor\":\"white\",\"gridwidth\":2,\"linecolor\":\"white\",\"showbackground\":true,\"ticks\":\"\",\"zerolinecolor\":\"white\"},\"yaxis\":{\"backgroundcolor\":\"#E5ECF6\",\"gridcolor\":\"white\",\"gridwidth\":2,\"linecolor\":\"white\",\"showbackground\":true,\"ticks\":\"\",\"zerolinecolor\":\"white\"},\"zaxis\":{\"backgroundcolor\":\"#E5ECF6\",\"gridcolor\":\"white\",\"gridwidth\":2,\"linecolor\":\"white\",\"showbackground\":true,\"ticks\":\"\",\"zerolinecolor\":\"white\"}},\"shapedefaults\":{\"line\":{\"color\":\"#2a3f5f\"}},\"ternary\":{\"aaxis\":{\"gridcolor\":\"white\",\"linecolor\":\"white\",\"ticks\":\"\"},\"baxis\":{\"gridcolor\":\"white\",\"linecolor\":\"white\",\"ticks\":\"\"},\"bgcolor\":\"#E5ECF6\",\"caxis\":{\"gridcolor\":\"white\",\"linecolor\":\"white\",\"ticks\":\"\"}},\"title\":{\"x\":0.05},\"xaxis\":{\"automargin\":true,\"gridcolor\":\"white\",\"linecolor\":\"white\",\"ticks\":\"\",\"title\":{\"standoff\":15},\"zerolinecolor\":\"white\",\"zerolinewidth\":2},\"yaxis\":{\"automargin\":true,\"gridcolor\":\"white\",\"linecolor\":\"white\",\"ticks\":\"\",\"title\":{\"standoff\":15},\"zerolinecolor\":\"white\",\"zerolinewidth\":2}}},\"title\":{\"text\":\"Credences for Input Tokens\"},\"width\":800,\"xaxis\":{\"tickangle\":45,\"ticktext\":[\"<bos>\",\"\\u2581The\",\"\\u2581prime\",\"\\u2581number\",\"\\u2581few\",\".\"],\"tickvals\":[0,1,2,3,4,5]}},                        {\"responsive\": true}                    ).then(function(){\n",
       "                            \n",
       "var gd = document.getElementById('60237aae-8192-4acd-84fb-4b3e8022a11f');\n",
       "var x = new MutationObserver(function (mutations, observer) {{\n",
       "        var display = window.getComputedStyle(gd).display;\n",
       "        if (!display || display === 'none') {{\n",
       "            console.log([gd, 'removed!']);\n",
       "            Plotly.purge(gd);\n",
       "            observer.disconnect();\n",
       "        }}\n",
       "}});\n",
       "\n",
       "// Listen for the removal of the full notebook cells\n",
       "var notebookContainer = gd.closest('#notebook-container');\n",
       "if (notebookContainer) {{\n",
       "    x.observe(notebookContainer, {childList: true});\n",
       "}}\n",
       "\n",
       "// Listen for the clearing of the current output cell\n",
       "var outputEl = gd.closest('.output');\n",
       "if (outputEl) {{\n",
       "    x.observe(outputEl, {childList: true});\n",
       "}}\n",
       "\n",
       "                        })                };                });            </script>        </div>"
      ]
     },
     "metadata": {},
     "output_type": "display_data"
    },
    {
     "data": {
      "application/vnd.plotly.v1+json": {
       "config": {
        "linkText": "Export to plot.ly",
        "plotlyServerURL": "https://plot.ly",
        "showLink": false
       },
       "data": [
        {
         "colorscale": [
          [
           0,
           "#FF0000"
          ],
          [
           1,
           "#00FF00"
          ]
         ],
         "text": [
          [
           "  <bos>  ",
           "  ▁The  ",
           "  ▁cot  ",
           "  ton  ",
           "  ▁cl  ",
           "  othing  ",
           "  ▁is  ",
           "  ▁usually  ",
           "  ▁made  ",
           "  ▁of  ",
           "  ▁grows  ",
           "  ▁in  ",
           "  ▁Mississippi  ",
           "  .  "
          ],
          [
           "  <bos>  ",
           "  ▁The  ",
           "  ▁cot  ",
           "  ton  ",
           "  ▁cl  ",
           "  othing  ",
           "  ▁is  ",
           "  ▁usually  ",
           "  ▁made  ",
           "  ▁of  ",
           "  ▁grows  ",
           "  ▁in  ",
           "  ▁Mississippi  ",
           "  .  "
          ],
          [
           "  <bos>  ",
           "  ▁The  ",
           "  ▁cot  ",
           "  ton  ",
           "  ▁cl  ",
           "  othing  ",
           "  ▁is  ",
           "  ▁usually  ",
           "  ▁made  ",
           "  ▁of  ",
           "  ▁grows  ",
           "  ▁in  ",
           "  ▁Mississippi  ",
           "  .  "
          ],
          [
           "  <bos>  ",
           "  ▁The  ",
           "  ▁cot  ",
           "  ton  ",
           "  ▁cl  ",
           "  othing  ",
           "  ▁is  ",
           "  ▁usually  ",
           "  ▁made  ",
           "  ▁of  ",
           "  ▁grows  ",
           "  ▁in  ",
           "  ▁Mississippi  ",
           "  .  "
          ],
          [
           "  <bos>  ",
           "  ▁The  ",
           "  ▁cot  ",
           "  ton  ",
           "  ▁cl  ",
           "  othing  ",
           "  ▁is  ",
           "  ▁usually  ",
           "  ▁made  ",
           "  ▁of  ",
           "  ▁grows  ",
           "  ▁in  ",
           "  ▁Mississippi  ",
           "  .  "
          ],
          [
           "  <bos>  ",
           "  ▁The  ",
           "  ▁cot  ",
           "  ton  ",
           "  ▁cl  ",
           "  othing  ",
           "  ▁is  ",
           "  ▁usually  ",
           "  ▁made  ",
           "  ▁of  ",
           "  ▁grows  ",
           "  ▁in  ",
           "  ▁Mississippi  ",
           "  .  "
          ],
          [
           "  <bos>  ",
           "  ▁The  ",
           "  ▁cot  ",
           "  ton  ",
           "  ▁cl  ",
           "  othing  ",
           "  ▁is  ",
           "  ▁usually  ",
           "  ▁made  ",
           "  ▁of  ",
           "  ▁grows  ",
           "  ▁in  ",
           "  ▁Mississippi  ",
           "  .  "
          ],
          [
           "  <bos>  ",
           "  ▁The  ",
           "  ▁cot  ",
           "  ton  ",
           "  ▁cl  ",
           "  othing  ",
           "  ▁is  ",
           "  ▁usually  ",
           "  ▁made  ",
           "  ▁of  ",
           "  ▁grows  ",
           "  ▁in  ",
           "  ▁Mississippi  ",
           "  .  "
          ],
          [
           "  <bos>  ",
           "  ▁The  ",
           "  ▁cot  ",
           "  ton  ",
           "  ▁cl  ",
           "  othing  ",
           "  ▁is  ",
           "  ▁usually  ",
           "  ▁made  ",
           "  ▁of  ",
           "  ▁grows  ",
           "  ▁in  ",
           "  ▁Mississippi  ",
           "  .  "
          ],
          [
           "  <bos>  ",
           "  ▁The  ",
           "  ▁cot  ",
           "  ton  ",
           "  ▁cl  ",
           "  othing  ",
           "  ▁is  ",
           "  ▁usually  ",
           "  ▁made  ",
           "  ▁of  ",
           "  ▁grows  ",
           "  ▁in  ",
           "  ▁Mississippi  ",
           "  .  "
          ],
          [
           "  <bos>  ",
           "  ▁The  ",
           "  ▁cot  ",
           "  ton  ",
           "  ▁cl  ",
           "  othing  ",
           "  ▁is  ",
           "  ▁usually  ",
           "  ▁made  ",
           "  ▁of  ",
           "  ▁grows  ",
           "  ▁in  ",
           "  ▁Mississippi  ",
           "  .  "
          ],
          [
           "  <bos>  ",
           "  ▁The  ",
           "  ▁cot  ",
           "  ton  ",
           "  ▁cl  ",
           "  othing  ",
           "  ▁is  ",
           "  ▁usually  ",
           "  ▁made  ",
           "  ▁of  ",
           "  ▁grows  ",
           "  ▁in  ",
           "  ▁Mississippi  ",
           "  .  "
          ],
          [
           "  <bos>  ",
           "  ▁The  ",
           "  ▁cot  ",
           "  ton  ",
           "  ▁cl  ",
           "  othing  ",
           "  ▁is  ",
           "  ▁usually  ",
           "  ▁made  ",
           "  ▁of  ",
           "  ▁grows  ",
           "  ▁in  ",
           "  ▁Mississippi  ",
           "  .  "
          ],
          [
           "  <bos>  ",
           "  ▁The  ",
           "  ▁cot  ",
           "  ton  ",
           "  ▁cl  ",
           "  othing  ",
           "  ▁is  ",
           "  ▁usually  ",
           "  ▁made  ",
           "  ▁of  ",
           "  ▁grows  ",
           "  ▁in  ",
           "  ▁Mississippi  ",
           "  .  "
          ],
          [
           "  <bos>  ",
           "  ▁The  ",
           "  ▁cot  ",
           "  ton  ",
           "  ▁cl  ",
           "  othing  ",
           "  ▁is  ",
           "  ▁usually  ",
           "  ▁made  ",
           "  ▁of  ",
           "  ▁grows  ",
           "  ▁in  ",
           "  ▁Mississippi  ",
           "  .  "
          ],
          [
           "  <bos>  ",
           "  ▁The  ",
           "  ▁cot  ",
           "  ton  ",
           "  ▁cl  ",
           "  othing  ",
           "  ▁is  ",
           "  ▁usually  ",
           "  ▁made  ",
           "  ▁of  ",
           "  ▁grows  ",
           "  ▁in  ",
           "  ▁Mississippi  ",
           "  .  "
          ],
          [
           "  <bos>  ",
           "  ▁The  ",
           "  ▁cot  ",
           "  ton  ",
           "  ▁cl  ",
           "  othing  ",
           "  ▁is  ",
           "  ▁usually  ",
           "  ▁made  ",
           "  ▁of  ",
           "  ▁grows  ",
           "  ▁in  ",
           "  ▁Mississippi  ",
           "  .  "
          ],
          [
           "  <bos>  ",
           "  ▁The  ",
           "  ▁cot  ",
           "  ton  ",
           "  ▁cl  ",
           "  othing  ",
           "  ▁is  ",
           "  ▁usually  ",
           "  ▁made  ",
           "  ▁of  ",
           "  ▁grows  ",
           "  ▁in  ",
           "  ▁Mississippi  ",
           "  .  "
          ],
          [
           "  <bos>  ",
           "  ▁The  ",
           "  ▁cot  ",
           "  ton  ",
           "  ▁cl  ",
           "  othing  ",
           "  ▁is  ",
           "  ▁usually  ",
           "  ▁made  ",
           "  ▁of  ",
           "  ▁grows  ",
           "  ▁in  ",
           "  ▁Mississippi  ",
           "  .  "
          ],
          [
           "  <bos>  ",
           "  ▁The  ",
           "  ▁cot  ",
           "  ton  ",
           "  ▁cl  ",
           "  othing  ",
           "  ▁is  ",
           "  ▁usually  ",
           "  ▁made  ",
           "  ▁of  ",
           "  ▁grows  ",
           "  ▁in  ",
           "  ▁Mississippi  ",
           "  .  "
          ],
          [
           "  <bos>  ",
           "  ▁The  ",
           "  ▁cot  ",
           "  ton  ",
           "  ▁cl  ",
           "  othing  ",
           "  ▁is  ",
           "  ▁usually  ",
           "  ▁made  ",
           "  ▁of  ",
           "  ▁grows  ",
           "  ▁in  ",
           "  ▁Mississippi  ",
           "  .  "
          ],
          [
           "  <bos>  ",
           "  ▁The  ",
           "  ▁cot  ",
           "  ton  ",
           "  ▁cl  ",
           "  othing  ",
           "  ▁is  ",
           "  ▁usually  ",
           "  ▁made  ",
           "  ▁of  ",
           "  ▁grows  ",
           "  ▁in  ",
           "  ▁Mississippi  ",
           "  .  "
          ],
          [
           "  <bos>  ",
           "  ▁The  ",
           "  ▁cot  ",
           "  ton  ",
           "  ▁cl  ",
           "  othing  ",
           "  ▁is  ",
           "  ▁usually  ",
           "  ▁made  ",
           "  ▁of  ",
           "  ▁grows  ",
           "  ▁in  ",
           "  ▁Mississippi  ",
           "  .  "
          ],
          [
           "  <bos>  ",
           "  ▁The  ",
           "  ▁cot  ",
           "  ton  ",
           "  ▁cl  ",
           "  othing  ",
           "  ▁is  ",
           "  ▁usually  ",
           "  ▁made  ",
           "  ▁of  ",
           "  ▁grows  ",
           "  ▁in  ",
           "  ▁Mississippi  ",
           "  .  "
          ],
          [
           "  <bos>  ",
           "  ▁The  ",
           "  ▁cot  ",
           "  ton  ",
           "  ▁cl  ",
           "  othing  ",
           "  ▁is  ",
           "  ▁usually  ",
           "  ▁made  ",
           "  ▁of  ",
           "  ▁grows  ",
           "  ▁in  ",
           "  ▁Mississippi  ",
           "  .  "
          ],
          [
           "  <bos>  ",
           "  ▁The  ",
           "  ▁cot  ",
           "  ton  ",
           "  ▁cl  ",
           "  othing  ",
           "  ▁is  ",
           "  ▁usually  ",
           "  ▁made  ",
           "  ▁of  ",
           "  ▁grows  ",
           "  ▁in  ",
           "  ▁Mississippi  ",
           "  .  "
          ],
          [
           "  <bos>  ",
           "  ▁The  ",
           "  ▁cot  ",
           "  ton  ",
           "  ▁cl  ",
           "  othing  ",
           "  ▁is  ",
           "  ▁usually  ",
           "  ▁made  ",
           "  ▁of  ",
           "  ▁grows  ",
           "  ▁in  ",
           "  ▁Mississippi  ",
           "  .  "
          ],
          [
           "  <bos>  ",
           "  ▁The  ",
           "  ▁cot  ",
           "  ton  ",
           "  ▁cl  ",
           "  othing  ",
           "  ▁is  ",
           "  ▁usually  ",
           "  ▁made  ",
           "  ▁of  ",
           "  ▁grows  ",
           "  ▁in  ",
           "  ▁Mississippi  ",
           "  .  "
          ],
          [
           "  <bos>  ",
           "  ▁The  ",
           "  ▁cot  ",
           "  ton  ",
           "  ▁cl  ",
           "  othing  ",
           "  ▁is  ",
           "  ▁usually  ",
           "  ▁made  ",
           "  ▁of  ",
           "  ▁grows  ",
           "  ▁in  ",
           "  ▁Mississippi  ",
           "  .  "
          ],
          [
           "  <bos>  ",
           "  ▁The  ",
           "  ▁cot  ",
           "  ton  ",
           "  ▁cl  ",
           "  othing  ",
           "  ▁is  ",
           "  ▁usually  ",
           "  ▁made  ",
           "  ▁of  ",
           "  ▁grows  ",
           "  ▁in  ",
           "  ▁Mississippi  ",
           "  .  "
          ],
          [
           "  <bos>  ",
           "  ▁The  ",
           "  ▁cot  ",
           "  ton  ",
           "  ▁cl  ",
           "  othing  ",
           "  ▁is  ",
           "  ▁usually  ",
           "  ▁made  ",
           "  ▁of  ",
           "  ▁grows  ",
           "  ▁in  ",
           "  ▁Mississippi  ",
           "  .  "
          ],
          [
           "  <bos>  ",
           "  ▁The  ",
           "  ▁cot  ",
           "  ton  ",
           "  ▁cl  ",
           "  othing  ",
           "  ▁is  ",
           "  ▁usually  ",
           "  ▁made  ",
           "  ▁of  ",
           "  ▁grows  ",
           "  ▁in  ",
           "  ▁Mississippi  ",
           "  .  "
          ]
         ],
         "textfont": {
          "color": "black",
          "size": 12
         },
         "texttemplate": "%{text}",
         "type": "heatmap",
         "z": [
          [
           0.008845187723636627,
           0.04584826901555061,
           0.0031089161057025194,
           0.03359977900981903,
           0.0018351594917476177,
           0.016049720346927643,
           -0.06065491586923599,
           -0.02378569170832634,
           -0.019612127915024757,
           0.056414905935525894,
           0.02144031599164009,
           -0.09078694134950638,
           0.009969310835003853,
           -0.03249766677618027
          ],
          [
           -0.15358802676200867,
           -0.21439756453037262,
           0.039622142910957336,
           -0.003719939850270748,
           -0.08495181798934937,
           -0.0830942839384079,
           -0.0766710638999939,
           -0.015889495611190796,
           -0.03879247233271599,
           -0.02799399197101593,
           -0.057510796934366226,
           -0.015450350008904934,
           0.0027384981513023376,
           -0.06255136430263519
          ],
          [
           0.18735280632972717,
           0.10437030345201492,
           -0.10867278277873993,
           0.07284663617610931,
           -0.0701160654425621,
           -0.11752448976039886,
           0.03119664080440998,
           0.12206681817770004,
           0.0573267936706543,
           0.005834365263581276,
           -0.004268949385732412,
           -0.006097907200455666,
           -0.26827186346054077,
           0.019383961334824562
          ],
          [
           23.470369338989258,
           -0.25134286284446716,
           -0.1032746285200119,
           -0.08846685290336609,
           -0.11184640228748322,
           -0.30495521426200867,
           -0.22746632993221283,
           -0.0526825450360775,
           -0.12360484898090363,
           -0.3019656538963318,
           0.001584363984875381,
           -0.20017579197883606,
           -0.4094714820384979,
           -0.20461206138134003
          ],
          [
           5.85875129699707,
           -0.21045812964439392,
           -0.15235179662704468,
           -0.15369445085525513,
           0.12096554040908813,
           -0.05414850264787674,
           -0.13917803764343262,
           0.01696748100221157,
           0.03413838893175125,
           -0.06891302764415741,
           0.22847580909729004,
           -0.08882234245538712,
           -0.0065717739053070545,
           -0.0513857863843441
          ],
          [
           -16.72722625732422,
           -0.13353614509105682,
           0.38109204173088074,
           -0.05723834037780762,
           -0.09663362056016922,
           -0.117390476167202,
           -0.09040112793445587,
           -0.3816911280155182,
           -0.19750070571899414,
           -0.042810097336769104,
           -0.09118707478046417,
           -0.11206294596195221,
           -0.45170262455940247,
           -0.1703449785709381
          ],
          [
           12.161348342895508,
           0.2074839174747467,
           -0.25845134258270264,
           0.140109583735466,
           0.11316853761672974,
           0.8444393873214722,
           0.21224308013916016,
           0.5557811856269836,
           0.3331185579299927,
           0.05555059388279915,
           0.2351849377155304,
           0.06833516061306,
           0.4678252935409546,
           -0.008342821151018143
          ],
          [
           2.064411163330078,
           0.2537793517112732,
           0.13419632613658905,
           0.04710501432418823,
           0.41159820556640625,
           0.4541187584400177,
           0.3095126152038574,
           0.2861507833003998,
           0.0025576073676347733,
           -0.11386820673942566,
           0.5164517760276794,
           0.48539021611213684,
           0.40529680252075195,
           0.49772322177886963
          ],
          [
           -2.1548967361450195,
           -0.005619481671601534,
           0.12845437228679657,
           -0.15597446262836456,
           -0.14013342559337616,
           -0.3142980635166168,
           -0.4645318388938904,
           -0.19671031832695007,
           0.11533944308757782,
           0.13909311592578888,
           -0.42899712920188904,
           -0.2626464366912842,
           -0.6729204058647156,
           -0.5907692313194275
          ],
          [
           -5.717101097106934,
           -0.16323845088481903,
           0.11765491217374802,
           0.044190745800733566,
           0.3165900409221649,
           -0.26156383752822876,
           -0.028951123356819153,
           -0.007060711272060871,
           -0.35097596049308777,
           -0.09491412341594696,
           0.1861550211906433,
           0.17954200506210327,
           0.2863713800907135,
           0.2779375910758972
          ],
          [
           6.356625556945801,
           0.5139719843864441,
           0.06716048717498779,
           0.5669827461242676,
           -0.09045374393463135,
           0.6499732732772827,
           0.6380530595779419,
           0.2629537880420685,
           0.5503593683242798,
           0.12176577746868134,
           0.19261935353279114,
           0.23260389268398285,
           -0.17720915377140045,
           0.39411279559135437
          ],
          [
           11.614984512329102,
           0.5209820866584778,
           -0.16505280137062073,
           0.21637502312660217,
           0.2728686034679413,
           0.8907478451728821,
           0.9134252667427063,
           0.27218130230903625,
           0.325900673866272,
           0.5696393251419067,
           0.2353624403476715,
           0.4387718141078949,
           0.022431300953030586,
           0.6163648962974548
          ],
          [
           4.872463703155518,
           0.4308643937110901,
           -0.10573796182870865,
           0.17163139581680298,
           -0.08474824577569962,
           0.6761518716812134,
           0.8134114742279053,
           0.4308084547519684,
           0.27264460921287537,
           0.250710666179657,
           -0.2598537504673004,
           0.17923937737941742,
           -0.11328110098838806,
           0.17464853823184967
          ],
          [
           -3.228698968887329,
           0.03501423820853233,
           -0.41246679425239563,
           -0.4792977571487427,
           -0.392315149307251,
           0.06375428289175034,
           0.3715905249118805,
           0.4103798568248749,
           0.04235759377479553,
           0.1303800791501999,
           -0.07553046196699142,
           0.3157212436199188,
           -0.03318551555275917,
           -0.25402015447616577
          ],
          [
           -1.7535680532455444,
           -0.5321927070617676,
           0.39785975217819214,
           0.18428480625152588,
           0.10445674508810043,
           -0.3313712775707245,
           -0.8001143336296082,
           -0.7020163536071777,
           -0.6932752728462219,
           -1.1015264987945557,
           -0.06862480193376541,
           -0.09463825076818466,
           0.20877644419670105,
           0.18929056823253632
          ],
          [
           7.8320207595825195,
           -0.013683555647730827,
           0.5328702926635742,
           0.6490458250045776,
           0.689156711101532,
           0.38491150736808777,
           -0.6024750471115112,
           -0.5742281675338745,
           0.1565607786178589,
           -0.5382388830184937,
           -0.1890091747045517,
           -0.17914173007011414,
           0.5174344778060913,
           0.3358941674232483
          ],
          [
           -1.3073129653930664,
           0.6813579797744751,
           0.3305385112762451,
           0.3685508966445923,
           0.5632637739181519,
           0.4224027693271637,
           -0.40068235993385315,
           -0.18305040895938873,
           0.47776100039482117,
           -0.8718093633651733,
           0.3422681391239166,
           0.16954299807548523,
           0.6267960071563721,
           -0.2028988003730774
          ],
          [
           -9.335840225219727,
           0.8365367650985718,
           -0.06921499967575073,
           -0.3482511341571808,
           1.1262664794921875,
           -0.08657308667898178,
           -0.7656950950622559,
           -0.7831603288650513,
           0.12655282020568848,
           -0.7721737027168274,
           0.011583848856389523,
           0.233573779463768,
           0.296580970287323,
           0.36861559748649597
          ],
          [
           -0.2068636417388916,
           0.42119553685188293,
           -0.6804314255714417,
           -0.715954601764679,
           1.0562528371810913,
           0.24146494269371033,
           -1.1486854553222656,
           -1.2406052350997925,
           0.41133952140808105,
           -0.8602257370948792,
           -0.222958043217659,
           -0.20010708272457123,
           -0.2321339249610901,
           -0.2662722170352936
          ],
          [
           1.8224728107452393,
           0.6815717816352844,
           0.12147503346204758,
           -0.2030218243598938,
           1.0543267726898193,
           0.5020720958709717,
           -1.0130873918533325,
           -1.243006706237793,
           -0.9466312527656555,
           -1.3262730836868286,
           -1.0204097032546997,
           -1.0428754091262817,
           -0.18260516226291656,
           0.9479041695594788
          ],
          [
           -12.254570960998535,
           -1.9271193742752075,
           -1.0955122709274292,
           -0.8960570096969604,
           -1.850568175315857,
           -1.3691240549087524,
           0.32405972480773926,
           1.080833911895752,
           1.0949677228927612,
           0.9850733280181885,
           1.0595808029174805,
           0.442634642124176,
           -0.4609171748161316,
           -1.510888934135437
          ],
          [
           -17.042085647583008,
           -2.3188607692718506,
           -1.4873191118240356,
           -1.0185446739196777,
           -1.3557183742523193,
           -1.7542951107025146,
           -0.0975954681634903,
           0.2792209982872009,
           -0.5264075994491577,
           1.5372096300125122,
           0.4269688129425049,
           0.5212777256965637,
           -0.5945934653282166,
           -1.837419867515564
          ],
          [
           -28.596731185913086,
           -2.5397207736968994,
           -1.2363048791885376,
           -0.9405944347381592,
           -0.7240710854530334,
           -2.0027027130126953,
           -0.6732068657875061,
           -0.495385080575943,
           -0.8891343474388123,
           1.5472698211669922,
           0.11412027478218079,
           0.6343397498130798,
           -0.6886753439903259,
           -2.6558592319488525
          ],
          [
           -38.951324462890625,
           -3.115420341491699,
           -1.849927306175232,
           -0.5443006157875061,
           -0.5612057447433472,
           -2.4232821464538574,
           -0.2625948488712311,
           -0.7541834712028503,
           -1.1912486553192139,
           0.7634193301200867,
           -0.05164313316345215,
           0.7224646806716919,
           -0.2718617618083954,
           -2.635115146636963
          ],
          [
           -31.798603057861328,
           -3.6631948947906494,
           -1.7150027751922607,
           -0.7819252014160156,
           -0.5501230955123901,
           -2.8659780025482178,
           -0.014848999679088593,
           -0.3624078631401062,
           0.3692536950111389,
           1.2584649324417114,
           1.1719387769699097,
           0.9505785703659058,
           -0.3208470642566681,
           -1.8544230461120605
          ],
          [
           25.593080520629883,
           4.486546516418457,
           1.815126657485962,
           1.8415348529815674,
           -0.7413803935050964,
           4.135777950286865,
           1.62973952293396,
           1.7294225692749023,
           -0.1982087939977646,
           -0.8202206492424011,
           -0.27888399362564087,
           -0.22969657182693481,
           0.5646408200263977,
           2.355112075805664
          ],
          [
           -28.949676513671875,
           -4.922212600708008,
           -0.7740888595581055,
           -1.635551929473877,
           1.2197110652923584,
           -3.902571439743042,
           -0.29979419708251953,
           -0.4356316924095154,
           -0.15890243649482727,
           0.036413732916116714,
           0.9681006073951721,
           0.6572095155715942,
           -0.46694090962409973,
           -2.3885791301727295
          ],
          [
           31.209741592407227,
           4.631702899932861,
           0.7788277268409729,
           1.6691834926605225,
           -0.9453555941581726,
           4.534019470214844,
           1.609850287437439,
           0.8924598097801208,
           1.0656393766403198,
           0.026440251618623734,
           -0.36726415157318115,
           -0.3262613117694855,
           -0.8958722949028015,
           1.5645534992218018
          ],
          [
           -34.25849914550781,
           -5.071704387664795,
           -0.18473441898822784,
           -2.40726900100708,
           1.0258485078811646,
           -5.4292426109313965,
           -0.9580521583557129,
           0.08134946972131729,
           -0.7497498989105225,
           -0.9124615788459778,
           0.09348562359809875,
           -1.021108865737915,
           0.8225432634353638,
           -2.1328790187835693
          ],
          [
           -47.07886505126953,
           -5.442873001098633,
           -0.6747785210609436,
           -1.6993639469146729,
           1.351670742034912,
           -5.439549446105957,
           -0.3431897759437561,
           -0.026231233030557632,
           0.0648866817355156,
           -1.0888535976409912,
           0.026632659137248993,
           -0.4063628315925598,
           1.4256881475448608,
           -2.405966281890869
          ],
          [
           -45.61503982543945,
           -5.242954254150391,
           -1.193289041519165,
           -1.8403910398483276,
           0.8302149176597595,
           -5.959320545196533,
           -1.4567557573318481,
           -1.2819457054138184,
           0.6253520250320435,
           -2.724381446838379,
           -0.6367447376251221,
           -0.9249020218849182,
           0.2543908357620239,
           -3.3589680194854736
          ],
          [
           0.17738297581672668,
           -6.205224990844727,
           -1.9075790643692017,
           -2.7310478687286377,
           -0.059396177530288696,
           -7.3705620765686035,
           1.6370707750320435,
           1.6811342239379883,
           4.539481163024902,
           -2.139462947845459,
           0.15447190403938293,
           1.6457070112228394,
           0.08692192286252975,
           -0.790625810623169
          ]
         ]
        }
       ],
       "layout": {
        "height": 800,
        "sliders": [
         {
          "active": 4,
          "currentvalue": {
           "prefix": "Step: "
          },
          "len": 0.9,
          "pad": {
           "t": 50
          },
          "steps": [
           {
            "args": [
             {
              "visible": [
               true,
               true,
               true,
               true,
               true,
               true,
               true,
               true,
               true,
               true,
               true,
               true,
               true,
               true
              ]
             },
             {
              "annotations": [],
              "title": "Credences for Input Tokens",
              "xaxis": {
               "tickangle": 45,
               "ticktext": [
                "<bos>",
                "▁The",
                "▁cot",
                "ton",
                "▁cl",
                "othing",
                "▁is",
                "▁usually",
                "▁made",
                "▁of",
                "▁grows",
                "▁in",
                "▁Mississippi",
                "."
               ],
               "tickvals": [
                0,
                1,
                2,
                3,
                4,
                5,
                6,
                7,
                8,
                9,
                10,
                11,
                12,
                13
               ]
              }
             }
            ],
            "method": "update"
           }
          ],
          "visible": true
         }
        ],
        "template": {
         "data": {
          "bar": [
           {
            "error_x": {
             "color": "#2a3f5f"
            },
            "error_y": {
             "color": "#2a3f5f"
            },
            "marker": {
             "line": {
              "color": "#E5ECF6",
              "width": 0.5
             },
             "pattern": {
              "fillmode": "overlay",
              "size": 10,
              "solidity": 0.2
             }
            },
            "type": "bar"
           }
          ],
          "barpolar": [
           {
            "marker": {
             "line": {
              "color": "#E5ECF6",
              "width": 0.5
             },
             "pattern": {
              "fillmode": "overlay",
              "size": 10,
              "solidity": 0.2
             }
            },
            "type": "barpolar"
           }
          ],
          "carpet": [
           {
            "aaxis": {
             "endlinecolor": "#2a3f5f",
             "gridcolor": "white",
             "linecolor": "white",
             "minorgridcolor": "white",
             "startlinecolor": "#2a3f5f"
            },
            "baxis": {
             "endlinecolor": "#2a3f5f",
             "gridcolor": "white",
             "linecolor": "white",
             "minorgridcolor": "white",
             "startlinecolor": "#2a3f5f"
            },
            "type": "carpet"
           }
          ],
          "choropleth": [
           {
            "colorbar": {
             "outlinewidth": 0,
             "ticks": ""
            },
            "type": "choropleth"
           }
          ],
          "contour": [
           {
            "colorbar": {
             "outlinewidth": 0,
             "ticks": ""
            },
            "colorscale": [
             [
              0,
              "#0d0887"
             ],
             [
              0.1111111111111111,
              "#46039f"
             ],
             [
              0.2222222222222222,
              "#7201a8"
             ],
             [
              0.3333333333333333,
              "#9c179e"
             ],
             [
              0.4444444444444444,
              "#bd3786"
             ],
             [
              0.5555555555555556,
              "#d8576b"
             ],
             [
              0.6666666666666666,
              "#ed7953"
             ],
             [
              0.7777777777777778,
              "#fb9f3a"
             ],
             [
              0.8888888888888888,
              "#fdca26"
             ],
             [
              1,
              "#f0f921"
             ]
            ],
            "type": "contour"
           }
          ],
          "contourcarpet": [
           {
            "colorbar": {
             "outlinewidth": 0,
             "ticks": ""
            },
            "type": "contourcarpet"
           }
          ],
          "heatmap": [
           {
            "colorbar": {
             "outlinewidth": 0,
             "ticks": ""
            },
            "colorscale": [
             [
              0,
              "#0d0887"
             ],
             [
              0.1111111111111111,
              "#46039f"
             ],
             [
              0.2222222222222222,
              "#7201a8"
             ],
             [
              0.3333333333333333,
              "#9c179e"
             ],
             [
              0.4444444444444444,
              "#bd3786"
             ],
             [
              0.5555555555555556,
              "#d8576b"
             ],
             [
              0.6666666666666666,
              "#ed7953"
             ],
             [
              0.7777777777777778,
              "#fb9f3a"
             ],
             [
              0.8888888888888888,
              "#fdca26"
             ],
             [
              1,
              "#f0f921"
             ]
            ],
            "type": "heatmap"
           }
          ],
          "heatmapgl": [
           {
            "colorbar": {
             "outlinewidth": 0,
             "ticks": ""
            },
            "colorscale": [
             [
              0,
              "#0d0887"
             ],
             [
              0.1111111111111111,
              "#46039f"
             ],
             [
              0.2222222222222222,
              "#7201a8"
             ],
             [
              0.3333333333333333,
              "#9c179e"
             ],
             [
              0.4444444444444444,
              "#bd3786"
             ],
             [
              0.5555555555555556,
              "#d8576b"
             ],
             [
              0.6666666666666666,
              "#ed7953"
             ],
             [
              0.7777777777777778,
              "#fb9f3a"
             ],
             [
              0.8888888888888888,
              "#fdca26"
             ],
             [
              1,
              "#f0f921"
             ]
            ],
            "type": "heatmapgl"
           }
          ],
          "histogram": [
           {
            "marker": {
             "pattern": {
              "fillmode": "overlay",
              "size": 10,
              "solidity": 0.2
             }
            },
            "type": "histogram"
           }
          ],
          "histogram2d": [
           {
            "colorbar": {
             "outlinewidth": 0,
             "ticks": ""
            },
            "colorscale": [
             [
              0,
              "#0d0887"
             ],
             [
              0.1111111111111111,
              "#46039f"
             ],
             [
              0.2222222222222222,
              "#7201a8"
             ],
             [
              0.3333333333333333,
              "#9c179e"
             ],
             [
              0.4444444444444444,
              "#bd3786"
             ],
             [
              0.5555555555555556,
              "#d8576b"
             ],
             [
              0.6666666666666666,
              "#ed7953"
             ],
             [
              0.7777777777777778,
              "#fb9f3a"
             ],
             [
              0.8888888888888888,
              "#fdca26"
             ],
             [
              1,
              "#f0f921"
             ]
            ],
            "type": "histogram2d"
           }
          ],
          "histogram2dcontour": [
           {
            "colorbar": {
             "outlinewidth": 0,
             "ticks": ""
            },
            "colorscale": [
             [
              0,
              "#0d0887"
             ],
             [
              0.1111111111111111,
              "#46039f"
             ],
             [
              0.2222222222222222,
              "#7201a8"
             ],
             [
              0.3333333333333333,
              "#9c179e"
             ],
             [
              0.4444444444444444,
              "#bd3786"
             ],
             [
              0.5555555555555556,
              "#d8576b"
             ],
             [
              0.6666666666666666,
              "#ed7953"
             ],
             [
              0.7777777777777778,
              "#fb9f3a"
             ],
             [
              0.8888888888888888,
              "#fdca26"
             ],
             [
              1,
              "#f0f921"
             ]
            ],
            "type": "histogram2dcontour"
           }
          ],
          "mesh3d": [
           {
            "colorbar": {
             "outlinewidth": 0,
             "ticks": ""
            },
            "type": "mesh3d"
           }
          ],
          "parcoords": [
           {
            "line": {
             "colorbar": {
              "outlinewidth": 0,
              "ticks": ""
             }
            },
            "type": "parcoords"
           }
          ],
          "pie": [
           {
            "automargin": true,
            "type": "pie"
           }
          ],
          "scatter": [
           {
            "fillpattern": {
             "fillmode": "overlay",
             "size": 10,
             "solidity": 0.2
            },
            "type": "scatter"
           }
          ],
          "scatter3d": [
           {
            "line": {
             "colorbar": {
              "outlinewidth": 0,
              "ticks": ""
             }
            },
            "marker": {
             "colorbar": {
              "outlinewidth": 0,
              "ticks": ""
             }
            },
            "type": "scatter3d"
           }
          ],
          "scattercarpet": [
           {
            "marker": {
             "colorbar": {
              "outlinewidth": 0,
              "ticks": ""
             }
            },
            "type": "scattercarpet"
           }
          ],
          "scattergeo": [
           {
            "marker": {
             "colorbar": {
              "outlinewidth": 0,
              "ticks": ""
             }
            },
            "type": "scattergeo"
           }
          ],
          "scattergl": [
           {
            "marker": {
             "colorbar": {
              "outlinewidth": 0,
              "ticks": ""
             }
            },
            "type": "scattergl"
           }
          ],
          "scattermapbox": [
           {
            "marker": {
             "colorbar": {
              "outlinewidth": 0,
              "ticks": ""
             }
            },
            "type": "scattermapbox"
           }
          ],
          "scatterpolar": [
           {
            "marker": {
             "colorbar": {
              "outlinewidth": 0,
              "ticks": ""
             }
            },
            "type": "scatterpolar"
           }
          ],
          "scatterpolargl": [
           {
            "marker": {
             "colorbar": {
              "outlinewidth": 0,
              "ticks": ""
             }
            },
            "type": "scatterpolargl"
           }
          ],
          "scatterternary": [
           {
            "marker": {
             "colorbar": {
              "outlinewidth": 0,
              "ticks": ""
             }
            },
            "type": "scatterternary"
           }
          ],
          "surface": [
           {
            "colorbar": {
             "outlinewidth": 0,
             "ticks": ""
            },
            "colorscale": [
             [
              0,
              "#0d0887"
             ],
             [
              0.1111111111111111,
              "#46039f"
             ],
             [
              0.2222222222222222,
              "#7201a8"
             ],
             [
              0.3333333333333333,
              "#9c179e"
             ],
             [
              0.4444444444444444,
              "#bd3786"
             ],
             [
              0.5555555555555556,
              "#d8576b"
             ],
             [
              0.6666666666666666,
              "#ed7953"
             ],
             [
              0.7777777777777778,
              "#fb9f3a"
             ],
             [
              0.8888888888888888,
              "#fdca26"
             ],
             [
              1,
              "#f0f921"
             ]
            ],
            "type": "surface"
           }
          ],
          "table": [
           {
            "cells": {
             "fill": {
              "color": "#EBF0F8"
             },
             "line": {
              "color": "white"
             }
            },
            "header": {
             "fill": {
              "color": "#C8D4E3"
             },
             "line": {
              "color": "white"
             }
            },
            "type": "table"
           }
          ]
         },
         "layout": {
          "annotationdefaults": {
           "arrowcolor": "#2a3f5f",
           "arrowhead": 0,
           "arrowwidth": 1
          },
          "autotypenumbers": "strict",
          "coloraxis": {
           "colorbar": {
            "outlinewidth": 0,
            "ticks": ""
           }
          },
          "colorscale": {
           "diverging": [
            [
             0,
             "#8e0152"
            ],
            [
             0.1,
             "#c51b7d"
            ],
            [
             0.2,
             "#de77ae"
            ],
            [
             0.3,
             "#f1b6da"
            ],
            [
             0.4,
             "#fde0ef"
            ],
            [
             0.5,
             "#f7f7f7"
            ],
            [
             0.6,
             "#e6f5d0"
            ],
            [
             0.7,
             "#b8e186"
            ],
            [
             0.8,
             "#7fbc41"
            ],
            [
             0.9,
             "#4d9221"
            ],
            [
             1,
             "#276419"
            ]
           ],
           "sequential": [
            [
             0,
             "#0d0887"
            ],
            [
             0.1111111111111111,
             "#46039f"
            ],
            [
             0.2222222222222222,
             "#7201a8"
            ],
            [
             0.3333333333333333,
             "#9c179e"
            ],
            [
             0.4444444444444444,
             "#bd3786"
            ],
            [
             0.5555555555555556,
             "#d8576b"
            ],
            [
             0.6666666666666666,
             "#ed7953"
            ],
            [
             0.7777777777777778,
             "#fb9f3a"
            ],
            [
             0.8888888888888888,
             "#fdca26"
            ],
            [
             1,
             "#f0f921"
            ]
           ],
           "sequentialminus": [
            [
             0,
             "#0d0887"
            ],
            [
             0.1111111111111111,
             "#46039f"
            ],
            [
             0.2222222222222222,
             "#7201a8"
            ],
            [
             0.3333333333333333,
             "#9c179e"
            ],
            [
             0.4444444444444444,
             "#bd3786"
            ],
            [
             0.5555555555555556,
             "#d8576b"
            ],
            [
             0.6666666666666666,
             "#ed7953"
            ],
            [
             0.7777777777777778,
             "#fb9f3a"
            ],
            [
             0.8888888888888888,
             "#fdca26"
            ],
            [
             1,
             "#f0f921"
            ]
           ]
          },
          "colorway": [
           "#636efa",
           "#EF553B",
           "#00cc96",
           "#ab63fa",
           "#FFA15A",
           "#19d3f3",
           "#FF6692",
           "#B6E880",
           "#FF97FF",
           "#FECB52"
          ],
          "font": {
           "color": "#2a3f5f"
          },
          "geo": {
           "bgcolor": "white",
           "lakecolor": "white",
           "landcolor": "#E5ECF6",
           "showlakes": true,
           "showland": true,
           "subunitcolor": "white"
          },
          "hoverlabel": {
           "align": "left"
          },
          "hovermode": "closest",
          "mapbox": {
           "style": "light"
          },
          "paper_bgcolor": "white",
          "plot_bgcolor": "#E5ECF6",
          "polar": {
           "angularaxis": {
            "gridcolor": "white",
            "linecolor": "white",
            "ticks": ""
           },
           "bgcolor": "#E5ECF6",
           "radialaxis": {
            "gridcolor": "white",
            "linecolor": "white",
            "ticks": ""
           }
          },
          "scene": {
           "xaxis": {
            "backgroundcolor": "#E5ECF6",
            "gridcolor": "white",
            "gridwidth": 2,
            "linecolor": "white",
            "showbackground": true,
            "ticks": "",
            "zerolinecolor": "white"
           },
           "yaxis": {
            "backgroundcolor": "#E5ECF6",
            "gridcolor": "white",
            "gridwidth": 2,
            "linecolor": "white",
            "showbackground": true,
            "ticks": "",
            "zerolinecolor": "white"
           },
           "zaxis": {
            "backgroundcolor": "#E5ECF6",
            "gridcolor": "white",
            "gridwidth": 2,
            "linecolor": "white",
            "showbackground": true,
            "ticks": "",
            "zerolinecolor": "white"
           }
          },
          "shapedefaults": {
           "line": {
            "color": "#2a3f5f"
           }
          },
          "ternary": {
           "aaxis": {
            "gridcolor": "white",
            "linecolor": "white",
            "ticks": ""
           },
           "baxis": {
            "gridcolor": "white",
            "linecolor": "white",
            "ticks": ""
           },
           "bgcolor": "#E5ECF6",
           "caxis": {
            "gridcolor": "white",
            "linecolor": "white",
            "ticks": ""
           }
          },
          "title": {
           "x": 0.05
          },
          "xaxis": {
           "automargin": true,
           "gridcolor": "white",
           "linecolor": "white",
           "ticks": "",
           "title": {
            "standoff": 15
           },
           "zerolinecolor": "white",
           "zerolinewidth": 2
          },
          "yaxis": {
           "automargin": true,
           "gridcolor": "white",
           "linecolor": "white",
           "ticks": "",
           "title": {
            "standoff": 15
           },
           "zerolinecolor": "white",
           "zerolinewidth": 2
          }
         }
        },
        "title": {
         "text": "Credences for Input Tokens"
        },
        "width": 800,
        "xaxis": {
         "tickangle": 45,
         "ticktext": [
          "<bos>",
          "▁The",
          "▁cot",
          "ton",
          "▁cl",
          "othing",
          "▁is",
          "▁usually",
          "▁made",
          "▁of",
          "▁grows",
          "▁in",
          "▁Mississippi",
          "."
         ],
         "tickvals": [
          0,
          1,
          2,
          3,
          4,
          5,
          6,
          7,
          8,
          9,
          10,
          11,
          12,
          13
         ]
        }
       }
      },
      "text/html": [
       "<div>                            <div id=\"eaad7b19-cb6b-40c1-980a-ad5984291d22\" class=\"plotly-graph-div\" style=\"height:800px; width:800px;\"></div>            <script type=\"text/javascript\">                require([\"plotly\"], function(Plotly) {                    window.PLOTLYENV=window.PLOTLYENV || {};                                    if (document.getElementById(\"eaad7b19-cb6b-40c1-980a-ad5984291d22\")) {                    Plotly.newPlot(                        \"eaad7b19-cb6b-40c1-980a-ad5984291d22\",                        [{\"colorscale\":[[0,\"#FF0000\"],[1,\"#00FF00\"]],\"text\":[[\"  <bos>  \",\"  \\u2581The  \",\"  \\u2581cot  \",\"  ton  \",\"  \\u2581cl  \",\"  othing  \",\"  \\u2581is  \",\"  \\u2581usually  \",\"  \\u2581made  \",\"  \\u2581of  \",\"  \\u2581grows  \",\"  \\u2581in  \",\"  \\u2581Mississippi  \",\"  .  \"],[\"  <bos>  \",\"  \\u2581The  \",\"  \\u2581cot  \",\"  ton  \",\"  \\u2581cl  \",\"  othing  \",\"  \\u2581is  \",\"  \\u2581usually  \",\"  \\u2581made  \",\"  \\u2581of  \",\"  \\u2581grows  \",\"  \\u2581in  \",\"  \\u2581Mississippi  \",\"  .  \"],[\"  <bos>  \",\"  \\u2581The  \",\"  \\u2581cot  \",\"  ton  \",\"  \\u2581cl  \",\"  othing  \",\"  \\u2581is  \",\"  \\u2581usually  \",\"  \\u2581made  \",\"  \\u2581of  \",\"  \\u2581grows  \",\"  \\u2581in  \",\"  \\u2581Mississippi  \",\"  .  \"],[\"  <bos>  \",\"  \\u2581The  \",\"  \\u2581cot  \",\"  ton  \",\"  \\u2581cl  \",\"  othing  \",\"  \\u2581is  \",\"  \\u2581usually  \",\"  \\u2581made  \",\"  \\u2581of  \",\"  \\u2581grows  \",\"  \\u2581in  \",\"  \\u2581Mississippi  \",\"  .  \"],[\"  <bos>  \",\"  \\u2581The  \",\"  \\u2581cot  \",\"  ton  \",\"  \\u2581cl  \",\"  othing  \",\"  \\u2581is  \",\"  \\u2581usually  \",\"  \\u2581made  \",\"  \\u2581of  \",\"  \\u2581grows  \",\"  \\u2581in  \",\"  \\u2581Mississippi  \",\"  .  \"],[\"  <bos>  \",\"  \\u2581The  \",\"  \\u2581cot  \",\"  ton  \",\"  \\u2581cl  \",\"  othing  \",\"  \\u2581is  \",\"  \\u2581usually  \",\"  \\u2581made  \",\"  \\u2581of  \",\"  \\u2581grows  \",\"  \\u2581in  \",\"  \\u2581Mississippi  \",\"  .  \"],[\"  <bos>  \",\"  \\u2581The  \",\"  \\u2581cot  \",\"  ton  \",\"  \\u2581cl  \",\"  othing  \",\"  \\u2581is  \",\"  \\u2581usually  \",\"  \\u2581made  \",\"  \\u2581of  \",\"  \\u2581grows  \",\"  \\u2581in  \",\"  \\u2581Mississippi  \",\"  .  \"],[\"  <bos>  \",\"  \\u2581The  \",\"  \\u2581cot  \",\"  ton  \",\"  \\u2581cl  \",\"  othing  \",\"  \\u2581is  \",\"  \\u2581usually  \",\"  \\u2581made  \",\"  \\u2581of  \",\"  \\u2581grows  \",\"  \\u2581in  \",\"  \\u2581Mississippi  \",\"  .  \"],[\"  <bos>  \",\"  \\u2581The  \",\"  \\u2581cot  \",\"  ton  \",\"  \\u2581cl  \",\"  othing  \",\"  \\u2581is  \",\"  \\u2581usually  \",\"  \\u2581made  \",\"  \\u2581of  \",\"  \\u2581grows  \",\"  \\u2581in  \",\"  \\u2581Mississippi  \",\"  .  \"],[\"  <bos>  \",\"  \\u2581The  \",\"  \\u2581cot  \",\"  ton  \",\"  \\u2581cl  \",\"  othing  \",\"  \\u2581is  \",\"  \\u2581usually  \",\"  \\u2581made  \",\"  \\u2581of  \",\"  \\u2581grows  \",\"  \\u2581in  \",\"  \\u2581Mississippi  \",\"  .  \"],[\"  <bos>  \",\"  \\u2581The  \",\"  \\u2581cot  \",\"  ton  \",\"  \\u2581cl  \",\"  othing  \",\"  \\u2581is  \",\"  \\u2581usually  \",\"  \\u2581made  \",\"  \\u2581of  \",\"  \\u2581grows  \",\"  \\u2581in  \",\"  \\u2581Mississippi  \",\"  .  \"],[\"  <bos>  \",\"  \\u2581The  \",\"  \\u2581cot  \",\"  ton  \",\"  \\u2581cl  \",\"  othing  \",\"  \\u2581is  \",\"  \\u2581usually  \",\"  \\u2581made  \",\"  \\u2581of  \",\"  \\u2581grows  \",\"  \\u2581in  \",\"  \\u2581Mississippi  \",\"  .  \"],[\"  <bos>  \",\"  \\u2581The  \",\"  \\u2581cot  \",\"  ton  \",\"  \\u2581cl  \",\"  othing  \",\"  \\u2581is  \",\"  \\u2581usually  \",\"  \\u2581made  \",\"  \\u2581of  \",\"  \\u2581grows  \",\"  \\u2581in  \",\"  \\u2581Mississippi  \",\"  .  \"],[\"  <bos>  \",\"  \\u2581The  \",\"  \\u2581cot  \",\"  ton  \",\"  \\u2581cl  \",\"  othing  \",\"  \\u2581is  \",\"  \\u2581usually  \",\"  \\u2581made  \",\"  \\u2581of  \",\"  \\u2581grows  \",\"  \\u2581in  \",\"  \\u2581Mississippi  \",\"  .  \"],[\"  <bos>  \",\"  \\u2581The  \",\"  \\u2581cot  \",\"  ton  \",\"  \\u2581cl  \",\"  othing  \",\"  \\u2581is  \",\"  \\u2581usually  \",\"  \\u2581made  \",\"  \\u2581of  \",\"  \\u2581grows  \",\"  \\u2581in  \",\"  \\u2581Mississippi  \",\"  .  \"],[\"  <bos>  \",\"  \\u2581The  \",\"  \\u2581cot  \",\"  ton  \",\"  \\u2581cl  \",\"  othing  \",\"  \\u2581is  \",\"  \\u2581usually  \",\"  \\u2581made  \",\"  \\u2581of  \",\"  \\u2581grows  \",\"  \\u2581in  \",\"  \\u2581Mississippi  \",\"  .  \"],[\"  <bos>  \",\"  \\u2581The  \",\"  \\u2581cot  \",\"  ton  \",\"  \\u2581cl  \",\"  othing  \",\"  \\u2581is  \",\"  \\u2581usually  \",\"  \\u2581made  \",\"  \\u2581of  \",\"  \\u2581grows  \",\"  \\u2581in  \",\"  \\u2581Mississippi  \",\"  .  \"],[\"  <bos>  \",\"  \\u2581The  \",\"  \\u2581cot  \",\"  ton  \",\"  \\u2581cl  \",\"  othing  \",\"  \\u2581is  \",\"  \\u2581usually  \",\"  \\u2581made  \",\"  \\u2581of  \",\"  \\u2581grows  \",\"  \\u2581in  \",\"  \\u2581Mississippi  \",\"  .  \"],[\"  <bos>  \",\"  \\u2581The  \",\"  \\u2581cot  \",\"  ton  \",\"  \\u2581cl  \",\"  othing  \",\"  \\u2581is  \",\"  \\u2581usually  \",\"  \\u2581made  \",\"  \\u2581of  \",\"  \\u2581grows  \",\"  \\u2581in  \",\"  \\u2581Mississippi  \",\"  .  \"],[\"  <bos>  \",\"  \\u2581The  \",\"  \\u2581cot  \",\"  ton  \",\"  \\u2581cl  \",\"  othing  \",\"  \\u2581is  \",\"  \\u2581usually  \",\"  \\u2581made  \",\"  \\u2581of  \",\"  \\u2581grows  \",\"  \\u2581in  \",\"  \\u2581Mississippi  \",\"  .  \"],[\"  <bos>  \",\"  \\u2581The  \",\"  \\u2581cot  \",\"  ton  \",\"  \\u2581cl  \",\"  othing  \",\"  \\u2581is  \",\"  \\u2581usually  \",\"  \\u2581made  \",\"  \\u2581of  \",\"  \\u2581grows  \",\"  \\u2581in  \",\"  \\u2581Mississippi  \",\"  .  \"],[\"  <bos>  \",\"  \\u2581The  \",\"  \\u2581cot  \",\"  ton  \",\"  \\u2581cl  \",\"  othing  \",\"  \\u2581is  \",\"  \\u2581usually  \",\"  \\u2581made  \",\"  \\u2581of  \",\"  \\u2581grows  \",\"  \\u2581in  \",\"  \\u2581Mississippi  \",\"  .  \"],[\"  <bos>  \",\"  \\u2581The  \",\"  \\u2581cot  \",\"  ton  \",\"  \\u2581cl  \",\"  othing  \",\"  \\u2581is  \",\"  \\u2581usually  \",\"  \\u2581made  \",\"  \\u2581of  \",\"  \\u2581grows  \",\"  \\u2581in  \",\"  \\u2581Mississippi  \",\"  .  \"],[\"  <bos>  \",\"  \\u2581The  \",\"  \\u2581cot  \",\"  ton  \",\"  \\u2581cl  \",\"  othing  \",\"  \\u2581is  \",\"  \\u2581usually  \",\"  \\u2581made  \",\"  \\u2581of  \",\"  \\u2581grows  \",\"  \\u2581in  \",\"  \\u2581Mississippi  \",\"  .  \"],[\"  <bos>  \",\"  \\u2581The  \",\"  \\u2581cot  \",\"  ton  \",\"  \\u2581cl  \",\"  othing  \",\"  \\u2581is  \",\"  \\u2581usually  \",\"  \\u2581made  \",\"  \\u2581of  \",\"  \\u2581grows  \",\"  \\u2581in  \",\"  \\u2581Mississippi  \",\"  .  \"],[\"  <bos>  \",\"  \\u2581The  \",\"  \\u2581cot  \",\"  ton  \",\"  \\u2581cl  \",\"  othing  \",\"  \\u2581is  \",\"  \\u2581usually  \",\"  \\u2581made  \",\"  \\u2581of  \",\"  \\u2581grows  \",\"  \\u2581in  \",\"  \\u2581Mississippi  \",\"  .  \"],[\"  <bos>  \",\"  \\u2581The  \",\"  \\u2581cot  \",\"  ton  \",\"  \\u2581cl  \",\"  othing  \",\"  \\u2581is  \",\"  \\u2581usually  \",\"  \\u2581made  \",\"  \\u2581of  \",\"  \\u2581grows  \",\"  \\u2581in  \",\"  \\u2581Mississippi  \",\"  .  \"],[\"  <bos>  \",\"  \\u2581The  \",\"  \\u2581cot  \",\"  ton  \",\"  \\u2581cl  \",\"  othing  \",\"  \\u2581is  \",\"  \\u2581usually  \",\"  \\u2581made  \",\"  \\u2581of  \",\"  \\u2581grows  \",\"  \\u2581in  \",\"  \\u2581Mississippi  \",\"  .  \"],[\"  <bos>  \",\"  \\u2581The  \",\"  \\u2581cot  \",\"  ton  \",\"  \\u2581cl  \",\"  othing  \",\"  \\u2581is  \",\"  \\u2581usually  \",\"  \\u2581made  \",\"  \\u2581of  \",\"  \\u2581grows  \",\"  \\u2581in  \",\"  \\u2581Mississippi  \",\"  .  \"],[\"  <bos>  \",\"  \\u2581The  \",\"  \\u2581cot  \",\"  ton  \",\"  \\u2581cl  \",\"  othing  \",\"  \\u2581is  \",\"  \\u2581usually  \",\"  \\u2581made  \",\"  \\u2581of  \",\"  \\u2581grows  \",\"  \\u2581in  \",\"  \\u2581Mississippi  \",\"  .  \"],[\"  <bos>  \",\"  \\u2581The  \",\"  \\u2581cot  \",\"  ton  \",\"  \\u2581cl  \",\"  othing  \",\"  \\u2581is  \",\"  \\u2581usually  \",\"  \\u2581made  \",\"  \\u2581of  \",\"  \\u2581grows  \",\"  \\u2581in  \",\"  \\u2581Mississippi  \",\"  .  \"],[\"  <bos>  \",\"  \\u2581The  \",\"  \\u2581cot  \",\"  ton  \",\"  \\u2581cl  \",\"  othing  \",\"  \\u2581is  \",\"  \\u2581usually  \",\"  \\u2581made  \",\"  \\u2581of  \",\"  \\u2581grows  \",\"  \\u2581in  \",\"  \\u2581Mississippi  \",\"  .  \"]],\"textfont\":{\"color\":\"black\",\"size\":12},\"texttemplate\":\"%{text}\",\"z\":[[0.008845187723636627,0.04584826901555061,0.0031089161057025194,0.03359977900981903,0.0018351594917476177,0.016049720346927643,-0.06065491586923599,-0.02378569170832634,-0.019612127915024757,0.056414905935525894,0.02144031599164009,-0.09078694134950638,0.009969310835003853,-0.03249766677618027],[-0.15358802676200867,-0.21439756453037262,0.039622142910957336,-0.003719939850270748,-0.08495181798934937,-0.0830942839384079,-0.0766710638999939,-0.015889495611190796,-0.03879247233271599,-0.02799399197101593,-0.057510796934366226,-0.015450350008904934,0.0027384981513023376,-0.06255136430263519],[0.18735280632972717,0.10437030345201492,-0.10867278277873993,0.07284663617610931,-0.0701160654425621,-0.11752448976039886,0.03119664080440998,0.12206681817770004,0.0573267936706543,0.005834365263581276,-0.004268949385732412,-0.006097907200455666,-0.26827186346054077,0.019383961334824562],[23.470369338989258,-0.25134286284446716,-0.1032746285200119,-0.08846685290336609,-0.11184640228748322,-0.30495521426200867,-0.22746632993221283,-0.0526825450360775,-0.12360484898090363,-0.3019656538963318,0.001584363984875381,-0.20017579197883606,-0.4094714820384979,-0.20461206138134003],[5.85875129699707,-0.21045812964439392,-0.15235179662704468,-0.15369445085525513,0.12096554040908813,-0.05414850264787674,-0.13917803764343262,0.01696748100221157,0.03413838893175125,-0.06891302764415741,0.22847580909729004,-0.08882234245538712,-0.0065717739053070545,-0.0513857863843441],[-16.72722625732422,-0.13353614509105682,0.38109204173088074,-0.05723834037780762,-0.09663362056016922,-0.117390476167202,-0.09040112793445587,-0.3816911280155182,-0.19750070571899414,-0.042810097336769104,-0.09118707478046417,-0.11206294596195221,-0.45170262455940247,-0.1703449785709381],[12.161348342895508,0.2074839174747467,-0.25845134258270264,0.140109583735466,0.11316853761672974,0.8444393873214722,0.21224308013916016,0.5557811856269836,0.3331185579299927,0.05555059388279915,0.2351849377155304,0.06833516061306,0.4678252935409546,-0.008342821151018143],[2.064411163330078,0.2537793517112732,0.13419632613658905,0.04710501432418823,0.41159820556640625,0.4541187584400177,0.3095126152038574,0.2861507833003998,0.0025576073676347733,-0.11386820673942566,0.5164517760276794,0.48539021611213684,0.40529680252075195,0.49772322177886963],[-2.1548967361450195,-0.005619481671601534,0.12845437228679657,-0.15597446262836456,-0.14013342559337616,-0.3142980635166168,-0.4645318388938904,-0.19671031832695007,0.11533944308757782,0.13909311592578888,-0.42899712920188904,-0.2626464366912842,-0.6729204058647156,-0.5907692313194275],[-5.717101097106934,-0.16323845088481903,0.11765491217374802,0.044190745800733566,0.3165900409221649,-0.26156383752822876,-0.028951123356819153,-0.007060711272060871,-0.35097596049308777,-0.09491412341594696,0.1861550211906433,0.17954200506210327,0.2863713800907135,0.2779375910758972],[6.356625556945801,0.5139719843864441,0.06716048717498779,0.5669827461242676,-0.09045374393463135,0.6499732732772827,0.6380530595779419,0.2629537880420685,0.5503593683242798,0.12176577746868134,0.19261935353279114,0.23260389268398285,-0.17720915377140045,0.39411279559135437],[11.614984512329102,0.5209820866584778,-0.16505280137062073,0.21637502312660217,0.2728686034679413,0.8907478451728821,0.9134252667427063,0.27218130230903625,0.325900673866272,0.5696393251419067,0.2353624403476715,0.4387718141078949,0.022431300953030586,0.6163648962974548],[4.872463703155518,0.4308643937110901,-0.10573796182870865,0.17163139581680298,-0.08474824577569962,0.6761518716812134,0.8134114742279053,0.4308084547519684,0.27264460921287537,0.250710666179657,-0.2598537504673004,0.17923937737941742,-0.11328110098838806,0.17464853823184967],[-3.228698968887329,0.03501423820853233,-0.41246679425239563,-0.4792977571487427,-0.392315149307251,0.06375428289175034,0.3715905249118805,0.4103798568248749,0.04235759377479553,0.1303800791501999,-0.07553046196699142,0.3157212436199188,-0.03318551555275917,-0.25402015447616577],[-1.7535680532455444,-0.5321927070617676,0.39785975217819214,0.18428480625152588,0.10445674508810043,-0.3313712775707245,-0.8001143336296082,-0.7020163536071777,-0.6932752728462219,-1.1015264987945557,-0.06862480193376541,-0.09463825076818466,0.20877644419670105,0.18929056823253632],[7.8320207595825195,-0.013683555647730827,0.5328702926635742,0.6490458250045776,0.689156711101532,0.38491150736808777,-0.6024750471115112,-0.5742281675338745,0.1565607786178589,-0.5382388830184937,-0.1890091747045517,-0.17914173007011414,0.5174344778060913,0.3358941674232483],[-1.3073129653930664,0.6813579797744751,0.3305385112762451,0.3685508966445923,0.5632637739181519,0.4224027693271637,-0.40068235993385315,-0.18305040895938873,0.47776100039482117,-0.8718093633651733,0.3422681391239166,0.16954299807548523,0.6267960071563721,-0.2028988003730774],[-9.335840225219727,0.8365367650985718,-0.06921499967575073,-0.3482511341571808,1.1262664794921875,-0.08657308667898178,-0.7656950950622559,-0.7831603288650513,0.12655282020568848,-0.7721737027168274,0.011583848856389523,0.233573779463768,0.296580970287323,0.36861559748649597],[-0.2068636417388916,0.42119553685188293,-0.6804314255714417,-0.715954601764679,1.0562528371810913,0.24146494269371033,-1.1486854553222656,-1.2406052350997925,0.41133952140808105,-0.8602257370948792,-0.222958043217659,-0.20010708272457123,-0.2321339249610901,-0.2662722170352936],[1.8224728107452393,0.6815717816352844,0.12147503346204758,-0.2030218243598938,1.0543267726898193,0.5020720958709717,-1.0130873918533325,-1.243006706237793,-0.9466312527656555,-1.3262730836868286,-1.0204097032546997,-1.0428754091262817,-0.18260516226291656,0.9479041695594788],[-12.254570960998535,-1.9271193742752075,-1.0955122709274292,-0.8960570096969604,-1.850568175315857,-1.3691240549087524,0.32405972480773926,1.080833911895752,1.0949677228927612,0.9850733280181885,1.0595808029174805,0.442634642124176,-0.4609171748161316,-1.510888934135437],[-17.042085647583008,-2.3188607692718506,-1.4873191118240356,-1.0185446739196777,-1.3557183742523193,-1.7542951107025146,-0.0975954681634903,0.2792209982872009,-0.5264075994491577,1.5372096300125122,0.4269688129425049,0.5212777256965637,-0.5945934653282166,-1.837419867515564],[-28.596731185913086,-2.5397207736968994,-1.2363048791885376,-0.9405944347381592,-0.7240710854530334,-2.0027027130126953,-0.6732068657875061,-0.495385080575943,-0.8891343474388123,1.5472698211669922,0.11412027478218079,0.6343397498130798,-0.6886753439903259,-2.6558592319488525],[-38.951324462890625,-3.115420341491699,-1.849927306175232,-0.5443006157875061,-0.5612057447433472,-2.4232821464538574,-0.2625948488712311,-0.7541834712028503,-1.1912486553192139,0.7634193301200867,-0.05164313316345215,0.7224646806716919,-0.2718617618083954,-2.635115146636963],[-31.798603057861328,-3.6631948947906494,-1.7150027751922607,-0.7819252014160156,-0.5501230955123901,-2.8659780025482178,-0.014848999679088593,-0.3624078631401062,0.3692536950111389,1.2584649324417114,1.1719387769699097,0.9505785703659058,-0.3208470642566681,-1.8544230461120605],[25.593080520629883,4.486546516418457,1.815126657485962,1.8415348529815674,-0.7413803935050964,4.135777950286865,1.62973952293396,1.7294225692749023,-0.1982087939977646,-0.8202206492424011,-0.27888399362564087,-0.22969657182693481,0.5646408200263977,2.355112075805664],[-28.949676513671875,-4.922212600708008,-0.7740888595581055,-1.635551929473877,1.2197110652923584,-3.902571439743042,-0.29979419708251953,-0.4356316924095154,-0.15890243649482727,0.036413732916116714,0.9681006073951721,0.6572095155715942,-0.46694090962409973,-2.3885791301727295],[31.209741592407227,4.631702899932861,0.7788277268409729,1.6691834926605225,-0.9453555941581726,4.534019470214844,1.609850287437439,0.8924598097801208,1.0656393766403198,0.026440251618623734,-0.36726415157318115,-0.3262613117694855,-0.8958722949028015,1.5645534992218018],[-34.25849914550781,-5.071704387664795,-0.18473441898822784,-2.40726900100708,1.0258485078811646,-5.4292426109313965,-0.9580521583557129,0.08134946972131729,-0.7497498989105225,-0.9124615788459778,0.09348562359809875,-1.021108865737915,0.8225432634353638,-2.1328790187835693],[-47.07886505126953,-5.442873001098633,-0.6747785210609436,-1.6993639469146729,1.351670742034912,-5.439549446105957,-0.3431897759437561,-0.026231233030557632,0.0648866817355156,-1.0888535976409912,0.026632659137248993,-0.4063628315925598,1.4256881475448608,-2.405966281890869],[-45.61503982543945,-5.242954254150391,-1.193289041519165,-1.8403910398483276,0.8302149176597595,-5.959320545196533,-1.4567557573318481,-1.2819457054138184,0.6253520250320435,-2.724381446838379,-0.6367447376251221,-0.9249020218849182,0.2543908357620239,-3.3589680194854736],[0.17738297581672668,-6.205224990844727,-1.9075790643692017,-2.7310478687286377,-0.059396177530288696,-7.3705620765686035,1.6370707750320435,1.6811342239379883,4.539481163024902,-2.139462947845459,0.15447190403938293,1.6457070112228394,0.08692192286252975,-0.790625810623169]],\"type\":\"heatmap\"}],                        {\"height\":800,\"sliders\":[{\"active\":4,\"currentvalue\":{\"prefix\":\"Step: \"},\"len\":0.9,\"pad\":{\"t\":50},\"steps\":[{\"args\":[{\"visible\":[true,true,true,true,true,true,true,true,true,true,true,true,true,true]},{\"title\":\"Credences for Input Tokens\",\"xaxis\":{\"tickvals\":[0,1,2,3,4,5,6,7,8,9,10,11,12,13],\"ticktext\":[\"<bos>\",\"\\u2581The\",\"\\u2581cot\",\"ton\",\"\\u2581cl\",\"othing\",\"\\u2581is\",\"\\u2581usually\",\"\\u2581made\",\"\\u2581of\",\"\\u2581grows\",\"\\u2581in\",\"\\u2581Mississippi\",\".\"],\"tickangle\":45},\"annotations\":[]}],\"method\":\"update\"}],\"visible\":true}],\"template\":{\"data\":{\"barpolar\":[{\"marker\":{\"line\":{\"color\":\"#E5ECF6\",\"width\":0.5},\"pattern\":{\"fillmode\":\"overlay\",\"size\":10,\"solidity\":0.2}},\"type\":\"barpolar\"}],\"bar\":[{\"error_x\":{\"color\":\"#2a3f5f\"},\"error_y\":{\"color\":\"#2a3f5f\"},\"marker\":{\"line\":{\"color\":\"#E5ECF6\",\"width\":0.5},\"pattern\":{\"fillmode\":\"overlay\",\"size\":10,\"solidity\":0.2}},\"type\":\"bar\"}],\"carpet\":[{\"aaxis\":{\"endlinecolor\":\"#2a3f5f\",\"gridcolor\":\"white\",\"linecolor\":\"white\",\"minorgridcolor\":\"white\",\"startlinecolor\":\"#2a3f5f\"},\"baxis\":{\"endlinecolor\":\"#2a3f5f\",\"gridcolor\":\"white\",\"linecolor\":\"white\",\"minorgridcolor\":\"white\",\"startlinecolor\":\"#2a3f5f\"},\"type\":\"carpet\"}],\"choropleth\":[{\"colorbar\":{\"outlinewidth\":0,\"ticks\":\"\"},\"type\":\"choropleth\"}],\"contourcarpet\":[{\"colorbar\":{\"outlinewidth\":0,\"ticks\":\"\"},\"type\":\"contourcarpet\"}],\"contour\":[{\"colorbar\":{\"outlinewidth\":0,\"ticks\":\"\"},\"colorscale\":[[0.0,\"#0d0887\"],[0.1111111111111111,\"#46039f\"],[0.2222222222222222,\"#7201a8\"],[0.3333333333333333,\"#9c179e\"],[0.4444444444444444,\"#bd3786\"],[0.5555555555555556,\"#d8576b\"],[0.6666666666666666,\"#ed7953\"],[0.7777777777777778,\"#fb9f3a\"],[0.8888888888888888,\"#fdca26\"],[1.0,\"#f0f921\"]],\"type\":\"contour\"}],\"heatmapgl\":[{\"colorbar\":{\"outlinewidth\":0,\"ticks\":\"\"},\"colorscale\":[[0.0,\"#0d0887\"],[0.1111111111111111,\"#46039f\"],[0.2222222222222222,\"#7201a8\"],[0.3333333333333333,\"#9c179e\"],[0.4444444444444444,\"#bd3786\"],[0.5555555555555556,\"#d8576b\"],[0.6666666666666666,\"#ed7953\"],[0.7777777777777778,\"#fb9f3a\"],[0.8888888888888888,\"#fdca26\"],[1.0,\"#f0f921\"]],\"type\":\"heatmapgl\"}],\"heatmap\":[{\"colorbar\":{\"outlinewidth\":0,\"ticks\":\"\"},\"colorscale\":[[0.0,\"#0d0887\"],[0.1111111111111111,\"#46039f\"],[0.2222222222222222,\"#7201a8\"],[0.3333333333333333,\"#9c179e\"],[0.4444444444444444,\"#bd3786\"],[0.5555555555555556,\"#d8576b\"],[0.6666666666666666,\"#ed7953\"],[0.7777777777777778,\"#fb9f3a\"],[0.8888888888888888,\"#fdca26\"],[1.0,\"#f0f921\"]],\"type\":\"heatmap\"}],\"histogram2dcontour\":[{\"colorbar\":{\"outlinewidth\":0,\"ticks\":\"\"},\"colorscale\":[[0.0,\"#0d0887\"],[0.1111111111111111,\"#46039f\"],[0.2222222222222222,\"#7201a8\"],[0.3333333333333333,\"#9c179e\"],[0.4444444444444444,\"#bd3786\"],[0.5555555555555556,\"#d8576b\"],[0.6666666666666666,\"#ed7953\"],[0.7777777777777778,\"#fb9f3a\"],[0.8888888888888888,\"#fdca26\"],[1.0,\"#f0f921\"]],\"type\":\"histogram2dcontour\"}],\"histogram2d\":[{\"colorbar\":{\"outlinewidth\":0,\"ticks\":\"\"},\"colorscale\":[[0.0,\"#0d0887\"],[0.1111111111111111,\"#46039f\"],[0.2222222222222222,\"#7201a8\"],[0.3333333333333333,\"#9c179e\"],[0.4444444444444444,\"#bd3786\"],[0.5555555555555556,\"#d8576b\"],[0.6666666666666666,\"#ed7953\"],[0.7777777777777778,\"#fb9f3a\"],[0.8888888888888888,\"#fdca26\"],[1.0,\"#f0f921\"]],\"type\":\"histogram2d\"}],\"histogram\":[{\"marker\":{\"pattern\":{\"fillmode\":\"overlay\",\"size\":10,\"solidity\":0.2}},\"type\":\"histogram\"}],\"mesh3d\":[{\"colorbar\":{\"outlinewidth\":0,\"ticks\":\"\"},\"type\":\"mesh3d\"}],\"parcoords\":[{\"line\":{\"colorbar\":{\"outlinewidth\":0,\"ticks\":\"\"}},\"type\":\"parcoords\"}],\"pie\":[{\"automargin\":true,\"type\":\"pie\"}],\"scatter3d\":[{\"line\":{\"colorbar\":{\"outlinewidth\":0,\"ticks\":\"\"}},\"marker\":{\"colorbar\":{\"outlinewidth\":0,\"ticks\":\"\"}},\"type\":\"scatter3d\"}],\"scattercarpet\":[{\"marker\":{\"colorbar\":{\"outlinewidth\":0,\"ticks\":\"\"}},\"type\":\"scattercarpet\"}],\"scattergeo\":[{\"marker\":{\"colorbar\":{\"outlinewidth\":0,\"ticks\":\"\"}},\"type\":\"scattergeo\"}],\"scattergl\":[{\"marker\":{\"colorbar\":{\"outlinewidth\":0,\"ticks\":\"\"}},\"type\":\"scattergl\"}],\"scattermapbox\":[{\"marker\":{\"colorbar\":{\"outlinewidth\":0,\"ticks\":\"\"}},\"type\":\"scattermapbox\"}],\"scatterpolargl\":[{\"marker\":{\"colorbar\":{\"outlinewidth\":0,\"ticks\":\"\"}},\"type\":\"scatterpolargl\"}],\"scatterpolar\":[{\"marker\":{\"colorbar\":{\"outlinewidth\":0,\"ticks\":\"\"}},\"type\":\"scatterpolar\"}],\"scatter\":[{\"fillpattern\":{\"fillmode\":\"overlay\",\"size\":10,\"solidity\":0.2},\"type\":\"scatter\"}],\"scatterternary\":[{\"marker\":{\"colorbar\":{\"outlinewidth\":0,\"ticks\":\"\"}},\"type\":\"scatterternary\"}],\"surface\":[{\"colorbar\":{\"outlinewidth\":0,\"ticks\":\"\"},\"colorscale\":[[0.0,\"#0d0887\"],[0.1111111111111111,\"#46039f\"],[0.2222222222222222,\"#7201a8\"],[0.3333333333333333,\"#9c179e\"],[0.4444444444444444,\"#bd3786\"],[0.5555555555555556,\"#d8576b\"],[0.6666666666666666,\"#ed7953\"],[0.7777777777777778,\"#fb9f3a\"],[0.8888888888888888,\"#fdca26\"],[1.0,\"#f0f921\"]],\"type\":\"surface\"}],\"table\":[{\"cells\":{\"fill\":{\"color\":\"#EBF0F8\"},\"line\":{\"color\":\"white\"}},\"header\":{\"fill\":{\"color\":\"#C8D4E3\"},\"line\":{\"color\":\"white\"}},\"type\":\"table\"}]},\"layout\":{\"annotationdefaults\":{\"arrowcolor\":\"#2a3f5f\",\"arrowhead\":0,\"arrowwidth\":1},\"autotypenumbers\":\"strict\",\"coloraxis\":{\"colorbar\":{\"outlinewidth\":0,\"ticks\":\"\"}},\"colorscale\":{\"diverging\":[[0,\"#8e0152\"],[0.1,\"#c51b7d\"],[0.2,\"#de77ae\"],[0.3,\"#f1b6da\"],[0.4,\"#fde0ef\"],[0.5,\"#f7f7f7\"],[0.6,\"#e6f5d0\"],[0.7,\"#b8e186\"],[0.8,\"#7fbc41\"],[0.9,\"#4d9221\"],[1,\"#276419\"]],\"sequential\":[[0.0,\"#0d0887\"],[0.1111111111111111,\"#46039f\"],[0.2222222222222222,\"#7201a8\"],[0.3333333333333333,\"#9c179e\"],[0.4444444444444444,\"#bd3786\"],[0.5555555555555556,\"#d8576b\"],[0.6666666666666666,\"#ed7953\"],[0.7777777777777778,\"#fb9f3a\"],[0.8888888888888888,\"#fdca26\"],[1.0,\"#f0f921\"]],\"sequentialminus\":[[0.0,\"#0d0887\"],[0.1111111111111111,\"#46039f\"],[0.2222222222222222,\"#7201a8\"],[0.3333333333333333,\"#9c179e\"],[0.4444444444444444,\"#bd3786\"],[0.5555555555555556,\"#d8576b\"],[0.6666666666666666,\"#ed7953\"],[0.7777777777777778,\"#fb9f3a\"],[0.8888888888888888,\"#fdca26\"],[1.0,\"#f0f921\"]]},\"colorway\":[\"#636efa\",\"#EF553B\",\"#00cc96\",\"#ab63fa\",\"#FFA15A\",\"#19d3f3\",\"#FF6692\",\"#B6E880\",\"#FF97FF\",\"#FECB52\"],\"font\":{\"color\":\"#2a3f5f\"},\"geo\":{\"bgcolor\":\"white\",\"lakecolor\":\"white\",\"landcolor\":\"#E5ECF6\",\"showlakes\":true,\"showland\":true,\"subunitcolor\":\"white\"},\"hoverlabel\":{\"align\":\"left\"},\"hovermode\":\"closest\",\"mapbox\":{\"style\":\"light\"},\"paper_bgcolor\":\"white\",\"plot_bgcolor\":\"#E5ECF6\",\"polar\":{\"angularaxis\":{\"gridcolor\":\"white\",\"linecolor\":\"white\",\"ticks\":\"\"},\"bgcolor\":\"#E5ECF6\",\"radialaxis\":{\"gridcolor\":\"white\",\"linecolor\":\"white\",\"ticks\":\"\"}},\"scene\":{\"xaxis\":{\"backgroundcolor\":\"#E5ECF6\",\"gridcolor\":\"white\",\"gridwidth\":2,\"linecolor\":\"white\",\"showbackground\":true,\"ticks\":\"\",\"zerolinecolor\":\"white\"},\"yaxis\":{\"backgroundcolor\":\"#E5ECF6\",\"gridcolor\":\"white\",\"gridwidth\":2,\"linecolor\":\"white\",\"showbackground\":true,\"ticks\":\"\",\"zerolinecolor\":\"white\"},\"zaxis\":{\"backgroundcolor\":\"#E5ECF6\",\"gridcolor\":\"white\",\"gridwidth\":2,\"linecolor\":\"white\",\"showbackground\":true,\"ticks\":\"\",\"zerolinecolor\":\"white\"}},\"shapedefaults\":{\"line\":{\"color\":\"#2a3f5f\"}},\"ternary\":{\"aaxis\":{\"gridcolor\":\"white\",\"linecolor\":\"white\",\"ticks\":\"\"},\"baxis\":{\"gridcolor\":\"white\",\"linecolor\":\"white\",\"ticks\":\"\"},\"bgcolor\":\"#E5ECF6\",\"caxis\":{\"gridcolor\":\"white\",\"linecolor\":\"white\",\"ticks\":\"\"}},\"title\":{\"x\":0.05},\"xaxis\":{\"automargin\":true,\"gridcolor\":\"white\",\"linecolor\":\"white\",\"ticks\":\"\",\"title\":{\"standoff\":15},\"zerolinecolor\":\"white\",\"zerolinewidth\":2},\"yaxis\":{\"automargin\":true,\"gridcolor\":\"white\",\"linecolor\":\"white\",\"ticks\":\"\",\"title\":{\"standoff\":15},\"zerolinecolor\":\"white\",\"zerolinewidth\":2}}},\"title\":{\"text\":\"Credences for Input Tokens\"},\"width\":800,\"xaxis\":{\"tickangle\":45,\"ticktext\":[\"<bos>\",\"\\u2581The\",\"\\u2581cot\",\"ton\",\"\\u2581cl\",\"othing\",\"\\u2581is\",\"\\u2581usually\",\"\\u2581made\",\"\\u2581of\",\"\\u2581grows\",\"\\u2581in\",\"\\u2581Mississippi\",\".\"],\"tickvals\":[0,1,2,3,4,5,6,7,8,9,10,11,12,13]}},                        {\"responsive\": true}                    ).then(function(){\n",
       "                            \n",
       "var gd = document.getElementById('eaad7b19-cb6b-40c1-980a-ad5984291d22');\n",
       "var x = new MutationObserver(function (mutations, observer) {{\n",
       "        var display = window.getComputedStyle(gd).display;\n",
       "        if (!display || display === 'none') {{\n",
       "            console.log([gd, 'removed!']);\n",
       "            Plotly.purge(gd);\n",
       "            observer.disconnect();\n",
       "        }}\n",
       "}});\n",
       "\n",
       "// Listen for the removal of the full notebook cells\n",
       "var notebookContainer = gd.closest('#notebook-container');\n",
       "if (notebookContainer) {{\n",
       "    x.observe(notebookContainer, {childList: true});\n",
       "}}\n",
       "\n",
       "// Listen for the clearing of the current output cell\n",
       "var outputEl = gd.closest('.output');\n",
       "if (outputEl) {{\n",
       "    x.observe(outputEl, {childList: true});\n",
       "}}\n",
       "\n",
       "                        })                };                });            </script>        </div>"
      ]
     },
     "metadata": {},
     "output_type": "display_data"
    },
    {
     "data": {
      "application/vnd.plotly.v1+json": {
       "config": {
        "linkText": "Export to plot.ly",
        "plotlyServerURL": "https://plot.ly",
        "showLink": false
       },
       "data": [
        {
         "colorscale": [
          [
           0,
           "#FF0000"
          ],
          [
           1,
           "#00FF00"
          ]
         ],
         "text": [
          [
           "  <bos>  ",
           "  ▁The  ",
           "  ▁river  ",
           "  ▁flow  ",
           "  ed  ",
           "  ▁through  ",
           "  ▁the  ",
           "  ▁town  ",
           "  ▁s  ",
           "  ank  ",
           "  .  "
          ],
          [
           "  <bos>  ",
           "  ▁The  ",
           "  ▁river  ",
           "  ▁flow  ",
           "  ed  ",
           "  ▁through  ",
           "  ▁the  ",
           "  ▁town  ",
           "  ▁s  ",
           "  ank  ",
           "  .  "
          ],
          [
           "  <bos>  ",
           "  ▁The  ",
           "  ▁river  ",
           "  ▁flow  ",
           "  ed  ",
           "  ▁through  ",
           "  ▁the  ",
           "  ▁town  ",
           "  ▁s  ",
           "  ank  ",
           "  .  "
          ],
          [
           "  <bos>  ",
           "  ▁The  ",
           "  ▁river  ",
           "  ▁flow  ",
           "  ed  ",
           "  ▁through  ",
           "  ▁the  ",
           "  ▁town  ",
           "  ▁s  ",
           "  ank  ",
           "  .  "
          ],
          [
           "  <bos>  ",
           "  ▁The  ",
           "  ▁river  ",
           "  ▁flow  ",
           "  ed  ",
           "  ▁through  ",
           "  ▁the  ",
           "  ▁town  ",
           "  ▁s  ",
           "  ank  ",
           "  .  "
          ],
          [
           "  <bos>  ",
           "  ▁The  ",
           "  ▁river  ",
           "  ▁flow  ",
           "  ed  ",
           "  ▁through  ",
           "  ▁the  ",
           "  ▁town  ",
           "  ▁s  ",
           "  ank  ",
           "  .  "
          ],
          [
           "  <bos>  ",
           "  ▁The  ",
           "  ▁river  ",
           "  ▁flow  ",
           "  ed  ",
           "  ▁through  ",
           "  ▁the  ",
           "  ▁town  ",
           "  ▁s  ",
           "  ank  ",
           "  .  "
          ],
          [
           "  <bos>  ",
           "  ▁The  ",
           "  ▁river  ",
           "  ▁flow  ",
           "  ed  ",
           "  ▁through  ",
           "  ▁the  ",
           "  ▁town  ",
           "  ▁s  ",
           "  ank  ",
           "  .  "
          ],
          [
           "  <bos>  ",
           "  ▁The  ",
           "  ▁river  ",
           "  ▁flow  ",
           "  ed  ",
           "  ▁through  ",
           "  ▁the  ",
           "  ▁town  ",
           "  ▁s  ",
           "  ank  ",
           "  .  "
          ],
          [
           "  <bos>  ",
           "  ▁The  ",
           "  ▁river  ",
           "  ▁flow  ",
           "  ed  ",
           "  ▁through  ",
           "  ▁the  ",
           "  ▁town  ",
           "  ▁s  ",
           "  ank  ",
           "  .  "
          ],
          [
           "  <bos>  ",
           "  ▁The  ",
           "  ▁river  ",
           "  ▁flow  ",
           "  ed  ",
           "  ▁through  ",
           "  ▁the  ",
           "  ▁town  ",
           "  ▁s  ",
           "  ank  ",
           "  .  "
          ],
          [
           "  <bos>  ",
           "  ▁The  ",
           "  ▁river  ",
           "  ▁flow  ",
           "  ed  ",
           "  ▁through  ",
           "  ▁the  ",
           "  ▁town  ",
           "  ▁s  ",
           "  ank  ",
           "  .  "
          ],
          [
           "  <bos>  ",
           "  ▁The  ",
           "  ▁river  ",
           "  ▁flow  ",
           "  ed  ",
           "  ▁through  ",
           "  ▁the  ",
           "  ▁town  ",
           "  ▁s  ",
           "  ank  ",
           "  .  "
          ],
          [
           "  <bos>  ",
           "  ▁The  ",
           "  ▁river  ",
           "  ▁flow  ",
           "  ed  ",
           "  ▁through  ",
           "  ▁the  ",
           "  ▁town  ",
           "  ▁s  ",
           "  ank  ",
           "  .  "
          ],
          [
           "  <bos>  ",
           "  ▁The  ",
           "  ▁river  ",
           "  ▁flow  ",
           "  ed  ",
           "  ▁through  ",
           "  ▁the  ",
           "  ▁town  ",
           "  ▁s  ",
           "  ank  ",
           "  .  "
          ],
          [
           "  <bos>  ",
           "  ▁The  ",
           "  ▁river  ",
           "  ▁flow  ",
           "  ed  ",
           "  ▁through  ",
           "  ▁the  ",
           "  ▁town  ",
           "  ▁s  ",
           "  ank  ",
           "  .  "
          ],
          [
           "  <bos>  ",
           "  ▁The  ",
           "  ▁river  ",
           "  ▁flow  ",
           "  ed  ",
           "  ▁through  ",
           "  ▁the  ",
           "  ▁town  ",
           "  ▁s  ",
           "  ank  ",
           "  .  "
          ],
          [
           "  <bos>  ",
           "  ▁The  ",
           "  ▁river  ",
           "  ▁flow  ",
           "  ed  ",
           "  ▁through  ",
           "  ▁the  ",
           "  ▁town  ",
           "  ▁s  ",
           "  ank  ",
           "  .  "
          ],
          [
           "  <bos>  ",
           "  ▁The  ",
           "  ▁river  ",
           "  ▁flow  ",
           "  ed  ",
           "  ▁through  ",
           "  ▁the  ",
           "  ▁town  ",
           "  ▁s  ",
           "  ank  ",
           "  .  "
          ],
          [
           "  <bos>  ",
           "  ▁The  ",
           "  ▁river  ",
           "  ▁flow  ",
           "  ed  ",
           "  ▁through  ",
           "  ▁the  ",
           "  ▁town  ",
           "  ▁s  ",
           "  ank  ",
           "  .  "
          ],
          [
           "  <bos>  ",
           "  ▁The  ",
           "  ▁river  ",
           "  ▁flow  ",
           "  ed  ",
           "  ▁through  ",
           "  ▁the  ",
           "  ▁town  ",
           "  ▁s  ",
           "  ank  ",
           "  .  "
          ],
          [
           "  <bos>  ",
           "  ▁The  ",
           "  ▁river  ",
           "  ▁flow  ",
           "  ed  ",
           "  ▁through  ",
           "  ▁the  ",
           "  ▁town  ",
           "  ▁s  ",
           "  ank  ",
           "  .  "
          ],
          [
           "  <bos>  ",
           "  ▁The  ",
           "  ▁river  ",
           "  ▁flow  ",
           "  ed  ",
           "  ▁through  ",
           "  ▁the  ",
           "  ▁town  ",
           "  ▁s  ",
           "  ank  ",
           "  .  "
          ],
          [
           "  <bos>  ",
           "  ▁The  ",
           "  ▁river  ",
           "  ▁flow  ",
           "  ed  ",
           "  ▁through  ",
           "  ▁the  ",
           "  ▁town  ",
           "  ▁s  ",
           "  ank  ",
           "  .  "
          ],
          [
           "  <bos>  ",
           "  ▁The  ",
           "  ▁river  ",
           "  ▁flow  ",
           "  ed  ",
           "  ▁through  ",
           "  ▁the  ",
           "  ▁town  ",
           "  ▁s  ",
           "  ank  ",
           "  .  "
          ],
          [
           "  <bos>  ",
           "  ▁The  ",
           "  ▁river  ",
           "  ▁flow  ",
           "  ed  ",
           "  ▁through  ",
           "  ▁the  ",
           "  ▁town  ",
           "  ▁s  ",
           "  ank  ",
           "  .  "
          ],
          [
           "  <bos>  ",
           "  ▁The  ",
           "  ▁river  ",
           "  ▁flow  ",
           "  ed  ",
           "  ▁through  ",
           "  ▁the  ",
           "  ▁town  ",
           "  ▁s  ",
           "  ank  ",
           "  .  "
          ],
          [
           "  <bos>  ",
           "  ▁The  ",
           "  ▁river  ",
           "  ▁flow  ",
           "  ed  ",
           "  ▁through  ",
           "  ▁the  ",
           "  ▁town  ",
           "  ▁s  ",
           "  ank  ",
           "  .  "
          ],
          [
           "  <bos>  ",
           "  ▁The  ",
           "  ▁river  ",
           "  ▁flow  ",
           "  ed  ",
           "  ▁through  ",
           "  ▁the  ",
           "  ▁town  ",
           "  ▁s  ",
           "  ank  ",
           "  .  "
          ],
          [
           "  <bos>  ",
           "  ▁The  ",
           "  ▁river  ",
           "  ▁flow  ",
           "  ed  ",
           "  ▁through  ",
           "  ▁the  ",
           "  ▁town  ",
           "  ▁s  ",
           "  ank  ",
           "  .  "
          ],
          [
           "  <bos>  ",
           "  ▁The  ",
           "  ▁river  ",
           "  ▁flow  ",
           "  ed  ",
           "  ▁through  ",
           "  ▁the  ",
           "  ▁town  ",
           "  ▁s  ",
           "  ank  ",
           "  .  "
          ],
          [
           "  <bos>  ",
           "  ▁The  ",
           "  ▁river  ",
           "  ▁flow  ",
           "  ed  ",
           "  ▁through  ",
           "  ▁the  ",
           "  ▁town  ",
           "  ▁s  ",
           "  ank  ",
           "  .  "
          ]
         ],
         "textfont": {
          "color": "black",
          "size": 12
         },
         "texttemplate": "%{text}",
         "type": "heatmap",
         "z": [
          [
           0.008845187723636627,
           0.04584826901555061,
           0.009580103680491447,
           -0.006180327385663986,
           0.009135046042501926,
           -0.012454850599169731,
           0.13169172406196594,
           -0.031085064634680748,
           -0.012087563052773476,
           -0.027792837470769882,
           -0.03249766677618027
          ],
          [
           -0.15358802676200867,
           -0.2143976390361786,
           -0.07663412392139435,
           -0.05590358376502991,
           0.011846496723592281,
           -0.046184901148080826,
           -0.17234323918819427,
           0.03344927728176117,
           -0.006629757583141327,
           0.05627971142530441,
           -0.06667986512184143
          ],
          [
           0.18735280632972717,
           0.10437029600143433,
           0.009789946489036083,
           0.033345796167850494,
           0.049686726182699203,
           0.09477686136960983,
           0.06239011883735657,
           -0.0459776297211647,
           -0.09831263870000839,
           -0.0934583842754364,
           -0.00048188993241637945
          ],
          [
           23.470369338989258,
           -0.25134286284446716,
           -0.22748921811580658,
           0.024457892403006554,
           -0.14791886508464813,
           -0.17287904024124146,
           -0.37867066264152527,
           -0.19844970107078552,
           -0.11349575221538544,
           -0.15660066902637482,
           -0.21922233700752258
          ],
          [
           5.85875129699707,
           -0.2104581892490387,
           -0.14214761555194855,
           0.23660965263843536,
           0.03836331143975258,
           -0.04900934174656868,
           -0.1386735886335373,
           0.09957197308540344,
           -0.0685310885310173,
           -0.04911103844642639,
           -0.07317943125963211
          ],
          [
           -16.72722625732422,
           -0.13353614509105682,
           -0.09703362733125687,
           -0.39828863739967346,
           -0.26012077927589417,
           -0.16221599280834198,
           -0.06088944897055626,
           -0.24890872836112976,
           0.012073519639670849,
           -0.23256206512451172,
           -0.15729288756847382
          ],
          [
           12.161348342895508,
           0.2074839323759079,
           0.25502344965934753,
           0.08885160833597183,
           0.46874770522117615,
           0.23804503679275513,
           -0.13671205937862396,
           0.23619012534618378,
           -0.3724088966846466,
           0.11161933839321136,
           0.05950184538960457
          ],
          [
           2.064411163330078,
           0.25377920269966125,
           0.5616350173950195,
           0.21751727163791656,
           0.5958950519561768,
           0.00882028229534626,
           -0.09458506107330322,
           0.3693442940711975,
           -0.013316958211362362,
           0.5623763799667358,
           0.6447095274925232
          ],
          [
           -2.1548967361450195,
           -0.0056199077516794205,
           -0.04699556902050972,
           0.07615137845277786,
           -0.25899797677993774,
           0.0938989669084549,
           0.03426118195056915,
           -0.18310290575027466,
           -0.22571967542171478,
           -0.4110602140426636,
           -0.6816914677619934
          ],
          [
           -5.717101097106934,
           -0.1632382720708847,
           -0.12115301936864853,
           -0.1756574958562851,
           -0.0963730588555336,
           -0.7488102316856384,
           -0.057179104536771774,
           0.049162376672029495,
           0.18447960913181305,
           0.5582471489906311,
           0.5870888233184814
          ],
          [
           6.356625556945801,
           0.5139718651771545,
           0.8667535781860352,
           0.3077719509601593,
           0.2285454422235489,
           0.6104525327682495,
           0.4736161231994629,
           0.4177038371562958,
           -0.10561291873455048,
           -0.318158894777298,
           -0.15969011187553406
          ],
          [
           11.614984512329102,
           0.5209828615188599,
           0.8019018769264221,
           0.4927676320075989,
           0.40630513429641724,
           0.731975257396698,
           0.4950627088546753,
           0.31344205141067505,
           -0.262540340423584,
           -0.22766941785812378,
           0.22154071927070618
          ],
          [
           4.872463703155518,
           0.43086469173431396,
           0.28844258189201355,
           0.37590235471725464,
           0.4716266989707947,
           0.42406511306762695,
           0.4362979233264923,
           0.09648513048887253,
           -0.15106548368930817,
           -0.24140602350234985,
           0.2179807722568512
          ],
          [
           -3.228698968887329,
           0.03501402586698532,
           -0.27876201272010803,
           0.37690961360931396,
           0.26661577820777893,
           0.4366181492805481,
           0.5087398290634155,
           -0.13037045300006866,
           0.09348256886005402,
           -0.11154250800609589,
           -0.013376114889979362
          ],
          [
           -1.7535680532455444,
           -0.5321921110153198,
           0.25217777490615845,
           -0.4129311442375183,
           -0.49167826771736145,
           -0.4655688405036926,
           -0.1613558679819107,
           0.25965049862861633,
           0.15893453359603882,
           0.598292350769043,
           0.43830418586730957
          ],
          [
           7.8320207595825195,
           -0.013683677650988102,
           0.7646755576133728,
           -0.02804122492671013,
           -0.19939033687114716,
           0.015884896740317345,
           0.25230738520622253,
           1.2820430994033813,
           0.017832547426223755,
           0.5722910165786743,
           0.22887292504310608
          ],
          [
           -1.3073129653930664,
           0.6813579797744751,
           0.557072639465332,
           0.0434124730527401,
           -0.25645115971565247,
           -0.2792968451976776,
           -0.1090501993894577,
           0.5793025493621826,
           -0.09809454530477524,
           0.4715108871459961,
           0.3670196235179901
          ],
          [
           -9.335840225219727,
           0.8365377187728882,
           0.21533256769180298,
           -0.03301135450601578,
           0.18362507224082947,
           0.10010239481925964,
           -0.14625680446624756,
           1.3175030946731567,
           0.5517985224723816,
           0.733117938041687,
           0.6179596185684204
          ],
          [
           -0.2068636417388916,
           0.42119643092155457,
           -0.05017346143722534,
           -0.46938785910606384,
           0.3336217999458313,
           -0.4710238575935364,
           -0.8702712059020996,
           1.7038487195968628,
           -0.23379772901535034,
           0.9393505454063416,
           0.9926030039787292
          ],
          [
           1.8224728107452393,
           0.6815730929374695,
           0.4429195821285248,
           -0.21763907372951508,
           0.3370389938354492,
           0.1397782266139984,
           0.1137775182723999,
           2.0443649291992188,
           0.017246589064598083,
           1.0563499927520752,
           1.616541862487793
          ],
          [
           -12.254570960998535,
           -1.9271199703216553,
           -1.8711364269256592,
           -1.4743430614471436,
           -2.30635404586792,
           -1.267690658569336,
           -0.7844148278236389,
           -3.279348373413086,
           -1.5316424369812012,
           -1.275795578956604,
           -2.6875596046447754
          ],
          [
           -17.042085647583008,
           -2.318861246109009,
           -1.6210395097732544,
           -1.6567463874816895,
           -2.5015101432800293,
           -1.2879849672317505,
           -1.0344187021255493,
           -4.38234806060791,
           -3.1708383560180664,
           -1.7533013820648193,
           -3.4569568634033203
          ],
          [
           -28.596731185913086,
           -2.539721965789795,
           -2.098201036453247,
           -1.9062002897262573,
           -1.9847121238708496,
           -1.344868779182434,
           -1.0544198751449585,
           -4.289645195007324,
           -2.858950138092041,
           -2.851224660873413,
           -3.4923040866851807
          ],
          [
           -38.951324462890625,
           -3.1154212951660156,
           -2.5654773712158203,
           -1.4483699798583984,
           -1.6891591548919678,
           -2.1098315715789795,
           -2.0704948902130127,
           -5.016476154327393,
           -2.6936116218566895,
           -3.088528871536255,
           -4.3665666580200195
          ],
          [
           -31.798603057861328,
           -3.6631953716278076,
           -3.391054391860962,
           -1.6307071447372437,
           -2.5801262855529785,
           -2.4860713481903076,
           -2.1414635181427,
           -4.5431342124938965,
           -3.3289337158203125,
           -3.849081516265869,
           -5.979382514953613
          ],
          [
           25.593080520629883,
           4.486544609069824,
           4.01595401763916,
           2.293299913406372,
           2.8213460445404053,
           2.9009697437286377,
           3.100036144256592,
           4.661456108093262,
           3.986804723739624,
           4.4072489738464355,
           6.581887722015381
          ],
          [
           -28.949676513671875,
           -4.922211170196533,
           -3.1170494556427,
           -1.9877653121948242,
           -3.3701062202453613,
           -2.8635177612304688,
           -3.5829646587371826,
           -3.7786335945129395,
           -3.695138692855835,
           -5.5470356941223145,
           -7.131625175476074
          ],
          [
           31.209741592407227,
           4.631700038909912,
           3.003020763397217,
           1.1927359104156494,
           3.7379307746887207,
           3.41060733795166,
           3.9320228099823,
           3.7323217391967773,
           2.603285789489746,
           6.219438076019287,
           7.251823902130127
          ],
          [
           -34.25849914550781,
           -5.071702480316162,
           -3.887622833251953,
           -2.090970039367676,
           -3.023550271987915,
           -3.8190693855285645,
           -3.734570026397705,
           -2.925957441329956,
           -2.3000998497009277,
           -6.625279903411865,
           -7.515243053436279
          ],
          [
           -47.07886505126953,
           -5.442872047424316,
           -3.7807254791259766,
           -1.4011120796203613,
           -2.3891191482543945,
           -3.732668876647949,
           -3.256251335144043,
           -4.1620025634765625,
           -3.0330512523651123,
           -6.95709753036499,
           -8.923751831054688
          ],
          [
           -45.61503982543945,
           -5.242952346801758,
           -4.0337748527526855,
           -1.91387140750885,
           -2.509673595428467,
           -4.163494110107422,
           -3.485584259033203,
           -5.296824932098389,
           -3.260197639465332,
           -6.600366592407227,
           -10.086231231689453
          ],
          [
           0.17738297581672668,
           -6.205224514007568,
           -4.317226886749268,
           -2.625059127807617,
           -3.470083713531494,
           -5.684490203857422,
           -3.59550142288208,
           -6.56257438659668,
           -4.644586563110352,
           -8.404958724975586,
           -10.28370475769043
          ]
         ]
        }
       ],
       "layout": {
        "height": 800,
        "sliders": [
         {
          "active": 5,
          "currentvalue": {
           "prefix": "Step: "
          },
          "len": 0.9,
          "pad": {
           "t": 50
          },
          "steps": [
           {
            "args": [
             {
              "visible": [
               true,
               true,
               true,
               true,
               true,
               true,
               true,
               true,
               true,
               true,
               true
              ]
             },
             {
              "annotations": [],
              "title": "Credences for Input Tokens",
              "xaxis": {
               "tickangle": 45,
               "ticktext": [
                "<bos>",
                "▁The",
                "▁river",
                "▁flow",
                "ed",
                "▁through",
                "▁the",
                "▁town",
                "▁s",
                "ank",
                "."
               ],
               "tickvals": [
                0,
                1,
                2,
                3,
                4,
                5,
                6,
                7,
                8,
                9,
                10
               ]
              }
             }
            ],
            "method": "update"
           }
          ],
          "visible": true
         }
        ],
        "template": {
         "data": {
          "bar": [
           {
            "error_x": {
             "color": "#2a3f5f"
            },
            "error_y": {
             "color": "#2a3f5f"
            },
            "marker": {
             "line": {
              "color": "#E5ECF6",
              "width": 0.5
             },
             "pattern": {
              "fillmode": "overlay",
              "size": 10,
              "solidity": 0.2
             }
            },
            "type": "bar"
           }
          ],
          "barpolar": [
           {
            "marker": {
             "line": {
              "color": "#E5ECF6",
              "width": 0.5
             },
             "pattern": {
              "fillmode": "overlay",
              "size": 10,
              "solidity": 0.2
             }
            },
            "type": "barpolar"
           }
          ],
          "carpet": [
           {
            "aaxis": {
             "endlinecolor": "#2a3f5f",
             "gridcolor": "white",
             "linecolor": "white",
             "minorgridcolor": "white",
             "startlinecolor": "#2a3f5f"
            },
            "baxis": {
             "endlinecolor": "#2a3f5f",
             "gridcolor": "white",
             "linecolor": "white",
             "minorgridcolor": "white",
             "startlinecolor": "#2a3f5f"
            },
            "type": "carpet"
           }
          ],
          "choropleth": [
           {
            "colorbar": {
             "outlinewidth": 0,
             "ticks": ""
            },
            "type": "choropleth"
           }
          ],
          "contour": [
           {
            "colorbar": {
             "outlinewidth": 0,
             "ticks": ""
            },
            "colorscale": [
             [
              0,
              "#0d0887"
             ],
             [
              0.1111111111111111,
              "#46039f"
             ],
             [
              0.2222222222222222,
              "#7201a8"
             ],
             [
              0.3333333333333333,
              "#9c179e"
             ],
             [
              0.4444444444444444,
              "#bd3786"
             ],
             [
              0.5555555555555556,
              "#d8576b"
             ],
             [
              0.6666666666666666,
              "#ed7953"
             ],
             [
              0.7777777777777778,
              "#fb9f3a"
             ],
             [
              0.8888888888888888,
              "#fdca26"
             ],
             [
              1,
              "#f0f921"
             ]
            ],
            "type": "contour"
           }
          ],
          "contourcarpet": [
           {
            "colorbar": {
             "outlinewidth": 0,
             "ticks": ""
            },
            "type": "contourcarpet"
           }
          ],
          "heatmap": [
           {
            "colorbar": {
             "outlinewidth": 0,
             "ticks": ""
            },
            "colorscale": [
             [
              0,
              "#0d0887"
             ],
             [
              0.1111111111111111,
              "#46039f"
             ],
             [
              0.2222222222222222,
              "#7201a8"
             ],
             [
              0.3333333333333333,
              "#9c179e"
             ],
             [
              0.4444444444444444,
              "#bd3786"
             ],
             [
              0.5555555555555556,
              "#d8576b"
             ],
             [
              0.6666666666666666,
              "#ed7953"
             ],
             [
              0.7777777777777778,
              "#fb9f3a"
             ],
             [
              0.8888888888888888,
              "#fdca26"
             ],
             [
              1,
              "#f0f921"
             ]
            ],
            "type": "heatmap"
           }
          ],
          "heatmapgl": [
           {
            "colorbar": {
             "outlinewidth": 0,
             "ticks": ""
            },
            "colorscale": [
             [
              0,
              "#0d0887"
             ],
             [
              0.1111111111111111,
              "#46039f"
             ],
             [
              0.2222222222222222,
              "#7201a8"
             ],
             [
              0.3333333333333333,
              "#9c179e"
             ],
             [
              0.4444444444444444,
              "#bd3786"
             ],
             [
              0.5555555555555556,
              "#d8576b"
             ],
             [
              0.6666666666666666,
              "#ed7953"
             ],
             [
              0.7777777777777778,
              "#fb9f3a"
             ],
             [
              0.8888888888888888,
              "#fdca26"
             ],
             [
              1,
              "#f0f921"
             ]
            ],
            "type": "heatmapgl"
           }
          ],
          "histogram": [
           {
            "marker": {
             "pattern": {
              "fillmode": "overlay",
              "size": 10,
              "solidity": 0.2
             }
            },
            "type": "histogram"
           }
          ],
          "histogram2d": [
           {
            "colorbar": {
             "outlinewidth": 0,
             "ticks": ""
            },
            "colorscale": [
             [
              0,
              "#0d0887"
             ],
             [
              0.1111111111111111,
              "#46039f"
             ],
             [
              0.2222222222222222,
              "#7201a8"
             ],
             [
              0.3333333333333333,
              "#9c179e"
             ],
             [
              0.4444444444444444,
              "#bd3786"
             ],
             [
              0.5555555555555556,
              "#d8576b"
             ],
             [
              0.6666666666666666,
              "#ed7953"
             ],
             [
              0.7777777777777778,
              "#fb9f3a"
             ],
             [
              0.8888888888888888,
              "#fdca26"
             ],
             [
              1,
              "#f0f921"
             ]
            ],
            "type": "histogram2d"
           }
          ],
          "histogram2dcontour": [
           {
            "colorbar": {
             "outlinewidth": 0,
             "ticks": ""
            },
            "colorscale": [
             [
              0,
              "#0d0887"
             ],
             [
              0.1111111111111111,
              "#46039f"
             ],
             [
              0.2222222222222222,
              "#7201a8"
             ],
             [
              0.3333333333333333,
              "#9c179e"
             ],
             [
              0.4444444444444444,
              "#bd3786"
             ],
             [
              0.5555555555555556,
              "#d8576b"
             ],
             [
              0.6666666666666666,
              "#ed7953"
             ],
             [
              0.7777777777777778,
              "#fb9f3a"
             ],
             [
              0.8888888888888888,
              "#fdca26"
             ],
             [
              1,
              "#f0f921"
             ]
            ],
            "type": "histogram2dcontour"
           }
          ],
          "mesh3d": [
           {
            "colorbar": {
             "outlinewidth": 0,
             "ticks": ""
            },
            "type": "mesh3d"
           }
          ],
          "parcoords": [
           {
            "line": {
             "colorbar": {
              "outlinewidth": 0,
              "ticks": ""
             }
            },
            "type": "parcoords"
           }
          ],
          "pie": [
           {
            "automargin": true,
            "type": "pie"
           }
          ],
          "scatter": [
           {
            "fillpattern": {
             "fillmode": "overlay",
             "size": 10,
             "solidity": 0.2
            },
            "type": "scatter"
           }
          ],
          "scatter3d": [
           {
            "line": {
             "colorbar": {
              "outlinewidth": 0,
              "ticks": ""
             }
            },
            "marker": {
             "colorbar": {
              "outlinewidth": 0,
              "ticks": ""
             }
            },
            "type": "scatter3d"
           }
          ],
          "scattercarpet": [
           {
            "marker": {
             "colorbar": {
              "outlinewidth": 0,
              "ticks": ""
             }
            },
            "type": "scattercarpet"
           }
          ],
          "scattergeo": [
           {
            "marker": {
             "colorbar": {
              "outlinewidth": 0,
              "ticks": ""
             }
            },
            "type": "scattergeo"
           }
          ],
          "scattergl": [
           {
            "marker": {
             "colorbar": {
              "outlinewidth": 0,
              "ticks": ""
             }
            },
            "type": "scattergl"
           }
          ],
          "scattermapbox": [
           {
            "marker": {
             "colorbar": {
              "outlinewidth": 0,
              "ticks": ""
             }
            },
            "type": "scattermapbox"
           }
          ],
          "scatterpolar": [
           {
            "marker": {
             "colorbar": {
              "outlinewidth": 0,
              "ticks": ""
             }
            },
            "type": "scatterpolar"
           }
          ],
          "scatterpolargl": [
           {
            "marker": {
             "colorbar": {
              "outlinewidth": 0,
              "ticks": ""
             }
            },
            "type": "scatterpolargl"
           }
          ],
          "scatterternary": [
           {
            "marker": {
             "colorbar": {
              "outlinewidth": 0,
              "ticks": ""
             }
            },
            "type": "scatterternary"
           }
          ],
          "surface": [
           {
            "colorbar": {
             "outlinewidth": 0,
             "ticks": ""
            },
            "colorscale": [
             [
              0,
              "#0d0887"
             ],
             [
              0.1111111111111111,
              "#46039f"
             ],
             [
              0.2222222222222222,
              "#7201a8"
             ],
             [
              0.3333333333333333,
              "#9c179e"
             ],
             [
              0.4444444444444444,
              "#bd3786"
             ],
             [
              0.5555555555555556,
              "#d8576b"
             ],
             [
              0.6666666666666666,
              "#ed7953"
             ],
             [
              0.7777777777777778,
              "#fb9f3a"
             ],
             [
              0.8888888888888888,
              "#fdca26"
             ],
             [
              1,
              "#f0f921"
             ]
            ],
            "type": "surface"
           }
          ],
          "table": [
           {
            "cells": {
             "fill": {
              "color": "#EBF0F8"
             },
             "line": {
              "color": "white"
             }
            },
            "header": {
             "fill": {
              "color": "#C8D4E3"
             },
             "line": {
              "color": "white"
             }
            },
            "type": "table"
           }
          ]
         },
         "layout": {
          "annotationdefaults": {
           "arrowcolor": "#2a3f5f",
           "arrowhead": 0,
           "arrowwidth": 1
          },
          "autotypenumbers": "strict",
          "coloraxis": {
           "colorbar": {
            "outlinewidth": 0,
            "ticks": ""
           }
          },
          "colorscale": {
           "diverging": [
            [
             0,
             "#8e0152"
            ],
            [
             0.1,
             "#c51b7d"
            ],
            [
             0.2,
             "#de77ae"
            ],
            [
             0.3,
             "#f1b6da"
            ],
            [
             0.4,
             "#fde0ef"
            ],
            [
             0.5,
             "#f7f7f7"
            ],
            [
             0.6,
             "#e6f5d0"
            ],
            [
             0.7,
             "#b8e186"
            ],
            [
             0.8,
             "#7fbc41"
            ],
            [
             0.9,
             "#4d9221"
            ],
            [
             1,
             "#276419"
            ]
           ],
           "sequential": [
            [
             0,
             "#0d0887"
            ],
            [
             0.1111111111111111,
             "#46039f"
            ],
            [
             0.2222222222222222,
             "#7201a8"
            ],
            [
             0.3333333333333333,
             "#9c179e"
            ],
            [
             0.4444444444444444,
             "#bd3786"
            ],
            [
             0.5555555555555556,
             "#d8576b"
            ],
            [
             0.6666666666666666,
             "#ed7953"
            ],
            [
             0.7777777777777778,
             "#fb9f3a"
            ],
            [
             0.8888888888888888,
             "#fdca26"
            ],
            [
             1,
             "#f0f921"
            ]
           ],
           "sequentialminus": [
            [
             0,
             "#0d0887"
            ],
            [
             0.1111111111111111,
             "#46039f"
            ],
            [
             0.2222222222222222,
             "#7201a8"
            ],
            [
             0.3333333333333333,
             "#9c179e"
            ],
            [
             0.4444444444444444,
             "#bd3786"
            ],
            [
             0.5555555555555556,
             "#d8576b"
            ],
            [
             0.6666666666666666,
             "#ed7953"
            ],
            [
             0.7777777777777778,
             "#fb9f3a"
            ],
            [
             0.8888888888888888,
             "#fdca26"
            ],
            [
             1,
             "#f0f921"
            ]
           ]
          },
          "colorway": [
           "#636efa",
           "#EF553B",
           "#00cc96",
           "#ab63fa",
           "#FFA15A",
           "#19d3f3",
           "#FF6692",
           "#B6E880",
           "#FF97FF",
           "#FECB52"
          ],
          "font": {
           "color": "#2a3f5f"
          },
          "geo": {
           "bgcolor": "white",
           "lakecolor": "white",
           "landcolor": "#E5ECF6",
           "showlakes": true,
           "showland": true,
           "subunitcolor": "white"
          },
          "hoverlabel": {
           "align": "left"
          },
          "hovermode": "closest",
          "mapbox": {
           "style": "light"
          },
          "paper_bgcolor": "white",
          "plot_bgcolor": "#E5ECF6",
          "polar": {
           "angularaxis": {
            "gridcolor": "white",
            "linecolor": "white",
            "ticks": ""
           },
           "bgcolor": "#E5ECF6",
           "radialaxis": {
            "gridcolor": "white",
            "linecolor": "white",
            "ticks": ""
           }
          },
          "scene": {
           "xaxis": {
            "backgroundcolor": "#E5ECF6",
            "gridcolor": "white",
            "gridwidth": 2,
            "linecolor": "white",
            "showbackground": true,
            "ticks": "",
            "zerolinecolor": "white"
           },
           "yaxis": {
            "backgroundcolor": "#E5ECF6",
            "gridcolor": "white",
            "gridwidth": 2,
            "linecolor": "white",
            "showbackground": true,
            "ticks": "",
            "zerolinecolor": "white"
           },
           "zaxis": {
            "backgroundcolor": "#E5ECF6",
            "gridcolor": "white",
            "gridwidth": 2,
            "linecolor": "white",
            "showbackground": true,
            "ticks": "",
            "zerolinecolor": "white"
           }
          },
          "shapedefaults": {
           "line": {
            "color": "#2a3f5f"
           }
          },
          "ternary": {
           "aaxis": {
            "gridcolor": "white",
            "linecolor": "white",
            "ticks": ""
           },
           "baxis": {
            "gridcolor": "white",
            "linecolor": "white",
            "ticks": ""
           },
           "bgcolor": "#E5ECF6",
           "caxis": {
            "gridcolor": "white",
            "linecolor": "white",
            "ticks": ""
           }
          },
          "title": {
           "x": 0.05
          },
          "xaxis": {
           "automargin": true,
           "gridcolor": "white",
           "linecolor": "white",
           "ticks": "",
           "title": {
            "standoff": 15
           },
           "zerolinecolor": "white",
           "zerolinewidth": 2
          },
          "yaxis": {
           "automargin": true,
           "gridcolor": "white",
           "linecolor": "white",
           "ticks": "",
           "title": {
            "standoff": 15
           },
           "zerolinecolor": "white",
           "zerolinewidth": 2
          }
         }
        },
        "title": {
         "text": "Credences for Input Tokens"
        },
        "width": 800,
        "xaxis": {
         "tickangle": 45,
         "ticktext": [
          "<bos>",
          "▁The",
          "▁river",
          "▁flow",
          "ed",
          "▁through",
          "▁the",
          "▁town",
          "▁s",
          "ank",
          "."
         ],
         "tickvals": [
          0,
          1,
          2,
          3,
          4,
          5,
          6,
          7,
          8,
          9,
          10
         ]
        }
       }
      },
      "text/html": [
       "<div>                            <div id=\"f5000d1e-b098-44ae-afd3-ab1ef02171aa\" class=\"plotly-graph-div\" style=\"height:800px; width:800px;\"></div>            <script type=\"text/javascript\">                require([\"plotly\"], function(Plotly) {                    window.PLOTLYENV=window.PLOTLYENV || {};                                    if (document.getElementById(\"f5000d1e-b098-44ae-afd3-ab1ef02171aa\")) {                    Plotly.newPlot(                        \"f5000d1e-b098-44ae-afd3-ab1ef02171aa\",                        [{\"colorscale\":[[0,\"#FF0000\"],[1,\"#00FF00\"]],\"text\":[[\"  <bos>  \",\"  \\u2581The  \",\"  \\u2581river  \",\"  \\u2581flow  \",\"  ed  \",\"  \\u2581through  \",\"  \\u2581the  \",\"  \\u2581town  \",\"  \\u2581s  \",\"  ank  \",\"  .  \"],[\"  <bos>  \",\"  \\u2581The  \",\"  \\u2581river  \",\"  \\u2581flow  \",\"  ed  \",\"  \\u2581through  \",\"  \\u2581the  \",\"  \\u2581town  \",\"  \\u2581s  \",\"  ank  \",\"  .  \"],[\"  <bos>  \",\"  \\u2581The  \",\"  \\u2581river  \",\"  \\u2581flow  \",\"  ed  \",\"  \\u2581through  \",\"  \\u2581the  \",\"  \\u2581town  \",\"  \\u2581s  \",\"  ank  \",\"  .  \"],[\"  <bos>  \",\"  \\u2581The  \",\"  \\u2581river  \",\"  \\u2581flow  \",\"  ed  \",\"  \\u2581through  \",\"  \\u2581the  \",\"  \\u2581town  \",\"  \\u2581s  \",\"  ank  \",\"  .  \"],[\"  <bos>  \",\"  \\u2581The  \",\"  \\u2581river  \",\"  \\u2581flow  \",\"  ed  \",\"  \\u2581through  \",\"  \\u2581the  \",\"  \\u2581town  \",\"  \\u2581s  \",\"  ank  \",\"  .  \"],[\"  <bos>  \",\"  \\u2581The  \",\"  \\u2581river  \",\"  \\u2581flow  \",\"  ed  \",\"  \\u2581through  \",\"  \\u2581the  \",\"  \\u2581town  \",\"  \\u2581s  \",\"  ank  \",\"  .  \"],[\"  <bos>  \",\"  \\u2581The  \",\"  \\u2581river  \",\"  \\u2581flow  \",\"  ed  \",\"  \\u2581through  \",\"  \\u2581the  \",\"  \\u2581town  \",\"  \\u2581s  \",\"  ank  \",\"  .  \"],[\"  <bos>  \",\"  \\u2581The  \",\"  \\u2581river  \",\"  \\u2581flow  \",\"  ed  \",\"  \\u2581through  \",\"  \\u2581the  \",\"  \\u2581town  \",\"  \\u2581s  \",\"  ank  \",\"  .  \"],[\"  <bos>  \",\"  \\u2581The  \",\"  \\u2581river  \",\"  \\u2581flow  \",\"  ed  \",\"  \\u2581through  \",\"  \\u2581the  \",\"  \\u2581town  \",\"  \\u2581s  \",\"  ank  \",\"  .  \"],[\"  <bos>  \",\"  \\u2581The  \",\"  \\u2581river  \",\"  \\u2581flow  \",\"  ed  \",\"  \\u2581through  \",\"  \\u2581the  \",\"  \\u2581town  \",\"  \\u2581s  \",\"  ank  \",\"  .  \"],[\"  <bos>  \",\"  \\u2581The  \",\"  \\u2581river  \",\"  \\u2581flow  \",\"  ed  \",\"  \\u2581through  \",\"  \\u2581the  \",\"  \\u2581town  \",\"  \\u2581s  \",\"  ank  \",\"  .  \"],[\"  <bos>  \",\"  \\u2581The  \",\"  \\u2581river  \",\"  \\u2581flow  \",\"  ed  \",\"  \\u2581through  \",\"  \\u2581the  \",\"  \\u2581town  \",\"  \\u2581s  \",\"  ank  \",\"  .  \"],[\"  <bos>  \",\"  \\u2581The  \",\"  \\u2581river  \",\"  \\u2581flow  \",\"  ed  \",\"  \\u2581through  \",\"  \\u2581the  \",\"  \\u2581town  \",\"  \\u2581s  \",\"  ank  \",\"  .  \"],[\"  <bos>  \",\"  \\u2581The  \",\"  \\u2581river  \",\"  \\u2581flow  \",\"  ed  \",\"  \\u2581through  \",\"  \\u2581the  \",\"  \\u2581town  \",\"  \\u2581s  \",\"  ank  \",\"  .  \"],[\"  <bos>  \",\"  \\u2581The  \",\"  \\u2581river  \",\"  \\u2581flow  \",\"  ed  \",\"  \\u2581through  \",\"  \\u2581the  \",\"  \\u2581town  \",\"  \\u2581s  \",\"  ank  \",\"  .  \"],[\"  <bos>  \",\"  \\u2581The  \",\"  \\u2581river  \",\"  \\u2581flow  \",\"  ed  \",\"  \\u2581through  \",\"  \\u2581the  \",\"  \\u2581town  \",\"  \\u2581s  \",\"  ank  \",\"  .  \"],[\"  <bos>  \",\"  \\u2581The  \",\"  \\u2581river  \",\"  \\u2581flow  \",\"  ed  \",\"  \\u2581through  \",\"  \\u2581the  \",\"  \\u2581town  \",\"  \\u2581s  \",\"  ank  \",\"  .  \"],[\"  <bos>  \",\"  \\u2581The  \",\"  \\u2581river  \",\"  \\u2581flow  \",\"  ed  \",\"  \\u2581through  \",\"  \\u2581the  \",\"  \\u2581town  \",\"  \\u2581s  \",\"  ank  \",\"  .  \"],[\"  <bos>  \",\"  \\u2581The  \",\"  \\u2581river  \",\"  \\u2581flow  \",\"  ed  \",\"  \\u2581through  \",\"  \\u2581the  \",\"  \\u2581town  \",\"  \\u2581s  \",\"  ank  \",\"  .  \"],[\"  <bos>  \",\"  \\u2581The  \",\"  \\u2581river  \",\"  \\u2581flow  \",\"  ed  \",\"  \\u2581through  \",\"  \\u2581the  \",\"  \\u2581town  \",\"  \\u2581s  \",\"  ank  \",\"  .  \"],[\"  <bos>  \",\"  \\u2581The  \",\"  \\u2581river  \",\"  \\u2581flow  \",\"  ed  \",\"  \\u2581through  \",\"  \\u2581the  \",\"  \\u2581town  \",\"  \\u2581s  \",\"  ank  \",\"  .  \"],[\"  <bos>  \",\"  \\u2581The  \",\"  \\u2581river  \",\"  \\u2581flow  \",\"  ed  \",\"  \\u2581through  \",\"  \\u2581the  \",\"  \\u2581town  \",\"  \\u2581s  \",\"  ank  \",\"  .  \"],[\"  <bos>  \",\"  \\u2581The  \",\"  \\u2581river  \",\"  \\u2581flow  \",\"  ed  \",\"  \\u2581through  \",\"  \\u2581the  \",\"  \\u2581town  \",\"  \\u2581s  \",\"  ank  \",\"  .  \"],[\"  <bos>  \",\"  \\u2581The  \",\"  \\u2581river  \",\"  \\u2581flow  \",\"  ed  \",\"  \\u2581through  \",\"  \\u2581the  \",\"  \\u2581town  \",\"  \\u2581s  \",\"  ank  \",\"  .  \"],[\"  <bos>  \",\"  \\u2581The  \",\"  \\u2581river  \",\"  \\u2581flow  \",\"  ed  \",\"  \\u2581through  \",\"  \\u2581the  \",\"  \\u2581town  \",\"  \\u2581s  \",\"  ank  \",\"  .  \"],[\"  <bos>  \",\"  \\u2581The  \",\"  \\u2581river  \",\"  \\u2581flow  \",\"  ed  \",\"  \\u2581through  \",\"  \\u2581the  \",\"  \\u2581town  \",\"  \\u2581s  \",\"  ank  \",\"  .  \"],[\"  <bos>  \",\"  \\u2581The  \",\"  \\u2581river  \",\"  \\u2581flow  \",\"  ed  \",\"  \\u2581through  \",\"  \\u2581the  \",\"  \\u2581town  \",\"  \\u2581s  \",\"  ank  \",\"  .  \"],[\"  <bos>  \",\"  \\u2581The  \",\"  \\u2581river  \",\"  \\u2581flow  \",\"  ed  \",\"  \\u2581through  \",\"  \\u2581the  \",\"  \\u2581town  \",\"  \\u2581s  \",\"  ank  \",\"  .  \"],[\"  <bos>  \",\"  \\u2581The  \",\"  \\u2581river  \",\"  \\u2581flow  \",\"  ed  \",\"  \\u2581through  \",\"  \\u2581the  \",\"  \\u2581town  \",\"  \\u2581s  \",\"  ank  \",\"  .  \"],[\"  <bos>  \",\"  \\u2581The  \",\"  \\u2581river  \",\"  \\u2581flow  \",\"  ed  \",\"  \\u2581through  \",\"  \\u2581the  \",\"  \\u2581town  \",\"  \\u2581s  \",\"  ank  \",\"  .  \"],[\"  <bos>  \",\"  \\u2581The  \",\"  \\u2581river  \",\"  \\u2581flow  \",\"  ed  \",\"  \\u2581through  \",\"  \\u2581the  \",\"  \\u2581town  \",\"  \\u2581s  \",\"  ank  \",\"  .  \"],[\"  <bos>  \",\"  \\u2581The  \",\"  \\u2581river  \",\"  \\u2581flow  \",\"  ed  \",\"  \\u2581through  \",\"  \\u2581the  \",\"  \\u2581town  \",\"  \\u2581s  \",\"  ank  \",\"  .  \"]],\"textfont\":{\"color\":\"black\",\"size\":12},\"texttemplate\":\"%{text}\",\"z\":[[0.008845187723636627,0.04584826901555061,0.009580103680491447,-0.006180327385663986,0.009135046042501926,-0.012454850599169731,0.13169172406196594,-0.031085064634680748,-0.012087563052773476,-0.027792837470769882,-0.03249766677618027],[-0.15358802676200867,-0.2143976390361786,-0.07663412392139435,-0.05590358376502991,0.011846496723592281,-0.046184901148080826,-0.17234323918819427,0.03344927728176117,-0.006629757583141327,0.05627971142530441,-0.06667986512184143],[0.18735280632972717,0.10437029600143433,0.009789946489036083,0.033345796167850494,0.049686726182699203,0.09477686136960983,0.06239011883735657,-0.0459776297211647,-0.09831263870000839,-0.0934583842754364,-0.00048188993241637945],[23.470369338989258,-0.25134286284446716,-0.22748921811580658,0.024457892403006554,-0.14791886508464813,-0.17287904024124146,-0.37867066264152527,-0.19844970107078552,-0.11349575221538544,-0.15660066902637482,-0.21922233700752258],[5.85875129699707,-0.2104581892490387,-0.14214761555194855,0.23660965263843536,0.03836331143975258,-0.04900934174656868,-0.1386735886335373,0.09957197308540344,-0.0685310885310173,-0.04911103844642639,-0.07317943125963211],[-16.72722625732422,-0.13353614509105682,-0.09703362733125687,-0.39828863739967346,-0.26012077927589417,-0.16221599280834198,-0.06088944897055626,-0.24890872836112976,0.012073519639670849,-0.23256206512451172,-0.15729288756847382],[12.161348342895508,0.2074839323759079,0.25502344965934753,0.08885160833597183,0.46874770522117615,0.23804503679275513,-0.13671205937862396,0.23619012534618378,-0.3724088966846466,0.11161933839321136,0.05950184538960457],[2.064411163330078,0.25377920269966125,0.5616350173950195,0.21751727163791656,0.5958950519561768,0.00882028229534626,-0.09458506107330322,0.3693442940711975,-0.013316958211362362,0.5623763799667358,0.6447095274925232],[-2.1548967361450195,-0.0056199077516794205,-0.04699556902050972,0.07615137845277786,-0.25899797677993774,0.0938989669084549,0.03426118195056915,-0.18310290575027466,-0.22571967542171478,-0.4110602140426636,-0.6816914677619934],[-5.717101097106934,-0.1632382720708847,-0.12115301936864853,-0.1756574958562851,-0.0963730588555336,-0.7488102316856384,-0.057179104536771774,0.049162376672029495,0.18447960913181305,0.5582471489906311,0.5870888233184814],[6.356625556945801,0.5139718651771545,0.8667535781860352,0.3077719509601593,0.2285454422235489,0.6104525327682495,0.4736161231994629,0.4177038371562958,-0.10561291873455048,-0.318158894777298,-0.15969011187553406],[11.614984512329102,0.5209828615188599,0.8019018769264221,0.4927676320075989,0.40630513429641724,0.731975257396698,0.4950627088546753,0.31344205141067505,-0.262540340423584,-0.22766941785812378,0.22154071927070618],[4.872463703155518,0.43086469173431396,0.28844258189201355,0.37590235471725464,0.4716266989707947,0.42406511306762695,0.4362979233264923,0.09648513048887253,-0.15106548368930817,-0.24140602350234985,0.2179807722568512],[-3.228698968887329,0.03501402586698532,-0.27876201272010803,0.37690961360931396,0.26661577820777893,0.4366181492805481,0.5087398290634155,-0.13037045300006866,0.09348256886005402,-0.11154250800609589,-0.013376114889979362],[-1.7535680532455444,-0.5321921110153198,0.25217777490615845,-0.4129311442375183,-0.49167826771736145,-0.4655688405036926,-0.1613558679819107,0.25965049862861633,0.15893453359603882,0.598292350769043,0.43830418586730957],[7.8320207595825195,-0.013683677650988102,0.7646755576133728,-0.02804122492671013,-0.19939033687114716,0.015884896740317345,0.25230738520622253,1.2820430994033813,0.017832547426223755,0.5722910165786743,0.22887292504310608],[-1.3073129653930664,0.6813579797744751,0.557072639465332,0.0434124730527401,-0.25645115971565247,-0.2792968451976776,-0.1090501993894577,0.5793025493621826,-0.09809454530477524,0.4715108871459961,0.3670196235179901],[-9.335840225219727,0.8365377187728882,0.21533256769180298,-0.03301135450601578,0.18362507224082947,0.10010239481925964,-0.14625680446624756,1.3175030946731567,0.5517985224723816,0.733117938041687,0.6179596185684204],[-0.2068636417388916,0.42119643092155457,-0.05017346143722534,-0.46938785910606384,0.3336217999458313,-0.4710238575935364,-0.8702712059020996,1.7038487195968628,-0.23379772901535034,0.9393505454063416,0.9926030039787292],[1.8224728107452393,0.6815730929374695,0.4429195821285248,-0.21763907372951508,0.3370389938354492,0.1397782266139984,0.1137775182723999,2.0443649291992188,0.017246589064598083,1.0563499927520752,1.616541862487793],[-12.254570960998535,-1.9271199703216553,-1.8711364269256592,-1.4743430614471436,-2.30635404586792,-1.267690658569336,-0.7844148278236389,-3.279348373413086,-1.5316424369812012,-1.275795578956604,-2.6875596046447754],[-17.042085647583008,-2.318861246109009,-1.6210395097732544,-1.6567463874816895,-2.5015101432800293,-1.2879849672317505,-1.0344187021255493,-4.38234806060791,-3.1708383560180664,-1.7533013820648193,-3.4569568634033203],[-28.596731185913086,-2.539721965789795,-2.098201036453247,-1.9062002897262573,-1.9847121238708496,-1.344868779182434,-1.0544198751449585,-4.289645195007324,-2.858950138092041,-2.851224660873413,-3.4923040866851807],[-38.951324462890625,-3.1154212951660156,-2.5654773712158203,-1.4483699798583984,-1.6891591548919678,-2.1098315715789795,-2.0704948902130127,-5.016476154327393,-2.6936116218566895,-3.088528871536255,-4.3665666580200195],[-31.798603057861328,-3.6631953716278076,-3.391054391860962,-1.6307071447372437,-2.5801262855529785,-2.4860713481903076,-2.1414635181427,-4.5431342124938965,-3.3289337158203125,-3.849081516265869,-5.979382514953613],[25.593080520629883,4.486544609069824,4.01595401763916,2.293299913406372,2.8213460445404053,2.9009697437286377,3.100036144256592,4.661456108093262,3.986804723739624,4.4072489738464355,6.581887722015381],[-28.949676513671875,-4.922211170196533,-3.1170494556427,-1.9877653121948242,-3.3701062202453613,-2.8635177612304688,-3.5829646587371826,-3.7786335945129395,-3.695138692855835,-5.5470356941223145,-7.131625175476074],[31.209741592407227,4.631700038909912,3.003020763397217,1.1927359104156494,3.7379307746887207,3.41060733795166,3.9320228099823,3.7323217391967773,2.603285789489746,6.219438076019287,7.251823902130127],[-34.25849914550781,-5.071702480316162,-3.887622833251953,-2.090970039367676,-3.023550271987915,-3.8190693855285645,-3.734570026397705,-2.925957441329956,-2.3000998497009277,-6.625279903411865,-7.515243053436279],[-47.07886505126953,-5.442872047424316,-3.7807254791259766,-1.4011120796203613,-2.3891191482543945,-3.732668876647949,-3.256251335144043,-4.1620025634765625,-3.0330512523651123,-6.95709753036499,-8.923751831054688],[-45.61503982543945,-5.242952346801758,-4.0337748527526855,-1.91387140750885,-2.509673595428467,-4.163494110107422,-3.485584259033203,-5.296824932098389,-3.260197639465332,-6.600366592407227,-10.086231231689453],[0.17738297581672668,-6.205224514007568,-4.317226886749268,-2.625059127807617,-3.470083713531494,-5.684490203857422,-3.59550142288208,-6.56257438659668,-4.644586563110352,-8.404958724975586,-10.28370475769043]],\"type\":\"heatmap\"}],                        {\"height\":800,\"sliders\":[{\"active\":5,\"currentvalue\":{\"prefix\":\"Step: \"},\"len\":0.9,\"pad\":{\"t\":50},\"steps\":[{\"args\":[{\"visible\":[true,true,true,true,true,true,true,true,true,true,true]},{\"title\":\"Credences for Input Tokens\",\"xaxis\":{\"tickvals\":[0,1,2,3,4,5,6,7,8,9,10],\"ticktext\":[\"<bos>\",\"\\u2581The\",\"\\u2581river\",\"\\u2581flow\",\"ed\",\"\\u2581through\",\"\\u2581the\",\"\\u2581town\",\"\\u2581s\",\"ank\",\".\"],\"tickangle\":45},\"annotations\":[]}],\"method\":\"update\"}],\"visible\":true}],\"template\":{\"data\":{\"barpolar\":[{\"marker\":{\"line\":{\"color\":\"#E5ECF6\",\"width\":0.5},\"pattern\":{\"fillmode\":\"overlay\",\"size\":10,\"solidity\":0.2}},\"type\":\"barpolar\"}],\"bar\":[{\"error_x\":{\"color\":\"#2a3f5f\"},\"error_y\":{\"color\":\"#2a3f5f\"},\"marker\":{\"line\":{\"color\":\"#E5ECF6\",\"width\":0.5},\"pattern\":{\"fillmode\":\"overlay\",\"size\":10,\"solidity\":0.2}},\"type\":\"bar\"}],\"carpet\":[{\"aaxis\":{\"endlinecolor\":\"#2a3f5f\",\"gridcolor\":\"white\",\"linecolor\":\"white\",\"minorgridcolor\":\"white\",\"startlinecolor\":\"#2a3f5f\"},\"baxis\":{\"endlinecolor\":\"#2a3f5f\",\"gridcolor\":\"white\",\"linecolor\":\"white\",\"minorgridcolor\":\"white\",\"startlinecolor\":\"#2a3f5f\"},\"type\":\"carpet\"}],\"choropleth\":[{\"colorbar\":{\"outlinewidth\":0,\"ticks\":\"\"},\"type\":\"choropleth\"}],\"contourcarpet\":[{\"colorbar\":{\"outlinewidth\":0,\"ticks\":\"\"},\"type\":\"contourcarpet\"}],\"contour\":[{\"colorbar\":{\"outlinewidth\":0,\"ticks\":\"\"},\"colorscale\":[[0.0,\"#0d0887\"],[0.1111111111111111,\"#46039f\"],[0.2222222222222222,\"#7201a8\"],[0.3333333333333333,\"#9c179e\"],[0.4444444444444444,\"#bd3786\"],[0.5555555555555556,\"#d8576b\"],[0.6666666666666666,\"#ed7953\"],[0.7777777777777778,\"#fb9f3a\"],[0.8888888888888888,\"#fdca26\"],[1.0,\"#f0f921\"]],\"type\":\"contour\"}],\"heatmapgl\":[{\"colorbar\":{\"outlinewidth\":0,\"ticks\":\"\"},\"colorscale\":[[0.0,\"#0d0887\"],[0.1111111111111111,\"#46039f\"],[0.2222222222222222,\"#7201a8\"],[0.3333333333333333,\"#9c179e\"],[0.4444444444444444,\"#bd3786\"],[0.5555555555555556,\"#d8576b\"],[0.6666666666666666,\"#ed7953\"],[0.7777777777777778,\"#fb9f3a\"],[0.8888888888888888,\"#fdca26\"],[1.0,\"#f0f921\"]],\"type\":\"heatmapgl\"}],\"heatmap\":[{\"colorbar\":{\"outlinewidth\":0,\"ticks\":\"\"},\"colorscale\":[[0.0,\"#0d0887\"],[0.1111111111111111,\"#46039f\"],[0.2222222222222222,\"#7201a8\"],[0.3333333333333333,\"#9c179e\"],[0.4444444444444444,\"#bd3786\"],[0.5555555555555556,\"#d8576b\"],[0.6666666666666666,\"#ed7953\"],[0.7777777777777778,\"#fb9f3a\"],[0.8888888888888888,\"#fdca26\"],[1.0,\"#f0f921\"]],\"type\":\"heatmap\"}],\"histogram2dcontour\":[{\"colorbar\":{\"outlinewidth\":0,\"ticks\":\"\"},\"colorscale\":[[0.0,\"#0d0887\"],[0.1111111111111111,\"#46039f\"],[0.2222222222222222,\"#7201a8\"],[0.3333333333333333,\"#9c179e\"],[0.4444444444444444,\"#bd3786\"],[0.5555555555555556,\"#d8576b\"],[0.6666666666666666,\"#ed7953\"],[0.7777777777777778,\"#fb9f3a\"],[0.8888888888888888,\"#fdca26\"],[1.0,\"#f0f921\"]],\"type\":\"histogram2dcontour\"}],\"histogram2d\":[{\"colorbar\":{\"outlinewidth\":0,\"ticks\":\"\"},\"colorscale\":[[0.0,\"#0d0887\"],[0.1111111111111111,\"#46039f\"],[0.2222222222222222,\"#7201a8\"],[0.3333333333333333,\"#9c179e\"],[0.4444444444444444,\"#bd3786\"],[0.5555555555555556,\"#d8576b\"],[0.6666666666666666,\"#ed7953\"],[0.7777777777777778,\"#fb9f3a\"],[0.8888888888888888,\"#fdca26\"],[1.0,\"#f0f921\"]],\"type\":\"histogram2d\"}],\"histogram\":[{\"marker\":{\"pattern\":{\"fillmode\":\"overlay\",\"size\":10,\"solidity\":0.2}},\"type\":\"histogram\"}],\"mesh3d\":[{\"colorbar\":{\"outlinewidth\":0,\"ticks\":\"\"},\"type\":\"mesh3d\"}],\"parcoords\":[{\"line\":{\"colorbar\":{\"outlinewidth\":0,\"ticks\":\"\"}},\"type\":\"parcoords\"}],\"pie\":[{\"automargin\":true,\"type\":\"pie\"}],\"scatter3d\":[{\"line\":{\"colorbar\":{\"outlinewidth\":0,\"ticks\":\"\"}},\"marker\":{\"colorbar\":{\"outlinewidth\":0,\"ticks\":\"\"}},\"type\":\"scatter3d\"}],\"scattercarpet\":[{\"marker\":{\"colorbar\":{\"outlinewidth\":0,\"ticks\":\"\"}},\"type\":\"scattercarpet\"}],\"scattergeo\":[{\"marker\":{\"colorbar\":{\"outlinewidth\":0,\"ticks\":\"\"}},\"type\":\"scattergeo\"}],\"scattergl\":[{\"marker\":{\"colorbar\":{\"outlinewidth\":0,\"ticks\":\"\"}},\"type\":\"scattergl\"}],\"scattermapbox\":[{\"marker\":{\"colorbar\":{\"outlinewidth\":0,\"ticks\":\"\"}},\"type\":\"scattermapbox\"}],\"scatterpolargl\":[{\"marker\":{\"colorbar\":{\"outlinewidth\":0,\"ticks\":\"\"}},\"type\":\"scatterpolargl\"}],\"scatterpolar\":[{\"marker\":{\"colorbar\":{\"outlinewidth\":0,\"ticks\":\"\"}},\"type\":\"scatterpolar\"}],\"scatter\":[{\"fillpattern\":{\"fillmode\":\"overlay\",\"size\":10,\"solidity\":0.2},\"type\":\"scatter\"}],\"scatterternary\":[{\"marker\":{\"colorbar\":{\"outlinewidth\":0,\"ticks\":\"\"}},\"type\":\"scatterternary\"}],\"surface\":[{\"colorbar\":{\"outlinewidth\":0,\"ticks\":\"\"},\"colorscale\":[[0.0,\"#0d0887\"],[0.1111111111111111,\"#46039f\"],[0.2222222222222222,\"#7201a8\"],[0.3333333333333333,\"#9c179e\"],[0.4444444444444444,\"#bd3786\"],[0.5555555555555556,\"#d8576b\"],[0.6666666666666666,\"#ed7953\"],[0.7777777777777778,\"#fb9f3a\"],[0.8888888888888888,\"#fdca26\"],[1.0,\"#f0f921\"]],\"type\":\"surface\"}],\"table\":[{\"cells\":{\"fill\":{\"color\":\"#EBF0F8\"},\"line\":{\"color\":\"white\"}},\"header\":{\"fill\":{\"color\":\"#C8D4E3\"},\"line\":{\"color\":\"white\"}},\"type\":\"table\"}]},\"layout\":{\"annotationdefaults\":{\"arrowcolor\":\"#2a3f5f\",\"arrowhead\":0,\"arrowwidth\":1},\"autotypenumbers\":\"strict\",\"coloraxis\":{\"colorbar\":{\"outlinewidth\":0,\"ticks\":\"\"}},\"colorscale\":{\"diverging\":[[0,\"#8e0152\"],[0.1,\"#c51b7d\"],[0.2,\"#de77ae\"],[0.3,\"#f1b6da\"],[0.4,\"#fde0ef\"],[0.5,\"#f7f7f7\"],[0.6,\"#e6f5d0\"],[0.7,\"#b8e186\"],[0.8,\"#7fbc41\"],[0.9,\"#4d9221\"],[1,\"#276419\"]],\"sequential\":[[0.0,\"#0d0887\"],[0.1111111111111111,\"#46039f\"],[0.2222222222222222,\"#7201a8\"],[0.3333333333333333,\"#9c179e\"],[0.4444444444444444,\"#bd3786\"],[0.5555555555555556,\"#d8576b\"],[0.6666666666666666,\"#ed7953\"],[0.7777777777777778,\"#fb9f3a\"],[0.8888888888888888,\"#fdca26\"],[1.0,\"#f0f921\"]],\"sequentialminus\":[[0.0,\"#0d0887\"],[0.1111111111111111,\"#46039f\"],[0.2222222222222222,\"#7201a8\"],[0.3333333333333333,\"#9c179e\"],[0.4444444444444444,\"#bd3786\"],[0.5555555555555556,\"#d8576b\"],[0.6666666666666666,\"#ed7953\"],[0.7777777777777778,\"#fb9f3a\"],[0.8888888888888888,\"#fdca26\"],[1.0,\"#f0f921\"]]},\"colorway\":[\"#636efa\",\"#EF553B\",\"#00cc96\",\"#ab63fa\",\"#FFA15A\",\"#19d3f3\",\"#FF6692\",\"#B6E880\",\"#FF97FF\",\"#FECB52\"],\"font\":{\"color\":\"#2a3f5f\"},\"geo\":{\"bgcolor\":\"white\",\"lakecolor\":\"white\",\"landcolor\":\"#E5ECF6\",\"showlakes\":true,\"showland\":true,\"subunitcolor\":\"white\"},\"hoverlabel\":{\"align\":\"left\"},\"hovermode\":\"closest\",\"mapbox\":{\"style\":\"light\"},\"paper_bgcolor\":\"white\",\"plot_bgcolor\":\"#E5ECF6\",\"polar\":{\"angularaxis\":{\"gridcolor\":\"white\",\"linecolor\":\"white\",\"ticks\":\"\"},\"bgcolor\":\"#E5ECF6\",\"radialaxis\":{\"gridcolor\":\"white\",\"linecolor\":\"white\",\"ticks\":\"\"}},\"scene\":{\"xaxis\":{\"backgroundcolor\":\"#E5ECF6\",\"gridcolor\":\"white\",\"gridwidth\":2,\"linecolor\":\"white\",\"showbackground\":true,\"ticks\":\"\",\"zerolinecolor\":\"white\"},\"yaxis\":{\"backgroundcolor\":\"#E5ECF6\",\"gridcolor\":\"white\",\"gridwidth\":2,\"linecolor\":\"white\",\"showbackground\":true,\"ticks\":\"\",\"zerolinecolor\":\"white\"},\"zaxis\":{\"backgroundcolor\":\"#E5ECF6\",\"gridcolor\":\"white\",\"gridwidth\":2,\"linecolor\":\"white\",\"showbackground\":true,\"ticks\":\"\",\"zerolinecolor\":\"white\"}},\"shapedefaults\":{\"line\":{\"color\":\"#2a3f5f\"}},\"ternary\":{\"aaxis\":{\"gridcolor\":\"white\",\"linecolor\":\"white\",\"ticks\":\"\"},\"baxis\":{\"gridcolor\":\"white\",\"linecolor\":\"white\",\"ticks\":\"\"},\"bgcolor\":\"#E5ECF6\",\"caxis\":{\"gridcolor\":\"white\",\"linecolor\":\"white\",\"ticks\":\"\"}},\"title\":{\"x\":0.05},\"xaxis\":{\"automargin\":true,\"gridcolor\":\"white\",\"linecolor\":\"white\",\"ticks\":\"\",\"title\":{\"standoff\":15},\"zerolinecolor\":\"white\",\"zerolinewidth\":2},\"yaxis\":{\"automargin\":true,\"gridcolor\":\"white\",\"linecolor\":\"white\",\"ticks\":\"\",\"title\":{\"standoff\":15},\"zerolinecolor\":\"white\",\"zerolinewidth\":2}}},\"title\":{\"text\":\"Credences for Input Tokens\"},\"width\":800,\"xaxis\":{\"tickangle\":45,\"ticktext\":[\"<bos>\",\"\\u2581The\",\"\\u2581river\",\"\\u2581flow\",\"ed\",\"\\u2581through\",\"\\u2581the\",\"\\u2581town\",\"\\u2581s\",\"ank\",\".\"],\"tickvals\":[0,1,2,3,4,5,6,7,8,9,10]}},                        {\"responsive\": true}                    ).then(function(){\n",
       "                            \n",
       "var gd = document.getElementById('f5000d1e-b098-44ae-afd3-ab1ef02171aa');\n",
       "var x = new MutationObserver(function (mutations, observer) {{\n",
       "        var display = window.getComputedStyle(gd).display;\n",
       "        if (!display || display === 'none') {{\n",
       "            console.log([gd, 'removed!']);\n",
       "            Plotly.purge(gd);\n",
       "            observer.disconnect();\n",
       "        }}\n",
       "}});\n",
       "\n",
       "// Listen for the removal of the full notebook cells\n",
       "var notebookContainer = gd.closest('#notebook-container');\n",
       "if (notebookContainer) {{\n",
       "    x.observe(notebookContainer, {childList: true});\n",
       "}}\n",
       "\n",
       "// Listen for the clearing of the current output cell\n",
       "var outputEl = gd.closest('.output');\n",
       "if (outputEl) {{\n",
       "    x.observe(outputEl, {childList: true});\n",
       "}}\n",
       "\n",
       "                        })                };                });            </script>        </div>"
      ]
     },
     "metadata": {},
     "output_type": "display_data"
    }
   ],
   "source": [
    "def display_credences_list(credences_list, display=\"words\"):\n",
    "\n",
    "    fig_list = []\n",
    "    \n",
    "    for i, (credences, input_tokens) in enumerate(credences_list.values()):\n",
    "\n",
    "        padded_text = np.array([[\" \" * 2 + \"{:.2f}\".format(value) + \" \" * 2 for value in row] for row in credences])\n",
    "        words_corresponding_to_credences = np.array([[\" \" * 2 + word + \" \" * 2 for word in input_tokens] for layer_num in range(len(credences))])\n",
    "\n",
    "        # Create plotly heatmap\n",
    "        heatmap = go.Heatmap(\n",
    "            z=credences, \n",
    "            colorscale=color_scale,\n",
    "            text=words_corresponding_to_credences if display == \"words\" else padded_text,  # Set the text to be equal to z\n",
    "            texttemplate=\"%{text}\", \n",
    "            textfont=dict(color='black', size=12),  # Set the text color and size\n",
    "        )\n",
    "\n",
    "        # Create plot layout\n",
    "        # slider slides between input tokens\n",
    "        layout = go.Layout(title='Credences for Input Tokens'.format(i),\n",
    "                        width=800,  # Set the width of the plot\n",
    "                        height=800,  # Set the height of the plot\n",
    "                        xaxis=dict(tickvals=list(range(len(input_tokens))),\n",
    "                                    ticktext=input_tokens,\n",
    "                                    tickangle=45),\n",
    "                        sliders=[dict(\n",
    "                                visible=True,\n",
    "                                # steps needs to update the tokens and credences\n",
    "                                steps=[dict(method='update',\n",
    "                                            args=[{'visible': [True] * len(input_tokens)},\n",
    "                                                {'title': 'Credences for Input Tokens'.format(i),\n",
    "                                                'xaxis': {'tickvals': list(range(len(input_tokens))),\n",
    "                                                            'ticktext': input_tokens,\n",
    "                                                            'tickangle': 45},\n",
    "                                                'annotations': []}])],\n",
    "                                                \n",
    "                                active=i,\n",
    "                                currentvalue={\"prefix\": \"Step: \"},\n",
    "                                pad={\"t\": 50},\n",
    "                                len=0.9,\n",
    "                            )])\n",
    "\n",
    "        # Create plotly figure\n",
    "        fig = go.Figure(data=[heatmap], layout=layout)\n",
    "        fig_list.append(fig)\n",
    "\n",
    "    # Display plotly figures\n",
    "    iplot(fig_list[0])\n",
    "    if len(fig_list) > 1:\n",
    "        for fig in fig_list[1:]:\n",
    "            iplot(fig)\n",
    "\n",
    "display_credences_list(d, display=\"words\")\n"
   ]
  },
  {
   "cell_type": "code",
   "execution_count": 33,
   "metadata": {},
   "outputs": [
    {
     "name": "stderr",
     "output_type": "stream",
     "text": [
      "/tmp/ipykernel_2244728/2423548905.py:1: DeprecationWarning:\n",
      "\n",
      "Importing display from IPython.core.display is deprecated since IPython 7.14, please import from IPython display\n",
      "\n"
     ]
    },
    {
     "data": {
      "text/html": [
       "\n",
       "    <div style=\"display: inline-block;\n",
       "                margin: 0px 1px;\n",
       "                color: black;\n",
       "                padding: 1px;\n",
       "                background-color: hsl(0, 100%, 70%);\n",
       "                text-align: center;\n",
       "                white-space: nowrap;\">apple\n",
       "</div>\n",
       "    \n",
       "    <div style=\"display: inline-block;\n",
       "                margin: 0px 1px;\n",
       "                color: black;\n",
       "                padding: 1px;\n",
       "                background-color: hsl(62, 100%, 70%);\n",
       "                text-align: center;\n",
       "                white-space: nowrap;\">banana\n",
       "</div>\n",
       "    \n",
       "    <div style=\"display: inline-block;\n",
       "                margin: 0px 1px;\n",
       "                color: black;\n",
       "                padding: 1px;\n",
       "                background-color: hsl(125, 100%, 70%);\n",
       "                text-align: center;\n",
       "                white-space: nowrap;\">cherry\n",
       "</div>\n",
       "    \n",
       "    <div style=\"display: inline-block;\n",
       "                margin: 0px 1px;\n",
       "                color: black;\n",
       "                padding: 1px;\n",
       "                background-color: hsl(20, 100%, 70%);\n",
       "                text-align: center;\n",
       "                white-space: nowrap;\">orange\n",
       "</div>\n",
       "    \n",
       "    <div style=\"display: inline-block;\n",
       "                margin: 0px 1px;\n",
       "                color: black;\n",
       "                padding: 1px;\n",
       "                background-color: hsl(83, 100%, 70%);\n",
       "                text-align: center;\n",
       "                white-space: nowrap;\">pear\n",
       "</div>\n",
       "    "
      ],
      "text/plain": [
       "<IPython.core.display.HTML object>"
      ]
     },
     "metadata": {},
     "output_type": "display_data"
    }
   ],
   "source": [
    "from IPython.core.display import display, HTML\n",
    "\n",
    "def generate_word_cloud(words, scores):\n",
    "    # Define the HTML template for the word cloud\n",
    "    html_template = \"\"\"\n",
    "    <div style=\"display: inline-block;\n",
    "                margin: 0px 1px;\n",
    "                color: black;\n",
    "                padding: 1px;\n",
    "                background-color: hsl({}, 100%, 70%);\n",
    "                text-align: center;\n",
    "                white-space: nowrap;\">{}\n",
    "</div>\n",
    "    \"\"\"\n",
    "    # Define the maximum and minimum scores\n",
    "    max_score = max(scores)\n",
    "    min_score = min(scores)\n",
    "    # Generate the HTML for each word using the scores to determine the hue\n",
    "    html_words = [html_template.format(int((score - min_score)/(max_score - min_score) * 125), word) for word, score in zip(words, scores)]\n",
    "    # Join the HTML for all the words into a single string\n",
    "    word_cloud_html = \"\".join(html_words)\n",
    "    # Display the word cloud\n",
    "    display(HTML(word_cloud_html))\n",
    "\n",
    "words = [\"apple\", \"banana\", \"cherry\", \"orange\", \"pear\"]\n",
    "scores = [0.2, 0.5, 0.8, 0.3, 0.6]\n",
    "generate_word_cloud(words, scores)\n",
    "\n",
    "\n"
   ]
  },
  {
   "cell_type": "code",
   "execution_count": 78,
   "metadata": {},
   "outputs": [
    {
     "name": "stdout",
     "output_type": "stream",
     "text": [
      "layer -5\n"
     ]
    },
    {
     "data": {
      "text/html": [
       "\n",
       "    <div style=\"display: inline-block;\n",
       "                margin: 0px 1px;\n",
       "                color: black;\n",
       "                padding: 1px;\n",
       "                background-color: hsl(125, 100%, 70%);\n",
       "                text-align: center;\n",
       "                white-space: nowrap;\"><bos>\n",
       "</div>\n",
       "    \n",
       "    <div style=\"display: inline-block;\n",
       "                margin: 0px 1px;\n",
       "                color: black;\n",
       "                padding: 1px;\n",
       "                background-color: hsl(19, 100%, 70%);\n",
       "                text-align: center;\n",
       "                white-space: nowrap;\">▁The\n",
       "</div>\n",
       "    \n",
       "    <div style=\"display: inline-block;\n",
       "                margin: 0px 1px;\n",
       "                color: black;\n",
       "                padding: 1px;\n",
       "                background-color: hsl(9, 100%, 70%);\n",
       "                text-align: center;\n",
       "                white-space: nowrap;\">▁horse\n",
       "</div>\n",
       "    \n",
       "    <div style=\"display: inline-block;\n",
       "                margin: 0px 1px;\n",
       "                color: black;\n",
       "                padding: 1px;\n",
       "                background-color: hsl(1, 100%, 70%);\n",
       "                text-align: center;\n",
       "                white-space: nowrap;\">▁rac\n",
       "</div>\n",
       "    \n",
       "    <div style=\"display: inline-block;\n",
       "                margin: 0px 1px;\n",
       "                color: black;\n",
       "                padding: 1px;\n",
       "                background-color: hsl(2, 100%, 70%);\n",
       "                text-align: center;\n",
       "                white-space: nowrap;\">ed\n",
       "</div>\n",
       "    \n",
       "    <div style=\"display: inline-block;\n",
       "                margin: 0px 1px;\n",
       "                color: black;\n",
       "                padding: 1px;\n",
       "                background-color: hsl(11, 100%, 70%);\n",
       "                text-align: center;\n",
       "                white-space: nowrap;\">▁past\n",
       "</div>\n",
       "    \n",
       "    <div style=\"display: inline-block;\n",
       "                margin: 0px 1px;\n",
       "                color: black;\n",
       "                padding: 1px;\n",
       "                background-color: hsl(0, 100%, 70%);\n",
       "                text-align: center;\n",
       "                white-space: nowrap;\">▁the\n",
       "</div>\n",
       "    \n",
       "    <div style=\"display: inline-block;\n",
       "                margin: 0px 1px;\n",
       "                color: black;\n",
       "                padding: 1px;\n",
       "                background-color: hsl(7, 100%, 70%);\n",
       "                text-align: center;\n",
       "                white-space: nowrap;\">▁bar\n",
       "</div>\n",
       "    \n",
       "    <div style=\"display: inline-block;\n",
       "                margin: 0px 1px;\n",
       "                color: black;\n",
       "                padding: 1px;\n",
       "                background-color: hsl(8, 100%, 70%);\n",
       "                text-align: center;\n",
       "                white-space: nowrap;\">n\n",
       "</div>\n",
       "    \n",
       "    <div style=\"display: inline-block;\n",
       "                margin: 0px 1px;\n",
       "                color: black;\n",
       "                padding: 1px;\n",
       "                background-color: hsl(18, 100%, 70%);\n",
       "                text-align: center;\n",
       "                white-space: nowrap;\">▁fell\n",
       "</div>\n",
       "    \n",
       "    <div style=\"display: inline-block;\n",
       "                margin: 0px 1px;\n",
       "                color: black;\n",
       "                padding: 1px;\n",
       "                background-color: hsl(26, 100%, 70%);\n",
       "                text-align: center;\n",
       "                white-space: nowrap;\">.\n",
       "</div>\n",
       "    "
      ],
      "text/plain": [
       "<IPython.core.display.HTML object>"
      ]
     },
     "metadata": {},
     "output_type": "display_data"
    },
    {
     "data": {
      "text/html": [
       "\n",
       "    <div style=\"display: inline-block;\n",
       "                margin: 0px 1px;\n",
       "                color: black;\n",
       "                padding: 1px;\n",
       "                background-color: hsl(0, 100%, 70%);\n",
       "                text-align: center;\n",
       "                white-space: nowrap;\"><bos>\n",
       "</div>\n",
       "    \n",
       "    <div style=\"display: inline-block;\n",
       "                margin: 0px 1px;\n",
       "                color: black;\n",
       "                padding: 1px;\n",
       "                background-color: hsl(104, 100%, 70%);\n",
       "                text-align: center;\n",
       "                white-space: nowrap;\">▁The\n",
       "</div>\n",
       "    \n",
       "    <div style=\"display: inline-block;\n",
       "                margin: 0px 1px;\n",
       "                color: black;\n",
       "                padding: 1px;\n",
       "                background-color: hsl(114, 100%, 70%);\n",
       "                text-align: center;\n",
       "                white-space: nowrap;\">▁horse\n",
       "</div>\n",
       "    \n",
       "    <div style=\"display: inline-block;\n",
       "                margin: 0px 1px;\n",
       "                color: black;\n",
       "                padding: 1px;\n",
       "                background-color: hsl(125, 100%, 70%);\n",
       "                text-align: center;\n",
       "                white-space: nowrap;\">▁rac\n",
       "</div>\n",
       "    \n",
       "    <div style=\"display: inline-block;\n",
       "                margin: 0px 1px;\n",
       "                color: black;\n",
       "                padding: 1px;\n",
       "                background-color: hsl(121, 100%, 70%);\n",
       "                text-align: center;\n",
       "                white-space: nowrap;\">ed\n",
       "</div>\n",
       "    \n",
       "    <div style=\"display: inline-block;\n",
       "                margin: 0px 1px;\n",
       "                color: black;\n",
       "                padding: 1px;\n",
       "                background-color: hsl(113, 100%, 70%);\n",
       "                text-align: center;\n",
       "                white-space: nowrap;\">▁past\n",
       "</div>\n",
       "    \n",
       "    <div style=\"display: inline-block;\n",
       "                margin: 0px 1px;\n",
       "                color: black;\n",
       "                padding: 1px;\n",
       "                background-color: hsl(124, 100%, 70%);\n",
       "                text-align: center;\n",
       "                white-space: nowrap;\">▁the\n",
       "</div>\n",
       "    \n",
       "    <div style=\"display: inline-block;\n",
       "                margin: 0px 1px;\n",
       "                color: black;\n",
       "                padding: 1px;\n",
       "                background-color: hsl(118, 100%, 70%);\n",
       "                text-align: center;\n",
       "                white-space: nowrap;\">▁bar\n",
       "</div>\n",
       "    \n",
       "    <div style=\"display: inline-block;\n",
       "                margin: 0px 1px;\n",
       "                color: black;\n",
       "                padding: 1px;\n",
       "                background-color: hsl(116, 100%, 70%);\n",
       "                text-align: center;\n",
       "                white-space: nowrap;\">n\n",
       "</div>\n",
       "    \n",
       "    <div style=\"display: inline-block;\n",
       "                margin: 0px 1px;\n",
       "                color: black;\n",
       "                padding: 1px;\n",
       "                background-color: hsl(103, 100%, 70%);\n",
       "                text-align: center;\n",
       "                white-space: nowrap;\">▁fell\n",
       "</div>\n",
       "    \n",
       "    <div style=\"display: inline-block;\n",
       "                margin: 0px 1px;\n",
       "                color: black;\n",
       "                padding: 1px;\n",
       "                background-color: hsl(96, 100%, 70%);\n",
       "                text-align: center;\n",
       "                white-space: nowrap;\">.\n",
       "</div>\n",
       "    "
      ],
      "text/plain": [
       "<IPython.core.display.HTML object>"
      ]
     },
     "metadata": {},
     "output_type": "display_data"
    },
    {
     "data": {
      "text/html": [
       "\n",
       "    <div style=\"display: inline-block;\n",
       "                margin: 0px 1px;\n",
       "                color: black;\n",
       "                padding: 1px;\n",
       "                background-color: hsl(125, 100%, 70%);\n",
       "                text-align: center;\n",
       "                white-space: nowrap;\"><bos>\n",
       "</div>\n",
       "    \n",
       "    <div style=\"display: inline-block;\n",
       "                margin: 0px 1px;\n",
       "                color: black;\n",
       "                padding: 1px;\n",
       "                background-color: hsl(21, 100%, 70%);\n",
       "                text-align: center;\n",
       "                white-space: nowrap;\">▁The\n",
       "</div>\n",
       "    \n",
       "    <div style=\"display: inline-block;\n",
       "                margin: 0px 1px;\n",
       "                color: black;\n",
       "                padding: 1px;\n",
       "                background-color: hsl(11, 100%, 70%);\n",
       "                text-align: center;\n",
       "                white-space: nowrap;\">▁horse\n",
       "</div>\n",
       "    \n",
       "    <div style=\"display: inline-block;\n",
       "                margin: 0px 1px;\n",
       "                color: black;\n",
       "                padding: 1px;\n",
       "                background-color: hsl(0, 100%, 70%);\n",
       "                text-align: center;\n",
       "                white-space: nowrap;\">▁rac\n",
       "</div>\n",
       "    \n",
       "    <div style=\"display: inline-block;\n",
       "                margin: 0px 1px;\n",
       "                color: black;\n",
       "                padding: 1px;\n",
       "                background-color: hsl(6, 100%, 70%);\n",
       "                text-align: center;\n",
       "                white-space: nowrap;\">ed\n",
       "</div>\n",
       "    \n",
       "    <div style=\"display: inline-block;\n",
       "                margin: 0px 1px;\n",
       "                color: black;\n",
       "                padding: 1px;\n",
       "                background-color: hsl(13, 100%, 70%);\n",
       "                text-align: center;\n",
       "                white-space: nowrap;\">▁past\n",
       "</div>\n",
       "    \n",
       "    <div style=\"display: inline-block;\n",
       "                margin: 0px 1px;\n",
       "                color: black;\n",
       "                padding: 1px;\n",
       "                background-color: hsl(5, 100%, 70%);\n",
       "                text-align: center;\n",
       "                white-space: nowrap;\">▁the\n",
       "</div>\n",
       "    \n",
       "    <div style=\"display: inline-block;\n",
       "                margin: 0px 1px;\n",
       "                color: black;\n",
       "                padding: 1px;\n",
       "                background-color: hsl(4, 100%, 70%);\n",
       "                text-align: center;\n",
       "                white-space: nowrap;\">▁bar\n",
       "</div>\n",
       "    \n",
       "    <div style=\"display: inline-block;\n",
       "                margin: 0px 1px;\n",
       "                color: black;\n",
       "                padding: 1px;\n",
       "                background-color: hsl(4, 100%, 70%);\n",
       "                text-align: center;\n",
       "                white-space: nowrap;\">n\n",
       "</div>\n",
       "    \n",
       "    <div style=\"display: inline-block;\n",
       "                margin: 0px 1px;\n",
       "                color: black;\n",
       "                padding: 1px;\n",
       "                background-color: hsl(19, 100%, 70%);\n",
       "                text-align: center;\n",
       "                white-space: nowrap;\">▁fell\n",
       "</div>\n",
       "    \n",
       "    <div style=\"display: inline-block;\n",
       "                margin: 0px 1px;\n",
       "                color: black;\n",
       "                padding: 1px;\n",
       "                background-color: hsl(32, 100%, 70%);\n",
       "                text-align: center;\n",
       "                white-space: nowrap;\">.\n",
       "</div>\n",
       "    "
      ],
      "text/plain": [
       "<IPython.core.display.HTML object>"
      ]
     },
     "metadata": {},
     "output_type": "display_data"
    },
    {
     "data": {
      "text/html": [
       "\n",
       "    <div style=\"display: inline-block;\n",
       "                margin: 0px 1px;\n",
       "                color: black;\n",
       "                padding: 1px;\n",
       "                background-color: hsl(0, 100%, 70%);\n",
       "                text-align: center;\n",
       "                white-space: nowrap;\"><bos>\n",
       "</div>\n",
       "    \n",
       "    <div style=\"display: inline-block;\n",
       "                margin: 0px 1px;\n",
       "                color: black;\n",
       "                padding: 1px;\n",
       "                background-color: hsl(105, 100%, 70%);\n",
       "                text-align: center;\n",
       "                white-space: nowrap;\">▁The\n",
       "</div>\n",
       "    \n",
       "    <div style=\"display: inline-block;\n",
       "                margin: 0px 1px;\n",
       "                color: black;\n",
       "                padding: 1px;\n",
       "                background-color: hsl(114, 100%, 70%);\n",
       "                text-align: center;\n",
       "                white-space: nowrap;\">▁horse\n",
       "</div>\n",
       "    \n",
       "    <div style=\"display: inline-block;\n",
       "                margin: 0px 1px;\n",
       "                color: black;\n",
       "                padding: 1px;\n",
       "                background-color: hsl(125, 100%, 70%);\n",
       "                text-align: center;\n",
       "                white-space: nowrap;\">▁rac\n",
       "</div>\n",
       "    \n",
       "    <div style=\"display: inline-block;\n",
       "                margin: 0px 1px;\n",
       "                color: black;\n",
       "                padding: 1px;\n",
       "                background-color: hsl(120, 100%, 70%);\n",
       "                text-align: center;\n",
       "                white-space: nowrap;\">ed\n",
       "</div>\n",
       "    \n",
       "    <div style=\"display: inline-block;\n",
       "                margin: 0px 1px;\n",
       "                color: black;\n",
       "                padding: 1px;\n",
       "                background-color: hsl(112, 100%, 70%);\n",
       "                text-align: center;\n",
       "                white-space: nowrap;\">▁past\n",
       "</div>\n",
       "    \n",
       "    <div style=\"display: inline-block;\n",
       "                margin: 0px 1px;\n",
       "                color: black;\n",
       "                padding: 1px;\n",
       "                background-color: hsl(121, 100%, 70%);\n",
       "                text-align: center;\n",
       "                white-space: nowrap;\">▁the\n",
       "</div>\n",
       "    \n",
       "    <div style=\"display: inline-block;\n",
       "                margin: 0px 1px;\n",
       "                color: black;\n",
       "                padding: 1px;\n",
       "                background-color: hsl(121, 100%, 70%);\n",
       "                text-align: center;\n",
       "                white-space: nowrap;\">▁bar\n",
       "</div>\n",
       "    \n",
       "    <div style=\"display: inline-block;\n",
       "                margin: 0px 1px;\n",
       "                color: black;\n",
       "                padding: 1px;\n",
       "                background-color: hsl(120, 100%, 70%);\n",
       "                text-align: center;\n",
       "                white-space: nowrap;\">n\n",
       "</div>\n",
       "    \n",
       "    <div style=\"display: inline-block;\n",
       "                margin: 0px 1px;\n",
       "                color: black;\n",
       "                padding: 1px;\n",
       "                background-color: hsl(109, 100%, 70%);\n",
       "                text-align: center;\n",
       "                white-space: nowrap;\">▁fell\n",
       "</div>\n",
       "    \n",
       "    <div style=\"display: inline-block;\n",
       "                margin: 0px 1px;\n",
       "                color: black;\n",
       "                padding: 1px;\n",
       "                background-color: hsl(93, 100%, 70%);\n",
       "                text-align: center;\n",
       "                white-space: nowrap;\">.\n",
       "</div>\n",
       "    "
      ],
      "text/plain": [
       "<IPython.core.display.HTML object>"
      ]
     },
     "metadata": {},
     "output_type": "display_data"
    },
    {
     "data": {
      "text/html": [
       "\n",
       "    <div style=\"display: inline-block;\n",
       "                margin: 0px 1px;\n",
       "                color: black;\n",
       "                padding: 1px;\n",
       "                background-color: hsl(0, 100%, 70%);\n",
       "                text-align: center;\n",
       "                white-space: nowrap;\"><bos>\n",
       "</div>\n",
       "    \n",
       "    <div style=\"display: inline-block;\n",
       "                margin: 0px 1px;\n",
       "                color: black;\n",
       "                padding: 1px;\n",
       "                background-color: hsl(110, 100%, 70%);\n",
       "                text-align: center;\n",
       "                white-space: nowrap;\">▁The\n",
       "</div>\n",
       "    \n",
       "    <div style=\"display: inline-block;\n",
       "                margin: 0px 1px;\n",
       "                color: black;\n",
       "                padding: 1px;\n",
       "                background-color: hsl(117, 100%, 70%);\n",
       "                text-align: center;\n",
       "                white-space: nowrap;\">▁horse\n",
       "</div>\n",
       "    \n",
       "    <div style=\"display: inline-block;\n",
       "                margin: 0px 1px;\n",
       "                color: black;\n",
       "                padding: 1px;\n",
       "                background-color: hsl(124, 100%, 70%);\n",
       "                text-align: center;\n",
       "                white-space: nowrap;\">▁rac\n",
       "</div>\n",
       "    \n",
       "    <div style=\"display: inline-block;\n",
       "                margin: 0px 1px;\n",
       "                color: black;\n",
       "                padding: 1px;\n",
       "                background-color: hsl(121, 100%, 70%);\n",
       "                text-align: center;\n",
       "                white-space: nowrap;\">ed\n",
       "</div>\n",
       "    \n",
       "    <div style=\"display: inline-block;\n",
       "                margin: 0px 1px;\n",
       "                color: black;\n",
       "                padding: 1px;\n",
       "                background-color: hsl(118, 100%, 70%);\n",
       "                text-align: center;\n",
       "                white-space: nowrap;\">▁past\n",
       "</div>\n",
       "    \n",
       "    <div style=\"display: inline-block;\n",
       "                margin: 0px 1px;\n",
       "                color: black;\n",
       "                padding: 1px;\n",
       "                background-color: hsl(124, 100%, 70%);\n",
       "                text-align: center;\n",
       "                white-space: nowrap;\">▁the\n",
       "</div>\n",
       "    \n",
       "    <div style=\"display: inline-block;\n",
       "                margin: 0px 1px;\n",
       "                color: black;\n",
       "                padding: 1px;\n",
       "                background-color: hsl(125, 100%, 70%);\n",
       "                text-align: center;\n",
       "                white-space: nowrap;\">▁bar\n",
       "</div>\n",
       "    \n",
       "    <div style=\"display: inline-block;\n",
       "                margin: 0px 1px;\n",
       "                color: black;\n",
       "                padding: 1px;\n",
       "                background-color: hsl(124, 100%, 70%);\n",
       "                text-align: center;\n",
       "                white-space: nowrap;\">n\n",
       "</div>\n",
       "    \n",
       "    <div style=\"display: inline-block;\n",
       "                margin: 0px 1px;\n",
       "                color: black;\n",
       "                padding: 1px;\n",
       "                background-color: hsl(116, 100%, 70%);\n",
       "                text-align: center;\n",
       "                white-space: nowrap;\">▁fell\n",
       "</div>\n",
       "    \n",
       "    <div style=\"display: inline-block;\n",
       "                margin: 0px 1px;\n",
       "                color: black;\n",
       "                padding: 1px;\n",
       "                background-color: hsl(99, 100%, 70%);\n",
       "                text-align: center;\n",
       "                white-space: nowrap;\">.\n",
       "</div>\n",
       "    "
      ],
      "text/plain": [
       "<IPython.core.display.HTML object>"
      ]
     },
     "metadata": {},
     "output_type": "display_data"
    },
    {
     "data": {
      "text/html": [
       "\n",
       "    <div style=\"display: inline-block;\n",
       "                margin: 0px 1px;\n",
       "                color: black;\n",
       "                padding: 1px;\n",
       "                background-color: hsl(0, 100%, 70%);\n",
       "                text-align: center;\n",
       "                white-space: nowrap;\"><bos>\n",
       "</div>\n",
       "    \n",
       "    <div style=\"display: inline-block;\n",
       "                margin: 0px 1px;\n",
       "                color: black;\n",
       "                padding: 1px;\n",
       "                background-color: hsl(109, 100%, 70%);\n",
       "                text-align: center;\n",
       "                white-space: nowrap;\">▁The\n",
       "</div>\n",
       "    \n",
       "    <div style=\"display: inline-block;\n",
       "                margin: 0px 1px;\n",
       "                color: black;\n",
       "                padding: 1px;\n",
       "                background-color: hsl(110, 100%, 70%);\n",
       "                text-align: center;\n",
       "                white-space: nowrap;\">▁horse\n",
       "</div>\n",
       "    \n",
       "    <div style=\"display: inline-block;\n",
       "                margin: 0px 1px;\n",
       "                color: black;\n",
       "                padding: 1px;\n",
       "                background-color: hsl(123, 100%, 70%);\n",
       "                text-align: center;\n",
       "                white-space: nowrap;\">▁rac\n",
       "</div>\n",
       "    \n",
       "    <div style=\"display: inline-block;\n",
       "                margin: 0px 1px;\n",
       "                color: black;\n",
       "                padding: 1px;\n",
       "                background-color: hsl(119, 100%, 70%);\n",
       "                text-align: center;\n",
       "                white-space: nowrap;\">ed\n",
       "</div>\n",
       "    \n",
       "    <div style=\"display: inline-block;\n",
       "                margin: 0px 1px;\n",
       "                color: black;\n",
       "                padding: 1px;\n",
       "                background-color: hsl(112, 100%, 70%);\n",
       "                text-align: center;\n",
       "                white-space: nowrap;\">▁past\n",
       "</div>\n",
       "    \n",
       "    <div style=\"display: inline-block;\n",
       "                margin: 0px 1px;\n",
       "                color: black;\n",
       "                padding: 1px;\n",
       "                background-color: hsl(122, 100%, 70%);\n",
       "                text-align: center;\n",
       "                white-space: nowrap;\">▁the\n",
       "</div>\n",
       "    \n",
       "    <div style=\"display: inline-block;\n",
       "                margin: 0px 1px;\n",
       "                color: black;\n",
       "                padding: 1px;\n",
       "                background-color: hsl(124, 100%, 70%);\n",
       "                text-align: center;\n",
       "                white-space: nowrap;\">▁bar\n",
       "</div>\n",
       "    \n",
       "    <div style=\"display: inline-block;\n",
       "                margin: 0px 1px;\n",
       "                color: black;\n",
       "                padding: 1px;\n",
       "                background-color: hsl(125, 100%, 70%);\n",
       "                text-align: center;\n",
       "                white-space: nowrap;\">n\n",
       "</div>\n",
       "    \n",
       "    <div style=\"display: inline-block;\n",
       "                margin: 0px 1px;\n",
       "                color: black;\n",
       "                padding: 1px;\n",
       "                background-color: hsl(112, 100%, 70%);\n",
       "                text-align: center;\n",
       "                white-space: nowrap;\">▁fell\n",
       "</div>\n",
       "    \n",
       "    <div style=\"display: inline-block;\n",
       "                margin: 0px 1px;\n",
       "                color: black;\n",
       "                padding: 1px;\n",
       "                background-color: hsl(93, 100%, 70%);\n",
       "                text-align: center;\n",
       "                white-space: nowrap;\">.\n",
       "</div>\n",
       "    "
      ],
      "text/plain": [
       "<IPython.core.display.HTML object>"
      ]
     },
     "metadata": {},
     "output_type": "display_data"
    },
    {
     "data": {
      "text/html": [
       "\n",
       "    <div style=\"display: inline-block;\n",
       "                margin: 0px 1px;\n",
       "                color: black;\n",
       "                padding: 1px;\n",
       "                background-color: hsl(111, 100%, 70%);\n",
       "                text-align: center;\n",
       "                white-space: nowrap;\"><bos>\n",
       "</div>\n",
       "    \n",
       "    <div style=\"display: inline-block;\n",
       "                margin: 0px 1px;\n",
       "                color: black;\n",
       "                padding: 1px;\n",
       "                background-color: hsl(47, 100%, 70%);\n",
       "                text-align: center;\n",
       "                white-space: nowrap;\">▁The\n",
       "</div>\n",
       "    \n",
       "    <div style=\"display: inline-block;\n",
       "                margin: 0px 1px;\n",
       "                color: black;\n",
       "                padding: 1px;\n",
       "                background-color: hsl(57, 100%, 70%);\n",
       "                text-align: center;\n",
       "                white-space: nowrap;\">▁horse\n",
       "</div>\n",
       "    \n",
       "    <div style=\"display: inline-block;\n",
       "                margin: 0px 1px;\n",
       "                color: black;\n",
       "                padding: 1px;\n",
       "                background-color: hsl(108, 100%, 70%);\n",
       "                text-align: center;\n",
       "                white-space: nowrap;\">▁rac\n",
       "</div>\n",
       "    \n",
       "    <div style=\"display: inline-block;\n",
       "                margin: 0px 1px;\n",
       "                color: black;\n",
       "                padding: 1px;\n",
       "                background-color: hsl(88, 100%, 70%);\n",
       "                text-align: center;\n",
       "                white-space: nowrap;\">ed\n",
       "</div>\n",
       "    \n",
       "    <div style=\"display: inline-block;\n",
       "                margin: 0px 1px;\n",
       "                color: black;\n",
       "                padding: 1px;\n",
       "                background-color: hsl(37, 100%, 70%);\n",
       "                text-align: center;\n",
       "                white-space: nowrap;\">▁past\n",
       "</div>\n",
       "    \n",
       "    <div style=\"display: inline-block;\n",
       "                margin: 0px 1px;\n",
       "                color: black;\n",
       "                padding: 1px;\n",
       "                background-color: hsl(88, 100%, 70%);\n",
       "                text-align: center;\n",
       "                white-space: nowrap;\">▁the\n",
       "</div>\n",
       "    \n",
       "    <div style=\"display: inline-block;\n",
       "                margin: 0px 1px;\n",
       "                color: black;\n",
       "                padding: 1px;\n",
       "                background-color: hsl(125, 100%, 70%);\n",
       "                text-align: center;\n",
       "                white-space: nowrap;\">▁bar\n",
       "</div>\n",
       "    \n",
       "    <div style=\"display: inline-block;\n",
       "                margin: 0px 1px;\n",
       "                color: black;\n",
       "                padding: 1px;\n",
       "                background-color: hsl(114, 100%, 70%);\n",
       "                text-align: center;\n",
       "                white-space: nowrap;\">n\n",
       "</div>\n",
       "    \n",
       "    <div style=\"display: inline-block;\n",
       "                margin: 0px 1px;\n",
       "                color: black;\n",
       "                padding: 1px;\n",
       "                background-color: hsl(57, 100%, 70%);\n",
       "                text-align: center;\n",
       "                white-space: nowrap;\">▁fell\n",
       "</div>\n",
       "    \n",
       "    <div style=\"display: inline-block;\n",
       "                margin: 0px 1px;\n",
       "                color: black;\n",
       "                padding: 1px;\n",
       "                background-color: hsl(0, 100%, 70%);\n",
       "                text-align: center;\n",
       "                white-space: nowrap;\">.\n",
       "</div>\n",
       "    "
      ],
      "text/plain": [
       "<IPython.core.display.HTML object>"
      ]
     },
     "metadata": {},
     "output_type": "display_data"
    },
    {
     "name": "stdout",
     "output_type": "stream",
     "text": [
      "layer -1\n",
      "\n",
      "\n",
      "\n",
      "\n",
      "layer -5\n"
     ]
    },
    {
     "data": {
      "text/html": [
       "\n",
       "    <div style=\"display: inline-block;\n",
       "                margin: 0px 1px;\n",
       "                color: black;\n",
       "                padding: 1px;\n",
       "                background-color: hsl(125, 100%, 70%);\n",
       "                text-align: center;\n",
       "                white-space: nowrap;\"><bos>\n",
       "</div>\n",
       "    \n",
       "    <div style=\"display: inline-block;\n",
       "                margin: 0px 1px;\n",
       "                color: black;\n",
       "                padding: 1px;\n",
       "                background-color: hsl(1, 100%, 70%);\n",
       "                text-align: center;\n",
       "                white-space: nowrap;\">▁The\n",
       "</div>\n",
       "    \n",
       "    <div style=\"display: inline-block;\n",
       "                margin: 0px 1px;\n",
       "                color: black;\n",
       "                padding: 1px;\n",
       "                background-color: hsl(17, 100%, 70%);\n",
       "                text-align: center;\n",
       "                white-space: nowrap;\">▁old\n",
       "</div>\n",
       "    \n",
       "    <div style=\"display: inline-block;\n",
       "                margin: 0px 1px;\n",
       "                color: black;\n",
       "                padding: 1px;\n",
       "                background-color: hsl(0, 100%, 70%);\n",
       "                text-align: center;\n",
       "                white-space: nowrap;\">▁man\n",
       "</div>\n",
       "    \n",
       "    <div style=\"display: inline-block;\n",
       "                margin: 0px 1px;\n",
       "                color: black;\n",
       "                padding: 1px;\n",
       "                background-color: hsl(5, 100%, 70%);\n",
       "                text-align: center;\n",
       "                white-space: nowrap;\">▁the\n",
       "</div>\n",
       "    \n",
       "    <div style=\"display: inline-block;\n",
       "                margin: 0px 1px;\n",
       "                color: black;\n",
       "                padding: 1px;\n",
       "                background-color: hsl(15, 100%, 70%);\n",
       "                text-align: center;\n",
       "                white-space: nowrap;\">▁boat\n",
       "</div>\n",
       "    \n",
       "    <div style=\"display: inline-block;\n",
       "                margin: 0px 1px;\n",
       "                color: black;\n",
       "                padding: 1px;\n",
       "                background-color: hsl(0, 100%, 70%);\n",
       "                text-align: center;\n",
       "                white-space: nowrap;\">.\n",
       "</div>\n",
       "    "
      ],
      "text/plain": [
       "<IPython.core.display.HTML object>"
      ]
     },
     "metadata": {},
     "output_type": "display_data"
    },
    {
     "data": {
      "text/html": [
       "\n",
       "    <div style=\"display: inline-block;\n",
       "                margin: 0px 1px;\n",
       "                color: black;\n",
       "                padding: 1px;\n",
       "                background-color: hsl(0, 100%, 70%);\n",
       "                text-align: center;\n",
       "                white-space: nowrap;\"><bos>\n",
       "</div>\n",
       "    \n",
       "    <div style=\"display: inline-block;\n",
       "                margin: 0px 1px;\n",
       "                color: black;\n",
       "                padding: 1px;\n",
       "                background-color: hsl(121, 100%, 70%);\n",
       "                text-align: center;\n",
       "                white-space: nowrap;\">▁The\n",
       "</div>\n",
       "    \n",
       "    <div style=\"display: inline-block;\n",
       "                margin: 0px 1px;\n",
       "                color: black;\n",
       "                padding: 1px;\n",
       "                background-color: hsl(109, 100%, 70%);\n",
       "                text-align: center;\n",
       "                white-space: nowrap;\">▁old\n",
       "</div>\n",
       "    \n",
       "    <div style=\"display: inline-block;\n",
       "                margin: 0px 1px;\n",
       "                color: black;\n",
       "                padding: 1px;\n",
       "                background-color: hsl(122, 100%, 70%);\n",
       "                text-align: center;\n",
       "                white-space: nowrap;\">▁man\n",
       "</div>\n",
       "    \n",
       "    <div style=\"display: inline-block;\n",
       "                margin: 0px 1px;\n",
       "                color: black;\n",
       "                padding: 1px;\n",
       "                background-color: hsl(117, 100%, 70%);\n",
       "                text-align: center;\n",
       "                white-space: nowrap;\">▁the\n",
       "</div>\n",
       "    \n",
       "    <div style=\"display: inline-block;\n",
       "                margin: 0px 1px;\n",
       "                color: black;\n",
       "                padding: 1px;\n",
       "                background-color: hsl(112, 100%, 70%);\n",
       "                text-align: center;\n",
       "                white-space: nowrap;\">▁boat\n",
       "</div>\n",
       "    \n",
       "    <div style=\"display: inline-block;\n",
       "                margin: 0px 1px;\n",
       "                color: black;\n",
       "                padding: 1px;\n",
       "                background-color: hsl(125, 100%, 70%);\n",
       "                text-align: center;\n",
       "                white-space: nowrap;\">.\n",
       "</div>\n",
       "    "
      ],
      "text/plain": [
       "<IPython.core.display.HTML object>"
      ]
     },
     "metadata": {},
     "output_type": "display_data"
    },
    {
     "data": {
      "text/html": [
       "\n",
       "    <div style=\"display: inline-block;\n",
       "                margin: 0px 1px;\n",
       "                color: black;\n",
       "                padding: 1px;\n",
       "                background-color: hsl(125, 100%, 70%);\n",
       "                text-align: center;\n",
       "                white-space: nowrap;\"><bos>\n",
       "</div>\n",
       "    \n",
       "    <div style=\"display: inline-block;\n",
       "                margin: 0px 1px;\n",
       "                color: black;\n",
       "                padding: 1px;\n",
       "                background-color: hsl(1, 100%, 70%);\n",
       "                text-align: center;\n",
       "                white-space: nowrap;\">▁The\n",
       "</div>\n",
       "    \n",
       "    <div style=\"display: inline-block;\n",
       "                margin: 0px 1px;\n",
       "                color: black;\n",
       "                padding: 1px;\n",
       "                background-color: hsl(10, 100%, 70%);\n",
       "                text-align: center;\n",
       "                white-space: nowrap;\">▁old\n",
       "</div>\n",
       "    \n",
       "    <div style=\"display: inline-block;\n",
       "                margin: 0px 1px;\n",
       "                color: black;\n",
       "                padding: 1px;\n",
       "                background-color: hsl(6, 100%, 70%);\n",
       "                text-align: center;\n",
       "                white-space: nowrap;\">▁man\n",
       "</div>\n",
       "    \n",
       "    <div style=\"display: inline-block;\n",
       "                margin: 0px 1px;\n",
       "                color: black;\n",
       "                padding: 1px;\n",
       "                background-color: hsl(11, 100%, 70%);\n",
       "                text-align: center;\n",
       "                white-space: nowrap;\">▁the\n",
       "</div>\n",
       "    \n",
       "    <div style=\"display: inline-block;\n",
       "                margin: 0px 1px;\n",
       "                color: black;\n",
       "                padding: 1px;\n",
       "                background-color: hsl(12, 100%, 70%);\n",
       "                text-align: center;\n",
       "                white-space: nowrap;\">▁boat\n",
       "</div>\n",
       "    \n",
       "    <div style=\"display: inline-block;\n",
       "                margin: 0px 1px;\n",
       "                color: black;\n",
       "                padding: 1px;\n",
       "                background-color: hsl(0, 100%, 70%);\n",
       "                text-align: center;\n",
       "                white-space: nowrap;\">.\n",
       "</div>\n",
       "    "
      ],
      "text/plain": [
       "<IPython.core.display.HTML object>"
      ]
     },
     "metadata": {},
     "output_type": "display_data"
    },
    {
     "data": {
      "text/html": [
       "\n",
       "    <div style=\"display: inline-block;\n",
       "                margin: 0px 1px;\n",
       "                color: black;\n",
       "                padding: 1px;\n",
       "                background-color: hsl(0, 100%, 70%);\n",
       "                text-align: center;\n",
       "                white-space: nowrap;\"><bos>\n",
       "</div>\n",
       "    \n",
       "    <div style=\"display: inline-block;\n",
       "                margin: 0px 1px;\n",
       "                color: black;\n",
       "                padding: 1px;\n",
       "                background-color: hsl(122, 100%, 70%);\n",
       "                text-align: center;\n",
       "                white-space: nowrap;\">▁The\n",
       "</div>\n",
       "    \n",
       "    <div style=\"display: inline-block;\n",
       "                margin: 0px 1px;\n",
       "                color: black;\n",
       "                padding: 1px;\n",
       "                background-color: hsl(112, 100%, 70%);\n",
       "                text-align: center;\n",
       "                white-space: nowrap;\">▁old\n",
       "</div>\n",
       "    \n",
       "    <div style=\"display: inline-block;\n",
       "                margin: 0px 1px;\n",
       "                color: black;\n",
       "                padding: 1px;\n",
       "                background-color: hsl(119, 100%, 70%);\n",
       "                text-align: center;\n",
       "                white-space: nowrap;\">▁man\n",
       "</div>\n",
       "    \n",
       "    <div style=\"display: inline-block;\n",
       "                margin: 0px 1px;\n",
       "                color: black;\n",
       "                padding: 1px;\n",
       "                background-color: hsl(114, 100%, 70%);\n",
       "                text-align: center;\n",
       "                white-space: nowrap;\">▁the\n",
       "</div>\n",
       "    \n",
       "    <div style=\"display: inline-block;\n",
       "                margin: 0px 1px;\n",
       "                color: black;\n",
       "                padding: 1px;\n",
       "                background-color: hsl(115, 100%, 70%);\n",
       "                text-align: center;\n",
       "                white-space: nowrap;\">▁boat\n",
       "</div>\n",
       "    \n",
       "    <div style=\"display: inline-block;\n",
       "                margin: 0px 1px;\n",
       "                color: black;\n",
       "                padding: 1px;\n",
       "                background-color: hsl(125, 100%, 70%);\n",
       "                text-align: center;\n",
       "                white-space: nowrap;\">.\n",
       "</div>\n",
       "    "
      ],
      "text/plain": [
       "<IPython.core.display.HTML object>"
      ]
     },
     "metadata": {},
     "output_type": "display_data"
    },
    {
     "data": {
      "text/html": [
       "\n",
       "    <div style=\"display: inline-block;\n",
       "                margin: 0px 1px;\n",
       "                color: black;\n",
       "                padding: 1px;\n",
       "                background-color: hsl(0, 100%, 70%);\n",
       "                text-align: center;\n",
       "                white-space: nowrap;\"><bos>\n",
       "</div>\n",
       "    \n",
       "    <div style=\"display: inline-block;\n",
       "                margin: 0px 1px;\n",
       "                color: black;\n",
       "                padding: 1px;\n",
       "                background-color: hsl(122, 100%, 70%);\n",
       "                text-align: center;\n",
       "                white-space: nowrap;\">▁The\n",
       "</div>\n",
       "    \n",
       "    <div style=\"display: inline-block;\n",
       "                margin: 0px 1px;\n",
       "                color: black;\n",
       "                padding: 1px;\n",
       "                background-color: hsl(118, 100%, 70%);\n",
       "                text-align: center;\n",
       "                white-space: nowrap;\">▁old\n",
       "</div>\n",
       "    \n",
       "    <div style=\"display: inline-block;\n",
       "                margin: 0px 1px;\n",
       "                color: black;\n",
       "                padding: 1px;\n",
       "                background-color: hsl(119, 100%, 70%);\n",
       "                text-align: center;\n",
       "                white-space: nowrap;\">▁man\n",
       "</div>\n",
       "    \n",
       "    <div style=\"display: inline-block;\n",
       "                margin: 0px 1px;\n",
       "                color: black;\n",
       "                padding: 1px;\n",
       "                background-color: hsl(118, 100%, 70%);\n",
       "                text-align: center;\n",
       "                white-space: nowrap;\">▁the\n",
       "</div>\n",
       "    \n",
       "    <div style=\"display: inline-block;\n",
       "                margin: 0px 1px;\n",
       "                color: black;\n",
       "                padding: 1px;\n",
       "                background-color: hsl(119, 100%, 70%);\n",
       "                text-align: center;\n",
       "                white-space: nowrap;\">▁boat\n",
       "</div>\n",
       "    \n",
       "    <div style=\"display: inline-block;\n",
       "                margin: 0px 1px;\n",
       "                color: black;\n",
       "                padding: 1px;\n",
       "                background-color: hsl(125, 100%, 70%);\n",
       "                text-align: center;\n",
       "                white-space: nowrap;\">.\n",
       "</div>\n",
       "    "
      ],
      "text/plain": [
       "<IPython.core.display.HTML object>"
      ]
     },
     "metadata": {},
     "output_type": "display_data"
    },
    {
     "data": {
      "text/html": [
       "\n",
       "    <div style=\"display: inline-block;\n",
       "                margin: 0px 1px;\n",
       "                color: black;\n",
       "                padding: 1px;\n",
       "                background-color: hsl(0, 100%, 70%);\n",
       "                text-align: center;\n",
       "                white-space: nowrap;\"><bos>\n",
       "</div>\n",
       "    \n",
       "    <div style=\"display: inline-block;\n",
       "                margin: 0px 1px;\n",
       "                color: black;\n",
       "                padding: 1px;\n",
       "                background-color: hsl(124, 100%, 70%);\n",
       "                text-align: center;\n",
       "                white-space: nowrap;\">▁The\n",
       "</div>\n",
       "    \n",
       "    <div style=\"display: inline-block;\n",
       "                margin: 0px 1px;\n",
       "                color: black;\n",
       "                padding: 1px;\n",
       "                background-color: hsl(115, 100%, 70%);\n",
       "                text-align: center;\n",
       "                white-space: nowrap;\">▁old\n",
       "</div>\n",
       "    \n",
       "    <div style=\"display: inline-block;\n",
       "                margin: 0px 1px;\n",
       "                color: black;\n",
       "                padding: 1px;\n",
       "                background-color: hsl(116, 100%, 70%);\n",
       "                text-align: center;\n",
       "                white-space: nowrap;\">▁man\n",
       "</div>\n",
       "    \n",
       "    <div style=\"display: inline-block;\n",
       "                margin: 0px 1px;\n",
       "                color: black;\n",
       "                padding: 1px;\n",
       "                background-color: hsl(119, 100%, 70%);\n",
       "                text-align: center;\n",
       "                white-space: nowrap;\">▁the\n",
       "</div>\n",
       "    \n",
       "    <div style=\"display: inline-block;\n",
       "                margin: 0px 1px;\n",
       "                color: black;\n",
       "                padding: 1px;\n",
       "                background-color: hsl(117, 100%, 70%);\n",
       "                text-align: center;\n",
       "                white-space: nowrap;\">▁boat\n",
       "</div>\n",
       "    \n",
       "    <div style=\"display: inline-block;\n",
       "                margin: 0px 1px;\n",
       "                color: black;\n",
       "                padding: 1px;\n",
       "                background-color: hsl(125, 100%, 70%);\n",
       "                text-align: center;\n",
       "                white-space: nowrap;\">.\n",
       "</div>\n",
       "    "
      ],
      "text/plain": [
       "<IPython.core.display.HTML object>"
      ]
     },
     "metadata": {},
     "output_type": "display_data"
    },
    {
     "data": {
      "text/html": [
       "\n",
       "    <div style=\"display: inline-block;\n",
       "                margin: 0px 1px;\n",
       "                color: black;\n",
       "                padding: 1px;\n",
       "                background-color: hsl(125, 100%, 70%);\n",
       "                text-align: center;\n",
       "                white-space: nowrap;\"><bos>\n",
       "</div>\n",
       "    \n",
       "    <div style=\"display: inline-block;\n",
       "                margin: 0px 1px;\n",
       "                color: black;\n",
       "                padding: 1px;\n",
       "                background-color: hsl(50, 100%, 70%);\n",
       "                text-align: center;\n",
       "                white-space: nowrap;\">▁The\n",
       "</div>\n",
       "    \n",
       "    <div style=\"display: inline-block;\n",
       "                margin: 0px 1px;\n",
       "                color: black;\n",
       "                padding: 1px;\n",
       "                background-color: hsl(0, 100%, 70%);\n",
       "                text-align: center;\n",
       "                white-space: nowrap;\">▁old\n",
       "</div>\n",
       "    \n",
       "    <div style=\"display: inline-block;\n",
       "                margin: 0px 1px;\n",
       "                color: black;\n",
       "                padding: 1px;\n",
       "                background-color: hsl(30, 100%, 70%);\n",
       "                text-align: center;\n",
       "                white-space: nowrap;\">▁man\n",
       "</div>\n",
       "    \n",
       "    <div style=\"display: inline-block;\n",
       "                margin: 0px 1px;\n",
       "                color: black;\n",
       "                padding: 1px;\n",
       "                background-color: hsl(43, 100%, 70%);\n",
       "                text-align: center;\n",
       "                white-space: nowrap;\">▁the\n",
       "</div>\n",
       "    \n",
       "    <div style=\"display: inline-block;\n",
       "                margin: 0px 1px;\n",
       "                color: black;\n",
       "                padding: 1px;\n",
       "                background-color: hsl(25, 100%, 70%);\n",
       "                text-align: center;\n",
       "                white-space: nowrap;\">▁boat\n",
       "</div>\n",
       "    \n",
       "    <div style=\"display: inline-block;\n",
       "                margin: 0px 1px;\n",
       "                color: black;\n",
       "                padding: 1px;\n",
       "                background-color: hsl(56, 100%, 70%);\n",
       "                text-align: center;\n",
       "                white-space: nowrap;\">.\n",
       "</div>\n",
       "    "
      ],
      "text/plain": [
       "<IPython.core.display.HTML object>"
      ]
     },
     "metadata": {},
     "output_type": "display_data"
    },
    {
     "name": "stdout",
     "output_type": "stream",
     "text": [
      "layer -1\n",
      "\n",
      "\n",
      "\n",
      "\n",
      "layer -5\n"
     ]
    },
    {
     "data": {
      "text/html": [
       "\n",
       "    <div style=\"display: inline-block;\n",
       "                margin: 0px 1px;\n",
       "                color: black;\n",
       "                padding: 1px;\n",
       "                background-color: hsl(125, 100%, 70%);\n",
       "                text-align: center;\n",
       "                white-space: nowrap;\"><bos>\n",
       "</div>\n",
       "    \n",
       "    <div style=\"display: inline-block;\n",
       "                margin: 0px 1px;\n",
       "                color: black;\n",
       "                padding: 1px;\n",
       "                background-color: hsl(14, 100%, 70%);\n",
       "                text-align: center;\n",
       "                white-space: nowrap;\">▁The\n",
       "</div>\n",
       "    \n",
       "    <div style=\"display: inline-block;\n",
       "                margin: 0px 1px;\n",
       "                color: black;\n",
       "                padding: 1px;\n",
       "                background-color: hsl(7, 100%, 70%);\n",
       "                text-align: center;\n",
       "                white-space: nowrap;\">▁complex\n",
       "</div>\n",
       "    \n",
       "    <div style=\"display: inline-block;\n",
       "                margin: 0px 1px;\n",
       "                color: black;\n",
       "                padding: 1px;\n",
       "                background-color: hsl(17, 100%, 70%);\n",
       "                text-align: center;\n",
       "                white-space: nowrap;\">▁houses\n",
       "</div>\n",
       "    \n",
       "    <div style=\"display: inline-block;\n",
       "                margin: 0px 1px;\n",
       "                color: black;\n",
       "                padding: 1px;\n",
       "                background-color: hsl(16, 100%, 70%);\n",
       "                text-align: center;\n",
       "                white-space: nowrap;\">▁married\n",
       "</div>\n",
       "    \n",
       "    <div style=\"display: inline-block;\n",
       "                margin: 0px 1px;\n",
       "                color: black;\n",
       "                padding: 1px;\n",
       "                background-color: hsl(5, 100%, 70%);\n",
       "                text-align: center;\n",
       "                white-space: nowrap;\">▁and\n",
       "</div>\n",
       "    \n",
       "    <div style=\"display: inline-block;\n",
       "                margin: 0px 1px;\n",
       "                color: black;\n",
       "                padding: 1px;\n",
       "                background-color: hsl(14, 100%, 70%);\n",
       "                text-align: center;\n",
       "                white-space: nowrap;\">▁single\n",
       "</div>\n",
       "    \n",
       "    <div style=\"display: inline-block;\n",
       "                margin: 0px 1px;\n",
       "                color: black;\n",
       "                padding: 1px;\n",
       "                background-color: hsl(7, 100%, 70%);\n",
       "                text-align: center;\n",
       "                white-space: nowrap;\">▁soldiers\n",
       "</div>\n",
       "    \n",
       "    <div style=\"display: inline-block;\n",
       "                margin: 0px 1px;\n",
       "                color: black;\n",
       "                padding: 1px;\n",
       "                background-color: hsl(18, 100%, 70%);\n",
       "                text-align: center;\n",
       "                white-space: nowrap;\">▁and\n",
       "</div>\n",
       "    \n",
       "    <div style=\"display: inline-block;\n",
       "                margin: 0px 1px;\n",
       "                color: black;\n",
       "                padding: 1px;\n",
       "                background-color: hsl(0, 100%, 70%);\n",
       "                text-align: center;\n",
       "                white-space: nowrap;\">▁their\n",
       "</div>\n",
       "    \n",
       "    <div style=\"display: inline-block;\n",
       "                margin: 0px 1px;\n",
       "                color: black;\n",
       "                padding: 1px;\n",
       "                background-color: hsl(1, 100%, 70%);\n",
       "                text-align: center;\n",
       "                white-space: nowrap;\">▁families\n",
       "</div>\n",
       "    \n",
       "    <div style=\"display: inline-block;\n",
       "                margin: 0px 1px;\n",
       "                color: black;\n",
       "                padding: 1px;\n",
       "                background-color: hsl(20, 100%, 70%);\n",
       "                text-align: center;\n",
       "                white-space: nowrap;\">.\n",
       "</div>\n",
       "    "
      ],
      "text/plain": [
       "<IPython.core.display.HTML object>"
      ]
     },
     "metadata": {},
     "output_type": "display_data"
    },
    {
     "data": {
      "text/html": [
       "\n",
       "    <div style=\"display: inline-block;\n",
       "                margin: 0px 1px;\n",
       "                color: black;\n",
       "                padding: 1px;\n",
       "                background-color: hsl(0, 100%, 70%);\n",
       "                text-align: center;\n",
       "                white-space: nowrap;\"><bos>\n",
       "</div>\n",
       "    \n",
       "    <div style=\"display: inline-block;\n",
       "                margin: 0px 1px;\n",
       "                color: black;\n",
       "                padding: 1px;\n",
       "                background-color: hsl(111, 100%, 70%);\n",
       "                text-align: center;\n",
       "                white-space: nowrap;\">▁The\n",
       "</div>\n",
       "    \n",
       "    <div style=\"display: inline-block;\n",
       "                margin: 0px 1px;\n",
       "                color: black;\n",
       "                padding: 1px;\n",
       "                background-color: hsl(120, 100%, 70%);\n",
       "                text-align: center;\n",
       "                white-space: nowrap;\">▁complex\n",
       "</div>\n",
       "    \n",
       "    <div style=\"display: inline-block;\n",
       "                margin: 0px 1px;\n",
       "                color: black;\n",
       "                padding: 1px;\n",
       "                background-color: hsl(112, 100%, 70%);\n",
       "                text-align: center;\n",
       "                white-space: nowrap;\">▁houses\n",
       "</div>\n",
       "    \n",
       "    <div style=\"display: inline-block;\n",
       "                margin: 0px 1px;\n",
       "                color: black;\n",
       "                padding: 1px;\n",
       "                background-color: hsl(110, 100%, 70%);\n",
       "                text-align: center;\n",
       "                white-space: nowrap;\">▁married\n",
       "</div>\n",
       "    \n",
       "    <div style=\"display: inline-block;\n",
       "                margin: 0px 1px;\n",
       "                color: black;\n",
       "                padding: 1px;\n",
       "                background-color: hsl(125, 100%, 70%);\n",
       "                text-align: center;\n",
       "                white-space: nowrap;\">▁and\n",
       "</div>\n",
       "    \n",
       "    <div style=\"display: inline-block;\n",
       "                margin: 0px 1px;\n",
       "                color: black;\n",
       "                padding: 1px;\n",
       "                background-color: hsl(113, 100%, 70%);\n",
       "                text-align: center;\n",
       "                white-space: nowrap;\">▁single\n",
       "</div>\n",
       "    \n",
       "    <div style=\"display: inline-block;\n",
       "                margin: 0px 1px;\n",
       "                color: black;\n",
       "                padding: 1px;\n",
       "                background-color: hsl(121, 100%, 70%);\n",
       "                text-align: center;\n",
       "                white-space: nowrap;\">▁soldiers\n",
       "</div>\n",
       "    \n",
       "    <div style=\"display: inline-block;\n",
       "                margin: 0px 1px;\n",
       "                color: black;\n",
       "                padding: 1px;\n",
       "                background-color: hsl(113, 100%, 70%);\n",
       "                text-align: center;\n",
       "                white-space: nowrap;\">▁and\n",
       "</div>\n",
       "    \n",
       "    <div style=\"display: inline-block;\n",
       "                margin: 0px 1px;\n",
       "                color: black;\n",
       "                padding: 1px;\n",
       "                background-color: hsl(121, 100%, 70%);\n",
       "                text-align: center;\n",
       "                white-space: nowrap;\">▁their\n",
       "</div>\n",
       "    \n",
       "    <div style=\"display: inline-block;\n",
       "                margin: 0px 1px;\n",
       "                color: black;\n",
       "                padding: 1px;\n",
       "                background-color: hsl(124, 100%, 70%);\n",
       "                text-align: center;\n",
       "                white-space: nowrap;\">▁families\n",
       "</div>\n",
       "    \n",
       "    <div style=\"display: inline-block;\n",
       "                margin: 0px 1px;\n",
       "                color: black;\n",
       "                padding: 1px;\n",
       "                background-color: hsl(110, 100%, 70%);\n",
       "                text-align: center;\n",
       "                white-space: nowrap;\">.\n",
       "</div>\n",
       "    "
      ],
      "text/plain": [
       "<IPython.core.display.HTML object>"
      ]
     },
     "metadata": {},
     "output_type": "display_data"
    },
    {
     "data": {
      "text/html": [
       "\n",
       "    <div style=\"display: inline-block;\n",
       "                margin: 0px 1px;\n",
       "                color: black;\n",
       "                padding: 1px;\n",
       "                background-color: hsl(125, 100%, 70%);\n",
       "                text-align: center;\n",
       "                white-space: nowrap;\"><bos>\n",
       "</div>\n",
       "    \n",
       "    <div style=\"display: inline-block;\n",
       "                margin: 0px 1px;\n",
       "                color: black;\n",
       "                padding: 1px;\n",
       "                background-color: hsl(13, 100%, 70%);\n",
       "                text-align: center;\n",
       "                white-space: nowrap;\">▁The\n",
       "</div>\n",
       "    \n",
       "    <div style=\"display: inline-block;\n",
       "                margin: 0px 1px;\n",
       "                color: black;\n",
       "                padding: 1px;\n",
       "                background-color: hsl(7, 100%, 70%);\n",
       "                text-align: center;\n",
       "                white-space: nowrap;\">▁complex\n",
       "</div>\n",
       "    \n",
       "    <div style=\"display: inline-block;\n",
       "                margin: 0px 1px;\n",
       "                color: black;\n",
       "                padding: 1px;\n",
       "                background-color: hsl(10, 100%, 70%);\n",
       "                text-align: center;\n",
       "                white-space: nowrap;\">▁houses\n",
       "</div>\n",
       "    \n",
       "    <div style=\"display: inline-block;\n",
       "                margin: 0px 1px;\n",
       "                color: black;\n",
       "                padding: 1px;\n",
       "                background-color: hsl(14, 100%, 70%);\n",
       "                text-align: center;\n",
       "                white-space: nowrap;\">▁married\n",
       "</div>\n",
       "    \n",
       "    <div style=\"display: inline-block;\n",
       "                margin: 0px 1px;\n",
       "                color: black;\n",
       "                padding: 1px;\n",
       "                background-color: hsl(0, 100%, 70%);\n",
       "                text-align: center;\n",
       "                white-space: nowrap;\">▁and\n",
       "</div>\n",
       "    \n",
       "    <div style=\"display: inline-block;\n",
       "                margin: 0px 1px;\n",
       "                color: black;\n",
       "                padding: 1px;\n",
       "                background-color: hsl(10, 100%, 70%);\n",
       "                text-align: center;\n",
       "                white-space: nowrap;\">▁single\n",
       "</div>\n",
       "    \n",
       "    <div style=\"display: inline-block;\n",
       "                margin: 0px 1px;\n",
       "                color: black;\n",
       "                padding: 1px;\n",
       "                background-color: hsl(6, 100%, 70%);\n",
       "                text-align: center;\n",
       "                white-space: nowrap;\">▁soldiers\n",
       "</div>\n",
       "    \n",
       "    <div style=\"display: inline-block;\n",
       "                margin: 0px 1px;\n",
       "                color: black;\n",
       "                padding: 1px;\n",
       "                background-color: hsl(12, 100%, 70%);\n",
       "                text-align: center;\n",
       "                white-space: nowrap;\">▁and\n",
       "</div>\n",
       "    \n",
       "    <div style=\"display: inline-block;\n",
       "                margin: 0px 1px;\n",
       "                color: black;\n",
       "                padding: 1px;\n",
       "                background-color: hsl(6, 100%, 70%);\n",
       "                text-align: center;\n",
       "                white-space: nowrap;\">▁their\n",
       "</div>\n",
       "    \n",
       "    <div style=\"display: inline-block;\n",
       "                margin: 0px 1px;\n",
       "                color: black;\n",
       "                padding: 1px;\n",
       "                background-color: hsl(10, 100%, 70%);\n",
       "                text-align: center;\n",
       "                white-space: nowrap;\">▁families\n",
       "</div>\n",
       "    \n",
       "    <div style=\"display: inline-block;\n",
       "                margin: 0px 1px;\n",
       "                color: black;\n",
       "                padding: 1px;\n",
       "                background-color: hsl(18, 100%, 70%);\n",
       "                text-align: center;\n",
       "                white-space: nowrap;\">.\n",
       "</div>\n",
       "    "
      ],
      "text/plain": [
       "<IPython.core.display.HTML object>"
      ]
     },
     "metadata": {},
     "output_type": "display_data"
    },
    {
     "data": {
      "text/html": [
       "\n",
       "    <div style=\"display: inline-block;\n",
       "                margin: 0px 1px;\n",
       "                color: black;\n",
       "                padding: 1px;\n",
       "                background-color: hsl(0, 100%, 70%);\n",
       "                text-align: center;\n",
       "                white-space: nowrap;\"><bos>\n",
       "</div>\n",
       "    \n",
       "    <div style=\"display: inline-block;\n",
       "                margin: 0px 1px;\n",
       "                color: black;\n",
       "                padding: 1px;\n",
       "                background-color: hsl(109, 100%, 70%);\n",
       "                text-align: center;\n",
       "                white-space: nowrap;\">▁The\n",
       "</div>\n",
       "    \n",
       "    <div style=\"display: inline-block;\n",
       "                margin: 0px 1px;\n",
       "                color: black;\n",
       "                padding: 1px;\n",
       "                background-color: hsl(113, 100%, 70%);\n",
       "                text-align: center;\n",
       "                white-space: nowrap;\">▁complex\n",
       "</div>\n",
       "    \n",
       "    <div style=\"display: inline-block;\n",
       "                margin: 0px 1px;\n",
       "                color: black;\n",
       "                padding: 1px;\n",
       "                background-color: hsl(111, 100%, 70%);\n",
       "                text-align: center;\n",
       "                white-space: nowrap;\">▁houses\n",
       "</div>\n",
       "    \n",
       "    <div style=\"display: inline-block;\n",
       "                margin: 0px 1px;\n",
       "                color: black;\n",
       "                padding: 1px;\n",
       "                background-color: hsl(107, 100%, 70%);\n",
       "                text-align: center;\n",
       "                white-space: nowrap;\">▁married\n",
       "</div>\n",
       "    \n",
       "    <div style=\"display: inline-block;\n",
       "                margin: 0px 1px;\n",
       "                color: black;\n",
       "                padding: 1px;\n",
       "                background-color: hsl(125, 100%, 70%);\n",
       "                text-align: center;\n",
       "                white-space: nowrap;\">▁and\n",
       "</div>\n",
       "    \n",
       "    <div style=\"display: inline-block;\n",
       "                margin: 0px 1px;\n",
       "                color: black;\n",
       "                padding: 1px;\n",
       "                background-color: hsl(111, 100%, 70%);\n",
       "                text-align: center;\n",
       "                white-space: nowrap;\">▁single\n",
       "</div>\n",
       "    \n",
       "    <div style=\"display: inline-block;\n",
       "                margin: 0px 1px;\n",
       "                color: black;\n",
       "                padding: 1px;\n",
       "                background-color: hsl(115, 100%, 70%);\n",
       "                text-align: center;\n",
       "                white-space: nowrap;\">▁soldiers\n",
       "</div>\n",
       "    \n",
       "    <div style=\"display: inline-block;\n",
       "                margin: 0px 1px;\n",
       "                color: black;\n",
       "                padding: 1px;\n",
       "                background-color: hsl(112, 100%, 70%);\n",
       "                text-align: center;\n",
       "                white-space: nowrap;\">▁and\n",
       "</div>\n",
       "    \n",
       "    <div style=\"display: inline-block;\n",
       "                margin: 0px 1px;\n",
       "                color: black;\n",
       "                padding: 1px;\n",
       "                background-color: hsl(121, 100%, 70%);\n",
       "                text-align: center;\n",
       "                white-space: nowrap;\">▁their\n",
       "</div>\n",
       "    \n",
       "    <div style=\"display: inline-block;\n",
       "                margin: 0px 1px;\n",
       "                color: black;\n",
       "                padding: 1px;\n",
       "                background-color: hsl(112, 100%, 70%);\n",
       "                text-align: center;\n",
       "                white-space: nowrap;\">▁families\n",
       "</div>\n",
       "    \n",
       "    <div style=\"display: inline-block;\n",
       "                margin: 0px 1px;\n",
       "                color: black;\n",
       "                padding: 1px;\n",
       "                background-color: hsl(105, 100%, 70%);\n",
       "                text-align: center;\n",
       "                white-space: nowrap;\">.\n",
       "</div>\n",
       "    "
      ],
      "text/plain": [
       "<IPython.core.display.HTML object>"
      ]
     },
     "metadata": {},
     "output_type": "display_data"
    },
    {
     "data": {
      "text/html": [
       "\n",
       "    <div style=\"display: inline-block;\n",
       "                margin: 0px 1px;\n",
       "                color: black;\n",
       "                padding: 1px;\n",
       "                background-color: hsl(0, 100%, 70%);\n",
       "                text-align: center;\n",
       "                white-space: nowrap;\"><bos>\n",
       "</div>\n",
       "    \n",
       "    <div style=\"display: inline-block;\n",
       "                margin: 0px 1px;\n",
       "                color: black;\n",
       "                padding: 1px;\n",
       "                background-color: hsl(110, 100%, 70%);\n",
       "                text-align: center;\n",
       "                white-space: nowrap;\">▁The\n",
       "</div>\n",
       "    \n",
       "    <div style=\"display: inline-block;\n",
       "                margin: 0px 1px;\n",
       "                color: black;\n",
       "                padding: 1px;\n",
       "                background-color: hsl(113, 100%, 70%);\n",
       "                text-align: center;\n",
       "                white-space: nowrap;\">▁complex\n",
       "</div>\n",
       "    \n",
       "    <div style=\"display: inline-block;\n",
       "                margin: 0px 1px;\n",
       "                color: black;\n",
       "                padding: 1px;\n",
       "                background-color: hsl(112, 100%, 70%);\n",
       "                text-align: center;\n",
       "                white-space: nowrap;\">▁houses\n",
       "</div>\n",
       "    \n",
       "    <div style=\"display: inline-block;\n",
       "                margin: 0px 1px;\n",
       "                color: black;\n",
       "                padding: 1px;\n",
       "                background-color: hsl(112, 100%, 70%);\n",
       "                text-align: center;\n",
       "                white-space: nowrap;\">▁married\n",
       "</div>\n",
       "    \n",
       "    <div style=\"display: inline-block;\n",
       "                margin: 0px 1px;\n",
       "                color: black;\n",
       "                padding: 1px;\n",
       "                background-color: hsl(125, 100%, 70%);\n",
       "                text-align: center;\n",
       "                white-space: nowrap;\">▁and\n",
       "</div>\n",
       "    \n",
       "    <div style=\"display: inline-block;\n",
       "                margin: 0px 1px;\n",
       "                color: black;\n",
       "                padding: 1px;\n",
       "                background-color: hsl(115, 100%, 70%);\n",
       "                text-align: center;\n",
       "                white-space: nowrap;\">▁single\n",
       "</div>\n",
       "    \n",
       "    <div style=\"display: inline-block;\n",
       "                margin: 0px 1px;\n",
       "                color: black;\n",
       "                padding: 1px;\n",
       "                background-color: hsl(119, 100%, 70%);\n",
       "                text-align: center;\n",
       "                white-space: nowrap;\">▁soldiers\n",
       "</div>\n",
       "    \n",
       "    <div style=\"display: inline-block;\n",
       "                margin: 0px 1px;\n",
       "                color: black;\n",
       "                padding: 1px;\n",
       "                background-color: hsl(116, 100%, 70%);\n",
       "                text-align: center;\n",
       "                white-space: nowrap;\">▁and\n",
       "</div>\n",
       "    \n",
       "    <div style=\"display: inline-block;\n",
       "                margin: 0px 1px;\n",
       "                color: black;\n",
       "                padding: 1px;\n",
       "                background-color: hsl(118, 100%, 70%);\n",
       "                text-align: center;\n",
       "                white-space: nowrap;\">▁their\n",
       "</div>\n",
       "    \n",
       "    <div style=\"display: inline-block;\n",
       "                margin: 0px 1px;\n",
       "                color: black;\n",
       "                padding: 1px;\n",
       "                background-color: hsl(118, 100%, 70%);\n",
       "                text-align: center;\n",
       "                white-space: nowrap;\">▁families\n",
       "</div>\n",
       "    \n",
       "    <div style=\"display: inline-block;\n",
       "                margin: 0px 1px;\n",
       "                color: black;\n",
       "                padding: 1px;\n",
       "                background-color: hsl(108, 100%, 70%);\n",
       "                text-align: center;\n",
       "                white-space: nowrap;\">.\n",
       "</div>\n",
       "    "
      ],
      "text/plain": [
       "<IPython.core.display.HTML object>"
      ]
     },
     "metadata": {},
     "output_type": "display_data"
    },
    {
     "data": {
      "text/html": [
       "\n",
       "    <div style=\"display: inline-block;\n",
       "                margin: 0px 1px;\n",
       "                color: black;\n",
       "                padding: 1px;\n",
       "                background-color: hsl(0, 100%, 70%);\n",
       "                text-align: center;\n",
       "                white-space: nowrap;\"><bos>\n",
       "</div>\n",
       "    \n",
       "    <div style=\"display: inline-block;\n",
       "                margin: 0px 1px;\n",
       "                color: black;\n",
       "                padding: 1px;\n",
       "                background-color: hsl(106, 100%, 70%);\n",
       "                text-align: center;\n",
       "                white-space: nowrap;\">▁The\n",
       "</div>\n",
       "    \n",
       "    <div style=\"display: inline-block;\n",
       "                margin: 0px 1px;\n",
       "                color: black;\n",
       "                padding: 1px;\n",
       "                background-color: hsl(108, 100%, 70%);\n",
       "                text-align: center;\n",
       "                white-space: nowrap;\">▁complex\n",
       "</div>\n",
       "    \n",
       "    <div style=\"display: inline-block;\n",
       "                margin: 0px 1px;\n",
       "                color: black;\n",
       "                padding: 1px;\n",
       "                background-color: hsl(107, 100%, 70%);\n",
       "                text-align: center;\n",
       "                white-space: nowrap;\">▁houses\n",
       "</div>\n",
       "    \n",
       "    <div style=\"display: inline-block;\n",
       "                margin: 0px 1px;\n",
       "                color: black;\n",
       "                padding: 1px;\n",
       "                background-color: hsl(109, 100%, 70%);\n",
       "                text-align: center;\n",
       "                white-space: nowrap;\">▁married\n",
       "</div>\n",
       "    \n",
       "    <div style=\"display: inline-block;\n",
       "                margin: 0px 1px;\n",
       "                color: black;\n",
       "                padding: 1px;\n",
       "                background-color: hsl(125, 100%, 70%);\n",
       "                text-align: center;\n",
       "                white-space: nowrap;\">▁and\n",
       "</div>\n",
       "    \n",
       "    <div style=\"display: inline-block;\n",
       "                margin: 0px 1px;\n",
       "                color: black;\n",
       "                padding: 1px;\n",
       "                background-color: hsl(111, 100%, 70%);\n",
       "                text-align: center;\n",
       "                white-space: nowrap;\">▁single\n",
       "</div>\n",
       "    \n",
       "    <div style=\"display: inline-block;\n",
       "                margin: 0px 1px;\n",
       "                color: black;\n",
       "                padding: 1px;\n",
       "                background-color: hsl(116, 100%, 70%);\n",
       "                text-align: center;\n",
       "                white-space: nowrap;\">▁soldiers\n",
       "</div>\n",
       "    \n",
       "    <div style=\"display: inline-block;\n",
       "                margin: 0px 1px;\n",
       "                color: black;\n",
       "                padding: 1px;\n",
       "                background-color: hsl(109, 100%, 70%);\n",
       "                text-align: center;\n",
       "                white-space: nowrap;\">▁and\n",
       "</div>\n",
       "    \n",
       "    <div style=\"display: inline-block;\n",
       "                margin: 0px 1px;\n",
       "                color: black;\n",
       "                padding: 1px;\n",
       "                background-color: hsl(112, 100%, 70%);\n",
       "                text-align: center;\n",
       "                white-space: nowrap;\">▁their\n",
       "</div>\n",
       "    \n",
       "    <div style=\"display: inline-block;\n",
       "                margin: 0px 1px;\n",
       "                color: black;\n",
       "                padding: 1px;\n",
       "                background-color: hsl(114, 100%, 70%);\n",
       "                text-align: center;\n",
       "                white-space: nowrap;\">▁families\n",
       "</div>\n",
       "    \n",
       "    <div style=\"display: inline-block;\n",
       "                margin: 0px 1px;\n",
       "                color: black;\n",
       "                padding: 1px;\n",
       "                background-color: hsl(103, 100%, 70%);\n",
       "                text-align: center;\n",
       "                white-space: nowrap;\">.\n",
       "</div>\n",
       "    "
      ],
      "text/plain": [
       "<IPython.core.display.HTML object>"
      ]
     },
     "metadata": {},
     "output_type": "display_data"
    },
    {
     "data": {
      "text/html": [
       "\n",
       "    <div style=\"display: inline-block;\n",
       "                margin: 0px 1px;\n",
       "                color: black;\n",
       "                padding: 1px;\n",
       "                background-color: hsl(110, 100%, 70%);\n",
       "                text-align: center;\n",
       "                white-space: nowrap;\"><bos>\n",
       "</div>\n",
       "    \n",
       "    <div style=\"display: inline-block;\n",
       "                margin: 0px 1px;\n",
       "                color: black;\n",
       "                padding: 1px;\n",
       "                background-color: hsl(0, 100%, 70%);\n",
       "                text-align: center;\n",
       "                white-space: nowrap;\">▁The\n",
       "</div>\n",
       "    \n",
       "    <div style=\"display: inline-block;\n",
       "                margin: 0px 1px;\n",
       "                color: black;\n",
       "                padding: 1px;\n",
       "                background-color: hsl(8, 100%, 70%);\n",
       "                text-align: center;\n",
       "                white-space: nowrap;\">▁complex\n",
       "</div>\n",
       "    \n",
       "    <div style=\"display: inline-block;\n",
       "                margin: 0px 1px;\n",
       "                color: black;\n",
       "                padding: 1px;\n",
       "                background-color: hsl(1, 100%, 70%);\n",
       "                text-align: center;\n",
       "                white-space: nowrap;\">▁houses\n",
       "</div>\n",
       "    \n",
       "    <div style=\"display: inline-block;\n",
       "                margin: 0px 1px;\n",
       "                color: black;\n",
       "                padding: 1px;\n",
       "                background-color: hsl(18, 100%, 70%);\n",
       "                text-align: center;\n",
       "                white-space: nowrap;\">▁married\n",
       "</div>\n",
       "    \n",
       "    <div style=\"display: inline-block;\n",
       "                margin: 0px 1px;\n",
       "                color: black;\n",
       "                padding: 1px;\n",
       "                background-color: hsl(120, 100%, 70%);\n",
       "                text-align: center;\n",
       "                white-space: nowrap;\">▁and\n",
       "</div>\n",
       "    \n",
       "    <div style=\"display: inline-block;\n",
       "                margin: 0px 1px;\n",
       "                color: black;\n",
       "                padding: 1px;\n",
       "                background-color: hsl(40, 100%, 70%);\n",
       "                text-align: center;\n",
       "                white-space: nowrap;\">▁single\n",
       "</div>\n",
       "    \n",
       "    <div style=\"display: inline-block;\n",
       "                margin: 0px 1px;\n",
       "                color: black;\n",
       "                padding: 1px;\n",
       "                background-color: hsl(125, 100%, 70%);\n",
       "                text-align: center;\n",
       "                white-space: nowrap;\">▁soldiers\n",
       "</div>\n",
       "    \n",
       "    <div style=\"display: inline-block;\n",
       "                margin: 0px 1px;\n",
       "                color: black;\n",
       "                padding: 1px;\n",
       "                background-color: hsl(68, 100%, 70%);\n",
       "                text-align: center;\n",
       "                white-space: nowrap;\">▁and\n",
       "</div>\n",
       "    \n",
       "    <div style=\"display: inline-block;\n",
       "                margin: 0px 1px;\n",
       "                color: black;\n",
       "                padding: 1px;\n",
       "                background-color: hsl(73, 100%, 70%);\n",
       "                text-align: center;\n",
       "                white-space: nowrap;\">▁their\n",
       "</div>\n",
       "    \n",
       "    <div style=\"display: inline-block;\n",
       "                margin: 0px 1px;\n",
       "                color: black;\n",
       "                padding: 1px;\n",
       "                background-color: hsl(120, 100%, 70%);\n",
       "                text-align: center;\n",
       "                white-space: nowrap;\">▁families\n",
       "</div>\n",
       "    \n",
       "    <div style=\"display: inline-block;\n",
       "                margin: 0px 1px;\n",
       "                color: black;\n",
       "                padding: 1px;\n",
       "                background-color: hsl(41, 100%, 70%);\n",
       "                text-align: center;\n",
       "                white-space: nowrap;\">.\n",
       "</div>\n",
       "    "
      ],
      "text/plain": [
       "<IPython.core.display.HTML object>"
      ]
     },
     "metadata": {},
     "output_type": "display_data"
    },
    {
     "name": "stdout",
     "output_type": "stream",
     "text": [
      "layer -1\n",
      "\n",
      "\n",
      "\n",
      "\n",
      "layer -5\n"
     ]
    },
    {
     "data": {
      "text/html": [
       "\n",
       "    <div style=\"display: inline-block;\n",
       "                margin: 0px 1px;\n",
       "                color: black;\n",
       "                padding: 1px;\n",
       "                background-color: hsl(125, 100%, 70%);\n",
       "                text-align: center;\n",
       "                white-space: nowrap;\"><bos>\n",
       "</div>\n",
       "    \n",
       "    <div style=\"display: inline-block;\n",
       "                margin: 0px 1px;\n",
       "                color: black;\n",
       "                padding: 1px;\n",
       "                background-color: hsl(21, 100%, 70%);\n",
       "                text-align: center;\n",
       "                white-space: nowrap;\">▁The\n",
       "</div>\n",
       "    \n",
       "    <div style=\"display: inline-block;\n",
       "                margin: 0px 1px;\n",
       "                color: black;\n",
       "                padding: 1px;\n",
       "                background-color: hsl(8, 100%, 70%);\n",
       "                text-align: center;\n",
       "                white-space: nowrap;\">▁prime\n",
       "</div>\n",
       "    \n",
       "    <div style=\"display: inline-block;\n",
       "                margin: 0px 1px;\n",
       "                color: black;\n",
       "                padding: 1px;\n",
       "                background-color: hsl(0, 100%, 70%);\n",
       "                text-align: center;\n",
       "                white-space: nowrap;\">▁number\n",
       "</div>\n",
       "    \n",
       "    <div style=\"display: inline-block;\n",
       "                margin: 0px 1px;\n",
       "                color: black;\n",
       "                padding: 1px;\n",
       "                background-color: hsl(11, 100%, 70%);\n",
       "                text-align: center;\n",
       "                white-space: nowrap;\">▁few\n",
       "</div>\n",
       "    \n",
       "    <div style=\"display: inline-block;\n",
       "                margin: 0px 1px;\n",
       "                color: black;\n",
       "                padding: 1px;\n",
       "                background-color: hsl(16, 100%, 70%);\n",
       "                text-align: center;\n",
       "                white-space: nowrap;\">.\n",
       "</div>\n",
       "    "
      ],
      "text/plain": [
       "<IPython.core.display.HTML object>"
      ]
     },
     "metadata": {},
     "output_type": "display_data"
    },
    {
     "data": {
      "text/html": [
       "\n",
       "    <div style=\"display: inline-block;\n",
       "                margin: 0px 1px;\n",
       "                color: black;\n",
       "                padding: 1px;\n",
       "                background-color: hsl(0, 100%, 70%);\n",
       "                text-align: center;\n",
       "                white-space: nowrap;\"><bos>\n",
       "</div>\n",
       "    \n",
       "    <div style=\"display: inline-block;\n",
       "                margin: 0px 1px;\n",
       "                color: black;\n",
       "                padding: 1px;\n",
       "                background-color: hsl(102, 100%, 70%);\n",
       "                text-align: center;\n",
       "                white-space: nowrap;\">▁The\n",
       "</div>\n",
       "    \n",
       "    <div style=\"display: inline-block;\n",
       "                margin: 0px 1px;\n",
       "                color: black;\n",
       "                padding: 1px;\n",
       "                background-color: hsl(115, 100%, 70%);\n",
       "                text-align: center;\n",
       "                white-space: nowrap;\">▁prime\n",
       "</div>\n",
       "    \n",
       "    <div style=\"display: inline-block;\n",
       "                margin: 0px 1px;\n",
       "                color: black;\n",
       "                padding: 1px;\n",
       "                background-color: hsl(125, 100%, 70%);\n",
       "                text-align: center;\n",
       "                white-space: nowrap;\">▁number\n",
       "</div>\n",
       "    \n",
       "    <div style=\"display: inline-block;\n",
       "                margin: 0px 1px;\n",
       "                color: black;\n",
       "                padding: 1px;\n",
       "                background-color: hsl(114, 100%, 70%);\n",
       "                text-align: center;\n",
       "                white-space: nowrap;\">▁few\n",
       "</div>\n",
       "    \n",
       "    <div style=\"display: inline-block;\n",
       "                margin: 0px 1px;\n",
       "                color: black;\n",
       "                padding: 1px;\n",
       "                background-color: hsl(108, 100%, 70%);\n",
       "                text-align: center;\n",
       "                white-space: nowrap;\">.\n",
       "</div>\n",
       "    "
      ],
      "text/plain": [
       "<IPython.core.display.HTML object>"
      ]
     },
     "metadata": {},
     "output_type": "display_data"
    },
    {
     "data": {
      "text/html": [
       "\n",
       "    <div style=\"display: inline-block;\n",
       "                margin: 0px 1px;\n",
       "                color: black;\n",
       "                padding: 1px;\n",
       "                background-color: hsl(125, 100%, 70%);\n",
       "                text-align: center;\n",
       "                white-space: nowrap;\"><bos>\n",
       "</div>\n",
       "    \n",
       "    <div style=\"display: inline-block;\n",
       "                margin: 0px 1px;\n",
       "                color: black;\n",
       "                padding: 1px;\n",
       "                background-color: hsl(18, 100%, 70%);\n",
       "                text-align: center;\n",
       "                white-space: nowrap;\">▁The\n",
       "</div>\n",
       "    \n",
       "    <div style=\"display: inline-block;\n",
       "                margin: 0px 1px;\n",
       "                color: black;\n",
       "                padding: 1px;\n",
       "                background-color: hsl(7, 100%, 70%);\n",
       "                text-align: center;\n",
       "                white-space: nowrap;\">▁prime\n",
       "</div>\n",
       "    \n",
       "    <div style=\"display: inline-block;\n",
       "                margin: 0px 1px;\n",
       "                color: black;\n",
       "                padding: 1px;\n",
       "                background-color: hsl(0, 100%, 70%);\n",
       "                text-align: center;\n",
       "                white-space: nowrap;\">▁number\n",
       "</div>\n",
       "    \n",
       "    <div style=\"display: inline-block;\n",
       "                margin: 0px 1px;\n",
       "                color: black;\n",
       "                padding: 1px;\n",
       "                background-color: hsl(8, 100%, 70%);\n",
       "                text-align: center;\n",
       "                white-space: nowrap;\">▁few\n",
       "</div>\n",
       "    \n",
       "    <div style=\"display: inline-block;\n",
       "                margin: 0px 1px;\n",
       "                color: black;\n",
       "                padding: 1px;\n",
       "                background-color: hsl(12, 100%, 70%);\n",
       "                text-align: center;\n",
       "                white-space: nowrap;\">.\n",
       "</div>\n",
       "    "
      ],
      "text/plain": [
       "<IPython.core.display.HTML object>"
      ]
     },
     "metadata": {},
     "output_type": "display_data"
    },
    {
     "data": {
      "text/html": [
       "\n",
       "    <div style=\"display: inline-block;\n",
       "                margin: 0px 1px;\n",
       "                color: black;\n",
       "                padding: 1px;\n",
       "                background-color: hsl(0, 100%, 70%);\n",
       "                text-align: center;\n",
       "                white-space: nowrap;\"><bos>\n",
       "</div>\n",
       "    \n",
       "    <div style=\"display: inline-block;\n",
       "                margin: 0px 1px;\n",
       "                color: black;\n",
       "                padding: 1px;\n",
       "                background-color: hsl(106, 100%, 70%);\n",
       "                text-align: center;\n",
       "                white-space: nowrap;\">▁The\n",
       "</div>\n",
       "    \n",
       "    <div style=\"display: inline-block;\n",
       "                margin: 0px 1px;\n",
       "                color: black;\n",
       "                padding: 1px;\n",
       "                background-color: hsl(114, 100%, 70%);\n",
       "                text-align: center;\n",
       "                white-space: nowrap;\">▁prime\n",
       "</div>\n",
       "    \n",
       "    <div style=\"display: inline-block;\n",
       "                margin: 0px 1px;\n",
       "                color: black;\n",
       "                padding: 1px;\n",
       "                background-color: hsl(125, 100%, 70%);\n",
       "                text-align: center;\n",
       "                white-space: nowrap;\">▁number\n",
       "</div>\n",
       "    \n",
       "    <div style=\"display: inline-block;\n",
       "                margin: 0px 1px;\n",
       "                color: black;\n",
       "                padding: 1px;\n",
       "                background-color: hsl(118, 100%, 70%);\n",
       "                text-align: center;\n",
       "                white-space: nowrap;\">▁few\n",
       "</div>\n",
       "    \n",
       "    <div style=\"display: inline-block;\n",
       "                margin: 0px 1px;\n",
       "                color: black;\n",
       "                padding: 1px;\n",
       "                background-color: hsl(113, 100%, 70%);\n",
       "                text-align: center;\n",
       "                white-space: nowrap;\">.\n",
       "</div>\n",
       "    "
      ],
      "text/plain": [
       "<IPython.core.display.HTML object>"
      ]
     },
     "metadata": {},
     "output_type": "display_data"
    },
    {
     "data": {
      "text/html": [
       "\n",
       "    <div style=\"display: inline-block;\n",
       "                margin: 0px 1px;\n",
       "                color: black;\n",
       "                padding: 1px;\n",
       "                background-color: hsl(0, 100%, 70%);\n",
       "                text-align: center;\n",
       "                white-space: nowrap;\"><bos>\n",
       "</div>\n",
       "    \n",
       "    <div style=\"display: inline-block;\n",
       "                margin: 0px 1px;\n",
       "                color: black;\n",
       "                padding: 1px;\n",
       "                background-color: hsl(108, 100%, 70%);\n",
       "                text-align: center;\n",
       "                white-space: nowrap;\">▁The\n",
       "</div>\n",
       "    \n",
       "    <div style=\"display: inline-block;\n",
       "                margin: 0px 1px;\n",
       "                color: black;\n",
       "                padding: 1px;\n",
       "                background-color: hsl(116, 100%, 70%);\n",
       "                text-align: center;\n",
       "                white-space: nowrap;\">▁prime\n",
       "</div>\n",
       "    \n",
       "    <div style=\"display: inline-block;\n",
       "                margin: 0px 1px;\n",
       "                color: black;\n",
       "                padding: 1px;\n",
       "                background-color: hsl(125, 100%, 70%);\n",
       "                text-align: center;\n",
       "                white-space: nowrap;\">▁number\n",
       "</div>\n",
       "    \n",
       "    <div style=\"display: inline-block;\n",
       "                margin: 0px 1px;\n",
       "                color: black;\n",
       "                padding: 1px;\n",
       "                background-color: hsl(115, 100%, 70%);\n",
       "                text-align: center;\n",
       "                white-space: nowrap;\">▁few\n",
       "</div>\n",
       "    \n",
       "    <div style=\"display: inline-block;\n",
       "                margin: 0px 1px;\n",
       "                color: black;\n",
       "                padding: 1px;\n",
       "                background-color: hsl(115, 100%, 70%);\n",
       "                text-align: center;\n",
       "                white-space: nowrap;\">.\n",
       "</div>\n",
       "    "
      ],
      "text/plain": [
       "<IPython.core.display.HTML object>"
      ]
     },
     "metadata": {},
     "output_type": "display_data"
    },
    {
     "data": {
      "text/html": [
       "\n",
       "    <div style=\"display: inline-block;\n",
       "                margin: 0px 1px;\n",
       "                color: black;\n",
       "                padding: 1px;\n",
       "                background-color: hsl(0, 100%, 70%);\n",
       "                text-align: center;\n",
       "                white-space: nowrap;\"><bos>\n",
       "</div>\n",
       "    \n",
       "    <div style=\"display: inline-block;\n",
       "                margin: 0px 1px;\n",
       "                color: black;\n",
       "                padding: 1px;\n",
       "                background-color: hsl(110, 100%, 70%);\n",
       "                text-align: center;\n",
       "                white-space: nowrap;\">▁The\n",
       "</div>\n",
       "    \n",
       "    <div style=\"display: inline-block;\n",
       "                margin: 0px 1px;\n",
       "                color: black;\n",
       "                padding: 1px;\n",
       "                background-color: hsl(119, 100%, 70%);\n",
       "                text-align: center;\n",
       "                white-space: nowrap;\">▁prime\n",
       "</div>\n",
       "    \n",
       "    <div style=\"display: inline-block;\n",
       "                margin: 0px 1px;\n",
       "                color: black;\n",
       "                padding: 1px;\n",
       "                background-color: hsl(125, 100%, 70%);\n",
       "                text-align: center;\n",
       "                white-space: nowrap;\">▁number\n",
       "</div>\n",
       "    \n",
       "    <div style=\"display: inline-block;\n",
       "                margin: 0px 1px;\n",
       "                color: black;\n",
       "                padding: 1px;\n",
       "                background-color: hsl(116, 100%, 70%);\n",
       "                text-align: center;\n",
       "                white-space: nowrap;\">▁few\n",
       "</div>\n",
       "    \n",
       "    <div style=\"display: inline-block;\n",
       "                margin: 0px 1px;\n",
       "                color: black;\n",
       "                padding: 1px;\n",
       "                background-color: hsl(117, 100%, 70%);\n",
       "                text-align: center;\n",
       "                white-space: nowrap;\">.\n",
       "</div>\n",
       "    "
      ],
      "text/plain": [
       "<IPython.core.display.HTML object>"
      ]
     },
     "metadata": {},
     "output_type": "display_data"
    },
    {
     "data": {
      "text/html": [
       "\n",
       "    <div style=\"display: inline-block;\n",
       "                margin: 0px 1px;\n",
       "                color: black;\n",
       "                padding: 1px;\n",
       "                background-color: hsl(125, 100%, 70%);\n",
       "                text-align: center;\n",
       "                white-space: nowrap;\"><bos>\n",
       "</div>\n",
       "    \n",
       "    <div style=\"display: inline-block;\n",
       "                margin: 0px 1px;\n",
       "                color: black;\n",
       "                padding: 1px;\n",
       "                background-color: hsl(0, 100%, 70%);\n",
       "                text-align: center;\n",
       "                white-space: nowrap;\">▁The\n",
       "</div>\n",
       "    \n",
       "    <div style=\"display: inline-block;\n",
       "                margin: 0px 1px;\n",
       "                color: black;\n",
       "                padding: 1px;\n",
       "                background-color: hsl(81, 100%, 70%);\n",
       "                text-align: center;\n",
       "                white-space: nowrap;\">▁prime\n",
       "</div>\n",
       "    \n",
       "    <div style=\"display: inline-block;\n",
       "                margin: 0px 1px;\n",
       "                color: black;\n",
       "                padding: 1px;\n",
       "                background-color: hsl(94, 100%, 70%);\n",
       "                text-align: center;\n",
       "                white-space: nowrap;\">▁number\n",
       "</div>\n",
       "    \n",
       "    <div style=\"display: inline-block;\n",
       "                margin: 0px 1px;\n",
       "                color: black;\n",
       "                padding: 1px;\n",
       "                background-color: hsl(69, 100%, 70%);\n",
       "                text-align: center;\n",
       "                white-space: nowrap;\">▁few\n",
       "</div>\n",
       "    \n",
       "    <div style=\"display: inline-block;\n",
       "                margin: 0px 1px;\n",
       "                color: black;\n",
       "                padding: 1px;\n",
       "                background-color: hsl(67, 100%, 70%);\n",
       "                text-align: center;\n",
       "                white-space: nowrap;\">.\n",
       "</div>\n",
       "    "
      ],
      "text/plain": [
       "<IPython.core.display.HTML object>"
      ]
     },
     "metadata": {},
     "output_type": "display_data"
    },
    {
     "name": "stdout",
     "output_type": "stream",
     "text": [
      "layer -1\n",
      "\n",
      "\n",
      "\n",
      "\n",
      "layer -5\n"
     ]
    },
    {
     "data": {
      "text/html": [
       "\n",
       "    <div style=\"display: inline-block;\n",
       "                margin: 0px 1px;\n",
       "                color: black;\n",
       "                padding: 1px;\n",
       "                background-color: hsl(125, 100%, 70%);\n",
       "                text-align: center;\n",
       "                white-space: nowrap;\"><bos>\n",
       "</div>\n",
       "    \n",
       "    <div style=\"display: inline-block;\n",
       "                margin: 0px 1px;\n",
       "                color: black;\n",
       "                padding: 1px;\n",
       "                background-color: hsl(25, 100%, 70%);\n",
       "                text-align: center;\n",
       "                white-space: nowrap;\">▁The\n",
       "</div>\n",
       "    \n",
       "    <div style=\"display: inline-block;\n",
       "                margin: 0px 1px;\n",
       "                color: black;\n",
       "                padding: 1px;\n",
       "                background-color: hsl(12, 100%, 70%);\n",
       "                text-align: center;\n",
       "                white-space: nowrap;\">▁cot\n",
       "</div>\n",
       "    \n",
       "    <div style=\"display: inline-block;\n",
       "                margin: 0px 1px;\n",
       "                color: black;\n",
       "                padding: 1px;\n",
       "                background-color: hsl(12, 100%, 70%);\n",
       "                text-align: center;\n",
       "                white-space: nowrap;\">ton\n",
       "</div>\n",
       "    \n",
       "    <div style=\"display: inline-block;\n",
       "                margin: 0px 1px;\n",
       "                color: black;\n",
       "                padding: 1px;\n",
       "                background-color: hsl(0, 100%, 70%);\n",
       "                text-align: center;\n",
       "                white-space: nowrap;\">▁cl\n",
       "</div>\n",
       "    \n",
       "    <div style=\"display: inline-block;\n",
       "                margin: 0px 1px;\n",
       "                color: black;\n",
       "                padding: 1px;\n",
       "                background-color: hsl(23, 100%, 70%);\n",
       "                text-align: center;\n",
       "                white-space: nowrap;\">othing\n",
       "</div>\n",
       "    \n",
       "    <div style=\"display: inline-block;\n",
       "                margin: 0px 1px;\n",
       "                color: black;\n",
       "                padding: 1px;\n",
       "                background-color: hsl(11, 100%, 70%);\n",
       "                text-align: center;\n",
       "                white-space: nowrap;\">▁is\n",
       "</div>\n",
       "    \n",
       "    <div style=\"display: inline-block;\n",
       "                margin: 0px 1px;\n",
       "                color: black;\n",
       "                padding: 1px;\n",
       "                background-color: hsl(12, 100%, 70%);\n",
       "                text-align: center;\n",
       "                white-space: nowrap;\">▁usually\n",
       "</div>\n",
       "    \n",
       "    <div style=\"display: inline-block;\n",
       "                margin: 0px 1px;\n",
       "                color: black;\n",
       "                padding: 1px;\n",
       "                background-color: hsl(2, 100%, 70%);\n",
       "                text-align: center;\n",
       "                white-space: nowrap;\">▁made\n",
       "</div>\n",
       "    \n",
       "    <div style=\"display: inline-block;\n",
       "                margin: 0px 1px;\n",
       "                color: black;\n",
       "                padding: 1px;\n",
       "                background-color: hsl(0, 100%, 70%);\n",
       "                text-align: center;\n",
       "                white-space: nowrap;\">▁of\n",
       "</div>\n",
       "    \n",
       "    <div style=\"display: inline-block;\n",
       "                margin: 0px 1px;\n",
       "                color: black;\n",
       "                padding: 1px;\n",
       "                background-color: hsl(2, 100%, 70%);\n",
       "                text-align: center;\n",
       "                white-space: nowrap;\">▁grows\n",
       "</div>\n",
       "    \n",
       "    <div style=\"display: inline-block;\n",
       "                margin: 0px 1px;\n",
       "                color: black;\n",
       "                padding: 1px;\n",
       "                background-color: hsl(2, 100%, 70%);\n",
       "                text-align: center;\n",
       "                white-space: nowrap;\">▁in\n",
       "</div>\n",
       "    \n",
       "    <div style=\"display: inline-block;\n",
       "                margin: 0px 1px;\n",
       "                color: black;\n",
       "                padding: 1px;\n",
       "                background-color: hsl(6, 100%, 70%);\n",
       "                text-align: center;\n",
       "                white-space: nowrap;\">▁Mississippi\n",
       "</div>\n",
       "    \n",
       "    <div style=\"display: inline-block;\n",
       "                margin: 0px 1px;\n",
       "                color: black;\n",
       "                padding: 1px;\n",
       "                background-color: hsl(15, 100%, 70%);\n",
       "                text-align: center;\n",
       "                white-space: nowrap;\">.\n",
       "</div>\n",
       "    "
      ],
      "text/plain": [
       "<IPython.core.display.HTML object>"
      ]
     },
     "metadata": {},
     "output_type": "display_data"
    },
    {
     "data": {
      "text/html": [
       "\n",
       "    <div style=\"display: inline-block;\n",
       "                margin: 0px 1px;\n",
       "                color: black;\n",
       "                padding: 1px;\n",
       "                background-color: hsl(0, 100%, 70%);\n",
       "                text-align: center;\n",
       "                white-space: nowrap;\"><bos>\n",
       "</div>\n",
       "    \n",
       "    <div style=\"display: inline-block;\n",
       "                margin: 0px 1px;\n",
       "                color: black;\n",
       "                padding: 1px;\n",
       "                background-color: hsl(99, 100%, 70%);\n",
       "                text-align: center;\n",
       "                white-space: nowrap;\">▁The\n",
       "</div>\n",
       "    \n",
       "    <div style=\"display: inline-block;\n",
       "                margin: 0px 1px;\n",
       "                color: black;\n",
       "                padding: 1px;\n",
       "                background-color: hsl(116, 100%, 70%);\n",
       "                text-align: center;\n",
       "                white-space: nowrap;\">▁cot\n",
       "</div>\n",
       "    \n",
       "    <div style=\"display: inline-block;\n",
       "                margin: 0px 1px;\n",
       "                color: black;\n",
       "                padding: 1px;\n",
       "                background-color: hsl(113, 100%, 70%);\n",
       "                text-align: center;\n",
       "                white-space: nowrap;\">ton\n",
       "</div>\n",
       "    \n",
       "    <div style=\"display: inline-block;\n",
       "                margin: 0px 1px;\n",
       "                color: black;\n",
       "                padding: 1px;\n",
       "                background-color: hsl(125, 100%, 70%);\n",
       "                text-align: center;\n",
       "                white-space: nowrap;\">▁cl\n",
       "</div>\n",
       "    \n",
       "    <div style=\"display: inline-block;\n",
       "                margin: 0px 1px;\n",
       "                color: black;\n",
       "                padding: 1px;\n",
       "                background-color: hsl(103, 100%, 70%);\n",
       "                text-align: center;\n",
       "                white-space: nowrap;\">othing\n",
       "</div>\n",
       "    \n",
       "    <div style=\"display: inline-block;\n",
       "                margin: 0px 1px;\n",
       "                color: black;\n",
       "                padding: 1px;\n",
       "                background-color: hsl(118, 100%, 70%);\n",
       "                text-align: center;\n",
       "                white-space: nowrap;\">▁is\n",
       "</div>\n",
       "    \n",
       "    <div style=\"display: inline-block;\n",
       "                margin: 0px 1px;\n",
       "                color: black;\n",
       "                padding: 1px;\n",
       "                background-color: hsl(118, 100%, 70%);\n",
       "                text-align: center;\n",
       "                white-space: nowrap;\">▁usually\n",
       "</div>\n",
       "    \n",
       "    <div style=\"display: inline-block;\n",
       "                margin: 0px 1px;\n",
       "                color: black;\n",
       "                padding: 1px;\n",
       "                background-color: hsl(119, 100%, 70%);\n",
       "                text-align: center;\n",
       "                white-space: nowrap;\">▁made\n",
       "</div>\n",
       "    \n",
       "    <div style=\"display: inline-block;\n",
       "                margin: 0px 1px;\n",
       "                color: black;\n",
       "                padding: 1px;\n",
       "                background-color: hsl(120, 100%, 70%);\n",
       "                text-align: center;\n",
       "                white-space: nowrap;\">▁of\n",
       "</div>\n",
       "    \n",
       "    <div style=\"display: inline-block;\n",
       "                margin: 0px 1px;\n",
       "                color: black;\n",
       "                padding: 1px;\n",
       "                background-color: hsl(123, 100%, 70%);\n",
       "                text-align: center;\n",
       "                white-space: nowrap;\">▁grows\n",
       "</div>\n",
       "    \n",
       "    <div style=\"display: inline-block;\n",
       "                margin: 0px 1px;\n",
       "                color: black;\n",
       "                padding: 1px;\n",
       "                background-color: hsl(122, 100%, 70%);\n",
       "                text-align: center;\n",
       "                white-space: nowrap;\">▁in\n",
       "</div>\n",
       "    \n",
       "    <div style=\"display: inline-block;\n",
       "                margin: 0px 1px;\n",
       "                color: black;\n",
       "                padding: 1px;\n",
       "                background-color: hsl(118, 100%, 70%);\n",
       "                text-align: center;\n",
       "                white-space: nowrap;\">▁Mississippi\n",
       "</div>\n",
       "    \n",
       "    <div style=\"display: inline-block;\n",
       "                margin: 0px 1px;\n",
       "                color: black;\n",
       "                padding: 1px;\n",
       "                background-color: hsl(110, 100%, 70%);\n",
       "                text-align: center;\n",
       "                white-space: nowrap;\">.\n",
       "</div>\n",
       "    "
      ],
      "text/plain": [
       "<IPython.core.display.HTML object>"
      ]
     },
     "metadata": {},
     "output_type": "display_data"
    },
    {
     "data": {
      "text/html": [
       "\n",
       "    <div style=\"display: inline-block;\n",
       "                margin: 0px 1px;\n",
       "                color: black;\n",
       "                padding: 1px;\n",
       "                background-color: hsl(125, 100%, 70%);\n",
       "                text-align: center;\n",
       "                white-space: nowrap;\"><bos>\n",
       "</div>\n",
       "    \n",
       "    <div style=\"display: inline-block;\n",
       "                margin: 0px 1px;\n",
       "                color: black;\n",
       "                padding: 1px;\n",
       "                background-color: hsl(21, 100%, 70%);\n",
       "                text-align: center;\n",
       "                white-space: nowrap;\">▁The\n",
       "</div>\n",
       "    \n",
       "    <div style=\"display: inline-block;\n",
       "                margin: 0px 1px;\n",
       "                color: black;\n",
       "                padding: 1px;\n",
       "                background-color: hsl(6, 100%, 70%);\n",
       "                text-align: center;\n",
       "                white-space: nowrap;\">▁cot\n",
       "</div>\n",
       "    \n",
       "    <div style=\"display: inline-block;\n",
       "                margin: 0px 1px;\n",
       "                color: black;\n",
       "                padding: 1px;\n",
       "                background-color: hsl(10, 100%, 70%);\n",
       "                text-align: center;\n",
       "                white-space: nowrap;\">ton\n",
       "</div>\n",
       "    \n",
       "    <div style=\"display: inline-block;\n",
       "                margin: 0px 1px;\n",
       "                color: black;\n",
       "                padding: 1px;\n",
       "                background-color: hsl(0, 100%, 70%);\n",
       "                text-align: center;\n",
       "                white-space: nowrap;\">▁cl\n",
       "</div>\n",
       "    \n",
       "    <div style=\"display: inline-block;\n",
       "                margin: 0px 1px;\n",
       "                color: black;\n",
       "                padding: 1px;\n",
       "                background-color: hsl(21, 100%, 70%);\n",
       "                text-align: center;\n",
       "                white-space: nowrap;\">othing\n",
       "</div>\n",
       "    \n",
       "    <div style=\"display: inline-block;\n",
       "                margin: 0px 1px;\n",
       "                color: black;\n",
       "                padding: 1px;\n",
       "                background-color: hsl(9, 100%, 70%);\n",
       "                text-align: center;\n",
       "                white-space: nowrap;\">▁is\n",
       "</div>\n",
       "    \n",
       "    <div style=\"display: inline-block;\n",
       "                margin: 0px 1px;\n",
       "                color: black;\n",
       "                padding: 1px;\n",
       "                background-color: hsl(7, 100%, 70%);\n",
       "                text-align: center;\n",
       "                white-space: nowrap;\">▁usually\n",
       "</div>\n",
       "    \n",
       "    <div style=\"display: inline-block;\n",
       "                margin: 0px 1px;\n",
       "                color: black;\n",
       "                padding: 1px;\n",
       "                background-color: hsl(7, 100%, 70%);\n",
       "                text-align: center;\n",
       "                white-space: nowrap;\">▁made\n",
       "</div>\n",
       "    \n",
       "    <div style=\"display: inline-block;\n",
       "                margin: 0px 1px;\n",
       "                color: black;\n",
       "                padding: 1px;\n",
       "                background-color: hsl(3, 100%, 70%);\n",
       "                text-align: center;\n",
       "                white-space: nowrap;\">▁of\n",
       "</div>\n",
       "    \n",
       "    <div style=\"display: inline-block;\n",
       "                margin: 0px 1px;\n",
       "                color: black;\n",
       "                padding: 1px;\n",
       "                background-color: hsl(2, 100%, 70%);\n",
       "                text-align: center;\n",
       "                white-space: nowrap;\">▁grows\n",
       "</div>\n",
       "    \n",
       "    <div style=\"display: inline-block;\n",
       "                margin: 0px 1px;\n",
       "                color: black;\n",
       "                padding: 1px;\n",
       "                background-color: hsl(2, 100%, 70%);\n",
       "                text-align: center;\n",
       "                white-space: nowrap;\">▁in\n",
       "</div>\n",
       "    \n",
       "    <div style=\"display: inline-block;\n",
       "                margin: 0px 1px;\n",
       "                color: black;\n",
       "                padding: 1px;\n",
       "                background-color: hsl(0, 100%, 70%);\n",
       "                text-align: center;\n",
       "                white-space: nowrap;\">▁Mississippi\n",
       "</div>\n",
       "    \n",
       "    <div style=\"display: inline-block;\n",
       "                margin: 0px 1px;\n",
       "                color: black;\n",
       "                padding: 1px;\n",
       "                background-color: hsl(9, 100%, 70%);\n",
       "                text-align: center;\n",
       "                white-space: nowrap;\">.\n",
       "</div>\n",
       "    "
      ],
      "text/plain": [
       "<IPython.core.display.HTML object>"
      ]
     },
     "metadata": {},
     "output_type": "display_data"
    },
    {
     "data": {
      "text/html": [
       "\n",
       "    <div style=\"display: inline-block;\n",
       "                margin: 0px 1px;\n",
       "                color: black;\n",
       "                padding: 1px;\n",
       "                background-color: hsl(0, 100%, 70%);\n",
       "                text-align: center;\n",
       "                white-space: nowrap;\"><bos>\n",
       "</div>\n",
       "    \n",
       "    <div style=\"display: inline-block;\n",
       "                margin: 0px 1px;\n",
       "                color: black;\n",
       "                padding: 1px;\n",
       "                background-color: hsl(103, 100%, 70%);\n",
       "                text-align: center;\n",
       "                white-space: nowrap;\">▁The\n",
       "</div>\n",
       "    \n",
       "    <div style=\"display: inline-block;\n",
       "                margin: 0px 1px;\n",
       "                color: black;\n",
       "                padding: 1px;\n",
       "                background-color: hsl(120, 100%, 70%);\n",
       "                text-align: center;\n",
       "                white-space: nowrap;\">▁cot\n",
       "</div>\n",
       "    \n",
       "    <div style=\"display: inline-block;\n",
       "                margin: 0px 1px;\n",
       "                color: black;\n",
       "                padding: 1px;\n",
       "                background-color: hsl(112, 100%, 70%);\n",
       "                text-align: center;\n",
       "                white-space: nowrap;\">ton\n",
       "</div>\n",
       "    \n",
       "    <div style=\"display: inline-block;\n",
       "                margin: 0px 1px;\n",
       "                color: black;\n",
       "                padding: 1px;\n",
       "                background-color: hsl(125, 100%, 70%);\n",
       "                text-align: center;\n",
       "                white-space: nowrap;\">▁cl\n",
       "</div>\n",
       "    \n",
       "    <div style=\"display: inline-block;\n",
       "                margin: 0px 1px;\n",
       "                color: black;\n",
       "                padding: 1px;\n",
       "                background-color: hsl(102, 100%, 70%);\n",
       "                text-align: center;\n",
       "                white-space: nowrap;\">othing\n",
       "</div>\n",
       "    \n",
       "    <div style=\"display: inline-block;\n",
       "                margin: 0px 1px;\n",
       "                color: black;\n",
       "                padding: 1px;\n",
       "                background-color: hsl(117, 100%, 70%);\n",
       "                text-align: center;\n",
       "                white-space: nowrap;\">▁is\n",
       "</div>\n",
       "    \n",
       "    <div style=\"display: inline-block;\n",
       "                margin: 0px 1px;\n",
       "                color: black;\n",
       "                padding: 1px;\n",
       "                background-color: hsl(121, 100%, 70%);\n",
       "                text-align: center;\n",
       "                white-space: nowrap;\">▁usually\n",
       "</div>\n",
       "    \n",
       "    <div style=\"display: inline-block;\n",
       "                margin: 0px 1px;\n",
       "                color: black;\n",
       "                padding: 1px;\n",
       "                background-color: hsl(118, 100%, 70%);\n",
       "                text-align: center;\n",
       "                white-space: nowrap;\">▁made\n",
       "</div>\n",
       "    \n",
       "    <div style=\"display: inline-block;\n",
       "                margin: 0px 1px;\n",
       "                color: black;\n",
       "                padding: 1px;\n",
       "                background-color: hsl(118, 100%, 70%);\n",
       "                text-align: center;\n",
       "                white-space: nowrap;\">▁of\n",
       "</div>\n",
       "    \n",
       "    <div style=\"display: inline-block;\n",
       "                margin: 0px 1px;\n",
       "                color: black;\n",
       "                padding: 1px;\n",
       "                background-color: hsl(121, 100%, 70%);\n",
       "                text-align: center;\n",
       "                white-space: nowrap;\">▁grows\n",
       "</div>\n",
       "    \n",
       "    <div style=\"display: inline-block;\n",
       "                margin: 0px 1px;\n",
       "                color: black;\n",
       "                padding: 1px;\n",
       "                background-color: hsl(117, 100%, 70%);\n",
       "                text-align: center;\n",
       "                white-space: nowrap;\">▁in\n",
       "</div>\n",
       "    \n",
       "    <div style=\"display: inline-block;\n",
       "                margin: 0px 1px;\n",
       "                color: black;\n",
       "                padding: 1px;\n",
       "                background-color: hsl(124, 100%, 70%);\n",
       "                text-align: center;\n",
       "                white-space: nowrap;\">▁Mississippi\n",
       "</div>\n",
       "    \n",
       "    <div style=\"display: inline-block;\n",
       "                margin: 0px 1px;\n",
       "                color: black;\n",
       "                padding: 1px;\n",
       "                background-color: hsl(113, 100%, 70%);\n",
       "                text-align: center;\n",
       "                white-space: nowrap;\">.\n",
       "</div>\n",
       "    "
      ],
      "text/plain": [
       "<IPython.core.display.HTML object>"
      ]
     },
     "metadata": {},
     "output_type": "display_data"
    },
    {
     "data": {
      "text/html": [
       "\n",
       "    <div style=\"display: inline-block;\n",
       "                margin: 0px 1px;\n",
       "                color: black;\n",
       "                padding: 1px;\n",
       "                background-color: hsl(0, 100%, 70%);\n",
       "                text-align: center;\n",
       "                white-space: nowrap;\"><bos>\n",
       "</div>\n",
       "    \n",
       "    <div style=\"display: inline-block;\n",
       "                margin: 0px 1px;\n",
       "                color: black;\n",
       "                padding: 1px;\n",
       "                background-color: hsl(107, 100%, 70%);\n",
       "                text-align: center;\n",
       "                white-space: nowrap;\">▁The\n",
       "</div>\n",
       "    \n",
       "    <div style=\"display: inline-block;\n",
       "                margin: 0px 1px;\n",
       "                color: black;\n",
       "                padding: 1px;\n",
       "                background-color: hsl(119, 100%, 70%);\n",
       "                text-align: center;\n",
       "                white-space: nowrap;\">▁cot\n",
       "</div>\n",
       "    \n",
       "    <div style=\"display: inline-block;\n",
       "                margin: 0px 1px;\n",
       "                color: black;\n",
       "                padding: 1px;\n",
       "                background-color: hsl(116, 100%, 70%);\n",
       "                text-align: center;\n",
       "                white-space: nowrap;\">ton\n",
       "</div>\n",
       "    \n",
       "    <div style=\"display: inline-block;\n",
       "                margin: 0px 1px;\n",
       "                color: black;\n",
       "                padding: 1px;\n",
       "                background-color: hsl(124, 100%, 70%);\n",
       "                text-align: center;\n",
       "                white-space: nowrap;\">▁cl\n",
       "</div>\n",
       "    \n",
       "    <div style=\"display: inline-block;\n",
       "                margin: 0px 1px;\n",
       "                color: black;\n",
       "                padding: 1px;\n",
       "                background-color: hsl(107, 100%, 70%);\n",
       "                text-align: center;\n",
       "                white-space: nowrap;\">othing\n",
       "</div>\n",
       "    \n",
       "    <div style=\"display: inline-block;\n",
       "                margin: 0px 1px;\n",
       "                color: black;\n",
       "                padding: 1px;\n",
       "                background-color: hsl(120, 100%, 70%);\n",
       "                text-align: center;\n",
       "                white-space: nowrap;\">▁is\n",
       "</div>\n",
       "    \n",
       "    <div style=\"display: inline-block;\n",
       "                margin: 0px 1px;\n",
       "                color: black;\n",
       "                padding: 1px;\n",
       "                background-color: hsl(121, 100%, 70%);\n",
       "                text-align: center;\n",
       "                white-space: nowrap;\">▁usually\n",
       "</div>\n",
       "    \n",
       "    <div style=\"display: inline-block;\n",
       "                margin: 0px 1px;\n",
       "                color: black;\n",
       "                padding: 1px;\n",
       "                background-color: hsl(121, 100%, 70%);\n",
       "                text-align: center;\n",
       "                white-space: nowrap;\">▁made\n",
       "</div>\n",
       "    \n",
       "    <div style=\"display: inline-block;\n",
       "                margin: 0px 1px;\n",
       "                color: black;\n",
       "                padding: 1px;\n",
       "                background-color: hsl(118, 100%, 70%);\n",
       "                text-align: center;\n",
       "                white-space: nowrap;\">▁of\n",
       "</div>\n",
       "    \n",
       "    <div style=\"display: inline-block;\n",
       "                margin: 0px 1px;\n",
       "                color: black;\n",
       "                padding: 1px;\n",
       "                background-color: hsl(121, 100%, 70%);\n",
       "                text-align: center;\n",
       "                white-space: nowrap;\">▁grows\n",
       "</div>\n",
       "    \n",
       "    <div style=\"display: inline-block;\n",
       "                margin: 0px 1px;\n",
       "                color: black;\n",
       "                padding: 1px;\n",
       "                background-color: hsl(120, 100%, 70%);\n",
       "                text-align: center;\n",
       "                white-space: nowrap;\">▁in\n",
       "</div>\n",
       "    \n",
       "    <div style=\"display: inline-block;\n",
       "                margin: 0px 1px;\n",
       "                color: black;\n",
       "                padding: 1px;\n",
       "                background-color: hsl(125, 100%, 70%);\n",
       "                text-align: center;\n",
       "                white-space: nowrap;\">▁Mississippi\n",
       "</div>\n",
       "    \n",
       "    <div style=\"display: inline-block;\n",
       "                margin: 0px 1px;\n",
       "                color: black;\n",
       "                padding: 1px;\n",
       "                background-color: hsl(115, 100%, 70%);\n",
       "                text-align: center;\n",
       "                white-space: nowrap;\">.\n",
       "</div>\n",
       "    "
      ],
      "text/plain": [
       "<IPython.core.display.HTML object>"
      ]
     },
     "metadata": {},
     "output_type": "display_data"
    },
    {
     "data": {
      "text/html": [
       "\n",
       "    <div style=\"display: inline-block;\n",
       "                margin: 0px 1px;\n",
       "                color: black;\n",
       "                padding: 1px;\n",
       "                background-color: hsl(0, 100%, 70%);\n",
       "                text-align: center;\n",
       "                white-space: nowrap;\"><bos>\n",
       "</div>\n",
       "    \n",
       "    <div style=\"display: inline-block;\n",
       "                margin: 0px 1px;\n",
       "                color: black;\n",
       "                padding: 1px;\n",
       "                background-color: hsl(108, 100%, 70%);\n",
       "                text-align: center;\n",
       "                white-space: nowrap;\">▁The\n",
       "</div>\n",
       "    \n",
       "    <div style=\"display: inline-block;\n",
       "                margin: 0px 1px;\n",
       "                color: black;\n",
       "                padding: 1px;\n",
       "                background-color: hsl(119, 100%, 70%);\n",
       "                text-align: center;\n",
       "                white-space: nowrap;\">▁cot\n",
       "</div>\n",
       "    \n",
       "    <div style=\"display: inline-block;\n",
       "                margin: 0px 1px;\n",
       "                color: black;\n",
       "                padding: 1px;\n",
       "                background-color: hsl(117, 100%, 70%);\n",
       "                text-align: center;\n",
       "                white-space: nowrap;\">ton\n",
       "</div>\n",
       "    \n",
       "    <div style=\"display: inline-block;\n",
       "                margin: 0px 1px;\n",
       "                color: black;\n",
       "                padding: 1px;\n",
       "                background-color: hsl(125, 100%, 70%);\n",
       "                text-align: center;\n",
       "                white-space: nowrap;\">▁cl\n",
       "</div>\n",
       "    \n",
       "    <div style=\"display: inline-block;\n",
       "                margin: 0px 1px;\n",
       "                color: black;\n",
       "                padding: 1px;\n",
       "                background-color: hsl(106, 100%, 70%);\n",
       "                text-align: center;\n",
       "                white-space: nowrap;\">othing\n",
       "</div>\n",
       "    \n",
       "    <div style=\"display: inline-block;\n",
       "                margin: 0px 1px;\n",
       "                color: black;\n",
       "                padding: 1px;\n",
       "                background-color: hsl(118, 100%, 70%);\n",
       "                text-align: center;\n",
       "                white-space: nowrap;\">▁is\n",
       "</div>\n",
       "    \n",
       "    <div style=\"display: inline-block;\n",
       "                margin: 0px 1px;\n",
       "                color: black;\n",
       "                padding: 1px;\n",
       "                background-color: hsl(119, 100%, 70%);\n",
       "                text-align: center;\n",
       "                white-space: nowrap;\">▁usually\n",
       "</div>\n",
       "    \n",
       "    <div style=\"display: inline-block;\n",
       "                margin: 0px 1px;\n",
       "                color: black;\n",
       "                padding: 1px;\n",
       "                background-color: hsl(124, 100%, 70%);\n",
       "                text-align: center;\n",
       "                white-space: nowrap;\">▁made\n",
       "</div>\n",
       "    \n",
       "    <div style=\"display: inline-block;\n",
       "                margin: 0px 1px;\n",
       "                color: black;\n",
       "                padding: 1px;\n",
       "                background-color: hsl(115, 100%, 70%);\n",
       "                text-align: center;\n",
       "                white-space: nowrap;\">▁of\n",
       "</div>\n",
       "    \n",
       "    <div style=\"display: inline-block;\n",
       "                margin: 0px 1px;\n",
       "                color: black;\n",
       "                padding: 1px;\n",
       "                background-color: hsl(121, 100%, 70%);\n",
       "                text-align: center;\n",
       "                white-space: nowrap;\">▁grows\n",
       "</div>\n",
       "    \n",
       "    <div style=\"display: inline-block;\n",
       "                margin: 0px 1px;\n",
       "                color: black;\n",
       "                padding: 1px;\n",
       "                background-color: hsl(120, 100%, 70%);\n",
       "                text-align: center;\n",
       "                white-space: nowrap;\">▁in\n",
       "</div>\n",
       "    \n",
       "    <div style=\"display: inline-block;\n",
       "                margin: 0px 1px;\n",
       "                color: black;\n",
       "                padding: 1px;\n",
       "                background-color: hsl(123, 100%, 70%);\n",
       "                text-align: center;\n",
       "                white-space: nowrap;\">▁Mississippi\n",
       "</div>\n",
       "    \n",
       "    <div style=\"display: inline-block;\n",
       "                margin: 0px 1px;\n",
       "                color: black;\n",
       "                padding: 1px;\n",
       "                background-color: hsl(113, 100%, 70%);\n",
       "                text-align: center;\n",
       "                white-space: nowrap;\">.\n",
       "</div>\n",
       "    "
      ],
      "text/plain": [
       "<IPython.core.display.HTML object>"
      ]
     },
     "metadata": {},
     "output_type": "display_data"
    },
    {
     "data": {
      "text/html": [
       "\n",
       "    <div style=\"display: inline-block;\n",
       "                margin: 0px 1px;\n",
       "                color: black;\n",
       "                padding: 1px;\n",
       "                background-color: hsl(79, 100%, 70%);\n",
       "                text-align: center;\n",
       "                white-space: nowrap;\"><bos>\n",
       "</div>\n",
       "    \n",
       "    <div style=\"display: inline-block;\n",
       "                margin: 0px 1px;\n",
       "                color: black;\n",
       "                padding: 1px;\n",
       "                background-color: hsl(12, 100%, 70%);\n",
       "                text-align: center;\n",
       "                white-space: nowrap;\">▁The\n",
       "</div>\n",
       "    \n",
       "    <div style=\"display: inline-block;\n",
       "                margin: 0px 1px;\n",
       "                color: black;\n",
       "                padding: 1px;\n",
       "                background-color: hsl(57, 100%, 70%);\n",
       "                text-align: center;\n",
       "                white-space: nowrap;\">▁cot\n",
       "</div>\n",
       "    \n",
       "    <div style=\"display: inline-block;\n",
       "                margin: 0px 1px;\n",
       "                color: black;\n",
       "                padding: 1px;\n",
       "                background-color: hsl(48, 100%, 70%);\n",
       "                text-align: center;\n",
       "                white-space: nowrap;\">ton\n",
       "</div>\n",
       "    \n",
       "    <div style=\"display: inline-block;\n",
       "                margin: 0px 1px;\n",
       "                color: black;\n",
       "                padding: 1px;\n",
       "                background-color: hsl(76, 100%, 70%);\n",
       "                text-align: center;\n",
       "                white-space: nowrap;\">▁cl\n",
       "</div>\n",
       "    \n",
       "    <div style=\"display: inline-block;\n",
       "                margin: 0px 1px;\n",
       "                color: black;\n",
       "                padding: 1px;\n",
       "                background-color: hsl(0, 100%, 70%);\n",
       "                text-align: center;\n",
       "                white-space: nowrap;\">othing\n",
       "</div>\n",
       "    \n",
       "    <div style=\"display: inline-block;\n",
       "                margin: 0px 1px;\n",
       "                color: black;\n",
       "                padding: 1px;\n",
       "                background-color: hsl(94, 100%, 70%);\n",
       "                text-align: center;\n",
       "                white-space: nowrap;\">▁is\n",
       "</div>\n",
       "    \n",
       "    <div style=\"display: inline-block;\n",
       "                margin: 0px 1px;\n",
       "                color: black;\n",
       "                padding: 1px;\n",
       "                background-color: hsl(95, 100%, 70%);\n",
       "                text-align: center;\n",
       "                white-space: nowrap;\">▁usually\n",
       "</div>\n",
       "    \n",
       "    <div style=\"display: inline-block;\n",
       "                margin: 0px 1px;\n",
       "                color: black;\n",
       "                padding: 1px;\n",
       "                background-color: hsl(125, 100%, 70%);\n",
       "                text-align: center;\n",
       "                white-space: nowrap;\">▁made\n",
       "</div>\n",
       "    \n",
       "    <div style=\"display: inline-block;\n",
       "                margin: 0px 1px;\n",
       "                color: black;\n",
       "                padding: 1px;\n",
       "                background-color: hsl(54, 100%, 70%);\n",
       "                text-align: center;\n",
       "                white-space: nowrap;\">▁of\n",
       "</div>\n",
       "    \n",
       "    <div style=\"display: inline-block;\n",
       "                margin: 0px 1px;\n",
       "                color: black;\n",
       "                padding: 1px;\n",
       "                background-color: hsl(78, 100%, 70%);\n",
       "                text-align: center;\n",
       "                white-space: nowrap;\">▁grows\n",
       "</div>\n",
       "    \n",
       "    <div style=\"display: inline-block;\n",
       "                margin: 0px 1px;\n",
       "                color: black;\n",
       "                padding: 1px;\n",
       "                background-color: hsl(94, 100%, 70%);\n",
       "                text-align: center;\n",
       "                white-space: nowrap;\">▁in\n",
       "</div>\n",
       "    \n",
       "    <div style=\"display: inline-block;\n",
       "                margin: 0px 1px;\n",
       "                color: black;\n",
       "                padding: 1px;\n",
       "                background-color: hsl(78, 100%, 70%);\n",
       "                text-align: center;\n",
       "                white-space: nowrap;\">▁Mississippi\n",
       "</div>\n",
       "    \n",
       "    <div style=\"display: inline-block;\n",
       "                margin: 0px 1px;\n",
       "                color: black;\n",
       "                padding: 1px;\n",
       "                background-color: hsl(69, 100%, 70%);\n",
       "                text-align: center;\n",
       "                white-space: nowrap;\">.\n",
       "</div>\n",
       "    "
      ],
      "text/plain": [
       "<IPython.core.display.HTML object>"
      ]
     },
     "metadata": {},
     "output_type": "display_data"
    },
    {
     "name": "stdout",
     "output_type": "stream",
     "text": [
      "layer -1\n",
      "\n",
      "\n",
      "\n",
      "\n",
      "layer -5\n"
     ]
    },
    {
     "data": {
      "text/html": [
       "\n",
       "    <div style=\"display: inline-block;\n",
       "                margin: 0px 1px;\n",
       "                color: black;\n",
       "                padding: 1px;\n",
       "                background-color: hsl(125, 100%, 70%);\n",
       "                text-align: center;\n",
       "                white-space: nowrap;\"><bos>\n",
       "</div>\n",
       "    \n",
       "    <div style=\"display: inline-block;\n",
       "                margin: 0px 1px;\n",
       "                color: black;\n",
       "                padding: 1px;\n",
       "                background-color: hsl(11, 100%, 70%);\n",
       "                text-align: center;\n",
       "                white-space: nowrap;\">▁The\n",
       "</div>\n",
       "    \n",
       "    <div style=\"display: inline-block;\n",
       "                margin: 0px 1px;\n",
       "                color: black;\n",
       "                padding: 1px;\n",
       "                background-color: hsl(9, 100%, 70%);\n",
       "                text-align: center;\n",
       "                white-space: nowrap;\">▁river\n",
       "</div>\n",
       "    \n",
       "    <div style=\"display: inline-block;\n",
       "                margin: 0px 1px;\n",
       "                color: black;\n",
       "                padding: 1px;\n",
       "                background-color: hsl(0, 100%, 70%);\n",
       "                text-align: center;\n",
       "                white-space: nowrap;\">▁flow\n",
       "</div>\n",
       "    \n",
       "    <div style=\"display: inline-block;\n",
       "                margin: 0px 1px;\n",
       "                color: black;\n",
       "                padding: 1px;\n",
       "                background-color: hsl(2, 100%, 70%);\n",
       "                text-align: center;\n",
       "                white-space: nowrap;\">ed\n",
       "</div>\n",
       "    \n",
       "    <div style=\"display: inline-block;\n",
       "                margin: 0px 1px;\n",
       "                color: black;\n",
       "                padding: 1px;\n",
       "                background-color: hsl(3, 100%, 70%);\n",
       "                text-align: center;\n",
       "                white-space: nowrap;\">▁through\n",
       "</div>\n",
       "    \n",
       "    <div style=\"display: inline-block;\n",
       "                margin: 0px 1px;\n",
       "                color: black;\n",
       "                padding: 1px;\n",
       "                background-color: hsl(4, 100%, 70%);\n",
       "                text-align: center;\n",
       "                white-space: nowrap;\">▁the\n",
       "</div>\n",
       "    \n",
       "    <div style=\"display: inline-block;\n",
       "                margin: 0px 1px;\n",
       "                color: black;\n",
       "                padding: 1px;\n",
       "                background-color: hsl(12, 100%, 70%);\n",
       "                text-align: center;\n",
       "                white-space: nowrap;\">▁town\n",
       "</div>\n",
       "    \n",
       "    <div style=\"display: inline-block;\n",
       "                margin: 0px 1px;\n",
       "                color: black;\n",
       "                padding: 1px;\n",
       "                background-color: hsl(9, 100%, 70%);\n",
       "                text-align: center;\n",
       "                white-space: nowrap;\">▁s\n",
       "</div>\n",
       "    \n",
       "    <div style=\"display: inline-block;\n",
       "                margin: 0px 1px;\n",
       "                color: black;\n",
       "                padding: 1px;\n",
       "                background-color: hsl(11, 100%, 70%);\n",
       "                text-align: center;\n",
       "                white-space: nowrap;\">ank\n",
       "</div>\n",
       "    \n",
       "    <div style=\"display: inline-block;\n",
       "                margin: 0px 1px;\n",
       "                color: black;\n",
       "                padding: 1px;\n",
       "                background-color: hsl(23, 100%, 70%);\n",
       "                text-align: center;\n",
       "                white-space: nowrap;\">.\n",
       "</div>\n",
       "    "
      ],
      "text/plain": [
       "<IPython.core.display.HTML object>"
      ]
     },
     "metadata": {},
     "output_type": "display_data"
    },
    {
     "data": {
      "text/html": [
       "\n",
       "    <div style=\"display: inline-block;\n",
       "                margin: 0px 1px;\n",
       "                color: black;\n",
       "                padding: 1px;\n",
       "                background-color: hsl(0, 100%, 70%);\n",
       "                text-align: center;\n",
       "                white-space: nowrap;\"><bos>\n",
       "</div>\n",
       "    \n",
       "    <div style=\"display: inline-block;\n",
       "                margin: 0px 1px;\n",
       "                color: black;\n",
       "                padding: 1px;\n",
       "                background-color: hsl(111, 100%, 70%);\n",
       "                text-align: center;\n",
       "                white-space: nowrap;\">▁The\n",
       "</div>\n",
       "    \n",
       "    <div style=\"display: inline-block;\n",
       "                margin: 0px 1px;\n",
       "                color: black;\n",
       "                padding: 1px;\n",
       "                background-color: hsl(119, 100%, 70%);\n",
       "                text-align: center;\n",
       "                white-space: nowrap;\">▁river\n",
       "</div>\n",
       "    \n",
       "    <div style=\"display: inline-block;\n",
       "                margin: 0px 1px;\n",
       "                color: black;\n",
       "                padding: 1px;\n",
       "                background-color: hsl(125, 100%, 70%);\n",
       "                text-align: center;\n",
       "                white-space: nowrap;\">▁flow\n",
       "</div>\n",
       "    \n",
       "    <div style=\"display: inline-block;\n",
       "                margin: 0px 1px;\n",
       "                color: black;\n",
       "                padding: 1px;\n",
       "                background-color: hsl(118, 100%, 70%);\n",
       "                text-align: center;\n",
       "                white-space: nowrap;\">ed\n",
       "</div>\n",
       "    \n",
       "    <div style=\"display: inline-block;\n",
       "                margin: 0px 1px;\n",
       "                color: black;\n",
       "                padding: 1px;\n",
       "                background-color: hsl(120, 100%, 70%);\n",
       "                text-align: center;\n",
       "                white-space: nowrap;\">▁through\n",
       "</div>\n",
       "    \n",
       "    <div style=\"display: inline-block;\n",
       "                margin: 0px 1px;\n",
       "                color: black;\n",
       "                padding: 1px;\n",
       "                background-color: hsl(117, 100%, 70%);\n",
       "                text-align: center;\n",
       "                white-space: nowrap;\">▁the\n",
       "</div>\n",
       "    \n",
       "    <div style=\"display: inline-block;\n",
       "                margin: 0px 1px;\n",
       "                color: black;\n",
       "                padding: 1px;\n",
       "                background-color: hsl(116, 100%, 70%);\n",
       "                text-align: center;\n",
       "                white-space: nowrap;\">▁town\n",
       "</div>\n",
       "    \n",
       "    <div style=\"display: inline-block;\n",
       "                margin: 0px 1px;\n",
       "                color: black;\n",
       "                padding: 1px;\n",
       "                background-color: hsl(117, 100%, 70%);\n",
       "                text-align: center;\n",
       "                white-space: nowrap;\">▁s\n",
       "</div>\n",
       "    \n",
       "    <div style=\"display: inline-block;\n",
       "                margin: 0px 1px;\n",
       "                color: black;\n",
       "                padding: 1px;\n",
       "                background-color: hsl(108, 100%, 70%);\n",
       "                text-align: center;\n",
       "                white-space: nowrap;\">ank\n",
       "</div>\n",
       "    \n",
       "    <div style=\"display: inline-block;\n",
       "                margin: 0px 1px;\n",
       "                color: black;\n",
       "                padding: 1px;\n",
       "                background-color: hsl(101, 100%, 70%);\n",
       "                text-align: center;\n",
       "                white-space: nowrap;\">.\n",
       "</div>\n",
       "    "
      ],
      "text/plain": [
       "<IPython.core.display.HTML object>"
      ]
     },
     "metadata": {},
     "output_type": "display_data"
    },
    {
     "data": {
      "text/html": [
       "\n",
       "    <div style=\"display: inline-block;\n",
       "                margin: 0px 1px;\n",
       "                color: black;\n",
       "                padding: 1px;\n",
       "                background-color: hsl(125, 100%, 70%);\n",
       "                text-align: center;\n",
       "                white-space: nowrap;\"><bos>\n",
       "</div>\n",
       "    \n",
       "    <div style=\"display: inline-block;\n",
       "                margin: 0px 1px;\n",
       "                color: black;\n",
       "                padding: 1px;\n",
       "                background-color: hsl(14, 100%, 70%);\n",
       "                text-align: center;\n",
       "                white-space: nowrap;\">▁The\n",
       "</div>\n",
       "    \n",
       "    <div style=\"display: inline-block;\n",
       "                margin: 0px 1px;\n",
       "                color: black;\n",
       "                padding: 1px;\n",
       "                background-color: hsl(7, 100%, 70%);\n",
       "                text-align: center;\n",
       "                white-space: nowrap;\">▁river\n",
       "</div>\n",
       "    \n",
       "    <div style=\"display: inline-block;\n",
       "                margin: 0px 1px;\n",
       "                color: black;\n",
       "                padding: 1px;\n",
       "                background-color: hsl(0, 100%, 70%);\n",
       "                text-align: center;\n",
       "                white-space: nowrap;\">▁flow\n",
       "</div>\n",
       "    \n",
       "    <div style=\"display: inline-block;\n",
       "                margin: 0px 1px;\n",
       "                color: black;\n",
       "                padding: 1px;\n",
       "                background-color: hsl(10, 100%, 70%);\n",
       "                text-align: center;\n",
       "                white-space: nowrap;\">ed\n",
       "</div>\n",
       "    \n",
       "    <div style=\"display: inline-block;\n",
       "                margin: 0px 1px;\n",
       "                color: black;\n",
       "                padding: 1px;\n",
       "                background-color: hsl(9, 100%, 70%);\n",
       "                text-align: center;\n",
       "                white-space: nowrap;\">▁through\n",
       "</div>\n",
       "    \n",
       "    <div style=\"display: inline-block;\n",
       "                margin: 0px 1px;\n",
       "                color: black;\n",
       "                padding: 1px;\n",
       "                background-color: hsl(11, 100%, 70%);\n",
       "                text-align: center;\n",
       "                white-space: nowrap;\">▁the\n",
       "</div>\n",
       "    \n",
       "    <div style=\"display: inline-block;\n",
       "                margin: 0px 1px;\n",
       "                color: black;\n",
       "                padding: 1px;\n",
       "                background-color: hsl(10, 100%, 70%);\n",
       "                text-align: center;\n",
       "                white-space: nowrap;\">▁town\n",
       "</div>\n",
       "    \n",
       "    <div style=\"display: inline-block;\n",
       "                margin: 0px 1px;\n",
       "                color: black;\n",
       "                padding: 1px;\n",
       "                background-color: hsl(5, 100%, 70%);\n",
       "                text-align: center;\n",
       "                white-space: nowrap;\">▁s\n",
       "</div>\n",
       "    \n",
       "    <div style=\"display: inline-block;\n",
       "                margin: 0px 1px;\n",
       "                color: black;\n",
       "                padding: 1px;\n",
       "                background-color: hsl(20, 100%, 70%);\n",
       "                text-align: center;\n",
       "                white-space: nowrap;\">ank\n",
       "</div>\n",
       "    \n",
       "    <div style=\"display: inline-block;\n",
       "                margin: 0px 1px;\n",
       "                color: black;\n",
       "                padding: 1px;\n",
       "                background-color: hsl(25, 100%, 70%);\n",
       "                text-align: center;\n",
       "                white-space: nowrap;\">.\n",
       "</div>\n",
       "    "
      ],
      "text/plain": [
       "<IPython.core.display.HTML object>"
      ]
     },
     "metadata": {},
     "output_type": "display_data"
    },
    {
     "data": {
      "text/html": [
       "\n",
       "    <div style=\"display: inline-block;\n",
       "                margin: 0px 1px;\n",
       "                color: black;\n",
       "                padding: 1px;\n",
       "                background-color: hsl(0, 100%, 70%);\n",
       "                text-align: center;\n",
       "                white-space: nowrap;\"><bos>\n",
       "</div>\n",
       "    \n",
       "    <div style=\"display: inline-block;\n",
       "                margin: 0px 1px;\n",
       "                color: black;\n",
       "                padding: 1px;\n",
       "                background-color: hsl(113, 100%, 70%);\n",
       "                text-align: center;\n",
       "                white-space: nowrap;\">▁The\n",
       "</div>\n",
       "    \n",
       "    <div style=\"display: inline-block;\n",
       "                margin: 0px 1px;\n",
       "                color: black;\n",
       "                padding: 1px;\n",
       "                background-color: hsl(118, 100%, 70%);\n",
       "                text-align: center;\n",
       "                white-space: nowrap;\">▁river\n",
       "</div>\n",
       "    \n",
       "    <div style=\"display: inline-block;\n",
       "                margin: 0px 1px;\n",
       "                color: black;\n",
       "                padding: 1px;\n",
       "                background-color: hsl(125, 100%, 70%);\n",
       "                text-align: center;\n",
       "                white-space: nowrap;\">▁flow\n",
       "</div>\n",
       "    \n",
       "    <div style=\"display: inline-block;\n",
       "                margin: 0px 1px;\n",
       "                color: black;\n",
       "                padding: 1px;\n",
       "                background-color: hsl(121, 100%, 70%);\n",
       "                text-align: center;\n",
       "                white-space: nowrap;\">ed\n",
       "</div>\n",
       "    \n",
       "    <div style=\"display: inline-block;\n",
       "                margin: 0px 1px;\n",
       "                color: black;\n",
       "                padding: 1px;\n",
       "                background-color: hsl(118, 100%, 70%);\n",
       "                text-align: center;\n",
       "                white-space: nowrap;\">▁through\n",
       "</div>\n",
       "    \n",
       "    <div style=\"display: inline-block;\n",
       "                margin: 0px 1px;\n",
       "                color: black;\n",
       "                padding: 1px;\n",
       "                background-color: hsl(118, 100%, 70%);\n",
       "                text-align: center;\n",
       "                white-space: nowrap;\">▁the\n",
       "</div>\n",
       "    \n",
       "    <div style=\"display: inline-block;\n",
       "                margin: 0px 1px;\n",
       "                color: black;\n",
       "                padding: 1px;\n",
       "                background-color: hsl(121, 100%, 70%);\n",
       "                text-align: center;\n",
       "                white-space: nowrap;\">▁town\n",
       "</div>\n",
       "    \n",
       "    <div style=\"display: inline-block;\n",
       "                margin: 0px 1px;\n",
       "                color: black;\n",
       "                padding: 1px;\n",
       "                background-color: hsl(124, 100%, 70%);\n",
       "                text-align: center;\n",
       "                white-space: nowrap;\">▁s\n",
       "</div>\n",
       "    \n",
       "    <div style=\"display: inline-block;\n",
       "                margin: 0px 1px;\n",
       "                color: black;\n",
       "                padding: 1px;\n",
       "                background-color: hsl(107, 100%, 70%);\n",
       "                text-align: center;\n",
       "                white-space: nowrap;\">ank\n",
       "</div>\n",
       "    \n",
       "    <div style=\"display: inline-block;\n",
       "                margin: 0px 1px;\n",
       "                color: black;\n",
       "                padding: 1px;\n",
       "                background-color: hsl(103, 100%, 70%);\n",
       "                text-align: center;\n",
       "                white-space: nowrap;\">.\n",
       "</div>\n",
       "    "
      ],
      "text/plain": [
       "<IPython.core.display.HTML object>"
      ]
     },
     "metadata": {},
     "output_type": "display_data"
    },
    {
     "data": {
      "text/html": [
       "\n",
       "    <div style=\"display: inline-block;\n",
       "                margin: 0px 1px;\n",
       "                color: black;\n",
       "                padding: 1px;\n",
       "                background-color: hsl(0, 100%, 70%);\n",
       "                text-align: center;\n",
       "                white-space: nowrap;\"><bos>\n",
       "</div>\n",
       "    \n",
       "    <div style=\"display: inline-block;\n",
       "                margin: 0px 1px;\n",
       "                color: black;\n",
       "                padding: 1px;\n",
       "                background-color: hsl(113, 100%, 70%);\n",
       "                text-align: center;\n",
       "                white-space: nowrap;\">▁The\n",
       "</div>\n",
       "    \n",
       "    <div style=\"display: inline-block;\n",
       "                margin: 0px 1px;\n",
       "                color: black;\n",
       "                padding: 1px;\n",
       "                background-color: hsl(118, 100%, 70%);\n",
       "                text-align: center;\n",
       "                white-space: nowrap;\">▁river\n",
       "</div>\n",
       "    \n",
       "    <div style=\"display: inline-block;\n",
       "                margin: 0px 1px;\n",
       "                color: black;\n",
       "                padding: 1px;\n",
       "                background-color: hsl(125, 100%, 70%);\n",
       "                text-align: center;\n",
       "                white-space: nowrap;\">▁flow\n",
       "</div>\n",
       "    \n",
       "    <div style=\"display: inline-block;\n",
       "                margin: 0px 1px;\n",
       "                color: black;\n",
       "                padding: 1px;\n",
       "                background-color: hsl(122, 100%, 70%);\n",
       "                text-align: center;\n",
       "                white-space: nowrap;\">ed\n",
       "</div>\n",
       "    \n",
       "    <div style=\"display: inline-block;\n",
       "                margin: 0px 1px;\n",
       "                color: black;\n",
       "                padding: 1px;\n",
       "                background-color: hsl(118, 100%, 70%);\n",
       "                text-align: center;\n",
       "                white-space: nowrap;\">▁through\n",
       "</div>\n",
       "    \n",
       "    <div style=\"display: inline-block;\n",
       "                margin: 0px 1px;\n",
       "                color: black;\n",
       "                padding: 1px;\n",
       "                background-color: hsl(119, 100%, 70%);\n",
       "                text-align: center;\n",
       "                white-space: nowrap;\">▁the\n",
       "</div>\n",
       "    \n",
       "    <div style=\"display: inline-block;\n",
       "                margin: 0px 1px;\n",
       "                color: black;\n",
       "                padding: 1px;\n",
       "                background-color: hsl(117, 100%, 70%);\n",
       "                text-align: center;\n",
       "                white-space: nowrap;\">▁town\n",
       "</div>\n",
       "    \n",
       "    <div style=\"display: inline-block;\n",
       "                margin: 0px 1px;\n",
       "                color: black;\n",
       "                padding: 1px;\n",
       "                background-color: hsl(120, 100%, 70%);\n",
       "                text-align: center;\n",
       "                white-space: nowrap;\">▁s\n",
       "</div>\n",
       "    \n",
       "    <div style=\"display: inline-block;\n",
       "                margin: 0px 1px;\n",
       "                color: black;\n",
       "                padding: 1px;\n",
       "                background-color: hsl(109, 100%, 70%);\n",
       "                text-align: center;\n",
       "                white-space: nowrap;\">ank\n",
       "</div>\n",
       "    \n",
       "    <div style=\"display: inline-block;\n",
       "                margin: 0px 1px;\n",
       "                color: black;\n",
       "                padding: 1px;\n",
       "                background-color: hsl(104, 100%, 70%);\n",
       "                text-align: center;\n",
       "                white-space: nowrap;\">.\n",
       "</div>\n",
       "    "
      ],
      "text/plain": [
       "<IPython.core.display.HTML object>"
      ]
     },
     "metadata": {},
     "output_type": "display_data"
    },
    {
     "data": {
      "text/html": [
       "\n",
       "    <div style=\"display: inline-block;\n",
       "                margin: 0px 1px;\n",
       "                color: black;\n",
       "                padding: 1px;\n",
       "                background-color: hsl(0, 100%, 70%);\n",
       "                text-align: center;\n",
       "                white-space: nowrap;\"><bos>\n",
       "</div>\n",
       "    \n",
       "    <div style=\"display: inline-block;\n",
       "                margin: 0px 1px;\n",
       "                color: black;\n",
       "                padding: 1px;\n",
       "                background-color: hsl(115, 100%, 70%);\n",
       "                text-align: center;\n",
       "                white-space: nowrap;\">▁The\n",
       "</div>\n",
       "    \n",
       "    <div style=\"display: inline-block;\n",
       "                margin: 0px 1px;\n",
       "                color: black;\n",
       "                padding: 1px;\n",
       "                background-color: hsl(118, 100%, 70%);\n",
       "                text-align: center;\n",
       "                white-space: nowrap;\">▁river\n",
       "</div>\n",
       "    \n",
       "    <div style=\"display: inline-block;\n",
       "                margin: 0px 1px;\n",
       "                color: black;\n",
       "                padding: 1px;\n",
       "                background-color: hsl(125, 100%, 70%);\n",
       "                text-align: center;\n",
       "                white-space: nowrap;\">▁flow\n",
       "</div>\n",
       "    \n",
       "    <div style=\"display: inline-block;\n",
       "                margin: 0px 1px;\n",
       "                color: black;\n",
       "                padding: 1px;\n",
       "                background-color: hsl(123, 100%, 70%);\n",
       "                text-align: center;\n",
       "                white-space: nowrap;\">ed\n",
       "</div>\n",
       "    \n",
       "    <div style=\"display: inline-block;\n",
       "                margin: 0px 1px;\n",
       "                color: black;\n",
       "                padding: 1px;\n",
       "                background-color: hsl(118, 100%, 70%);\n",
       "                text-align: center;\n",
       "                white-space: nowrap;\">▁through\n",
       "</div>\n",
       "    \n",
       "    <div style=\"display: inline-block;\n",
       "                margin: 0px 1px;\n",
       "                color: black;\n",
       "                padding: 1px;\n",
       "                background-color: hsl(120, 100%, 70%);\n",
       "                text-align: center;\n",
       "                white-space: nowrap;\">▁the\n",
       "</div>\n",
       "    \n",
       "    <div style=\"display: inline-block;\n",
       "                margin: 0px 1px;\n",
       "                color: black;\n",
       "                padding: 1px;\n",
       "                background-color: hsl(115, 100%, 70%);\n",
       "                text-align: center;\n",
       "                white-space: nowrap;\">▁town\n",
       "</div>\n",
       "    \n",
       "    <div style=\"display: inline-block;\n",
       "                margin: 0px 1px;\n",
       "                color: black;\n",
       "                padding: 1px;\n",
       "                background-color: hsl(121, 100%, 70%);\n",
       "                text-align: center;\n",
       "                white-space: nowrap;\">▁s\n",
       "</div>\n",
       "    \n",
       "    <div style=\"display: inline-block;\n",
       "                margin: 0px 1px;\n",
       "                color: black;\n",
       "                padding: 1px;\n",
       "                background-color: hsl(111, 100%, 70%);\n",
       "                text-align: center;\n",
       "                white-space: nowrap;\">ank\n",
       "</div>\n",
       "    \n",
       "    <div style=\"display: inline-block;\n",
       "                margin: 0px 1px;\n",
       "                color: black;\n",
       "                padding: 1px;\n",
       "                background-color: hsl(101, 100%, 70%);\n",
       "                text-align: center;\n",
       "                white-space: nowrap;\">.\n",
       "</div>\n",
       "    "
      ],
      "text/plain": [
       "<IPython.core.display.HTML object>"
      ]
     },
     "metadata": {},
     "output_type": "display_data"
    },
    {
     "data": {
      "text/html": [
       "\n",
       "    <div style=\"display: inline-block;\n",
       "                margin: 0px 1px;\n",
       "                color: black;\n",
       "                padding: 1px;\n",
       "                background-color: hsl(125, 100%, 70%);\n",
       "                text-align: center;\n",
       "                white-space: nowrap;\"><bos>\n",
       "</div>\n",
       "    \n",
       "    <div style=\"display: inline-block;\n",
       "                margin: 0px 1px;\n",
       "                color: black;\n",
       "                padding: 1px;\n",
       "                background-color: hsl(48, 100%, 70%);\n",
       "                text-align: center;\n",
       "                white-space: nowrap;\">▁The\n",
       "</div>\n",
       "    \n",
       "    <div style=\"display: inline-block;\n",
       "                margin: 0px 1px;\n",
       "                color: black;\n",
       "                padding: 1px;\n",
       "                background-color: hsl(71, 100%, 70%);\n",
       "                text-align: center;\n",
       "                white-space: nowrap;\">▁river\n",
       "</div>\n",
       "    \n",
       "    <div style=\"display: inline-block;\n",
       "                margin: 0px 1px;\n",
       "                color: black;\n",
       "                padding: 1px;\n",
       "                background-color: hsl(91, 100%, 70%);\n",
       "                text-align: center;\n",
       "                white-space: nowrap;\">▁flow\n",
       "</div>\n",
       "    \n",
       "    <div style=\"display: inline-block;\n",
       "                margin: 0px 1px;\n",
       "                color: black;\n",
       "                padding: 1px;\n",
       "                background-color: hsl(81, 100%, 70%);\n",
       "                text-align: center;\n",
       "                white-space: nowrap;\">ed\n",
       "</div>\n",
       "    \n",
       "    <div style=\"display: inline-block;\n",
       "                margin: 0px 1px;\n",
       "                color: black;\n",
       "                padding: 1px;\n",
       "                background-color: hsl(54, 100%, 70%);\n",
       "                text-align: center;\n",
       "                white-space: nowrap;\">▁through\n",
       "</div>\n",
       "    \n",
       "    <div style=\"display: inline-block;\n",
       "                margin: 0px 1px;\n",
       "                color: black;\n",
       "                padding: 1px;\n",
       "                background-color: hsl(79, 100%, 70%);\n",
       "                text-align: center;\n",
       "                white-space: nowrap;\">▁the\n",
       "</div>\n",
       "    \n",
       "    <div style=\"display: inline-block;\n",
       "                margin: 0px 1px;\n",
       "                color: black;\n",
       "                padding: 1px;\n",
       "                background-color: hsl(44, 100%, 70%);\n",
       "                text-align: center;\n",
       "                white-space: nowrap;\">▁town\n",
       "</div>\n",
       "    \n",
       "    <div style=\"display: inline-block;\n",
       "                margin: 0px 1px;\n",
       "                color: black;\n",
       "                padding: 1px;\n",
       "                background-color: hsl(67, 100%, 70%);\n",
       "                text-align: center;\n",
       "                white-space: nowrap;\">▁s\n",
       "</div>\n",
       "    \n",
       "    <div style=\"display: inline-block;\n",
       "                margin: 0px 1px;\n",
       "                color: black;\n",
       "                padding: 1px;\n",
       "                background-color: hsl(22, 100%, 70%);\n",
       "                text-align: center;\n",
       "                white-space: nowrap;\">ank\n",
       "</div>\n",
       "    \n",
       "    <div style=\"display: inline-block;\n",
       "                margin: 0px 1px;\n",
       "                color: black;\n",
       "                padding: 1px;\n",
       "                background-color: hsl(0, 100%, 70%);\n",
       "                text-align: center;\n",
       "                white-space: nowrap;\">.\n",
       "</div>\n",
       "    "
      ],
      "text/plain": [
       "<IPython.core.display.HTML object>"
      ]
     },
     "metadata": {},
     "output_type": "display_data"
    },
    {
     "name": "stdout",
     "output_type": "stream",
     "text": [
      "layer -1\n",
      "\n",
      "\n",
      "\n",
      "\n"
     ]
    }
   ],
   "source": [
    "_, hiddens = list(d.items())[0]\n",
    "# change numpy display to 2 dps\n",
    "np.set_printoptions(precision=2)\n",
    "\n",
    "def print_credences(hiddens):\n",
    "    print(\"layer -5\")\n",
    "    for layer_num in range(-7, 0):\n",
    "        # print(\"Layer {}\".format(layer_num))\n",
    "        generate_word_cloud(hiddens[1], hiddens[0][layer_num])\n",
    "    print(\"layer -1\")\n",
    "\n",
    "\n",
    "for _, hiddens in d.items():\n",
    "    print_credences(hiddens)\n",
    "    print(\"\\n\\n\\n\")"
   ]
  },
  {
   "cell_type": "code",
   "execution_count": null,
   "metadata": {},
   "outputs": [],
   "source": []
  },
  {
   "attachments": {},
   "cell_type": "markdown",
   "metadata": {},
   "source": [
    "# Sanity Checks"
   ]
  },
  {
   "cell_type": "code",
   "execution_count": 35,
   "metadata": {},
   "outputs": [
    {
     "ename": "NameError",
     "evalue": "name 'input_tokens' is not defined",
     "output_type": "error",
     "traceback": [
      "\u001b[0;31m---------------------------------------------------------------------------\u001b[0m",
      "\u001b[0;31mNameError\u001b[0m                                 Traceback (most recent call last)",
      "Cell \u001b[0;32mIn[35], line 3\u001b[0m\n\u001b[1;32m      1\u001b[0m \u001b[39m# Use einsum to do multiplication \u001b[39;00m\n\u001b[0;32m----> 3\u001b[0m reporter_weights_repeat \u001b[39m=\u001b[39m repeat(reporter_weights, \u001b[39m'\u001b[39m\u001b[39mb e -> b c e\u001b[39m\u001b[39m'\u001b[39m, c\u001b[39m=\u001b[39m\u001b[39mlen\u001b[39m(input_tokens) \u001b[39m+\u001b[39m \u001b[39m1\u001b[39m)\n\u001b[1;32m      4\u001b[0m result \u001b[39m=\u001b[39m torch\u001b[39m.\u001b[39meinsum(\u001b[39m'\u001b[39m\u001b[39mbse,bse->bs\u001b[39m\u001b[39m'\u001b[39m, cat_hidden_states, reporter_weights_repeat)\n\u001b[1;32m      5\u001b[0m \u001b[39mprint\u001b[39m(result\u001b[39m.\u001b[39mshape)\n",
      "\u001b[0;31mNameError\u001b[0m: name 'input_tokens' is not defined"
     ]
    }
   ],
   "source": [
    "# Use einsum to do multiplication \n",
    "\n",
    "reporter_weights_repeat = repeat(reporter_weights, 'b e -> b c e', c=len(input_tokens) + 1)\n",
    "result = torch.einsum('bse,bse->bs', cat_hidden_states, reporter_weights_repeat)\n",
    "print(result.shape)\n",
    "\n",
    "sigmoid_result = torch.sigmoid(result)\n",
    "softmax_result = torch.softmax(result, dim = -1)\n",
    "torch.set_printoptions(precision=1)"
   ]
  },
  {
   "cell_type": "code",
   "execution_count": null,
   "metadata": {},
   "outputs": [
    {
     "name": "stdout",
     "output_type": "stream",
     "text": [
      "tensor([[ 6.2e-03,  5.5e-03, -2.2e-02, -9.1e-03, -4.4e-02, -7.0e-03,  6.1e-02,\n",
      "         -7.1e-04, -9.6e-03,  4.9e-03],\n",
      "        [-1.2e+00, -5.9e-01, -1.8e-01, -6.5e-01, -3.5e-01, -9.4e-01, -2.4e-01,\n",
      "         -4.6e-01, -1.8e-01, -9.0e-01],\n",
      "        [-6.9e-01, -2.9e-01, -1.6e-01, -2.5e-01, -4.1e-01, -2.7e-01, -1.7e-01,\n",
      "         -7.4e-02,  5.3e-02, -2.7e-01],\n",
      "        [ 3.3e+01,  8.6e-02, -1.0e-01,  1.9e-02,  3.1e-01,  6.0e-03, -1.1e-01,\n",
      "         -1.5e-01, -2.3e-01, -1.5e-01],\n",
      "        [-3.5e+01, -8.6e-03,  7.5e-01,  2.8e-01, -4.6e-01, -1.6e-01,  2.4e-01,\n",
      "          2.7e-01,  2.4e-01,  1.0e-01],\n",
      "        [ 2.8e+01,  1.7e-01, -3.2e-01, -1.5e-01,  6.5e-01,  3.0e-01, -3.1e-01,\n",
      "         -6.8e-02, -2.5e-01, -1.6e-02],\n",
      "        [ 3.2e+01,  3.4e-01, -3.5e-01,  8.9e-02,  3.6e-01,  2.3e-01, -6.3e-01,\n",
      "         -4.9e-01, -3.1e-01, -1.8e-01],\n",
      "        [ 2.5e+01,  3.1e-01, -1.1e+00,  3.1e-02,  2.3e-01,  3.5e-01, -9.6e-01,\n",
      "         -5.5e-01, -4.7e-01,  2.8e-01],\n",
      "        [-2.7e+01,  4.0e-01,  1.0e+00,  3.1e-01,  2.2e-01,  4.7e-01,  1.6e+00,\n",
      "          6.0e-01,  2.2e-01, -5.2e-01],\n",
      "        [-7.7e+00, -1.0e+00, -6.7e-01, -8.3e-01, -9.4e-01, -8.0e-01,  9.2e-01,\n",
      "         -6.7e-03, -3.7e-01, -1.5e+00],\n",
      "        [-1.5e+00,  7.8e-01, -2.1e-01,  3.0e-01, -7.2e-01, -3.9e-01, -1.2e+00,\n",
      "         -4.1e-01, -2.0e-01,  1.3e+00],\n",
      "        [-1.5e+01,  8.0e-01, -1.8e-01,  3.6e-01, -5.4e-01, -1.4e-02, -1.1e+00,\n",
      "         -2.3e-01,  1.1e+00,  1.9e+00],\n",
      "        [-2.4e+01,  1.8e+00,  8.7e-01,  1.1e+00, -2.7e-01,  3.8e-02,  1.3e-01,\n",
      "          6.9e-01,  1.7e+00,  2.1e+00],\n",
      "        [-3.9e+01,  1.9e+00,  1.6e+00,  1.7e+00,  3.7e-01,  9.5e-01, -1.1e-01,\n",
      "          8.2e-01,  1.8e+00,  1.6e+00],\n",
      "        [-3.7e+01,  2.0e+00,  1.3e+00,  1.6e+00,  5.7e-01,  1.9e+00, -5.4e-01,\n",
      "          1.3e+00,  2.9e+00,  2.0e+00],\n",
      "        [-4.2e+01,  2.1e+00,  1.6e+00,  1.9e+00,  1.1e+00,  2.4e+00, -5.3e-01,\n",
      "          1.3e+00,  2.8e+00,  1.6e+00],\n",
      "        [-4.9e+01,  5.4e-01,  2.5e-01,  9.1e-01, -4.0e-01,  2.3e+00, -8.3e-01,\n",
      "          1.4e+00,  4.1e+00,  1.1e+00],\n",
      "        [-5.7e+01, -1.9e-02,  5.1e-02,  4.0e-01,  2.4e-01,  2.9e+00, -1.7e+00,\n",
      "          1.7e+00,  4.5e+00,  8.3e-01],\n",
      "        [-4.5e+01, -1.4e+00, -1.5e+00, -5.1e-01, -1.6e+00,  8.3e-01, -3.9e+00,\n",
      "          2.0e-01,  4.3e+00, -9.0e-01],\n",
      "        [-5.7e+01, -1.6e+00, -2.1e+00, -1.3e+00, -1.2e+00,  1.4e+00, -5.2e+00,\n",
      "         -8.1e-03,  6.0e+00, -4.2e-01],\n",
      "        [-3.9e+01, -2.1e+00, -2.4e+00, -2.2e+00, -2.1e+00,  9.2e-01, -5.7e+00,\n",
      "         -3.0e-03,  7.5e+00, -1.3e+00],\n",
      "        [-2.4e+01, -4.7e+00, -4.4e+00, -3.6e+00, -3.3e+00,  1.6e-01, -6.9e+00,\n",
      "         -1.8e+00,  8.5e+00, -3.5e+00],\n",
      "        [-2.3e+01, -5.5e+00, -5.3e+00, -4.5e+00, -3.6e+00,  3.0e-01, -8.1e+00,\n",
      "         -2.9e+00,  8.4e+00, -4.3e+00],\n",
      "        [-2.7e+01, -5.7e+00, -5.9e+00, -4.1e+00, -4.0e+00, -2.8e-02, -9.0e+00,\n",
      "         -3.8e+00,  8.4e+00, -4.6e+00],\n",
      "        [-4.0e+01, -3.3e+00, -3.9e+00, -2.0e+00, -1.8e+00,  2.5e+00, -9.2e+00,\n",
      "         -2.1e+00,  8.3e+00, -4.0e+00],\n",
      "        [-4.0e+01, -3.8e+00, -3.3e+00, -2.2e+00, -1.4e+00,  3.0e+00, -1.1e+01,\n",
      "         -5.1e+00,  6.9e+00, -4.5e+00],\n",
      "        [-3.1e+01, -3.3e+00, -3.0e+00, -3.0e+00, -6.2e-01,  3.6e+00, -1.2e+01,\n",
      "         -6.0e+00,  6.6e+00, -4.9e+00],\n",
      "        [-2.5e+01, -2.9e+00, -3.5e+00, -2.5e+00,  8.6e-01,  5.4e+00, -1.1e+01,\n",
      "         -6.4e+00,  6.0e+00, -4.2e+00],\n",
      "        [-3.2e+01, -2.8e+00, -2.6e+00, -2.4e+00,  1.1e+00,  6.0e+00, -1.1e+01,\n",
      "         -6.2e+00,  6.3e+00, -2.9e+00],\n",
      "        [-3.2e+01, -2.9e+00, -3.3e+00, -3.2e+00,  5.5e-01,  4.8e+00, -1.3e+01,\n",
      "         -8.2e+00,  5.9e+00, -3.7e+00],\n",
      "        [-3.8e+01, -2.9e+00, -3.8e+00, -4.1e+00, -8.0e-01,  3.6e+00, -1.4e+01,\n",
      "         -9.1e+00,  6.0e+00, -4.9e+00],\n",
      "        [-3.8e+01, -1.6e+00, -2.6e+00, -4.1e+00, -7.4e-01,  2.5e+00, -1.5e+01,\n",
      "         -9.0e+00,  6.4e+00, -5.5e+00],\n",
      "        [-2.8e+01, -1.8e+00, -3.3e+00, -4.4e+00, -1.2e+00,  2.6e+00, -1.5e+01,\n",
      "         -8.6e+00,  6.2e+00, -6.3e+00],\n",
      "        [-2.3e+01, -2.5e+00, -2.9e+00, -4.7e+00, -3.1e-01,  3.3e+00, -1.4e+01,\n",
      "         -7.4e+00,  7.1e+00, -5.5e+00],\n",
      "        [-3.1e+01, -2.8e+00, -2.8e+00, -3.6e+00, -5.7e-01,  3.0e+00, -1.2e+01,\n",
      "         -6.7e+00,  6.4e+00, -6.1e+00],\n",
      "        [-3.3e+01, -3.5e+00, -2.9e+00, -5.0e+00, -1.1e+00,  2.1e+00, -1.3e+01,\n",
      "         -7.2e+00,  6.9e+00, -7.1e+00],\n",
      "        [-1.6e+01, -4.5e+00, -3.1e+00, -5.9e+00, -1.7e+00,  1.6e+00, -1.4e+01,\n",
      "         -9.0e+00,  6.8e+00, -7.3e+00],\n",
      "        [-6.2e+01, -4.3e+00, -3.0e+00, -5.2e+00, -4.4e-01,  1.2e+00, -1.5e+01,\n",
      "         -9.3e+00,  7.5e+00, -8.0e+00],\n",
      "        [-2.6e+01, -2.6e+00, -1.8e+00, -4.9e+00, -5.0e-02, -1.4e-01, -1.6e+01,\n",
      "         -1.3e+01,  5.8e+00, -8.6e+00],\n",
      "        [-4.8e-01,  9.5e+00,  3.7e+00,  4.2e+00,  6.7e+00,  7.3e+00, -1.4e+01,\n",
      "         -5.3e+00,  1.3e+01, -1.1e+00]], grad_fn=<ViewBackward0>)\n"
     ]
    }
   ],
   "source": [
    "print(result)"
   ]
  }
 ],
 "metadata": {
  "kernelspec": {
   "display_name": "Python 3 (ipykernel)",
   "language": "python",
   "name": "python3"
  },
  "language_info": {
   "codemirror_mode": {
    "name": "ipython",
    "version": 3
   },
   "file_extension": ".py",
   "mimetype": "text/x-python",
   "name": "python",
   "nbconvert_exporter": "python",
   "pygments_lexer": "ipython3",
   "version": "3.10.11"
  }
 },
 "nbformat": 4,
 "nbformat_minor": 2
}
